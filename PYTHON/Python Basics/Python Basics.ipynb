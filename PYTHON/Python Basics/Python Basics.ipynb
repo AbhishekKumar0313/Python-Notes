{
 "cells": [
  {
   "cell_type": "markdown",
   "id": "1051becc-5045-411f-887b-b67b9e044d77",
   "metadata": {},
   "source": [
    "<h1 style='color:#3FA2F6'>Python <span style=\" color:yellow\">Basics</span></h1>"
   ]
  },
  {
   "cell_type": "markdown",
   "id": "b446e947-43f1-4cec-bb03-ef48a2afb9aa",
   "metadata": {},
   "source": [
    "<h3 style=\"color:#F5DD61;font-family:'Lucida Console'\">Why Python ?</h3>"
   ]
  },
  {
   "cell_type": "markdown",
   "id": "89eae65f-8300-4391-acb2-1875334e401a",
   "metadata": {},
   "source": [
    "<h3 style=\"color:#F5DD61;font-family:'Lucida Console'\">Why Python <code style=\"color:#F5DD61;font-family:'Lucida Console';background-color:#0000\">for</code> Data Science ?</h3>"
   ]
  },
  {
   "cell_type": "markdown",
   "id": "77ea34d8-c161-4af7-aa88-4037034c07a6",
   "metadata": {},
   "source": [
    "- Easy to learn\n",
    "- Proximity with maths : have mathematical libraries like numpy and scipy\n",
    "- community"
   ]
  },
  {
   "cell_type": "markdown",
   "id": "b3eb3c2c-4cdf-4fa3-ad70-02186325592f",
   "metadata": {},
   "source": [
    "<h3 style=\"color:#F5DD61;font-family:'Lucida Console'\">Python Output</h3>"
   ]
  },
  {
   "cell_type": "markdown",
   "id": "8230e4b0-e675-41da-9dc3-71543e01175d",
   "metadata": {},
   "source": [
    "#### Python is a case sensitive language"
   ]
  },
  {
   "cell_type": "code",
   "execution_count": 114,
   "id": "428973b1-2e67-4162-b06c-e997d2c01e8a",
   "metadata": {},
   "outputs": [
    {
     "name": "stdout",
     "output_type": "stream",
     "text": [
      "this function is used to print anything on screen\n"
     ]
    }
   ],
   "source": [
    "print(\"this function is used to print anything on screen\")"
   ]
  },
  {
   "cell_type": "code",
   "execution_count": 116,
   "id": "2aac09ab-ea82-4098-8a05-08b71ae1bcd2",
   "metadata": {},
   "outputs": [
    {
     "name": "stdout",
     "output_type": "stream",
     "text": [
      "Hii , printing mixed values 123 56.34 True (34+5j)\n"
     ]
    }
   ],
   "source": [
    "print(\"Hii , printing mixed values\",123,56.34,True,34+5j)"
   ]
  },
  {
   "cell_type": "code",
   "execution_count": 122,
   "id": "eb9e3bc3-a84e-4089-b859-44d5135eed0e",
   "metadata": {},
   "outputs": [
    {
     "name": "stdout",
     "output_type": "stream",
     "text": [
      "Hii , printing mixed values with 'sep' parameter||123||56.34||True||(34+5j)\n"
     ]
    }
   ],
   "source": [
    "# sep parameter used to separate multiple values in a print function\n",
    "print(\"Hii , printing mixed values with 'sep' parameter\",123,56.34,True,34+5j,sep='||')"
   ]
  },
  {
   "cell_type": "code",
   "execution_count": 126,
   "id": "ba50b13f-4502-4dd9-811e-f50dc87781ea",
   "metadata": {},
   "outputs": [
    {
     "name": "stdout",
     "output_type": "stream",
     "text": [
      "Hii , printing mixed values with 'sep' parameter||123||56.34||True||(34+5j)====this will come  after end of previous print with end parameter value\n"
     ]
    }
   ],
   "source": [
    "# end parameter is used to print next print() value with a specific end value\n",
    "print(\"Hii , printing mixed values with 'sep' parameter\",123,56.34,True,34+5j,sep='||',end=\"====\")\n",
    "print(\"this will come  after end of previous print with end parameter value\")"
   ]
  },
  {
   "cell_type": "markdown",
   "id": "dee78e56-270f-4000-9c30-497608bb82a5",
   "metadata": {},
   "source": [
    "<h3 style=\"color:#F5DD61;font-family:'Lucida Console'\">Python Data Type</h3>"
   ]
  },
  {
   "cell_type": "markdown",
   "id": "35913f5a-a353-41bc-9b0c-a34e9ca588ee",
   "metadata": {},
   "source": [
    "#### Integer"
   ]
  },
  {
   "cell_type": "code",
   "execution_count": 138,
   "id": "4ba9854b-a052-4783-affb-0a141cea5938",
   "metadata": {},
   "outputs": [
    {
     "name": "stdout",
     "output_type": "stream",
     "text": [
      "8\n",
      "1e+308\n",
      "inf\n"
     ]
    }
   ],
   "source": [
    "print(8)\n",
    "print(1e308) # max value in integer\n",
    "print(1e309)"
   ]
  },
  {
   "cell_type": "markdown",
   "id": "dce723a4-d171-46fd-9557-05c449723b8c",
   "metadata": {},
   "source": [
    "#### Decimal / Float"
   ]
  },
  {
   "cell_type": "code",
   "execution_count": 142,
   "id": "94e72f1f-511d-4730-a0df-ce62648dcb86",
   "metadata": {},
   "outputs": [
    {
     "name": "stdout",
     "output_type": "stream",
     "text": [
      "3.45\n",
      "1.7e+308\n",
      "inf\n"
     ]
    }
   ],
   "source": [
    "print(3.45)\n",
    "print(1.7e308) # max value of float\n",
    "print(1.7e309)"
   ]
  },
  {
   "cell_type": "markdown",
   "id": "ca3d26c8-e155-49db-9025-34007cca890c",
   "metadata": {},
   "source": [
    "#### Boolean"
   ]
  },
  {
   "cell_type": "code",
   "execution_count": 145,
   "id": "f0cc6c5a-42cc-4181-9e75-41ef3b76213d",
   "metadata": {},
   "outputs": [
    {
     "name": "stdout",
     "output_type": "stream",
     "text": [
      "True False\n"
     ]
    }
   ],
   "source": [
    "print(True,False)"
   ]
  },
  {
   "cell_type": "markdown",
   "id": "bf1f809f-07e0-4db4-9c61-3ee1e5e45768",
   "metadata": {},
   "source": [
    "#### String / Text"
   ]
  },
  {
   "cell_type": "code",
   "execution_count": 150,
   "id": "01604b6e-b3a8-43d5-a59a-1c378269271d",
   "metadata": {},
   "outputs": [
    {
     "name": "stdout",
     "output_type": "stream",
     "text": [
      "this is a text\n"
     ]
    }
   ],
   "source": [
    "print(\"this is a text\")\n",
    "# no char data type in python"
   ]
  },
  {
   "cell_type": "markdown",
   "id": "04d94d04-68cc-4511-8cd2-fce7b236e43a",
   "metadata": {},
   "source": [
    "#### Complex"
   ]
  },
  {
   "cell_type": "code",
   "execution_count": 153,
   "id": "3b0dd84d-f987-4f2f-b34d-e6c8c8cface6",
   "metadata": {},
   "outputs": [
    {
     "name": "stdout",
     "output_type": "stream",
     "text": [
      "(45+89j)\n"
     ]
    }
   ],
   "source": [
    "print(45+89j)"
   ]
  },
  {
   "cell_type": "markdown",
   "id": "6177bc3f-5c16-4ae4-aceb-683f98a65291",
   "metadata": {},
   "source": [
    "#### List (Alternative of array)"
   ]
  },
  {
   "cell_type": "code",
   "execution_count": 158,
   "id": "d1ac5eac-3ab7-4c2d-b459-b7407a6c25a5",
   "metadata": {},
   "outputs": [
    {
     "name": "stdout",
     "output_type": "stream",
     "text": [
      "[12, 34, 566, 34.646, True, (34+45j), 'can have mixed data type']\n"
     ]
    }
   ],
   "source": [
    "L=[12,34,566,34.646,True,34+45j,\"can have mixed data type\"]\n",
    "print(L)"
   ]
  },
  {
   "cell_type": "markdown",
   "id": "f7ac556d-efe6-4e3d-8652-25b31227fc39",
   "metadata": {},
   "source": [
    "#### Tuple"
   ]
  },
  {
   "cell_type": "code",
   "execution_count": 163,
   "id": "517e49f2-0bef-4575-a2e1-70a35106bea8",
   "metadata": {},
   "outputs": [
    {
     "name": "stdout",
     "output_type": "stream",
     "text": [
      "(1, 2, 3, False, (34+34j), 'can have mixed data')\n"
     ]
    }
   ],
   "source": [
    "T=(1,2,3,False,34+34j,\"can have mixed data\")\n",
    "print(T)"
   ]
  },
  {
   "cell_type": "markdown",
   "id": "47d9d0b6-a688-4fdc-851c-69b49d705480",
   "metadata": {},
   "source": [
    "#### Sets"
   ]
  },
  {
   "cell_type": "code",
   "execution_count": 166,
   "id": "bde5b4f3-d986-4278-be8d-b76cacaf6e9a",
   "metadata": {},
   "outputs": [
    {
     "name": "stdout",
     "output_type": "stream",
     "text": [
      "{1, 34, 4, 23, 24, 12}\n"
     ]
    }
   ],
   "source": [
    "S={1,23,4,34,12,4,24,1,1,1,34}\n",
    "print(S)"
   ]
  },
  {
   "cell_type": "markdown",
   "id": "b9a3d911-54af-4f8f-a338-c7de52c04714",
   "metadata": {},
   "source": [
    "#### Dictionary"
   ]
  },
  {
   "cell_type": "code",
   "execution_count": 169,
   "id": "5b7f91ca-aca9-4d5f-a8ca-bf9b2a5deb37",
   "metadata": {},
   "outputs": [
    {
     "name": "stdout",
     "output_type": "stream",
     "text": [
      "{'this ia key': 'this is value', 'another key': 'another value'}\n"
     ]
    }
   ],
   "source": [
    "D={\"this ia key\":\"this is value\",\"another key\":\"another value\"}\n",
    "print(D)"
   ]
  },
  {
   "cell_type": "markdown",
   "id": "09fc591a-4b43-4e95-9056-82f16020ce9b",
   "metadata": {},
   "source": [
    "#### Type - Used to check data type of any value"
   ]
  },
  {
   "cell_type": "code",
   "execution_count": 173,
   "id": "9a08fdbe-5f28-471d-baea-b3e89bda028b",
   "metadata": {},
   "outputs": [
    {
     "name": "stdout",
     "output_type": "stream",
     "text": [
      "<class 'int'> <class 'float'> <class 'list'>\n"
     ]
    }
   ],
   "source": [
    "print(type(2),type(34.43),type([2,4,34,45]))"
   ]
  },
  {
   "cell_type": "markdown",
   "id": "93de8f74-204e-4db0-81bc-ed6144d1093a",
   "metadata": {},
   "source": [
    "<h3 style=\"color:#F5DD61;font-family:'Lucida Console'\">Python Variable</h3>"
   ]
  },
  {
   "cell_type": "markdown",
   "id": "12271d0f-5e5a-4e8e-8347-18028c6e52cc",
   "metadata": {},
   "source": [
    "#### Variable - containers to store anything in future "
   ]
  },
  {
   "cell_type": "code",
   "execution_count": 178,
   "id": "4e582d17-fe09-4619-a9e7-ddb91c9536c8",
   "metadata": {},
   "outputs": [
    {
     "name": "stdout",
     "output_type": "stream",
     "text": [
      "name is a variable storing this string\n"
     ]
    }
   ],
   "source": [
    "name=\"name is a variable storing this string\"\n",
    "print(name)"
   ]
  },
  {
   "cell_type": "markdown",
   "id": "5d4d280f-3c62-45cc-ae86-44dc2fd6e18c",
   "metadata": {},
   "source": [
    "- Dynamic Typing - Python is smart enough to understand a variable's data type at run time by seeing the type of values stored in that variable; this is called dynamic typing.No \n",
    "need to declare the type of a variable.\n",
    "- Static Typing - We need to declare the variable data type at the time of declaration."
   ]
  },
  {
   "cell_type": "code",
   "execution_count": 202,
   "id": "739ef5f1-73dc-471c-8133-71dfb6199fd9",
   "metadata": {},
   "outputs": [
    {
     "name": "stdout",
     "output_type": "stream",
     "text": [
      "34.5\n"
     ]
    }
   ],
   "source": [
    "# no need to declare type of x,y,z\n",
    "x=10\n",
    "y=23.5\n",
    "z=True\n",
    "print(x+y+z)"
   ]
  },
  {
   "cell_type": "markdown",
   "id": "024ad55e-09b1-4e29-be7a-d5569838139c",
   "metadata": {},
   "source": [
    "- Dynamic Binding - We can change the data type of a variable in a program at run time.\n",
    "- Static Binding - We can store only specific type of values in a specific type of variable."
   ]
  },
  {
   "cell_type": "code",
   "execution_count": 208,
   "id": "8094eae7-0b81-41b1-b0d2-b93b58354815",
   "metadata": {},
   "outputs": [
    {
     "name": "stdout",
     "output_type": "stream",
     "text": [
      "36\n",
      "2.3449999999999998\n",
      "String\n"
     ]
    }
   ],
   "source": [
    "# Dynamic Binding of variable with values\n",
    "x=34\n",
    "print(x+2)\n",
    "x=True\n",
    "print(x+1.345)\n",
    "x=\"String\"\n",
    "print(x)"
   ]
  },
  {
   "cell_type": "markdown",
   "id": "33678b93-9f2e-41f1-93b6-d53549cbe5a2",
   "metadata": {},
   "source": [
    "<h3 style=\"color:#F5DD61;font-family:'Lucida Console'\">Keywords<code style=\"color:#F5DD61;font-family:'Lucida Console';background-color:#0000\">and</code>,Identifiers and Comments</h3>"
   ]
  },
  {
   "cell_type": "markdown",
   "id": "d5699597-db9b-41df-8e55-1c57f42a5a64",
   "metadata": {},
   "source": [
    "#### Keywords - Resever words in python\n",
    "#### Identifiers - Name of any variable,function or amy user defined variable\n",
    "\n",
    "    - we can not start identifier with digit\n",
    "    - we can use '_' as a special character only\n",
    "    - indentifier cannot be keywords\n",
    "#### Comments - lines that are not interpreted by interpreter"
   ]
  },
  {
   "cell_type": "code",
   "execution_count": 237,
   "id": "1a8d8818-30ae-4f5a-ad3c-04d5f05ee44b",
   "metadata": {},
   "outputs": [],
   "source": [
    "# this is a comment"
   ]
  },
  {
   "cell_type": "markdown",
   "id": "9d950328-88b6-4e70-a57e-9dfe7fa3432e",
   "metadata": {},
   "source": [
    "<h3 style=\"color:#F5DD61;font-family:'Lucida Console'\">Type Conversion</h3>"
   ]
  },
  {
   "cell_type": "markdown",
   "id": "adec3c6e-d62b-4a23-98e6-3d5d5ebd6980",
   "metadata": {},
   "source": [
    "#### Converting data type of a value in another data type\n",
    "- Implicit Conversion - Conversion done by interpreter itself if feasible\n",
    "- Explicit Conversion - Conversion done by programmer intentionally"
   ]
  },
  {
   "cell_type": "code",
   "execution_count": 258,
   "id": "614172f4-40ca-4ca6-9bb1-7adc6a8fa926",
   "metadata": {},
   "outputs": [
    {
     "name": "stdout",
     "output_type": "stream",
     "text": [
      "49.63 <class 'float'>\n",
      "34\n",
      "34\n",
      "34.0\n"
     ]
    }
   ],
   "source": [
    "# implicit conversion\n",
    "x=4+45.63\n",
    "print(x,type(x))\n",
    "# explicit conversion - int(),str(),complex(),float()\n",
    "print(int(\"34\"))\n",
    "print(str(34))\n",
    "print(float(34))"
   ]
  },
  {
   "cell_type": "markdown",
   "id": "468a8d34-0ae0-47c2-9c3f-7dc8e877a6ae",
   "metadata": {},
   "source": [
    "<h3 style=\"color:#F5DD61;font-family:'Lucida Console'\">Python Input</h3>"
   ]
  },
  {
   "cell_type": "code",
   "execution_count": 243,
   "id": "b8a3b88d-b840-409d-aa94-2bda127e5f0d",
   "metadata": {},
   "outputs": [
    {
     "name": "stdin",
     "output_type": "stream",
     "text": [
      "Input function is used to take any input from user this is a input\n"
     ]
    },
    {
     "data": {
      "text/plain": [
       "'this is a input'"
      ]
     },
     "execution_count": 243,
     "metadata": {},
     "output_type": "execute_result"
    }
   ],
   "source": [
    "input(\"Input function is used to take any input from user\")"
   ]
  },
  {
   "cell_type": "markdown",
   "id": "f40448d6-3235-49fa-8992-bf81e1f68b6e",
   "metadata": {},
   "source": [
    "#### Program - Add two number"
   ]
  },
  {
   "cell_type": "code",
   "execution_count": 263,
   "id": "f5f54bdc-7158-499c-8cab-30aa5b2dc396",
   "metadata": {},
   "outputs": [
    {
     "name": "stdin",
     "output_type": "stream",
     "text": [
      "enter first number 34\n",
      "enter second number 21\n"
     ]
    },
    {
     "name": "stdout",
     "output_type": "stream",
     "text": [
      "sum of 34 and 21 is 55\n"
     ]
    }
   ],
   "source": [
    "first=int(input(\"enter first number\"))\n",
    "second=int(input(\"enter second number\"))\n",
    "sum=first+second\n",
    "print(f\"sum of {first} and {second} is {sum}\")"
   ]
  },
  {
   "cell_type": "markdown",
   "id": "4290730e-c05f-431f-a8c2-c165ff87db74",
   "metadata": {},
   "source": [
    "<h3 style=\"color:#F5DD61;font-family:'Lucida Console'\">Python Literals</h3>"
   ]
  },
  {
   "cell_type": "markdown",
   "id": "6e78e1fb-be2b-4631-b8b6-134bacf09b50",
   "metadata": {},
   "source": [
    "#### Values that store in variables are literals"
   ]
  },
  {
   "cell_type": "code",
   "execution_count": 276,
   "id": "d5725f12-181c-4b9f-8be7-21762d9df918",
   "metadata": {},
   "outputs": [
    {
     "name": "stdout",
     "output_type": "stream",
     "text": [
      "10 2345 200 300\n"
     ]
    }
   ],
   "source": [
    "# binary literal\n",
    "bin=0b1010\n",
    "# decimal literal\n",
    "dec=2345\n",
    "# octal literal\n",
    "oct=0o310\n",
    "# hexa literal\n",
    "hex=0x12c\n",
    "print(bin,dec,oct,hex,sep=' ')"
   ]
  },
  {
   "cell_type": "code",
   "execution_count": 280,
   "id": "e5169860-bc77-4388-aead-d23244f5cb2c",
   "metadata": {},
   "outputs": [
    {
     "name": "stdout",
     "output_type": "stream",
     "text": [
      "10.34 1340.0 0.0015\n"
     ]
    }
   ],
   "source": [
    "# float literal\n",
    "float_1=10.34\n",
    "float_2=1.34e3 # 1.3x10^3\n",
    "float_3=1.5e-3 # 1.5x10^-3\n",
    "print(float_1,float_2,float_3)"
   ]
  },
  {
   "cell_type": "code",
   "execution_count": 284,
   "id": "57ec3e48-1905-4adc-b5b8-4d5c97fd3aef",
   "metadata": {},
   "outputs": [
    {
     "name": "stdout",
     "output_type": "stream",
     "text": [
      "this is single quote\n",
      "this is double quote\n",
      "this is 'mixed' quote\n",
      "😀😆🤣\n",
      "this is \\n raw \\t string\n"
     ]
    }
   ],
   "source": [
    "# string literal\n",
    "s1='this is single quote'\n",
    "s2=\"this is double quote\"\n",
    "s3=\"this is 'mixed' quote\"\n",
    "unicode=u\"\\U0001f600\\U0001f606\\U0001f923\"\n",
    "raw_string=r\"this is \\n raw \\t string\"\n",
    "print(s1,s2,s3,unicode,raw_string,sep='\\n')"
   ]
  },
  {
   "cell_type": "code",
   "execution_count": 286,
   "id": "9901a7da-a793-45d5-a013-e41f584e5235",
   "metadata": {},
   "outputs": [
    {
     "name": "stdout",
     "output_type": "stream",
     "text": [
      "14 -34 None\n"
     ]
    }
   ],
   "source": [
    "# boolean literal\n",
    "a=True+13\n",
    "b=False-34\n",
    "x=None\n",
    "print(a,b,x)"
   ]
  }
 ],
 "metadata": {
  "kernelspec": {
   "display_name": "Python 3 (ipykernel)",
   "language": "python",
   "name": "python3"
  },
  "language_info": {
   "codemirror_mode": {
    "name": "ipython",
    "version": 3
   },
   "file_extension": ".py",
   "mimetype": "text/x-python",
   "name": "python",
   "nbconvert_exporter": "python",
   "pygments_lexer": "ipython3",
   "version": "3.12.4"
  }
 },
 "nbformat": 4,
 "nbformat_minor": 5
}
