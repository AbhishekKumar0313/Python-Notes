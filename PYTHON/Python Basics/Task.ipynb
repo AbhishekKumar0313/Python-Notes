{
 "cells": [
  {
   "cell_type": "markdown",
   "id": "241dd93a-4d25-4630-8996-78df7ecdcd6e",
   "metadata": {},
   "source": [
    "## Task : Python Basics"
   ]
  },
  {
   "cell_type": "markdown",
   "id": "1ec0045e-4f6a-41f6-aaf7-7e946c9ecf0f",
   "metadata": {},
   "source": [
    "### Q1 :- Print the given strings as per stated format.\n",
    "\n",
    "**Given strings**:\n",
    "```\n",
    "\"Data\" \"Science\" \"Mentorship\" \"Program\"\n",
    "\"By\" \"CampusX\"\n",
    "```\n",
    "**Output**:\n",
    "```\n",
    "Data-Science-Mentorship-Program-started-By-CampusX\n",
    "```\n",
    "\n",
    "Concept- [Seperator and End]"
   ]
  },
  {
   "cell_type": "code",
   "execution_count": 10,
   "id": "8c08e4b2-2387-4ab0-bee1-4b2184e6844a",
   "metadata": {},
   "outputs": [
    {
     "name": "stdout",
     "output_type": "stream",
     "text": [
      "Data-Science-Mentorship-Program-started-By-Campusx\n"
     ]
    }
   ],
   "source": [
    "print(\"Data\",\"Science\",\"Mentorship\",\"Program\",sep='-',end='-started-')\n",
    "print(\"By\",\"Campusx\",sep='-')"
   ]
  },
  {
   "cell_type": "markdown",
   "id": "0b7350d3-a310-4ee7-b5ca-7372b926e25a",
   "metadata": {},
   "source": [
    "### Q2:- Write a program that will convert celsius value to fahrenheit."
   ]
  },
  {
   "cell_type": "code",
   "execution_count": 15,
   "id": "f2556732-f623-49b7-8d01-6d9232975994",
   "metadata": {},
   "outputs": [
    {
     "name": "stdin",
     "output_type": "stream",
     "text": [
      "enter celsius 43\n"
     ]
    },
    {
     "name": "stdout",
     "output_type": "stream",
     "text": [
      "celsius 43.0 to farhenite is 109.4 F\n"
     ]
    }
   ],
   "source": [
    "celsius=float(input(\"enter celsius\"))\n",
    "farhenite=celsius*(9/5)+32\n",
    "print(f\"celsius {celsius} to farhenite is {farhenite} F\")"
   ]
  },
  {
   "cell_type": "markdown",
   "id": "ddbcc8a9-5825-41ab-959b-b233efa670d8",
   "metadata": {},
   "source": [
    "### Q3:- Take 2 numbers as input from the user.Write a program to swap the numbers without using any special python syntax."
   ]
  },
  {
   "cell_type": "code",
   "execution_count": 21,
   "id": "ae6b7ac0-fdd1-45df-b520-ae401218efca",
   "metadata": {},
   "outputs": [
    {
     "name": "stdin",
     "output_type": "stream",
     "text": [
      "enter first number 23\n",
      "enter second number 34\n"
     ]
    },
    {
     "name": "stdout",
     "output_type": "stream",
     "text": [
      "num1 : 34,num2 : 23\n"
     ]
    }
   ],
   "source": [
    "num1=int(input(\"enter first number\"))\n",
    "num2=int(input(\"enter second number\"))\n",
    "num1=num1+num2\n",
    "num2=num1-num2\n",
    "num1=num1-num2\n",
    "print(f\"num1 : {num1},num2 : {num2}\")"
   ]
  },
  {
   "cell_type": "markdown",
   "id": "a229d84d-9686-4222-956e-e3e8cf39fdc3",
   "metadata": {},
   "source": [
    "### Q4:- Write a program to find the euclidean distance between two coordinates.Take both the coordinates from the user as input."
   ]
  },
  {
   "cell_type": "code",
   "execution_count": 24,
   "id": "ba35d58d-4ae1-42e7-9bd8-cfdd72e48d72",
   "metadata": {},
   "outputs": [
    {
     "name": "stdin",
     "output_type": "stream",
     "text": [
      "enter x1 10\n",
      "enter y1 20\n",
      "enter x2 3\n",
      "enter y2 5\n"
     ]
    },
    {
     "name": "stdout",
     "output_type": "stream",
     "text": [
      "x1:10.0 , x2:3.0,y1:20.0, y2:5.0, euclidean distance:16.55\n"
     ]
    }
   ],
   "source": [
    "x1=float(input(\"enter x1\"))\n",
    "y1=float(input(\"enter y1\"))\n",
    "x2=float(input(\"enter x2\"))\n",
    "y2=float(input(\"enter y2\"))\n",
    "distance=((x2-x1)**2 + (y2-y1)**2)**0.5\n",
    "print(f\"x1:{x1} , x2:{x2},y1:{y1}, y2:{y2}, euclidean distance:{round(distance,2)}\")"
   ]
  },
  {
   "cell_type": "markdown",
   "id": "af934f09-c667-4a6b-bb31-7ea44d527857",
   "metadata": {},
   "source": [
    "### Q5:- Write a program to find the simple interest when the value of principle,rate of interest and time period is provided by the user.\n"
   ]
  },
  {
   "cell_type": "code",
   "execution_count": 35,
   "id": "73f01f3f-8dd6-4cbe-8fb0-6e089b6aed33",
   "metadata": {},
   "outputs": [
    {
     "name": "stdin",
     "output_type": "stream",
     "text": [
      "enter principal value 23500\n",
      "enter rate of interest 1.10\n",
      "enter time in years 2\n"
     ]
    },
    {
     "name": "stdout",
     "output_type": "stream",
     "text": [
      "principal:23500 ,rate:1.1 ,time:2 ,simple interest:517.0000000000001\n"
     ]
    }
   ],
   "source": [
    "principal=int(input(\"enter principal value\"))\n",
    "rate=float(input(\"enter rate of interest\"))\n",
    "time=int(input(\"enter time in years\"))\n",
    "simple_interest=principal*rate*time/100\n",
    "print(f\"principal:{principal} ,rate:{rate} ,time:{time} ,simple interest:{simple_interest}\")"
   ]
  },
  {
   "cell_type": "markdown",
   "id": "34424509-e246-4a4b-a88e-a63615024178",
   "metadata": {},
   "source": [
    "### Q6:- Write a program that will tell the number of dogs and chicken are there when the user will provide the value of total heads and legs.\n",
    "\n",
    "For example:\n",
    "Input:\n",
    "heads -> 4\n",
    "legs -> 12\n",
    "<br>\n",
    "Output:\n",
    "dogs -> 2\n",
    "chicken -> 2"
   ]
  },
  {
   "cell_type": "code",
   "execution_count": 47,
   "id": "697bf6f6-e808-44ce-93f1-3e7579d4b721",
   "metadata": {},
   "outputs": [
    {
     "name": "stdin",
     "output_type": "stream",
     "text": [
      "enter total heads 4\n",
      "enter total legs 14\n"
     ]
    },
    {
     "name": "stdout",
     "output_type": "stream",
     "text": [
      "total chicken : 1 and total dogs : 3\n"
     ]
    }
   ],
   "source": [
    "heads=int(input(\"enter total heads\"))\n",
    "legs=int(input(\"enter total legs\"))\n",
    "dogs=(legs-2*heads)//2\n",
    "chicken=heads-dogs\n",
    "print(f\"total chicken : {chicken} and total dogs : {dogs}\")"
   ]
  },
  {
   "cell_type": "markdown",
   "id": "2ba34a45-6b41-426c-9f9b-79a54a881006",
   "metadata": {},
   "source": [
    "### Q7:- Write a program to find the sum of squares of first n natural numbers where n will be provided by the user."
   ]
  },
  {
   "cell_type": "code",
   "execution_count": 52,
   "id": "44436c1a-cc58-4eb6-ac81-41b1b1a12816",
   "metadata": {},
   "outputs": [
    {
     "name": "stdin",
     "output_type": "stream",
     "text": [
      "enter a number 5\n"
     ]
    },
    {
     "name": "stdout",
     "output_type": "stream",
     "text": [
      "sum of square of 5 natural number is 55\n"
     ]
    }
   ],
   "source": [
    "n=int(input(\"enter a number\"))\n",
    "sum_squares=(n*(n+1)*(2*n+1))//6\n",
    "print(f\"sum of square of {n} natural number is {sum_squares}\") "
   ]
  },
  {
   "cell_type": "markdown",
   "id": "1827b49c-3057-49ec-bf0c-a8ca66fa8d40",
   "metadata": {},
   "source": [
    "### Q8:- Given the first 2 terms of an Arithmetic Series.Find the Nth term of the series. Assume all inputs are provided by the user."
   ]
  },
  {
   "cell_type": "code",
   "execution_count": 57,
   "id": "a1eeea33-933a-4bf2-aa9f-2aa6e820dae7",
   "metadata": {},
   "outputs": [
    {
     "name": "stdin",
     "output_type": "stream",
     "text": [
      "enter the first term of series 1\n",
      "enter the second term of series 3\n",
      "enter the value of n 5\n"
     ]
    },
    {
     "name": "stdout",
     "output_type": "stream",
     "text": [
      "5 value of the series is 9\n"
     ]
    }
   ],
   "source": [
    "first=int(input(\"enter the first term of series\"))\n",
    "second=int(input(\"enter the second term of series\"))\n",
    "nth=int(input(\"enter the value of n\"))\n",
    "nth_value=first+(nth-1)*(second-first)\n",
    "print(f\"{nth} value of the series is {nth_value}\")"
   ]
  },
  {
   "cell_type": "markdown",
   "id": "1b76423b-6f2d-44a4-b1a0-a3cf585705c1",
   "metadata": {},
   "source": [
    "### Q9:- Given 2 fractions, find the sum of those 2 fractions.Take the numerator and denominator values of the fractions from the user."
   ]
  },
  {
   "cell_type": "code",
   "execution_count": 60,
   "id": "a6f5b3df-a10c-4153-b67d-2a5495dbc349",
   "metadata": {},
   "outputs": [
    {
     "name": "stdin",
     "output_type": "stream",
     "text": [
      "enter num for first fraction 4\n",
      "enter den for first fraction 5\n",
      "enter num for second fraction 3\n",
      "enter den for second fraction 2\n"
     ]
    },
    {
     "name": "stdout",
     "output_type": "stream",
     "text": [
      "sum of both fraction 23/10\n"
     ]
    }
   ],
   "source": [
    "num1=int(input(\"enter num for first fraction\"))\n",
    "den1=int(input(\"enter den for first fraction\"))\n",
    "num2=int(input(\"enter num for second fraction\"))\n",
    "den2=int(input(\"enter den for second fraction\"))\n",
    "print(f\"sum of both fraction {num1*den2+num2*den1}/{den1*den2}\")"
   ]
  },
  {
   "cell_type": "markdown",
   "id": "6db9ff4a-a2c0-497c-9c04-fdfacdc65393",
   "metadata": {},
   "source": [
    "### Q10:- Given the height, width and breadth of a milk tank, you have to find out how many glasses of milk can be obtained? Assume all the inputs are provided by the user.\n",
    "\n",
    "\n",
    "\n",
    "Input:<br>\n",
    "Dimensions of the milk tank<br>\n",
    "H = 20cm, L = 20cm, B = 20cm\n",
    "<br><br>\n",
    "Dimensions of the glass<br>\n",
    "h = 3cm, r = 1cm"
   ]
  },
  {
   "cell_type": "code",
   "execution_count": 71,
   "id": "71256562-ca55-4db8-ba8c-6b58e6b6de80",
   "metadata": {},
   "outputs": [
    {
     "name": "stdin",
     "output_type": "stream",
     "text": [
      "enter tank height 20\n",
      "enter tank width 20\n",
      "enter tank breadth 20\n",
      "enter glass height 3\n",
      "enter glass radius 1\n"
     ]
    },
    {
     "name": "stdout",
     "output_type": "stream",
     "text": [
      "number of glasses is 849\n"
     ]
    }
   ],
   "source": [
    "import math\n",
    "tank_h=int(input(\"enter tank height\"))\n",
    "tank_w=int(input(\"enter tank width\"))\n",
    "tank_b=int(input(\"enter tank breadth\"))\n",
    "\n",
    "glass_h=int(input(\"enter glass height\"))\n",
    "glass_r=int(input(\"enter glass radius\"))\n",
    "\n",
    "print(f\"number of glasses is {math.floor((tank_h*tank_b*tank_w)//(3.14*glass_h*glass_r*glass_r))}\")\n",
    "\n",
    "\n"
   ]
  },
  {
   "cell_type": "markdown",
   "id": "a6c5dc50-3710-4935-9b07-80bf309ce1cb",
   "metadata": {},
   "source": [
    "## END"
   ]
  }
 ],
 "metadata": {
  "kernelspec": {
   "display_name": "Python 3 (ipykernel)",
   "language": "python",
   "name": "python3"
  },
  "language_info": {
   "codemirror_mode": {
    "name": "ipython",
    "version": 3
   },
   "file_extension": ".py",
   "mimetype": "text/x-python",
   "name": "python",
   "nbconvert_exporter": "python",
   "pygments_lexer": "ipython3",
   "version": "3.12.4"
  }
 },
 "nbformat": 4,
 "nbformat_minor": 5
}
