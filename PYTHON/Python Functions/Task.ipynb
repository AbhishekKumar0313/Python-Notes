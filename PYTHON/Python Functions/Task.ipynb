{
 "cells": [
  {
   "cell_type": "markdown",
   "id": "41239eaf-cdc4-48d5-bba2-d97e5c01bddd",
   "metadata": {},
   "source": [
    "### Task - Function"
   ]
  },
  {
   "cell_type": "markdown",
   "id": "8719892c-927e-438f-a661-2036def80703",
   "metadata": {},
   "source": [
    "### **`Problem-1:`** Write a Python function that takes a list and returns a new list with unique elements of the first list.\n",
    "\n",
    "**Exercise 1:**\n",
    "\n",
    "Input:\n",
    "\n",
    "```bash\n",
    "[1,2,3,3,3,3,4,5]\n",
    "```\n",
    "\n",
    "Output:\n",
    "\n",
    "```bash\n",
    "[1, 2, 3, 4, 5]\n",
    "```"
   ]
  },
  {
   "cell_type": "code",
   "execution_count": 10,
   "id": "5ecd10af-3f22-4d70-8da0-793edd72432e",
   "metadata": {},
   "outputs": [
    {
     "data": {
      "text/plain": [
       "[1, 2, 3, 32, 4, 6, 5, 433, 43]"
      ]
     },
     "execution_count": 10,
     "metadata": {},
     "output_type": "execute_result"
    }
   ],
   "source": [
    "def fn(L):\n",
    "    new_list=[]\n",
    "    for i in L:\n",
    "        if i not in new_list:\n",
    "            new_list.append(i)\n",
    "    return new_list\n",
    "\n",
    "fn([1,2,3,32,1,2,4,6,5,433,2,43,5,6])"
   ]
  },
  {
   "cell_type": "markdown",
   "id": "4354afbf-87f8-4946-a62a-bab2da406d72",
   "metadata": {},
   "source": [
    "### **`Problem-2:`** Write a Python function that accepts a hyphen-separated sequence of words as parameter and returns the words in a hyphen-separated sequence after sorting them alphabetically.\n",
    "\n",
    "**Example 1:**\n",
    "\n",
    "Input:\n",
    "```bash\n",
    "green-red-yellow-black-white\n",
    "```\n",
    "\n",
    "Output:\n",
    "```bash\n",
    "black-green-red-white-yellow\n",
    "```"
   ]
  },
  {
   "cell_type": "code",
   "execution_count": 13,
   "id": "a80600c2-c391-40a9-8eed-b41d67d2788f",
   "metadata": {},
   "outputs": [],
   "source": [
    "def fn(string):\n",
    "    L=string.split('-')\n",
    "    return '-'.join(sorted(L))"
   ]
  },
  {
   "cell_type": "code",
   "execution_count": 15,
   "id": "426350a3-dcbf-4c7d-b234-4cd91fe4f9e5",
   "metadata": {},
   "outputs": [
    {
     "data": {
      "text/plain": [
       "'black-green-red-white-yellow'"
      ]
     },
     "execution_count": 15,
     "metadata": {},
     "output_type": "execute_result"
    }
   ],
   "source": [
    "fn('green-red-yellow-black-white')"
   ]
  },
  {
   "cell_type": "markdown",
   "id": "2cd4d7e5-16e6-425a-8335-d925afb58b4c",
   "metadata": {},
   "source": [
    "### **`Problem 3:`** Write a Python function that accepts a string and calculate the number of upper case letters and lower case letters.\n",
    "\n",
    "```\n",
    "Sample String : 'CampusX is an Online Mentorship Program fOr EnginEering studentS.'\n",
    "Expected Output :\n",
    "No. of Upper case characters :  9\n",
    "No. of Lower case Characters :  47\n",
    "```"
   ]
  },
  {
   "cell_type": "code",
   "execution_count": 19,
   "id": "2f721344-d47b-4446-b04c-8909f23ad399",
   "metadata": {},
   "outputs": [],
   "source": [
    "def fn(string):\n",
    "    upper=0;lower=0\n",
    "    for i in string:\n",
    "        if i.isupper():\n",
    "            upper+=1\n",
    "        if i.islower():\n",
    "            lower+=1\n",
    "    return [upper,lower]"
   ]
  },
  {
   "cell_type": "code",
   "execution_count": 21,
   "id": "2720b215-51e6-4a26-8e42-30909cbc08b3",
   "metadata": {},
   "outputs": [
    {
     "name": "stdout",
     "output_type": "stream",
     "text": [
      "9 47\n"
     ]
    }
   ],
   "source": [
    "u,l=fn('CampusX is an Online Mentorship Program fOr EnginEering studentS.')\n",
    "print(u,l)"
   ]
  },
  {
   "cell_type": "markdown",
   "id": "58e4ec24-4e52-45c9-ba2f-8099db64b51c",
   "metadata": {},
   "source": [
    "### **`Problem 4:`** Write a Python program to print the even numbers from a given list.\n",
    "```\n",
    "Sample List : [1, 2, 3, 4, 5, 6, 7, 8, 9]\n",
    "Expected Result : [2, 4, 6, 8]\n",
    "```"
   ]
  },
  {
   "cell_type": "code",
   "execution_count": 30,
   "id": "5de263d5-0f24-4639-9cd0-407e5b6acc33",
   "metadata": {},
   "outputs": [
    {
     "data": {
      "text/plain": [
       "[2, 4, 2, 34, 4, 8]"
      ]
     },
     "execution_count": 30,
     "metadata": {},
     "output_type": "execute_result"
    }
   ],
   "source": [
    "def fn(L):\n",
    "    even=[]\n",
    "    for i in L:\n",
    "        if i&1==0:\n",
    "            even.append(i)\n",
    "    return even\n",
    "fn([1,2,3,4,5,2,34,4,67,8])"
   ]
  },
  {
   "cell_type": "markdown",
   "id": "863687e3-2806-45fc-a4c6-4eda56b4c5df",
   "metadata": {},
   "source": [
    "### **`Problem 5:`** Write a Python function to check whether a number is perfect or not.\n",
    "\n",
    "A Perfect number is a number that is half the sum of all of its positive divisors (including itself).\n",
    "\n",
    "Example :\n",
    "\n",
    "```\n",
    "The first perfect number is 6, because 1, 2, and 3 are its proper positive divisors, and 1 + 2 + 3 = 6.\n",
    "Equivalently, the number 6 is equal to half the sum of all its positive divisors: ( 1 + 2 + 3 + 6 ) / 2 = 6.\n",
    "\n",
    "The next perfect number is 28 = 1 + 2 + 4 + 7 + 14. This is followed by the perfect numbers 496 and 8128.\n",
    "```\n"
   ]
  },
  {
   "cell_type": "code",
   "execution_count": 33,
   "id": "7e79dfb3-b001-410b-948f-bdc02807fd57",
   "metadata": {},
   "outputs": [],
   "source": [
    "def fn(n):\n",
    "    sum=0\n",
    "    for i in range(1,n):\n",
    "        if n%i==0:\n",
    "            sum+=i\n",
    "    if sum==n:\n",
    "        return \"perfect\"\n",
    "    return \"Not perfect\""
   ]
  },
  {
   "cell_type": "code",
   "execution_count": 44,
   "id": "415cc2c2-549c-464a-956c-5459a96bf53a",
   "metadata": {},
   "outputs": [
    {
     "data": {
      "text/plain": [
       "'perfect'"
      ]
     },
     "execution_count": 44,
     "metadata": {},
     "output_type": "execute_result"
    }
   ],
   "source": [
    "fn(496)"
   ]
  },
  {
   "cell_type": "markdown",
   "id": "03f493c3-dd9f-4219-9405-0465664d5927",
   "metadata": {},
   "source": [
    "### **`Problem-6:`** Write a Python function to concatenate any no of dictionaries to create a new one.\n",
    "\n",
    "```\n",
    "Sample Dictionary :\n",
    "dic1={1:10, 2:20}\n",
    "dic2={3:30, 4:40}\n",
    "dic3={5:50,6:60}\n",
    "Expected Result : {1: 10, 2: 20, 3: 30, 4: 40, 5: 50, 6: 60}\n",
    "```"
   ]
  },
  {
   "cell_type": "code",
   "execution_count": 68,
   "id": "74e6c405-9f69-48bf-a2d4-c7484b3070f0",
   "metadata": {},
   "outputs": [
    {
     "data": {
      "text/plain": [
       "{1: 10, 2: 20, 3: 30, 4: 40, 5: 50, 6: 60}"
      ]
     },
     "execution_count": 68,
     "metadata": {},
     "output_type": "execute_result"
    }
   ],
   "source": [
    "def fn(*args):\n",
    "    for i in args:\n",
    "        args[0].update(i)\n",
    "    return args[0]\n",
    "dic1={1:10, 2:20}\n",
    "dic2={3:30, 4:40}\n",
    "dic3={5:50,6:60}\n",
    "fn(dic1,dic2,dic3)  "
   ]
  },
  {
   "cell_type": "markdown",
   "id": "5290597c-fd62-4239-b41f-96b4c30b40e4",
   "metadata": {},
   "source": [
    "`Problem-7` Write a python function that accepts a string as input and returns the word with most occurence.\n",
    "\n",
    "```\n",
    "Input:\n",
    "hello how are you i am fine thank you\n",
    "```\n",
    "\n",
    "```\n",
    "Output\n",
    "you -> 2\n",
    "```"
   ]
  },
  {
   "cell_type": "code",
   "execution_count": 99,
   "id": "31eeeb84-f20e-45ee-9657-fd02cf4c4e85",
   "metadata": {},
   "outputs": [],
   "source": [
    "def fn(string):\n",
    "    L=string.split()\n",
    "    max_value=None\n",
    "    freq=0\n",
    "    for i in L:\n",
    "        if L.count(i)>freq:\n",
    "            freq=L.count(i)\n",
    "            max_value=i\n",
    "    print(max_value,freq)"
   ]
  },
  {
   "cell_type": "code",
   "execution_count": 101,
   "id": "1e59041a-cea2-414b-9f67-47dfaa25fde5",
   "metadata": {},
   "outputs": [
    {
     "name": "stdout",
     "output_type": "stream",
     "text": [
      "you 2\n"
     ]
    }
   ],
   "source": [
    "fn(\"hello how are you i am fine thank you\")"
   ]
  },
  {
   "cell_type": "markdown",
   "id": "051d6213-eb44-436f-8903-c2bb72111353",
   "metadata": {},
   "source": [
    "`Problem-8` Write a python function that receives a list of integers and prints out a histogram of bin size 10\n",
    "\n",
    "```\n",
    "Input:\n",
    "[13,42,15,37,22,39,41,50]\n",
    "```\n",
    "\n",
    "```\n",
    "Output:\n",
    "{11-20:2,21-30:1,31-40:2,41-50:3}\n",
    "```"
   ]
  },
  {
   "cell_type": "code",
   "execution_count": 17,
   "id": "a56e3098-0329-4419-9822-8c7d23c6a19d",
   "metadata": {},
   "outputs": [
    {
     "data": {
      "text/plain": [
       "{'10-19': 2, '20-29': 1, '30-39': 2, '40-49': 2}"
      ]
     },
     "execution_count": 17,
     "metadata": {},
     "output_type": "execute_result"
    }
   ],
   "source": [
    "def fn(l):\n",
    "    d={}\n",
    "    mini=min(l)//10*10\n",
    "    maxi=max(l)//10*10\n",
    "    for i in range(mini,maxi,10):\n",
    "        high=10+i-1\n",
    "        count=0\n",
    "        for k in l:\n",
    "            if k>=i and k<=high:\n",
    "                count+=1\n",
    "        d[str(i)+\"-\"+str(high)]=count\n",
    "    return d\n",
    "        \n",
    "        \n",
    "fn([13,42,15,37,22,39,41,50])"
   ]
  },
  {
   "cell_type": "markdown",
   "id": "b59360bc-2d15-4e0f-a83b-f04cd3f40e13",
   "metadata": {},
   "source": [
    "`Problem-9` Write a python function that accepts a list of 2D co-ordinates and a query point, and then finds the the co-ordinate which is closest in terms of distance from the query point.\n",
    "\n",
    "```\n",
    "List of Coordinates\n",
    "[(1,1),(2,2),(3,3),(4,4)]\n",
    "Query Point\n",
    "(0,0)\n",
    "```\n",
    "\n",
    "```\n",
    "Output\n",
    "Nearest to (0,0) is (1,1)\n",
    "```"
   ]
  },
  {
   "cell_type": "code",
   "execution_count": 65,
   "id": "6f111eec-47ea-46ee-866d-e14674974fb7",
   "metadata": {},
   "outputs": [
    {
     "name": "stdout",
     "output_type": "stream",
     "text": [
      "(2, -1)\n"
     ]
    }
   ],
   "source": [
    "def fn(l,q):\n",
    "    dist=[]\n",
    "    for i in l:\n",
    "        dist.append(((i[0]-q[0])**2+(i[1]-q[1])**2)**0.5)\n",
    "    dist=list(enumerate(dist))\n",
    "    dist.sort(key=lambda x:x[1])\n",
    "    print(l[dist[0][0]])\n",
    " \n",
    "fn( [(-3, -4), (2, -1), (-1, 5), (3, 3)],(0,0))"
   ]
  },
  {
   "cell_type": "markdown",
   "id": "25913a94-229a-44ff-a915-7da19a448901",
   "metadata": {},
   "source": [
    "`Problem-10`:Write a python program that receives a list of strings and performs bag of word operation on those strings"
   ]
  },
  {
   "cell_type": "code",
   "execution_count": 91,
   "id": "2c5c17a4-a7ed-4c04-9c74-f3ce052cdb5d",
   "metadata": {},
   "outputs": [
    {
     "name": "stdout",
     "output_type": "stream",
     "text": [
      "{'fat', 'rat', 'pat', 'cat', 'sat', 'mat', 'bat'}\n",
      "[[0, 1, 0, 2, 0, 1, 0], [1, 1, 0, 1, 1, 0, 1], [0, 1, 1, 1, 0, 1, 0]]\n"
     ]
    }
   ],
   "source": [
    "def fn(l):\n",
    "    s=set()\n",
    "    for i in L:\n",
    "        s.update(i.split())\n",
    "    print(s)\n",
    "    result=[]\n",
    "    for i in l:\n",
    "        temp=[]\n",
    "        for j in s:\n",
    "            temp.append(i.count(j))\n",
    "        result.append(temp)\n",
    "    print(result)\n",
    "        \n",
    "L = [\n",
    "    'cat mat rat cat',\n",
    "     'sat bat fat cat rat',\n",
    "     'pat cat mat rat'\n",
    "]\n",
    "fn(L)"
   ]
  },
  {
   "cell_type": "markdown",
   "id": "8a646a49-08ba-491e-89a7-c146e6fd63f7",
   "metadata": {},
   "source": [
    "### `Problem 11:` Write a Python program to add three given lists using Python map and lambda."
   ]
  },
  {
   "cell_type": "code",
   "execution_count": 93,
   "id": "bb1af4db-23ca-4d4b-bc66-074458d5e967",
   "metadata": {},
   "outputs": [
    {
     "data": {
      "text/plain": [
       "[12, 15, 18]"
      ]
     },
     "execution_count": 93,
     "metadata": {},
     "output_type": "execute_result"
    }
   ],
   "source": [
    "L1 = [1,2,3]\n",
    "L2 = [4,5,6]\n",
    "L3 = [7,8,9]\n",
    "list(map(lambda x,y,z:x+y+z,L1,L2,L3))"
   ]
  },
  {
   "cell_type": "markdown",
   "id": "12458220-8838-42eb-9d33-52f4ef5a49ea",
   "metadata": {},
   "source": [
    "### `Problem-12:`Write a Python program to create a list containing the power of said number in bases raised to the corresponding number in the index using Python map.\n",
    "`Input:`\n",
    "```\n",
    "list1 = [1,2,3,4,5,6]\n",
    "```\n",
    "`Output:`\n",
    "```\n",
    "[1,2,9,64,625,-]\n",
    "```\n"
   ]
  },
  {
   "cell_type": "code",
   "execution_count": 95,
   "id": "6755cc12-d10f-4f2c-8e7f-274193433974",
   "metadata": {},
   "outputs": [
    {
     "name": "stdout",
     "output_type": "stream",
     "text": [
      "[1, 2, 9, 64, 625, 7776]\n"
     ]
    }
   ],
   "source": [
    "def fn(l):\n",
    "    result=list(map(lambda x:x[1]**x[0],list(enumerate(l))))\n",
    "    print(result)\n",
    "\n",
    "fn([1,2,3,4,5,6])"
   ]
  },
  {
   "cell_type": "markdown",
   "id": "b1aa6ba0-384b-4ad0-8bb4-d5c496ef6663",
   "metadata": {},
   "source": [
    "### `Problem-13` Using filter() and list() functions and .lower() method filter all the vowels in a given string.\n",
    "\n"
   ]
  },
  {
   "cell_type": "code",
   "execution_count": 106,
   "id": "ea931f5d-e009-49a6-952a-87a0ad2c94bd",
   "metadata": {},
   "outputs": [
    {
     "data": {
      "text/plain": [
       "['I', 'A', 'o', 'u', 'i', 'i', 'a', 'e', 'a', 'e', 'i', 'a', 'a']"
      ]
     },
     "execution_count": 106,
     "metadata": {},
     "output_type": "execute_result"
    }
   ],
   "source": [
    "str1=\"FIFA world cup in 2022 will take place in Qatar\"\n",
    "list(filter(lambda x:x.lower() in \"aeiou\",str1))"
   ]
  },
  {
   "cell_type": "markdown",
   "id": "fba68b93-bf2d-4065-a3ed-c7ca3ac4a743",
   "metadata": {},
   "source": [
    "### `Problem-14`: Use reduce to convert a 2D list to 1D"
   ]
  },
  {
   "cell_type": "code",
   "execution_count": 114,
   "id": "9e9124ed-e240-4b71-ad5e-541cb6bcaa96",
   "metadata": {},
   "outputs": [
    {
     "data": {
      "text/plain": [
       "[1, 2, 3, 3, 6, 7, 7, 5, 4]"
      ]
     },
     "execution_count": 114,
     "metadata": {},
     "output_type": "execute_result"
    }
   ],
   "source": [
    "import functools\n",
    "ini_list = [[1, 2, 3],\n",
    "            [3, 6, 7],\n",
    "            [7, 5, 4]]\n",
    "list(functools.reduce(lambda x,y:x+y,ini_list))"
   ]
  },
  {
   "cell_type": "markdown",
   "id": "e143767d-5a60-489a-a3af-406a5d387c08",
   "metadata": {},
   "source": [
    "### `Problem 15`- A dictionary contains following information about 5 employees:\n",
    "- First name\n",
    "- Last name\n",
    "- Age\n",
    "- Grade(Skilled,Semi-skilled,Highly skilled)<br>\n",
    "Write a program using map/filter/reduce to a list of employees(first name + last name) who are highly skilled"
   ]
  },
  {
   "cell_type": "code",
   "execution_count": 120,
   "id": "27eb161b-e23a-4fca-9a39-13a7d61c86a6",
   "metadata": {},
   "outputs": [],
   "source": [
    "# Write code here\n",
    "employees = [\n",
    "    {\n",
    "        'fname':'Nitish',\n",
    "        'lname':'Singh',\n",
    "        'age' : 33,\n",
    "        'grade':'skilled'\n",
    "    },\n",
    "    {\n",
    "        'fname':'Ankit',\n",
    "        'lname':'Verma',\n",
    "        'age' : 34,\n",
    "        'grade':'semi-skilled'\n",
    "    },\n",
    "    {\n",
    "        'fname':'Neha',\n",
    "        'lname':'Singh',\n",
    "        'age' : 35,\n",
    "        'grade':'highly-skilled'\n",
    "    },\n",
    "    {\n",
    "        'fname':'Anurag',\n",
    "        'lname':'Kumar',\n",
    "        'age' : 30,\n",
    "        'grade':'skilled'\n",
    "    },\n",
    "    {\n",
    "        'fname':'Abhinav',\n",
    "        'lname':'Sharma',\n",
    "        'age' : 37,\n",
    "        'grade':'highly-skilled'\n",
    "    }\n",
    "]"
   ]
  },
  {
   "cell_type": "code",
   "execution_count": 139,
   "id": "3c08ba0d-151d-4cf5-a04b-1208e3ede71e",
   "metadata": {},
   "outputs": [
    {
     "name": "stdout",
     "output_type": "stream",
     "text": [
      "['Neha Singh', 'Abhinav Sharma']\n"
     ]
    }
   ],
   "source": [
    "def fn(emp):\n",
    "    print(list(map(lambda x:x['fname']+\" \"+x['lname'] ,filter(lambda x:x['grade']==\"highly-skilled\",emp))))\n",
    "fn(employees)"
   ]
  },
  {
   "cell_type": "code",
   "execution_count": null,
   "id": "20429be3-5249-473a-a456-1f5c2b2b8e19",
   "metadata": {},
   "outputs": [],
   "source": [
    "\n"
   ]
  },
  {
   "cell_type": "code",
   "execution_count": null,
   "id": "826b72ae-8475-40dd-8c7b-4772c1655061",
   "metadata": {},
   "outputs": [],
   "source": []
  }
 ],
 "metadata": {
  "kernelspec": {
   "display_name": "Python 3 (ipykernel)",
   "language": "python",
   "name": "python3"
  },
  "language_info": {
   "codemirror_mode": {
    "name": "ipython",
    "version": 3
   },
   "file_extension": ".py",
   "mimetype": "text/x-python",
   "name": "python",
   "nbconvert_exporter": "python",
   "pygments_lexer": "ipython3",
   "version": "3.12.4"
  }
 },
 "nbformat": 4,
 "nbformat_minor": 5
}
