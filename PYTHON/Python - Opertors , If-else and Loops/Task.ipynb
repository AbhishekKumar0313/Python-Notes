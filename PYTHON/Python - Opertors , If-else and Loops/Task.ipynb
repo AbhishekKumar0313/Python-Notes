{
 "cells": [
  {
   "cell_type": "markdown",
   "id": "d94dc3e2-2b11-4843-bc4f-81c8c51ec056",
   "metadata": {},
   "source": [
    " ##  Task - Operator,If-Else and Loops"
   ]
  },
  {
   "cell_type": "markdown",
   "id": "8c4b041a-7f5c-4c4f-a6d8-e1e4c74f8de9",
   "metadata": {},
   "source": [
    "### `Problem 1`: Write a program that will give you in hand monthly salary after deduction on CTC - HRA(10%), DA(5%), PF(3%) and taxes deduction as below:\n",
    "\n",
    "> Salary(Lakhs) : Tax(%)\n",
    "\n",
    "*   Below 5 : 0%\n",
    "*   5-10 : 10%\n",
    "*   10-20 : 20%\n",
    "*   aboove 20 : 30%"
   ]
  },
  {
   "cell_type": "code",
   "execution_count": 24,
   "id": "7ab95ec9-c441-4b91-8b9d-ab618c3ea7d7",
   "metadata": {},
   "outputs": [
    {
     "name": "stdin",
     "output_type": "stream",
     "text": [
      "enter your CTC 950000\n"
     ]
    },
    {
     "name": "stdout",
     "output_type": "stream",
     "text": [
      "Your in-hand salary will be 57000.0\n"
     ]
    }
   ],
   "source": [
    "ctc=float(input(\"enter your CTC\"))\n",
    "total_tax=0.1*ctc+0.05*ctc+0.03*ctc\n",
    "inhand=0\n",
    "if ctc<500000:\n",
    "    inhand=ctc-total_tax\n",
    "elif ctc<1000000:\n",
    "    inhand=ctc-total_tax-0.1*ctc\n",
    "elif ctc<2000000:\n",
    "    inhand=ctc-total_tax-0.2*ctc\n",
    "else:\n",
    "    inhand=ctc-total_tax-0.3*ctc\n",
    "print(f\"Your in-hand salary will be {round(inhand/12,2)}\")"
   ]
  },
  {
   "cell_type": "markdown",
   "id": "45e5cf5e-bb13-4b6b-9898-19f97c0fd4f1",
   "metadata": {},
   "source": [
    "### `Problem 2`: Write a program that take a user input of three angles and will find out whether it can form a triangle or not.\n"
   ]
  },
  {
   "cell_type": "code",
   "execution_count": 29,
   "id": "789b6e57-9b09-47aa-a0ba-ddc6df326114",
   "metadata": {},
   "outputs": [
    {
     "name": "stdin",
     "output_type": "stream",
     "text": [
      "enter first angle 34\n",
      "enter second angle 56\n",
      "enter third angle 90\n"
     ]
    },
    {
     "name": "stdout",
     "output_type": "stream",
     "text": [
      "Triangle can be formed\n"
     ]
    }
   ],
   "source": [
    "angle1=int(input(\"enter first angle\"))\n",
    "angle2=int(input(\"enter second angle\"))\n",
    "angle3=int(input(\"enter third angle\"))\n",
    "if angle1+angle2+angle3==180 and angle1>0 and angle2>0 and angle3>0:\n",
    "    print(\"Triangle can be formed\")\n",
    "else:\n",
    "    printt(\"Cannot formed a triangle\")"
   ]
  },
  {
   "cell_type": "markdown",
   "id": "0c9127fa-7acc-4296-a588-73181a90f9d7",
   "metadata": {},
   "source": [
    "### `Problem 3`: Write a program that will take user input of cost price and selling price and determines whether its a loss or a profit."
   ]
  },
  {
   "cell_type": "code",
   "execution_count": 34,
   "id": "5b3ed739-bf28-4197-a5d1-e79bba3159e9",
   "metadata": {},
   "outputs": [
    {
     "name": "stdin",
     "output_type": "stream",
     "text": [
      "enter cost price 46\n",
      "enter selling price 90\n"
     ]
    },
    {
     "name": "stdout",
     "output_type": "stream",
     "text": [
      "profit\n"
     ]
    }
   ],
   "source": [
    "cost=int(input(\"enter cost price\"))\n",
    "selling=int(input(\"enter selling price\"))\n",
    "if cost>selling:\n",
    "    print(\"Loss\")\n",
    "elif cost<selling:\n",
    "    print(\"profit\")\n",
    "else:\n",
    "    print(\"neither profit nor loss\")"
   ]
  },
  {
   "cell_type": "markdown",
   "id": "c791f4e3-99ba-45a8-adea-ba0b48bf9636",
   "metadata": {},
   "source": [
    "### `Problem 4`: Write a menu-driven program -\n",
    "1. cm to ft\n",
    "2. km to miles\n",
    "3. USD to INR\n",
    "4. exit"
   ]
  },
  {
   "cell_type": "code",
   "execution_count": 49,
   "id": "db0ff3eb-923e-4a21-8fa9-678357c46515",
   "metadata": {},
   "outputs": [
    {
     "name": "stdout",
     "output_type": "stream",
     "text": [
      "1. Cm to Ft\n",
      "2. Km to Miles\n",
      "3. USD to INR\n",
      "4. Exit\n",
      "Choose any one of them\n"
     ]
    },
    {
     "name": "stdin",
     "output_type": "stream",
     "text": [
      " 3\n",
      "enter your value 90\n"
     ]
    },
    {
     "name": "stdout",
     "output_type": "stream",
     "text": [
      "90.0 USD to INR is 7549.2\n"
     ]
    }
   ],
   "source": [
    "print(\"1. Cm to Ft\\n2. Km to Miles\\n3. USD to INR\\n4. Exit\\nChoose any one of them\")\n",
    "choice=int(input())\n",
    "if choice==4:\n",
    "    exit\n",
    "else:\n",
    "    value=float(input(\"enter your value\"))\n",
    "    if choice==1:\n",
    "        print(f\"{value} Cm to Feet is {round(value*0.0328084,2)}\")\n",
    "    elif choice==2:\n",
    "        print(f\"{value} Km to Mile is {round(value*0.621371,2)}\")\n",
    "    elif choice==3:\n",
    "         print(f\"{value} USD to INR is {round(value*83.88,2)}\")\n",
    "        "
   ]
  },
  {
   "cell_type": "markdown",
   "id": "c35d2a84-59dd-46e0-91d3-851e49cd1681",
   "metadata": {},
   "source": [
    "### `Problem 5` - Display Fibonacci series up to 10 terms.\n",
    "\n",
    "*Note: The Fibonacci Sequence is a series of numbers. The next number is found by adding up the two numbers before it. The first two numbers are 0 and 1. For example, 0, 1, 1, 2, 3, 5, 8, 13, 21. The next number in this series above is 13+21 = 34*"
   ]
  },
  {
   "cell_type": "code",
   "execution_count": 53,
   "id": "901b572b-0b5c-4f5e-ade8-8e3e79353d07",
   "metadata": {},
   "outputs": [
    {
     "name": "stdout",
     "output_type": "stream",
     "text": [
      "0 1 1 2 3 5 8 13 21 34 "
     ]
    }
   ],
   "source": [
    "a=0;b=1\n",
    "for i in range(1,11):\n",
    "    print(a,end=\" \")\n",
    "    c=a+b\n",
    "    a=b\n",
    "    b=c"
   ]
  },
  {
   "cell_type": "markdown",
   "id": "38b75858-19ca-4a63-8c4e-0ddde84bc5f6",
   "metadata": {},
   "source": [
    "### `Problem 6` - Find the factorial of a given number.\n",
    "\n",
    "Write a program to use the loop to find the factorial of a given number.\n",
    "\n",
    "The factorial (symbol: `!`) means to multiply all whole numbers from the chosen number down to 1."
   ]
  },
  {
   "cell_type": "code",
   "execution_count": 65,
   "id": "6a30b0cd-202c-4f71-8c53-02b7e254ca33",
   "metadata": {},
   "outputs": [
    {
     "name": "stdin",
     "output_type": "stream",
     "text": [
      "enter a number 5\n"
     ]
    },
    {
     "name": "stdout",
     "output_type": "stream",
     "text": [
      "factorial of 5 is 120\n"
     ]
    }
   ],
   "source": [
    "num=int(input(\"enter a number\"))\n",
    "fact=1\n",
    "for i in range(1,num+1):\n",
    "    fact*=i\n",
    "print(f\"factorial of {num} is {fact}\")"
   ]
  },
  {
   "cell_type": "markdown",
   "id": "a89ff202-ba0b-41ca-af47-7a14e36d4ab2",
   "metadata": {},
   "source": [
    "### `Problem 7` - Reverse a given integer number.\n"
   ]
  },
  {
   "cell_type": "code",
   "execution_count": 72,
   "id": "73cadbb2-4d6f-4141-9dc6-a89d0d824b38",
   "metadata": {},
   "outputs": [
    {
     "name": "stdin",
     "output_type": "stream",
     "text": [
      "enter a number 2356\n"
     ]
    },
    {
     "name": "stdout",
     "output_type": "stream",
     "text": [
      "6532\n"
     ]
    }
   ],
   "source": [
    "number=int(input(\"enter a number\"))\n",
    "reverse=0\n",
    "while number:\n",
    "    reverse=reverse*10+number%10\n",
    "    number//=10\n",
    "print(reverse)"
   ]
  },
  {
   "cell_type": "markdown",
   "id": "58ab6532-f0d6-4248-8c6c-25ed6600419a",
   "metadata": {},
   "source": [
    "### `Problem 8`: Take a user input as integer N. Find out the sum from 1 to N. If any number if divisible by 5, then skip that number. And if the sum is greater than 300, don't need to calculate the sum further more. Print the final result. And don't use for loop to solve this problem.\n",
    "\n",
    "**Example 1:**\n",
    "\n",
    "`Input:`\n",
    "\n",
    "```bash\n",
    "30\n",
    "```\n",
    "\n",
    "`Output:`\n",
    "\n",
    "```bash\n",
    "276\n",
    "```"
   ]
  },
  {
   "cell_type": "code",
   "execution_count": 95,
   "id": "b760b203-fa59-465c-9ed1-d7c2a761e48e",
   "metadata": {},
   "outputs": [
    {
     "name": "stdin",
     "output_type": "stream",
     "text": [
      "enter a number 34\n"
     ]
    },
    {
     "name": "stdout",
     "output_type": "stream",
     "text": [
      "303\n"
     ]
    }
   ],
   "source": [
    "number=int(input(\"enter a number\"))\n",
    "sum=0\n",
    "for i in range(1,number+1):\n",
    "    if sum>300:\n",
    "        break\n",
    "    elif i%5==0:\n",
    "        continue\n",
    "    else:\n",
    "        sum+=i\n",
    "print(sum)"
   ]
  },
  {
   "cell_type": "markdown",
   "id": "1f34f58b-6e66-4119-bd27-1cd63564aa0b",
   "metadata": {},
   "source": [
    "### `Problem 9`: Write a program that keeps on accepting a number from the user until the user enters Zero. Display the sum and average of all the numbers."
   ]
  },
  {
   "cell_type": "code",
   "execution_count": 102,
   "id": "81eba916-e7aa-4e45-9c00-fc6813bd4b58",
   "metadata": {},
   "outputs": [
    {
     "name": "stdin",
     "output_type": "stream",
     "text": [
      "enter a number 0\n"
     ]
    }
   ],
   "source": [
    "sum=0\n",
    "count=0\n",
    "while True:\n",
    "    n=int(input(\"enter a number\"))\n",
    "    if n==0:\n",
    "        if count>0:\n",
    "            print(f\"sum is {sum} and average is {round(sum/count,2)}\")\n",
    "        else:\n",
    "            print(f\"sum is {sum} and average is {round(sum/count,2)}\") \n",
    "        break\n",
    "    else:\n",
    "        sum+=n\n",
    "        count+=1\n",
    "    "
   ]
  },
  {
   "cell_type": "markdown",
   "id": "825e8ade-3efb-401f-a5cd-c1ea68f6f5bb",
   "metadata": {},
   "source": [
    "### `Problem 9`: Write a program which will find all such numbers which are divisible by 7 but are not a multiple of 5, between 2000 and 3200 (both included). The numbers obtained should be printed in a comma-separated sequence on a single line."
   ]
  },
  {
   "cell_type": "code",
   "execution_count": 108,
   "id": "055345c5-dfc5-418b-be2e-87ea16883160",
   "metadata": {},
   "outputs": [
    {
     "name": "stdout",
     "output_type": "stream",
     "text": [
      "2002,2009,2016,2023,2037,2044,2051,2058,2072,2079,2086,2093,2107,2114,2121,2128,2142,2149,2156,2163,2177,2184,2191,2198,2212,2219,2226,2233,2247,2254,2261,2268,2282,2289,2296,2303,2317,2324,2331,2338,2352,2359,2366,2373,2387,2394,2401,2408,2422,2429,2436,2443,2457,2464,2471,2478,2492,2499,2506,2513,2527,2534,2541,2548,2562,2569,2576,2583,2597,2604,2611,2618,2632,2639,2646,2653,2667,2674,2681,2688,2702,2709,2716,2723,2737,2744,2751,2758,2772,2779,2786,2793,2807,2814,2821,2828,2842,2849,2856,2863,2877,2884,2891,2898,2912,2919,2926,2933,2947,2954,2961,2968,2982,2989,2996,3003,3017,3024,3031,3038,3052,3059,3066,3073,3087,3094,3101,3108,3122,3129,3136,3143,3157,3164,3171,3178,3192,3199,"
     ]
    }
   ],
   "source": [
    "for i in range(2000,3201):\n",
    "    if i%7==0 and i%5!=0:\n",
    "        print(i,end=\",\")"
   ]
  },
  {
   "cell_type": "markdown",
   "id": "b09f48c6-04e5-4665-96d0-d3d1f5414423",
   "metadata": {},
   "source": [
    "### `Problem 10`: Write a program, which will find all such numbers between 1000 and 3000 (both included) such that each digit of the number is an even number. The numbers obtained should be printed in a space-separated sequence on a single line.\n",
    "\n"
   ]
  },
  {
   "cell_type": "code",
   "execution_count": 111,
   "id": "8ba952a8-ff36-4297-85ec-93a883db05c8",
   "metadata": {},
   "outputs": [
    {
     "name": "stdout",
     "output_type": "stream",
     "text": [
      "2000 2002 2004 2006 2008 2020 2022 2024 2026 2028 2040 2042 2044 2046 2048 2060 2062 2064 2066 2068 2080 2082 2084 2086 2088 2200 2202 2204 2206 2208 2220 2222 2224 2226 2228 2240 2242 2244 2246 2248 2260 2262 2264 2266 2268 2280 2282 2284 2286 2288 2400 2402 2404 2406 2408 2420 2422 2424 2426 2428 2440 2442 2444 2446 2448 2460 2462 2464 2466 2468 2480 2482 2484 2486 2488 2600 2602 2604 2606 2608 2620 2622 2624 2626 2628 2640 2642 2644 2646 2648 2660 2662 2664 2666 2668 2680 2682 2684 2686 2688 2800 2802 2804 2806 2808 2820 2822 2824 2826 2828 2840 2842 2844 2846 2848 2860 2862 2864 2866 2868 2880 2882 2884 2886 2888 "
     ]
    }
   ],
   "source": [
    "for i in range(1000,3001):\n",
    "    check=True\n",
    "    temp=i\n",
    "    while temp:\n",
    "        rem=temp%10\n",
    "        if rem%2!=0:\n",
    "            check=False\n",
    "            break\n",
    "        temp//=10\n",
    "    if check:\n",
    "        print(i,end=\" \")"
   ]
  },
  {
   "cell_type": "markdown",
   "id": "800ba6fb-cdca-448d-bf45-33616a20ae4b",
   "metadata": {},
   "source": [
    "### `Problem 11`: A robot moves in a plane starting from the original point (0,0). The robot can move toward UP, DOWN, LEFT and RIGHT with a given steps.\n",
    "The trace of robot movement is shown as the following:\n",
    "```\n",
    "UP 5\n",
    "DOWN 3\n",
    "LEFT 3\n",
    "RIGHT 2\n",
    "!\n",
    "```\n",
    "> The numbers after the direction are steps.\n",
    "\n",
    "> `!` means robot stop there.\n",
    "\n",
    "**Please write a program to compute the distance from current position after a sequence of movement and original point.**\n",
    "\n",
    "*If the distance is a float, then just print the nearest integer.*\n",
    "\n",
    "Example:\n",
    "\n",
    "`Input`:\n",
    "```\n",
    "UP 5\n",
    "DOWN 3\n",
    "LEFT 3\n",
    "RIGHT 2\n",
    "!\n",
    "```\n",
    "`Output`:\n",
    "```\n",
    "2\n",
    "```"
   ]
  },
  {
   "cell_type": "code",
   "execution_count": 120,
   "id": "16de34ee-ec2e-452e-b12b-ac3a74c0a4ee",
   "metadata": {},
   "outputs": [
    {
     "name": "stdin",
     "output_type": "stream",
     "text": [
      "enter your movement UP\n",
      "enter your steps 5\n",
      "enter your movement DOWN\n",
      "enter your steps 3\n",
      "enter your movement LEFT\n",
      "enter your steps 3\n",
      "enter your movement RIGHT\n",
      "enter your steps 2\n",
      "enter your movement !\n"
     ]
    },
    {
     "name": "stdout",
     "output_type": "stream",
     "text": [
      "distance from origint (0,0) to point (-1,2) is 2\n"
     ]
    }
   ],
   "source": [
    "x=0;y=0\n",
    "while True:\n",
    "    move=input(\"enter your movement\")\n",
    "    if move=='!':\n",
    "        break\n",
    "    else:\n",
    "        steps=int(input(\"enter your steps\"))\n",
    "        if move ==\"UP\":\n",
    "            y+=steps\n",
    "        elif move==\"DOWN\":\n",
    "            y-=steps\n",
    "        elif move==\"LEFT\":\n",
    "            x-=steps\n",
    "        elif move==\"RIGHT\":\n",
    "            x+=steps\n",
    "print(f\"distance from origint (0,0) to point ({x},{y}) is {round((x**2+y**2)**0.5)}\")\n",
    "               "
   ]
  },
  {
   "cell_type": "markdown",
   "id": "479767d2-09be-4771-84b1-b5e10005aca3",
   "metadata": {},
   "source": [
    "### `Problem 13`:Print all the Armstrong numbers in a given range.\n",
    "Range will be provided by the user<br>\n",
    "Armstrong number is a number that is equal to the sum of cubes of its digits. For example 0, 1, 153, 370, 371 and 407 are the Armstrong numbers."
   ]
  },
  {
   "cell_type": "code",
   "execution_count": 123,
   "id": "7183202f-18a0-442a-afa2-045e9e8a26c9",
   "metadata": {},
   "outputs": [
    {
     "name": "stdin",
     "output_type": "stream",
     "text": [
      "enter lower ragne 1\n",
      "enter higher ragne 40000\n"
     ]
    },
    {
     "name": "stdout",
     "output_type": "stream",
     "text": [
      "1 153 370 371 407 "
     ]
    }
   ],
   "source": [
    "l=int(input(\"enter lower ragne\"))\n",
    "r=int(input(\"enter higher ragne\"))\n",
    "for i in range(l,r+1):\n",
    "    cube=0\n",
    "    temp=i\n",
    "    while temp:\n",
    "        cube+=(temp%10)**3\n",
    "        temp//=10\n",
    "    if cube==i:\n",
    "        print(i,end=\" \")\n",
    "        "
   ]
  },
  {
   "cell_type": "markdown",
   "id": "a0ab84e7-a156-434e-b0e2-907d4dc7ebed",
   "metadata": {},
   "source": [
    "### `Problem 14`:Calculate the angle between the hour hand and minute hand.\n",
    "\n",
    "Note: There can be two angles between hands; we need to print a minimum of two. Also, we need to print the floor of the final result angle. For example, if the final angle is 10.61, we need to print 10.\n",
    "\n",
    "Input:<br>\n",
    "H = 9 , M = 0<br>\n",
    "Output:<br>\n",
    "90<br>\n",
    "Explanation:<br>\n",
    "The minimum angle between hour and minute\n",
    "hand when the time is 9 is 90 degress."
   ]
  },
  {
   "cell_type": "code",
   "execution_count": 138,
   "id": "bdad1500-f25c-415f-a924-5e45a45fb747",
   "metadata": {},
   "outputs": [
    {
     "name": "stdin",
     "output_type": "stream",
     "text": [
      "enter hour hand 3\n",
      "enter minute hand 30\n"
     ]
    },
    {
     "name": "stdout",
     "output_type": "stream",
     "text": [
      "210 30\n",
      "75.0\n"
     ]
    }
   ],
   "source": [
    "hour=int(input(\"enter hour hand\"))\n",
    "minute=int(input(\"enter minute hand\"))\n",
    "total_time_hour=hour*60+minute\n",
    "angle_hour=0.5*total_time_hour\n",
    "angle_min=6*minute\n",
    "print(total_time_hour,minute)\n",
    "print(min(abs(angle_hour-angle_min),abs(360-(angle_hour-angle_min))))"
   ]
  },
  {
   "cell_type": "markdown",
   "id": "f72fb04f-0ffd-41f2-a674-609e8773c557",
   "metadata": {},
   "source": [
    "### `Problem 15`:Given two rectangles, find if the given two rectangles overlap or not. A rectangle is denoted by providing the x and y coordinates of two points: the left top corner and the right bottom corner of the rectangle. Two rectangles sharing a side are considered overlapping. (L1 and R1 are the extreme points of the first rectangle and L2 and R2 are the extreme points of the second rectangle).\n",
    "\n",
    "Note: It may be assumed that the rectangles are parallel to the coordinate axis.\n",
    "\n",
    "<img src='https://www.geeksforgeeks.org/wp-content/uploads/rectanglesOverlap.png' width='300' height='200'>"
   ]
  },
  {
   "cell_type": "code",
   "execution_count": 143,
   "id": "5bb90be4-3af4-4180-90f0-14f8314dcaeb",
   "metadata": {},
   "outputs": [
    {
     "name": "stdout",
     "output_type": "stream",
     "text": [
      "Enter both Rectangel points coordinates <x y>\n"
     ]
    },
    {
     "name": "stdin",
     "output_type": "stream",
     "text": [
      "Enter L1 coordinate value  (Two value space seperated): 23 45\n",
      "Enter r1 coordinate value,(Two value space seperated): 45 6\n",
      "Enter L2 coordinate value,(Two value space seperated): 2 34\n",
      "Enter r2 coordinate value,(Two value space seperated): 23 6\n"
     ]
    },
    {
     "name": "stdout",
     "output_type": "stream",
     "text": [
      "Overlap\n"
     ]
    }
   ],
   "source": [
    "print(\"Enter both Rectangel points coordinates <x y>\")\n",
    "\n",
    "l1_x, l1_y = list(map(int, input('Enter L1 coordinate value  (Two value space seperated):').split()))\n",
    "r1_x, r1_y = list(map(int, input('Enter r1 coordinate value,(Two value space seperated):').split()))\n",
    "\n",
    "l2_x, l2_y = list(map(int, input('Enter L2 coordinate value,(Two value space seperated):').split()))\n",
    "r2_x, r2_y = list(map(int, input('Enter r2 coordinate value,(Two value space seperated):').split()))\n",
    "\n",
    "# if the rectangle has an area 0, no overlap\n",
    "if l1_x == r1_x or l1_y == r1_y or r2_x == l2_x or l2_y == r2_y:\n",
    "  print(\"Don't Overlap\")\n",
    "\n",
    "# If one rectangle is on the left side of the other\n",
    "elif l1_x > r2_x or l2_x > r1_x:\n",
    "  print(\"Don't Overlap\")\n",
    "\n",
    "# If one rectangle is above the other\n",
    "elif r1_y > l2_y or r2_y > l1_y:\n",
    "  print(\"Don't Overlap\")\n",
    "else:\n",
    "  print(\"Overlap\")"
   ]
  },
  {
   "cell_type": "markdown",
   "id": "8584ede7-9280-484a-abcf-ccd759335905",
   "metadata": {},
   "source": []
  }
 ],
 "metadata": {
  "kernelspec": {
   "display_name": "Python 3 (ipykernel)",
   "language": "python",
   "name": "python3"
  },
  "language_info": {
   "codemirror_mode": {
    "name": "ipython",
    "version": 3
   },
   "file_extension": ".py",
   "mimetype": "text/x-python",
   "name": "python",
   "nbconvert_exporter": "python",
   "pygments_lexer": "ipython3",
   "version": "3.12.4"
  }
 },
 "nbformat": 4,
 "nbformat_minor": 5
}
