{
 "cells": [
  {
   "cell_type": "markdown",
   "id": "823d511d-e728-4bfa-bfb5-b6a4a9452000",
   "metadata": {},
   "source": [
    "<h1 style='color:#3FA2F6'>Python <span style=\" color:yellow\">Operators</span></h1>"
   ]
  },
  {
   "cell_type": "markdown",
   "id": "120db827-7440-4b87-b952-3c0d9d0605b9",
   "metadata": {},
   "source": [
    "<h3 style=\"color:#F5DD61;font-family:'Lucida Console'\">Operators</h3>"
   ]
  },
  {
   "cell_type": "markdown",
   "id": "84959f62-c526-4dcf-a802-95bb421998b1",
   "metadata": {},
   "source": [
    "#### Operators are special symbol or keywrords that perform operation on operands\n",
    "- Arithmetic Operators\n",
    "- Relational Operators\n",
    "- Logical Operators\n",
    "- Bitwise Operators\n",
    "- Assignment Operators\n",
    "- Membership Operators"
   ]
  },
  {
   "cell_type": "markdown",
   "id": "731400fe-dda8-4f1d-b173-4c5512e03d38",
   "metadata": {},
   "source": [
    "<h3 style=\"color:#F5DD61;font-family:'Lucida Console'\">Arithmetic Operators</h3>"
   ]
  },
  {
   "cell_type": "code",
   "execution_count": 27,
   "id": "9141d40f-b85b-46d2-a98a-b44e0a2e6371",
   "metadata": {},
   "outputs": [
    {
     "name": "stdout",
     "output_type": "stream",
     "text": [
      "11\n",
      "-1\n",
      "30\n",
      "2.5\n",
      "2\n",
      "1\n",
      "25\n"
     ]
    }
   ],
   "source": [
    "print(5+6,5-6,5*6,5/2,5//2,5%2,5**2,sep='\\n')\n",
    "#  // integer division\n",
    "#  % modulo division\n",
    "# ** power of operta"
   ]
  },
  {
   "cell_type": "markdown",
   "id": "d0806c63-c2a0-486b-869a-2ec9607e7a6c",
   "metadata": {},
   "source": [
    "<h3 style=\"color:#F5DD61;font-family:'Lucida Console'\">Relational Operators</h3>"
   ]
  },
  {
   "cell_type": "code",
   "execution_count": 29,
   "id": "786b037d-75b6-454d-8ac7-f80cec1855a5",
   "metadata": {},
   "outputs": [
    {
     "name": "stdout",
     "output_type": "stream",
     "text": [
      "False\n",
      "True\n",
      "True\n",
      "False\n",
      "True\n",
      "False\n"
     ]
    }
   ],
   "source": [
    "print(4>5,4<5,4<=5,4>=5,4==4,4!=4,sep='\\n')"
   ]
  },
  {
   "cell_type": "markdown",
   "id": "1e024658-8427-4886-a6cc-c2251eaa69df",
   "metadata": {},
   "source": [
    "<h3 style=\"color:#F5DD61;font-family:'Lucida Console'\">Logical Operators</h3>"
   ]
  },
  {
   "cell_type": "code",
   "execution_count": 33,
   "id": "6dc48c8c-db43-4d01-ae1f-2efb2e27192a",
   "metadata": {},
   "outputs": [
    {
     "name": "stdout",
     "output_type": "stream",
     "text": [
      "0\n",
      "1\n",
      "False\n"
     ]
    }
   ],
   "source": [
    "print(1 and 0,1 or 0, not 1,sep='\\n')"
   ]
  },
  {
   "cell_type": "markdown",
   "id": "0e07c594-f9ee-4937-ae17-8024cdf81c9c",
   "metadata": {},
   "source": [
    "<h3 style=\"color:#F5DD61;font-family:'Lucida Console'\">Bitwise Operators</h3>"
   ]
  },
  {
   "cell_type": "code",
   "execution_count": 40,
   "id": "ee6d146a-4414-4e42-9968-d655bff6823f",
   "metadata": {},
   "outputs": [
    {
     "name": "stdout",
     "output_type": "stream",
     "text": [
      "2\n",
      "3\n",
      "1\n",
      "-4\n",
      "1\n",
      "20\n"
     ]
    }
   ],
   "source": [
    "print(2&3,2|3,2^3,~3,4>>2,5<<2,sep='\\n')\n",
    "# & - and , | - or ,^ - xor ,~ -  not,>> - right shift,<< - left shift"
   ]
  },
  {
   "cell_type": "markdown",
   "id": "73d4e7a0-af60-4db8-a25a-845ea2f07c6b",
   "metadata": {},
   "source": [
    "<h3 style=\"color:#F5DD61;font-family:'Lucida Console'\">Assignment Operators</h3>"
   ]
  },
  {
   "cell_type": "code",
   "execution_count": 43,
   "id": "232e3299-709d-4a51-883a-efbc6703f50d",
   "metadata": {},
   "outputs": [
    {
     "name": "stdout",
     "output_type": "stream",
     "text": [
      "46\n"
     ]
    }
   ],
   "source": [
    "a=3\n",
    "a+=1\n",
    "a-=2\n",
    "a%=3\n",
    "a*=23\n",
    "print(a)"
   ]
  },
  {
   "cell_type": "markdown",
   "id": "190e0cd6-dbcd-43d5-bbf3-9e660007c57b",
   "metadata": {},
   "source": [
    "<h3 style=\"color:#F5DD61;font-family:'Lucida Console'\">Membership Operators</h3>"
   ]
  },
  {
   "cell_type": "code",
   "execution_count": 50,
   "id": "b37bb713-d94f-481f-b7f2-ef8e753edf73",
   "metadata": {},
   "outputs": [
    {
     "name": "stdout",
     "output_type": "stream",
     "text": [
      "True\n",
      "False\n",
      "True\n"
     ]
    }
   ],
   "source": [
    "print('D' in \"Delhi\")\n",
    "print('d' in \"Delhi\")\n",
    "print(3 in [1,2,3,4,5,65])"
   ]
  },
  {
   "cell_type": "markdown",
   "id": "47a44560-3379-42d3-a089-e9aa0ae15ed7",
   "metadata": {},
   "source": [
    "<h3 style=\"color:red;font-family:'Lucida Console'\">Program -</h3>"
   ]
  },
  {
   "cell_type": "markdown",
   "id": "485083d0-acc5-4cf9-8317-9e2077180890",
   "metadata": {},
   "source": [
    "#### Program to find sum of 3 digit number entered by user"
   ]
  },
  {
   "cell_type": "code",
   "execution_count": 56,
   "id": "9d2bede7-cfc8-455d-816e-f2db6601085c",
   "metadata": {},
   "outputs": [
    {
     "name": "stdin",
     "output_type": "stream",
     "text": [
      "enter a 3 digit number 234\n"
     ]
    },
    {
     "name": "stdout",
     "output_type": "stream",
     "text": [
      "sum of digits of 2 is 9\n"
     ]
    }
   ],
   "source": [
    "number=int(input(\"enter a 3 digit number\"))\n",
    "first_digit=number%10\n",
    "number//=10\n",
    "second_digit=number%10\n",
    "number//=10\n",
    "third_digit=number%10\n",
    "print(f\"sum of digits of {number} is {first_digit+second_digit+third_digit}\")"
   ]
  },
  {
   "cell_type": "markdown",
   "id": "e0e71df9-22d4-4578-98d5-0b2ed7a69445",
   "metadata": {},
   "source": [
    "<h1 style='color:#3FA2F6'>Python <span style=\" color:yellow\">If-Else</span></h1>"
   ]
  },
  {
   "cell_type": "markdown",
   "id": "8ec1a978-b96f-44bc-bb3c-efdc9040332e",
   "metadata": {},
   "source": [
    "#### Used to handle branching in a program."
   ]
  },
  {
   "cell_type": "markdown",
   "id": "a81ec4b1-6c1f-4614-9b77-927e9731755d",
   "metadata": {},
   "source": [
    "<h3 style=\"color:#F5DD61;font-family:'Lucida Console'\">Example of if-else</h3>"
   ]
  },
  {
   "cell_type": "code",
   "execution_count": 68,
   "id": "95ce85b4-cdc9-4923-83a4-426f1d11cec3",
   "metadata": {},
   "outputs": [
    {
     "name": "stdin",
     "output_type": "stream",
     "text": [
      "enter your email abhs.23jd\n",
      "enter your password 123\n"
     ]
    },
    {
     "name": "stdout",
     "output_type": "stream",
     "text": [
      "Email is not correct\n"
     ]
    }
   ],
   "source": [
    "# email - abhi.keshri0313@gmail.com\n",
    "# password - 12345\n",
    "email=input(\"enter your email\")\n",
    "password=input(\"enter your password\")\n",
    "if email==\"abhi.keshri0313@gmail.com\" and password==\"12345\":\n",
    "    print(\"Login Successfully\")\n",
    "elif email==\"abhi.keshri0313@gmail.com\" and password!=\"12345\":\n",
    "    print(\"Incorrect password\")\n",
    "    password=input(\"enter your password again\")\n",
    "    if password==\"12345\":\n",
    "        print(\"Login Successfully\")\n",
    "    else:\n",
    "        print(\"You can not login for next 2 hour\")\n",
    "else:\n",
    "    print(\"Email is not correct\")\n",
    "\n"
   ]
  },
  {
   "cell_type": "markdown",
   "id": "bfa86e52-7342-4945-97ac-1e072e96941d",
   "metadata": {},
   "source": [
    "<h3 style=\"color:red;font-family:'Lucida Console'\">Program -</h3>"
   ]
  },
  {
   "cell_type": "markdown",
   "id": "24ccd6d9-e2e7-4334-bb6b-f2c963f189e6",
   "metadata": {},
   "source": [
    "#### Find min of 3 number"
   ]
  },
  {
   "cell_type": "code",
   "execution_count": 73,
   "id": "34dfcabb-3bc3-437e-b4a3-237f3c2e971b",
   "metadata": {},
   "outputs": [
    {
     "name": "stdin",
     "output_type": "stream",
     "text": [
      "enter first number 12\n",
      "enter second number 34\n",
      "enter third number 2\n"
     ]
    },
    {
     "name": "stdout",
     "output_type": "stream",
     "text": [
      "smallest is 2\n"
     ]
    }
   ],
   "source": [
    "a=int(input(\"enter first number\"))\n",
    "b=int(input(\"enter second number\"))\n",
    "c=int(input(\"enter third number\"))\n",
    "if a<b and a<c:\n",
    "    print(f\"smallest is {a}\")\n",
    "elif b<c:\n",
    "    print(f\"smallest is {b}\")\n",
    "else:\n",
    "    print(f\"smallest is {c}\")"
   ]
  },
  {
   "cell_type": "markdown",
   "id": "cb9924bf-5fbc-4748-8d01-198a612fbbbe",
   "metadata": {},
   "source": [
    "#### Menu driven calculator"
   ]
  },
  {
   "cell_type": "code",
   "execution_count": 76,
   "id": "65200f1c-e1fb-49b1-aff0-fbea9d1ae5f8",
   "metadata": {},
   "outputs": [
    {
     "name": "stdin",
     "output_type": "stream",
     "text": [
      "\n",
      "Hi! how can I help you.\n",
      "1. Enter 1 for pin change\n",
      "2. Enter 2 for balance check\n",
      "3. Enter 3 for withdrawl\n",
      "4. Enter 4 for exit\n",
      " 1\n"
     ]
    },
    {
     "name": "stdout",
     "output_type": "stream",
     "text": [
      "pin change\n"
     ]
    }
   ],
   "source": [
    "menu = input(\"\"\"\n",
    "Hi! how can I help you.\n",
    "1. Enter 1 for pin change\n",
    "2. Enter 2 for balance check\n",
    "3. Enter 3 for withdrawl\n",
    "4. Enter 4 for exit\n",
    "\"\"\")\n",
    "\n",
    "if menu == '1':\n",
    "  print('pin change')\n",
    "elif menu == '2':\n",
    "  print('balance')\n",
    "else:\n",
    "  print('exit')"
   ]
  },
  {
   "cell_type": "markdown",
   "id": "556c79d6-c0e8-4865-822f-4102a5b52750",
   "metadata": {},
   "source": [
    "<h1 style='color:#3FA2F6'>Python <span style=\" color:yellow\">Modules</span></h1>"
   ]
  },
  {
   "cell_type": "markdown",
   "id": "c0cdb5c2-c7a4-4081-a789-5b3339a81df5",
   "metadata": {},
   "source": [
    "- math\n",
    "- keywords\n",
    "- random\n",
    "- datetime"
   ]
  },
  {
   "cell_type": "code",
   "execution_count": 83,
   "id": "418e899f-79a6-4bcb-bf8d-e0a8f4008441",
   "metadata": {},
   "outputs": [
    {
     "name": "stdout",
     "output_type": "stream",
     "text": [
      "2.23606797749979\n",
      "34 647\n"
     ]
    }
   ],
   "source": [
    "# math module\n",
    "import math\n",
    "print(math.sqrt(5))\n",
    "print(math.floor(34.35),math.ceil(646.35))"
   ]
  },
  {
   "cell_type": "code",
   "execution_count": 89,
   "id": "6ae856c3-1d59-400f-91dd-57e7ee954717",
   "metadata": {},
   "outputs": [
    {
     "name": "stdout",
     "output_type": "stream",
     "text": [
      "['False', 'None', 'True', 'and', 'as', 'assert', 'async', 'await', 'break', 'class', 'continue', 'def', 'del', 'elif', 'else', 'except', 'finally', 'for', 'from', 'global', 'if', 'import', 'in', 'is', 'lambda', 'nonlocal', 'not', 'or', 'pass', 'raise', 'return', 'try', 'while', 'with', 'yield']\n"
     ]
    }
   ],
   "source": [
    "# keyword module\n",
    "import keyword\n",
    "print(keyword.kwlist)"
   ]
  },
  {
   "cell_type": "code",
   "execution_count": 93,
   "id": "13812c8d-4999-4426-b01f-b5d353587f4d",
   "metadata": {},
   "outputs": [
    {
     "name": "stdout",
     "output_type": "stream",
     "text": [
      "93\n"
     ]
    }
   ],
   "source": [
    "# random module\n",
    "import random\n",
    "print(random.randint(1,235))"
   ]
  },
  {
   "cell_type": "code",
   "execution_count": 111,
   "id": "c2ba8846-a657-4668-8381-02f963b4af4e",
   "metadata": {},
   "outputs": [
    {
     "name": "stdout",
     "output_type": "stream",
     "text": [
      "2024-10-10 08:41:57.157607\n"
     ]
    }
   ],
   "source": [
    "# datetime module\n",
    "import datetime\n",
    "print(datetime.datetime.now())"
   ]
  },
  {
   "cell_type": "code",
   "execution_count": 121,
   "id": "920280b4-a350-42f4-8c45-d310f7a44898",
   "metadata": {},
   "outputs": [
    {
     "name": "stdout",
     "output_type": "stream",
     "text": [
      "Help on built-in function print in module builtins:\n",
      "\n",
      "print(*args, sep=' ', end='\\n', file=None, flush=False)\n",
      "    Prints the values to a stream, or to sys.stdout by default.\n",
      "\n",
      "    sep\n",
      "      string inserted between values, default a space.\n",
      "    end\n",
      "      string appended after the last value, default a newline.\n",
      "    file\n",
      "      a file-like object (stream); defaults to the current sys.stdout.\n",
      "    flush\n",
      "      whether to forcibly flush the stream.\n",
      "\n"
     ]
    }
   ],
   "source": [
    "# help \n",
    "help('print')"
   ]
  },
  {
   "cell_type": "markdown",
   "id": "bf6c5c88-c617-490e-8dc5-6f0974997df3",
   "metadata": {},
   "source": [
    "<h1 style='color:#3FA2F6'>Python <span style=\" color:yellow\">Loops</span></h1>"
   ]
  },
  {
   "cell_type": "markdown",
   "id": "d913dae5-e78c-4ee7-8303-477c208a2317",
   "metadata": {},
   "source": [
    "- Need for loops\n",
    "- While Loop\n",
    "- For Loop"
   ]
  },
  {
   "cell_type": "markdown",
   "id": "99607d93-d21f-45c3-ac0f-88c3736e0b0f",
   "metadata": {},
   "source": [
    "<h3 style=\"color:#F5DD61;font-family:'Lucida Console'\">While Loop</h3>"
   ]
  },
  {
   "cell_type": "markdown",
   "id": "7bad3a4c-9c52-486e-a42c-b781a031597c",
   "metadata": {},
   "source": [
    "<h3 style=\"color:red;font-family:'Lucida Console'\">Program -</h3>"
   ]
  },
  {
   "cell_type": "markdown",
   "id": "b43f2007-1b55-420f-9fee-cb3bcb2d725c",
   "metadata": {},
   "source": [
    "#### Sum of all digits of a given number"
   ]
  },
  {
   "cell_type": "code",
   "execution_count": 143,
   "id": "5bb16e47-0c6e-4de6-906d-18c623168aff",
   "metadata": {},
   "outputs": [
    {
     "name": "stdin",
     "output_type": "stream",
     "text": [
      "enter a number 2454\n"
     ]
    },
    {
     "name": "stdout",
     "output_type": "stream",
     "text": [
      "sum of digits of is 15\n"
     ]
    }
   ],
   "source": [
    "number=int(input(\"enter a number\"))\n",
    "sum=0\n",
    "while number:\n",
    "    sum+=number%10\n",
    "    number//=10\n",
    "print(f\"sum of digits of is {sum}\")"
   ]
  },
  {
   "cell_type": "markdown",
   "id": "81780716-cd29-4015-8d47-1be7becbe4d8",
   "metadata": {},
   "source": [
    "#### Print table of a number"
   ]
  },
  {
   "cell_type": "code",
   "execution_count": 150,
   "id": "5d9fbbc6-3b12-4826-8f5e-f8e337724800",
   "metadata": {},
   "outputs": [
    {
     "name": "stdin",
     "output_type": "stream",
     "text": [
      "enter a number 12\n"
     ]
    },
    {
     "name": "stdout",
     "output_type": "stream",
     "text": [
      "12 x 1 = 12\n",
      "12 x 2 = 24\n",
      "12 x 3 = 36\n",
      "12 x 4 = 48\n",
      "12 x 5 = 60\n",
      "12 x 6 = 72\n",
      "12 x 7 = 84\n",
      "12 x 8 = 96\n",
      "12 x 9 = 108\n",
      "12 x 10 = 120\n"
     ]
    }
   ],
   "source": [
    "n=int(input(\"enter a number\"))\n",
    "i=1\n",
    "while i<=10:\n",
    "    print(f\"{n} x {i} = {n*i}\")\n",
    "    i+=1"
   ]
  },
  {
   "cell_type": "markdown",
   "id": "02f88576-753a-456d-9f90-28ed57a225e7",
   "metadata": {},
   "source": [
    "<h3 style=\"color:#F5DD61;font-family:'Lucida Console'\">While Loop with Else</h3>"
   ]
  },
  {
   "cell_type": "code",
   "execution_count": 154,
   "id": "58a9874c-00df-4a86-bb07-c5d31638b8ee",
   "metadata": {},
   "outputs": [
    {
     "name": "stdout",
     "output_type": "stream",
     "text": [
      "1\n",
      "2\n",
      "3\n",
      "it will run only when while loop run completely\n"
     ]
    }
   ],
   "source": [
    "a=1\n",
    "while a<4:\n",
    "    print(a)\n",
    "    a+=1\n",
    "else:\n",
    "    print(\"it will run only when while loop run completely\")"
   ]
  },
  {
   "cell_type": "markdown",
   "id": "a45fb47f-2a19-4794-836f-5d1e70580b7a",
   "metadata": {},
   "source": [
    "<h3 style=\"color:red;font-family:'Lucida Console'\">Program -</h3>"
   ]
  },
  {
   "cell_type": "markdown",
   "id": "0a1d9296-d0ff-4c4a-9716-a96eca332d85",
   "metadata": {},
   "source": [
    "#### Guessing game"
   ]
  },
  {
   "cell_type": "code",
   "execution_count": 177,
   "id": "84463f86-a630-4441-aeb0-242d279aef50",
   "metadata": {
    "collapsed": true,
    "jupyter": {
     "outputs_hidden": true
    }
   },
   "outputs": [
    {
     "name": "stdin",
     "output_type": "stream",
     "text": [
      "guess a number 50\n"
     ]
    },
    {
     "name": "stdout",
     "output_type": "stream",
     "text": [
      "guess higher\n"
     ]
    },
    {
     "name": "stdin",
     "output_type": "stream",
     "text": [
      "guess a number 80\n"
     ]
    },
    {
     "name": "stdout",
     "output_type": "stream",
     "text": [
      "guess lower\n"
     ]
    },
    {
     "name": "stdin",
     "output_type": "stream",
     "text": [
      "guess a number 70\n"
     ]
    },
    {
     "name": "stdout",
     "output_type": "stream",
     "text": [
      "guess higher\n"
     ]
    },
    {
     "name": "stdin",
     "output_type": "stream",
     "text": [
      "guess a number 75\n"
     ]
    },
    {
     "name": "stdout",
     "output_type": "stream",
     "text": [
      "guess higher\n"
     ]
    },
    {
     "name": "stdin",
     "output_type": "stream",
     "text": [
      "guess a number 78\n"
     ]
    },
    {
     "name": "stdout",
     "output_type": "stream",
     "text": [
      "guess higher\n"
     ]
    },
    {
     "name": "stdin",
     "output_type": "stream",
     "text": [
      "guess a number 79\n"
     ]
    },
    {
     "name": "stdout",
     "output_type": "stream",
     "text": [
      "you guessed it in 6 times\n"
     ]
    }
   ],
   "source": [
    "import random\n",
    "jackpot_number=random.randint(1,100)\n",
    "guess=int(input(\"guess a number\"))\n",
    "counter=1\n",
    "while guess!=jackpot_number:\n",
    "    if guess<jackpot_number:\n",
    "        print(\"guess higher\")\n",
    "    else:\n",
    "        print(\"guess lower\")\n",
    "    guess=int(input(\"guess a number\"))\n",
    "    counter+=1\n",
    "else:\n",
    "    print(f\"you guessed it in {counter} times\")"
   ]
  },
  {
   "cell_type": "markdown",
   "id": "37f92514-8ca9-41aa-b377-a345eb338a97",
   "metadata": {},
   "source": [
    "<h3 style=\"color:#F5DD61;font-family:'Lucida Console'\">For Loop</h3>"
   ]
  },
  {
   "cell_type": "code",
   "execution_count": 185,
   "id": "3dff0a02-7bdb-4d71-90a9-9c5f56512883",
   "metadata": {},
   "outputs": [
    {
     "name": "stdout",
     "output_type": "stream",
     "text": [
      "1 2 3 4 5 6 "
     ]
    }
   ],
   "source": [
    "for i in [1,2,3,4,5,6]:\n",
    "    print(i,end=' ')"
   ]
  },
  {
   "cell_type": "markdown",
   "id": "525a5934-a0fb-45be-828a-ede009f5e72a",
   "metadata": {},
   "source": [
    "<h3 style=\"color:red;font-family:'Lucida Console'\">Program -</h3>"
   ]
  },
  {
   "cell_type": "markdown",
   "id": "aae0ee04-cee0-4067-8d8d-d408b2f8ddb4",
   "metadata": {},
   "source": [
    "#### The current population of a town is 10000. The population of the town is increasing at the rate of 10% per year. You have to write a program to find out the population at the end of each of the last 10 years."
   ]
  },
  {
   "cell_type": "code",
   "execution_count": 195,
   "id": "defa9014-fc95-4858-b248-00455e9e5f1d",
   "metadata": {},
   "outputs": [
    {
     "name": "stdout",
     "output_type": "stream",
     "text": [
      "Year : 10 , Population : 10000\n",
      "Year : 9 , Population : 9090.90909090909\n",
      "Year : 8 , Population : 8264.462809917353\n",
      "Year : 7 , Population : 7513.148009015775\n",
      "Year : 6 , Population : 6830.134553650703\n",
      "Year : 5 , Population : 6209.213230591548\n",
      "Year : 4 , Population : 5644.739300537771\n",
      "Year : 3 , Population : 5131.5811823070635\n",
      "Year : 2 , Population : 4665.07380209733\n",
      "Year : 1 , Population : 4240.976183724845\n"
     ]
    }
   ],
   "source": [
    "curr_pop=10000\n",
    "for i in range(10,0,-1):\n",
    "    print(f\"Year : {i} , Population : {curr_pop}\")\n",
    "    curr_pop/=1.1"
   ]
  },
  {
   "cell_type": "markdown",
   "id": "ae58f433-e03d-4520-81da-ad3792666534",
   "metadata": {},
   "source": [
    "<h3 style=\"color:red;font-family:'Lucida Console'\">Program -</h3>"
   ]
  },
  {
   "cell_type": "markdown",
   "id": "dbd61c22-e403-45ef-9048-1af92deaf14c",
   "metadata": {},
   "source": [
    "1/1! + 2/2! + 3/3! + ..."
   ]
  },
  {
   "cell_type": "code",
   "execution_count": 210,
   "id": "e814ce99-9af6-41eb-a767-00a4e2b89281",
   "metadata": {},
   "outputs": [
    {
     "name": "stdin",
     "output_type": "stream",
     "text": [
      "enter a number 2\n"
     ]
    },
    {
     "name": "stdout",
     "output_type": "stream",
     "text": [
      "2.0\n"
     ]
    }
   ],
   "source": [
    "n=int(input(\"enter a number\"))\n",
    "res=0\n",
    "fact=1\n",
    "for i in range(1,n+1):\n",
    "    fact*=i\n",
    "    res=res+(i/fact)\n",
    "print(res)"
   ]
  },
  {
   "cell_type": "markdown",
   "id": "9632fd1e-8d12-48cd-a2f1-d3754ffe5448",
   "metadata": {},
   "source": [
    "<h3 style=\"color:#F5DD61;font-family:'Lucida Console'\">Nested Loop</h3>"
   ]
  },
  {
   "cell_type": "code",
   "execution_count": 218,
   "id": "69563072-7f9f-4248-87bf-ea435d07d498",
   "metadata": {},
   "outputs": [
    {
     "name": "stdout",
     "output_type": "stream",
     "text": [
      "(1,1),(1,2),(1,3),(1,4),(1,5),(2,1),(2,2),(2,3),(2,4),(2,5),(3,1),(3,2),(3,3),(3,4),(3,5),(4,1),(4,2),(4,3),(4,4),(4,5),(5,1),(5,2),(5,3),(5,4),(5,5),"
     ]
    }
   ],
   "source": [
    "for i in range(1,6):\n",
    "    for j in range(1,6):\n",
    "        print(f\"({i},{j})\",end=\",\")"
   ]
  },
  {
   "cell_type": "markdown",
   "id": "fb928e9d-2a46-4652-abab-53e88b4c6746",
   "metadata": {},
   "source": [
    "<h3 style=\"color:red;font-family:'Lucida Console'\">Program -</h3>"
   ]
  },
  {
   "cell_type": "markdown",
   "id": "dfa08033-8696-4836-8d40-9887bed0dd38",
   "metadata": {},
   "source": [
    "#### Program 1\n",
    "*<br>\n",
    "** <br>\n",
    "***<br>\n"
   ]
  },
  {
   "cell_type": "code",
   "execution_count": 237,
   "id": "6b5e05c9-f587-49ab-adfa-fc119d23e0d6",
   "metadata": {},
   "outputs": [
    {
     "name": "stdin",
     "output_type": "stream",
     "text": [
      "enter number of rows 5\n"
     ]
    },
    {
     "name": "stdout",
     "output_type": "stream",
     "text": [
      "*\n",
      "**\n",
      "***\n",
      "****\n",
      "*****\n"
     ]
    }
   ],
   "source": [
    "n=int(input(\"enter number of rows\"))\n",
    "for i in range(1,n+1):\n",
    "    for j in range(1,i+1):\n",
    "        print('*',end=\"\")\n",
    "    print()"
   ]
  },
  {
   "cell_type": "markdown",
   "id": "9cf4bd9e-472b-4a3f-9999-1e28a14ac34b",
   "metadata": {},
   "source": [
    "#### Program 2\n",
    "\n"
   ]
  },
  {
   "cell_type": "markdown",
   "id": "3a009683-b71d-425a-90a0-a01da797d430",
   "metadata": {},
   "source": [
    "1<br>\n",
    "121 <br>\n",
    "12321<br>\n",
    "1234321<br>"
   ]
  },
  {
   "cell_type": "code",
   "execution_count": 247,
   "id": "925393ec-be95-429a-aff6-e94e2643c721",
   "metadata": {},
   "outputs": [
    {
     "name": "stdin",
     "output_type": "stream",
     "text": [
      "enter number of rows 5\n"
     ]
    },
    {
     "name": "stdout",
     "output_type": "stream",
     "text": [
      "1\n",
      "121\n",
      "12321\n",
      "1234321\n",
      "123454321\n"
     ]
    }
   ],
   "source": [
    "n=int(input(\"enter number of rows\"))\n",
    "for i in range(1,n+1):\n",
    "    for j in range(1,i+1):\n",
    "        print(j,end=\"\")\n",
    "    for j in range(i-1,0,-1):\n",
    "        print(j,end=\"\")\n",
    "    print()"
   ]
  },
  {
   "cell_type": "markdown",
   "id": "90c922a9-a2a1-4c6f-a606-9231e493ebd9",
   "metadata": {},
   "source": [
    "<h3 style=\"color:#F5DD61;font-family:'Lucida Console'\">Loop Control Statement</h3>"
   ]
  },
  {
   "cell_type": "markdown",
   "id": "c59b85b0-ca4e-4f2c-8583-19042281c113",
   "metadata": {},
   "source": [
    "- Break\n",
    "- Continue\n",
    "- Pass"
   ]
  },
  {
   "cell_type": "code",
   "execution_count": 254,
   "id": "944ebfd6-538e-4cd2-b117-5c8ec4e0f27b",
   "metadata": {},
   "outputs": [
    {
     "name": "stdout",
     "output_type": "stream",
     "text": [
      "1234"
     ]
    }
   ],
   "source": [
    "# Break\n",
    "for i in range(1,10):\n",
    "    if i==5:\n",
    "        break\n",
    "    print(i,end=\"\")"
   ]
  },
  {
   "cell_type": "code",
   "execution_count": 260,
   "id": "f4ae1176-6c01-4c8f-a31c-d5dafde7a829",
   "metadata": {},
   "outputs": [
    {
     "name": "stdout",
     "output_type": "stream",
     "text": [
      "12346789"
     ]
    }
   ],
   "source": [
    "# Continue\n",
    "for i in range(1,10):\n",
    "  if i == 5:\n",
    "    continue\n",
    "  print(i,end=\"\")"
   ]
  },
  {
   "cell_type": "code",
   "execution_count": 262,
   "id": "0e0cc28f-15f4-42b6-ba94-39eec7b0e4ac",
   "metadata": {},
   "outputs": [],
   "source": [
    "# pass\n",
    "for i in range(1,10):\n",
    "  pass"
   ]
  },
  {
   "cell_type": "markdown",
   "id": "db62a7ba-897d-44aa-ac9e-54415cb997a2",
   "metadata": {},
   "source": [
    "### END"
   ]
  }
 ],
 "metadata": {
  "kernelspec": {
   "display_name": "Python 3 (ipykernel)",
   "language": "python",
   "name": "python3"
  },
  "language_info": {
   "codemirror_mode": {
    "name": "ipython",
    "version": 3
   },
   "file_extension": ".py",
   "mimetype": "text/x-python",
   "name": "python",
   "nbconvert_exporter": "python",
   "pygments_lexer": "ipython3",
   "version": "3.12.4"
  }
 },
 "nbformat": 4,
 "nbformat_minor": 5
}
