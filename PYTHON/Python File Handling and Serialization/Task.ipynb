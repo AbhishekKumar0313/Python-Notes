{
 "cells": [
  {
   "cell_type": "markdown",
   "id": "5cc7b927-a771-4c9c-96df-28ca81ea9ce0",
   "metadata": {},
   "source": [
    "### Task"
   ]
  },
  {
   "cell_type": "markdown",
   "id": "398c5922-3375-4b78-bee7-a6c3fe756f4d",
   "metadata": {},
   "source": [
    "### `Q-1:` Write a function `get_final_line(filename)`, which takes filename as input and return final line of the file.\n",
    "\n",
    "Note: You can choose any file of your choice."
   ]
  },
  {
   "cell_type": "code",
   "execution_count": 11,
   "id": "3cd0cd11-3827-4a0c-9486-ef1c0851e2c7",
   "metadata": {},
   "outputs": [],
   "source": [
    "def get_final_line(file):\n",
    "    with open(file,'r') as f:\n",
    "        curr=f.readline()\n",
    "        while True:\n",
    "            temp=f.readline()\n",
    "            if temp==\"\":\n",
    "                return curr\n",
    "            curr=temp"
   ]
  },
  {
   "cell_type": "code",
   "execution_count": 13,
   "id": "d9b55f43-1c69-4259-bf1e-ea26d98b85bc",
   "metadata": {},
   "outputs": [
    {
     "data": {
      "text/plain": [
       "'this line going to be append in sample2.txt'"
      ]
     },
     "execution_count": 13,
     "metadata": {},
     "output_type": "execute_result"
    }
   ],
   "source": [
    "get_final_line('sample2.txt')"
   ]
  },
  {
   "cell_type": "code",
   "execution_count": 16,
   "id": "02e048eb-8bb6-455b-9689-4165d869ba55",
   "metadata": {},
   "outputs": [
    {
     "data": {
      "text/plain": [
       "'this line going to be append in sample2.txt'"
      ]
     },
     "execution_count": 16,
     "metadata": {},
     "output_type": "execute_result"
    }
   ],
   "source": [
    "def get_final_line(filename):\n",
    "   c=\"\"\n",
    "   for f in open(filename,'r'):\n",
    "      c=f\n",
    "   return c\n",
    "\n",
    "get_final_line('sample2.txt')"
   ]
  },
  {
   "cell_type": "markdown",
   "id": "97d1ae39-5969-40e8-a632-47e586f93785",
   "metadata": {},
   "source": [
    "### `Q-2:` Read through a text file, line by line. Use a dict to keep track of how many times each vowel (a, e, i, o, and u) appears in the file. Print the resulting tabulation -- dictionary."
   ]
  },
  {
   "cell_type": "code",
   "execution_count": 31,
   "id": "d48c2349-856f-49f1-b496-0a4d1f01bbbb",
   "metadata": {},
   "outputs": [],
   "source": [
    "def fn(file):\n",
    "    L=['a','e','i','o','u']\n",
    "    d={i:0 for i in L}\n",
    "    with open(file,'r') as f:\n",
    "        while True:\n",
    "            string=f.readline()\n",
    "            if string!=\"\":\n",
    "                for j in string:\n",
    "                    if j in L:\n",
    "                        d[j]+=1\n",
    "            else:\n",
    "                break\n",
    "    return d"
   ]
  },
  {
   "cell_type": "code",
   "execution_count": 33,
   "id": "9abf9f2e-b2c8-4706-83e8-f167a7e1a2b7",
   "metadata": {},
   "outputs": [
    {
     "data": {
      "text/plain": [
       "{'a': 5, 'e': 8, 'i': 6, 'o': 2, 'u': 0}"
      ]
     },
     "execution_count": 33,
     "metadata": {},
     "output_type": "execute_result"
    }
   ],
   "source": [
    "fn('sample2.txt')"
   ]
  },
  {
   "cell_type": "markdown",
   "id": "d862d45d-42e9-4cf4-8db0-a64fc483e318",
   "metadata": {},
   "source": [
    "### `Q-3:` Create a text file (using an editor, not necessarily Python) containing two tab separated columns, with each column containing a number. Then use Python to read through the file you’ve created. For each line, multiply each first number by the second and include it in the file in third column. In last add a line Total, by summing the value of third column\n",
    "\n"
   ]
  },
  {
   "cell_type": "code",
   "execution_count": 52,
   "id": "c4ca073b-ef9f-4dfa-8af1-f5ec7bbdff9a",
   "metadata": {},
   "outputs": [],
   "source": [
    "with open('test.txt','w') as f:\n",
    "    d=1\n",
    "    while d<10:\n",
    "        f.write(f\"{d}\\t{d+1}\\n\")\n",
    "        d+=2"
   ]
  },
  {
   "cell_type": "code",
   "execution_count": 90,
   "id": "dd8a1d0e-2148-4414-bc67-ddd16e8e6fec",
   "metadata": {},
   "outputs": [],
   "source": [
    "data=[]\n",
    "total=0\n",
    "with open('test.txt','r') as f:\n",
    "    while True:\n",
    "        curr=f.readline()\n",
    "        if curr!=\"\":\n",
    "            x,y=curr.split()\n",
    "            data.append([int(x),int(y),int(x)*int(y)])\n",
    "            total+=int(x)*int(y)\n",
    "        else:\n",
    "            break\n",
    "\n",
    "with open('test.txt','w') as f:\n",
    "    for i in data:\n",
    "        f.write(f\"{i[0]}\\t{i[1]}\\t{i[2]}\\n\")\n",
    "    f.write(f\"Total\\t{total}\")"
   ]
  },
  {
   "cell_type": "markdown",
   "id": "d5dbbcc0-9678-4267-a649-584ff3d79d65",
   "metadata": {},
   "source": [
    "### `Q-4:` Create line wise reverse of a file\n",
    "Write a function which takes two arguments: the names of the input file (to be read from) and the output file (which will be created)."
   ]
  },
  {
   "cell_type": "markdown",
   "id": "c9b93eae-b79c-4437-8fb2-aa984cfcf8dd",
   "metadata": {},
   "source": [
    "For example, if a file looks like\n",
    " ```\n",
    "abc def\n",
    "ghi jkl\n",
    "```\n",
    "then the output file will be\n",
    "```\n",
    "fed cba\n",
    "lkj ihg\n",
    "```\n",
    "**Notice**: The newline remains at the end of the string, while the rest of the characters are all reversed."
   ]
  },
  {
   "cell_type": "code",
   "execution_count": 115,
   "id": "05638e45-0ac8-4539-b6ec-f9edc96b4d11",
   "metadata": {},
   "outputs": [],
   "source": [
    "data=[]\n",
    "with open('reverse.txt','r') as f:\n",
    "    for i in f:\n",
    "        x,y=i.split()\n",
    "        data.append([y[::-1],x[::-1]])\n",
    "with open('reverse.txt','w') as f:\n",
    "    for i in data:\n",
    "        f.write(f\"{i[0]}\\t{i[1]}\\n\")"
   ]
  },
  {
   "cell_type": "markdown",
   "id": "9a7c1b3e-c766-472b-8f7c-8276586ae7e1",
   "metadata": {},
   "source": [
    "### `Q-5:` Create a Serialized dict of frequency of words in the file. And from given list of words, using serialized dict show word count.\n",
    "\n",
    "* List of word will be given\n",
    "\n"
   ]
  },
  {
   "cell_type": "code",
   "execution_count": 124,
   "id": "6f612aba-6cee-4f22-8a2d-23959f0c2df7",
   "metadata": {},
   "outputs": [],
   "source": [
    "\n",
    "strings = \"\"\"Alice was beginning to get very tired of sitting by her sister\n",
    "            on the bank, and of having nothing to do:  once or twice she had\n",
    "            peeped into the book her sister was reading, but it had no\n",
    "            pictures or conversations in it, `and what is the use of a book,'\n",
    "            thought Alice `without pictures or conversation?'\n",
    "\n",
    "            So she was considering in her own mind (as well as she could,\n",
    "            for the hot day made her feel very sleepy and stupid), whether\n",
    "            the pleasure of making a daisy-chain would be worth the trouble\n",
    "            of getting up and picking the daisies, when suddenly a White\n",
    "            Rabbit with pink eyes ran close by her.\n",
    "\n",
    "            There was nothing so VERY remarkable in that; nor did Alice\n",
    "            think it so VERY much out of the way to hear the Rabbit say to\n",
    "            itself, `Oh dear!  Oh dear!  I shall be late!'  (when she thought\n",
    "            it over afterwards, it occurred to her that she ought to have\n",
    "            wondered at this, but at the time it all seemed quite natural);\n",
    "            but when the Rabbit actually TOOK A WATCH OUT OF ITS WAISTCOAT-\n",
    "            POCKET, and looked at it, and then hurried on, Alice started to\n",
    "            her feet, for it flashed across her mind that she had never\n",
    "            before seen a rabbit with either a waistcoat-pocket, or a watch to\n",
    "            take out of it, and burning with curiosity, she ran across the\n",
    "            field after it, and fortunately was just in time to see it pop\n",
    "            down a large rabbit-hole under the hedge.\"\"\"\n",
    "word_list = ['alice', 'wonder', 'natural']"
   ]
  },
  {
   "cell_type": "code",
   "execution_count": 130,
   "id": "0bfd214e-759c-4e11-a0de-4f58e35dc81b",
   "metadata": {
    "scrolled": true
   },
   "outputs": [
    {
     "name": "stdout",
     "output_type": "stream",
     "text": [
      "alice : 4\n",
      "wonder : 0\n",
      "natural : 0\n"
     ]
    }
   ],
   "source": [
    "\n",
    "word_dict={}\n",
    "for i in strings.lower().split():\n",
    "    if i in word_dict:\n",
    "        word_dict[i]+=1\n",
    "    else:\n",
    "        word_dict[i]=1\n",
    "import json\n",
    "with open('word_count.json','w') as f:\n",
    "    json.dump(word_dict,f,indent=4)\n",
    "\n",
    "with open('word_count.json','r') as f:\n",
    "    data=json.load(f)\n",
    "    for i in word_list:\n",
    "        if i in data:\n",
    "            print(f\"{i} : {data[i]}\")\n",
    "        else:\n",
    "            print(f\"{i} : 0\")\n"
   ]
  },
  {
   "cell_type": "markdown",
   "id": "758a0c46-c99e-472b-9ee9-f155ad474f54",
   "metadata": {},
   "source": [
    "### **`Q-6:`** Given a string calculate length of the string using recursion.\n",
    "\n",
    "**Example 1:**\n",
    "\n",
    "Input:\n",
    "```bash\n",
    "\"abcd\"\n",
    "```\n",
    "\n",
    "Output:\n",
    "\n",
    "```bash\n",
    "4\n",
    "```\n",
    "\n",
    "**Example 2:**\n",
    "\n",
    "Input:\n",
    "```bash\n",
    "DataScience\n",
    "```\n",
    "\n",
    "Output:\n",
    "\n",
    "```bash\n",
    "11\n",
    "```\n"
   ]
  },
  {
   "cell_type": "code",
   "execution_count": 134,
   "id": "f5c27f19-a2ae-4b47-a3e5-73968f8bd648",
   "metadata": {},
   "outputs": [],
   "source": [
    "def fn(string):\n",
    "    if string==\"\":\n",
    "        return 0\n",
    "    return 1+fn(string[1:])"
   ]
  },
  {
   "cell_type": "code",
   "execution_count": 136,
   "id": "ef4c1edf-d34e-4773-bdd2-47861403b94b",
   "metadata": {},
   "outputs": [
    {
     "data": {
      "text/plain": [
       "3"
      ]
     },
     "execution_count": 136,
     "metadata": {},
     "output_type": "execute_result"
    }
   ],
   "source": [
    "fn(\"hii\")"
   ]
  },
  {
   "cell_type": "markdown",
   "id": "84e86a66-bf3f-4119-8192-a269161c1284",
   "metadata": {},
   "source": [
    "### **`Q-7:`** Write a function that accepts two numbers and returns their greatest common divisior. Without using any loop\n",
    "\n",
    "def gcd(int, int) => int\n",
    "\n",
    "```\n",
    "gcd(16,24) will give 8\n",
    "```"
   ]
  },
  {
   "cell_type": "code",
   "execution_count": null,
   "id": "cc93af30-4cf8-4dda-940c-d992646db4af",
   "metadata": {},
   "outputs": [],
   "source": [
    "def gcd(a,b):\n",
    "    if b==0:\n",
    "        return a\n",
    "    gcd(b,a%b)"
   ]
  }
 ],
 "metadata": {
  "kernelspec": {
   "display_name": "Python 3 (ipykernel)",
   "language": "python",
   "name": "python3"
  },
  "language_info": {
   "codemirror_mode": {
    "name": "ipython",
    "version": 3
   },
   "file_extension": ".py",
   "mimetype": "text/x-python",
   "name": "python",
   "nbconvert_exporter": "python",
   "pygments_lexer": "ipython3",
   "version": "3.12.4"
  }
 },
 "nbformat": 4,
 "nbformat_minor": 5
}
