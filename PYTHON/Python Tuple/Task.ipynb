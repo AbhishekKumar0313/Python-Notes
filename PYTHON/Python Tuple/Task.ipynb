{
 "cells": [
  {
   "cell_type": "markdown",
   "id": "2490647f-cbdc-4d5c-9b73-2ec836164b88",
   "metadata": {},
   "source": [
    "## Task - Python tuple"
   ]
  },
  {
   "cell_type": "markdown",
   "id": "7ae7a1ee-48d0-433e-961c-67576ccfa356",
   "metadata": {},
   "source": [
    "### `Q1:` Join Tuples if similar initial element\n",
    "While working with Python tuples, we can have a problem in which we need to perform concatenation of records from the similarity of initial element. This problem can have applications in data domains such as Data Science.\n",
    "\n",
    "For eg.\n",
    "```\n",
    "Input  : test_list = [(5, 6), (5, 7), (5, 8), (6, 10), (7, 13)]\n",
    "Output : [(5, 6, 7, 8), (6, 10), (7, 13)]\n",
    "```"
   ]
  },
  {
   "cell_type": "code",
   "execution_count": 29,
   "id": "094c4502-6151-48ff-834b-9cbca3cd5aed",
   "metadata": {},
   "outputs": [
    {
     "name": "stdout",
     "output_type": "stream",
     "text": [
      "[(5, 8, 6, 7), (6, 10), (7, 13)]\n"
     ]
    }
   ],
   "source": [
    "test_list = [(5, 8), (5, 6), (5, 7), (6, 10), (7, 13)]\n",
    "unique_values=[]\n",
    "for i in test_list:\n",
    "    if i[0] not in unique_values:\n",
    "        unique_values.append(i[0])\n",
    "result=[]\n",
    "for i in unique_values:\n",
    "    t=(i,)\n",
    "    for j in test_list:\n",
    "        if j[0]==i:\n",
    "            t=t+(j[1],)\n",
    "    result.append(t)\n",
    "print(result)\n",
    "    \n",
    "            "
   ]
  },
  {
   "cell_type": "markdown",
   "id": "0cdf7c52-c4d2-4758-8109-c75609624075",
   "metadata": {},
   "source": [
    "### `Q2:` Multiply Adjacent elements (both side) and take sum of right and lest side multiplication result.\n",
    "\n",
    "\n",
    "For eg.\n",
    "```\n",
    "The original tuple : (1, 5, 7, 8, 10)\n",
    "Resultant tuple after multiplication :\n",
    "\n",
    "(1*5, 1*5+5*7, 7*5 + 7*8, 8*7 + 8*10, 10*8) -> (5, 40, 91, 136, 80)\n",
    "\n",
    "output-(5, 40, 91, 136, 80)\n",
    "```"
   ]
  },
  {
   "cell_type": "code",
   "execution_count": 36,
   "id": "e8d45b30-233b-4658-8503-1130c4bc493a",
   "metadata": {},
   "outputs": [
    {
     "name": "stdout",
     "output_type": "stream",
     "text": [
      "(5, 40, 91, 136, 80)\n"
     ]
    }
   ],
   "source": [
    "t=(1,5,7,8,10)\n",
    "res=()\n",
    "for i in range(len(t)):\n",
    "    if i==0:\n",
    "        res+=(t[0]*t[1],)\n",
    "    elif i==len(t)-1:\n",
    "        res+=(t[i]*t[i-1],)\n",
    "    else:\n",
    "        res+=(t[i-1]*t[i]+t[i]*t[i+1],)\n",
    "print(res)\n",
    "        "
   ]
  },
  {
   "cell_type": "markdown",
   "id": "61f9f8cf-a5a1-44e0-8432-ba49a05d8bc8",
   "metadata": {},
   "source": [
    "### `Q3`: Check is tuples are same or not?\n",
    "Two tuples would be same if both tuples have same element at same index\n",
    "```\n",
    "t1 = (1,2,3,0)\n",
    "t2 = (0,1,2,3)\n",
    "\n",
    "t1 and t2 are not same\n",
    "```"
   ]
  },
  {
   "cell_type": "code",
   "execution_count": 45,
   "id": "6fc17e0c-75e8-4ed7-a61b-ba66fbcfad7a",
   "metadata": {},
   "outputs": [
    {
     "name": "stdout",
     "output_type": "stream",
     "text": [
      "False\n"
     ]
    }
   ],
   "source": [
    "t1 = (1,2,3,1)\n",
    "t2 = (1,2,3,0)\n",
    "flag=True\n",
    "for i in range(len(t1)):\n",
    "    if t1[i]!=t2[i]:\n",
    "        print( False)\n",
    "        flag=False\n",
    "if flag:\n",
    "    print(True)"
   ]
  },
  {
   "cell_type": "markdown",
   "id": "ce10d0d5-f9eb-4032-9a5d-109427eef7cf",
   "metadata": {},
   "source": [
    "### `Q4`: Count no of tuples, list and set from a list\n",
    "```\n",
    "list1 = [{'hi', 'bye'},{'Geeks', 'forGeeks'},('a', 'b'),['hi', 'bye'],['a', 'b']]\n",
    "\n",
    "```\n",
    "`Output:`\n",
    "\n",
    "```\n",
    "List-2\n",
    "Set-2\n",
    "Tuples-1\n",
    "```"
   ]
  },
  {
   "cell_type": "code",
   "execution_count": 52,
   "id": "4f9a87d0-f9b3-4400-a1d7-3556c10856d5",
   "metadata": {},
   "outputs": [
    {
     "name": "stdout",
     "output_type": "stream",
     "text": [
      "2 2 1\n"
     ]
    }
   ],
   "source": [
    "list1 = [{'hi', 'bye'},{'Geeks', 'forGeeks'},('a', 'b'),['hi', 'bye'],['a', 'b']]\n",
    "l=0\n",
    "t=0\n",
    "s=0\n",
    "for i in list1:\n",
    "    if type(i)==list:\n",
    "        l+=1\n",
    "    elif type(i)==set:\n",
    "        s+=1\n",
    "    else:\n",
    "        t+=1\n",
    "\n",
    "print(l,s,t)"
   ]
  },
  {
   "cell_type": "markdown",
   "id": "99d63b70-03ae-471f-9147-d7020795fdb0",
   "metadata": {},
   "source": [
    "### `Q5`: Shortlist Students for a Job role\n",
    "Ask user to input students record and store in tuples for each record. Then Ask user to input three things he wants in the candidate- Primary Skill, Higher Education, Year of Graduation.\n",
    "\n",
    "Show every students record in form of tuples if matches all required criteria.\n",
    "\n",
    "It is assumed that there will be only one primry skill.\n",
    "\n",
    "If no such candidate found, print `No such candidate`\n",
    "\n",
    "`Input:`\n",
    "```\n",
    "Enter No of records- 2\n",
    "Enter Details of student-1\n",
    "Enter Student name- Manohar\n",
    "Enter Higher Education- B.Tech\n",
    "Enter Primary Skill- Python\n",
    "Enter Year of Graduation- 2022\n",
    "Enter Details of student-2\n",
    "Enter Student name- Ponian\n",
    "Enter Higher Education- B.Sc.\n",
    "Enter Primary Skill- C++\n",
    "Enter Year of Graduation- 2020\n",
    "\n",
    "Enter Job Role Requirement\n",
    "Enter Skill- Python\n",
    "Enter Higher Education- B.Tech\n",
    "Enter Year of Graduation- 2022\n",
    "```\n",
    "\n",
    "`Output`\n",
    "```\n",
    "('Manohar', 'B.tech', 'Python', '2022')\n",
    "```\n",
    "\n"
   ]
  },
  {
   "cell_type": "code",
   "execution_count": 62,
   "id": "53c712c4-961b-40f7-ae26-ab549688432b",
   "metadata": {},
   "outputs": [
    {
     "name": "stdin",
     "output_type": "stream",
     "text": [
      "enter number of record 2\n"
     ]
    },
    {
     "name": "stdout",
     "output_type": "stream",
     "text": [
      "enter details of student 1\n"
     ]
    },
    {
     "name": "stdin",
     "output_type": "stream",
     "text": [
      "enter student name Abhishek\n",
      "enter higher education MCA\n",
      "enter skill python\n",
      "enter year of graduation 2024\n"
     ]
    },
    {
     "name": "stdout",
     "output_type": "stream",
     "text": [
      "enter details of student 2\n"
     ]
    },
    {
     "name": "stdin",
     "output_type": "stream",
     "text": [
      "enter student name Amit\n",
      "enter higher education MBA\n",
      "enter skill marketing\n",
      "enter year of graduation 2023\n",
      "enter primary skill,higher education and year passout python,MCA,2024\n"
     ]
    },
    {
     "name": "stdout",
     "output_type": "stream",
     "text": [
      "('Abhishek', 'mca', 'python', '2024')\n"
     ]
    }
   ],
   "source": [
    "# write your code here\n",
    "record=int(input(\"enter number of record\"))\n",
    "details=[]\n",
    "for i in range(1,record+1):\n",
    "    print(f\"enter details of student {i}\")\n",
    "    name=input(\"enter student name\")\n",
    "    education=input(\"enter higher education\").lower()\n",
    "    skill=input(\"enter skill\").lower()\n",
    "    year=input(\"enter year of graduation\")\n",
    "    t=(name,education,skill,year)\n",
    "    details.append(t)\n",
    "\n",
    "ps,he,yg=input(\"enter primary skill,higher education and year passout\").split(',')\n",
    "flag=True\n",
    "for i in details:\n",
    "    if i[1]==he.lower() and i[2]==ps.lower() and i[3]==yg:\n",
    "        flag=False\n",
    "        print(i)\n",
    "\n",
    "if flag:\n",
    "    print(\"no such candidate\")\n",
    "\n"
   ]
  }
 ],
 "metadata": {
  "kernelspec": {
   "display_name": "Python 3 (ipykernel)",
   "language": "python",
   "name": "python3"
  },
  "language_info": {
   "codemirror_mode": {
    "name": "ipython",
    "version": 3
   },
   "file_extension": ".py",
   "mimetype": "text/x-python",
   "name": "python",
   "nbconvert_exporter": "python",
   "pygments_lexer": "ipython3",
   "version": "3.12.4"
  }
 },
 "nbformat": 4,
 "nbformat_minor": 5
}
