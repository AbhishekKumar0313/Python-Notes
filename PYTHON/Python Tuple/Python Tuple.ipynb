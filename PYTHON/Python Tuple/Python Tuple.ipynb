{
 "cells": [
  {
   "cell_type": "markdown",
   "id": "a60b8161-9575-4d54-9209-a3049d9154dd",
   "metadata": {},
   "source": [
    "<h1 style='color:#3FA2F6'>Python <span style=\" color:yellow\">Tuples</span></h1>"
   ]
  },
  {
   "cell_type": "markdown",
   "id": "0536b83d-da34-40c4-be62-1cf7fbf7a3bb",
   "metadata": {},
   "source": [
    "A tuple in Python is similar to a list. The difference between the two is that we cannot change the elements of a tuple once it is assigned whereas we can change the elements of a list.\n",
    "\n",
    "In short, a tuple is an immutable list. A tuple can not be changed in any way once it is created.\n",
    "\n",
    "Characterstics\n",
    "\n",
    "- Ordered\n",
    "- Unchangeble\n",
    "- Allows duplicate"
   ]
  },
  {
   "cell_type": "markdown",
   "id": "1e87ccbb-4254-4154-befb-f1eb2b912566",
   "metadata": {},
   "source": [
    "<h3 style=\"color:#F5DD61;font-family:'Lucida Console'\">Creating tuple</h3>"
   ]
  },
  {
   "cell_type": "code",
   "execution_count": 16,
   "id": "edce5bb2-46d2-4249-9794-909aca038932",
   "metadata": {},
   "outputs": [
    {
     "name": "stdout",
     "output_type": "stream",
     "text": [
      "()\n",
      "('hello',)\n",
      "<class 'tuple'>\n",
      "(1, 2, 3, 4)\n",
      "(1, 2.5, True, [1, 2, 3])\n",
      "(1, 2, 3, (4, 5))\n",
      "('h', 'e', 'l', 'l', 'o')\n"
     ]
    }
   ],
   "source": [
    "# empty\n",
    "t1 = ()\n",
    "print(t1)\n",
    "# create a tuple with a single item\n",
    "t2 = ('hello',)\n",
    "print(t2)\n",
    "print(type(t2))\n",
    "# homo\n",
    "t3 = (1,2,3,4)\n",
    "print(t3)\n",
    "# hetro\n",
    "t4 = (1,2.5,True,[1,2,3])\n",
    "print(t4)\n",
    "# tuple\n",
    "t5 = (1,2,3,(4,5))\n",
    "print(t5)\n",
    "# using type conversion\n",
    "t6 = tuple('hello')\n",
    "print(t6)"
   ]
  },
  {
   "cell_type": "markdown",
   "id": "7dcf7148-b5fc-46a9-bc41-cb9336068b99",
   "metadata": {},
   "source": [
    "<h3 style=\"color:#F5DD61;font-family:'Lucida Console'\">Accessing items</h3>"
   ]
  },
  {
   "cell_type": "markdown",
   "id": "61379175-62a3-48ce-ad91-37683cf7dbc7",
   "metadata": {},
   "source": [
    "\n",
    "- Indexing\n",
    "- Slicing"
   ]
  },
  {
   "cell_type": "code",
   "execution_count": 39,
   "id": "3c597812-acf3-4a5b-868c-b7d861ee50bd",
   "metadata": {},
   "outputs": [
    {
     "name": "stdout",
     "output_type": "stream",
     "text": [
      "1 [1, 3, 4, 5]\n",
      "[1, 3, 4, 5] e\n"
     ]
    }
   ],
   "source": [
    "# indexing\n",
    "t=(1,2.34,'hello',[1,3,4,5])\n",
    "print(t[0],t[3])\n",
    "print(t[-1],t[2][1])"
   ]
  },
  {
   "cell_type": "code",
   "execution_count": 54,
   "id": "67ed1593-7dee-46a5-9487-70783b0db477",
   "metadata": {},
   "outputs": [
    {
     "name": "stdout",
     "output_type": "stream",
     "text": [
      "([1, 3, 4, 5], 'hello', 2.34, 1)\n",
      "([1, 3, 4, 5], 'hello', 2.34)\n"
     ]
    }
   ],
   "source": [
    "# slicing\n",
    "t=(1,2.34,'hello',[1,3,4,5])\n",
    "print(t[::-1])\n",
    "print(t[-1:-4:-1])"
   ]
  },
  {
   "cell_type": "markdown",
   "id": "38cbdd26-8ea2-4f2b-a217-ceb5992eaf29",
   "metadata": {},
   "source": [
    "\n",
    "<h3 style=\"color:#F5DD61;font-family:'Lucida Console'\">Editing items</h3>"
   ]
  },
  {
   "cell_type": "markdown",
   "id": "cb36f204-3bf9-4dec-84cb-59d522f09035",
   "metadata": {},
   "source": [
    "Since tuple is immutable so we cannot do any type of editing "
   ]
  },
  {
   "cell_type": "markdown",
   "id": "e05dbaf3-1351-4496-a29c-d5426393e810",
   "metadata": {},
   "source": [
    "<h3 style=\"color:#F5DD61;font-family:'Lucida Console'\">Adding items</h3>"
   ]
  },
  {
   "cell_type": "markdown",
   "id": "1a234040-002e-4c15-9c08-6ccf06761383",
   "metadata": {},
   "source": [
    "Immutability not allow to adding any item in a tuple"
   ]
  },
  {
   "cell_type": "markdown",
   "id": "986df09d-7f47-4523-9819-f7082197c5b7",
   "metadata": {},
   "source": [
    "\n",
    "<h3 style=\"color:#F5DD61;font-family:'Lucida Console'\">Deleting items</h3>"
   ]
  },
  {
   "cell_type": "markdown",
   "id": "3b6ec4be-f07a-4f2b-a91e-32a9c359b5c5",
   "metadata": {},
   "source": [
    "We can only delete whole tuple using del keyword like strings"
   ]
  },
  {
   "cell_type": "code",
   "execution_count": 37,
   "id": "67c846f1-bb0b-4d48-bed4-b6d19b4aca28",
   "metadata": {},
   "outputs": [],
   "source": [
    "t=(3,4,5)\n",
    "del t"
   ]
  },
  {
   "cell_type": "markdown",
   "id": "fcd262fe-f869-4a65-96c3-d8f4dda68008",
   "metadata": {},
   "source": [
    "<h3 style=\"color:#F5DD61;font-family:'Lucida Console'\">Operations on tuples</h3>"
   ]
  },
  {
   "cell_type": "code",
   "execution_count": 61,
   "id": "9835d693-9e2e-4a03-beee-c8d873ea4737",
   "metadata": {},
   "outputs": [
    {
     "name": "stdout",
     "output_type": "stream",
     "text": [
      "(1, 2, 3, 4, 5, 6, 7, 8)\n",
      "(1, 2, 3, 4, 1, 2, 3, 4, 1, 2, 3, 4)\n",
      "True\n",
      "1\n",
      "2\n",
      "3\n",
      "4\n"
     ]
    }
   ],
   "source": [
    "# can apply only * and + opertation on tuple\n",
    "t1 = (1,2,3,4)\n",
    "t2 = (5,6,7,8)\n",
    "\n",
    "print(t1 + t2)\n",
    "\n",
    "print(t1*3)\n",
    "# membership\n",
    "print(1 in t1)\n",
    "# iteration\n",
    "for i in t1:\n",
    "  print(i)"
   ]
  },
  {
   "cell_type": "markdown",
   "id": "1d011544-a0ca-496a-a5d0-35a5c2eb1115",
   "metadata": {},
   "source": [
    "<h3 style=\"color:#F5DD61;font-family:'Lucida Console'\">Tuples Functions</h3>"
   ]
  },
  {
   "cell_type": "code",
   "execution_count": 65,
   "id": "40928e50-abfd-445a-92e5-1f4381c8cfd9",
   "metadata": {},
   "outputs": [
    {
     "name": "stdout",
     "output_type": "stream",
     "text": [
      "4 10 1 4 [4, 3, 2, 1]\n"
     ]
    }
   ],
   "source": [
    "# len/sum/min/max/sorted\n",
    "t = (1,2,3,4)\n",
    "print(len(t),sum(t),min(t),max(t),sorted(t,reverse=True))"
   ]
  },
  {
   "cell_type": "code",
   "execution_count": 73,
   "id": "ade087d7-a200-43e1-a412-ad7fb75f8f14",
   "metadata": {},
   "outputs": [
    {
     "name": "stdout",
     "output_type": "stream",
     "text": [
      "0\n",
      "4\n"
     ]
    }
   ],
   "source": [
    "# count\n",
    "t = (1,2,3,4,5)\n",
    "print(t.count(50))\n",
    "# index\n",
    "print(t.index(5))"
   ]
  },
  {
   "cell_type": "markdown",
   "id": "1552b322-35af-4d77-84fd-8a794062f6c7",
   "metadata": {},
   "source": [
    "<h3 style=\"color:#F5DD61;font-family:'Lucida Console'\">Difference between lists and tuples</h3>"
   ]
  },
  {
   "cell_type": "markdown",
   "id": "0cf345a9-4cfe-4894-8261-ede522dd7e25",
   "metadata": {},
   "source": [
    "- Syntax\n",
    "- Mutability\n",
    "- Speed\n",
    "- Memory\n",
    "- Built in functionality - more in list\n",
    "- Error prone - list is more error prone\n",
    "- Usability"
   ]
  },
  {
   "cell_type": "code",
   "execution_count": 81,
   "id": "eaf546b5-3fc7-41f8-927a-1011d89c8336",
   "metadata": {},
   "outputs": [
    {
     "name": "stdout",
     "output_type": "stream",
     "text": [
      "List time 6.208082914352417\n",
      "Tuple time 5.773765802383423\n"
     ]
    }
   ],
   "source": [
    "# tuple is fast than list\n",
    "import time\n",
    "\n",
    "L = list(range(100000000))\n",
    "T = tuple(range(100000000))\n",
    "\n",
    "start = time.time()\n",
    "for i in L:\n",
    "  i*5\n",
    "print('List time',time.time()-start)\n",
    "\n",
    "start = time.time()\n",
    "for i in T:\n",
    "  i*5\n",
    "print('Tuple time',time.time()-start)"
   ]
  },
  {
   "cell_type": "code",
   "execution_count": 84,
   "id": "1cdf0dee-4a8b-49ff-a3aa-de1ee6ac9768",
   "metadata": {},
   "outputs": [
    {
     "name": "stdout",
     "output_type": "stream",
     "text": [
      "List size 8056\n",
      "Tuple size 8040\n"
     ]
    }
   ],
   "source": [
    "# tuple takes less space than list\n",
    "import sys\n",
    "\n",
    "L = list(range(1000))\n",
    "T = tuple(range(1000))\n",
    "\n",
    "print('List size',sys.getsizeof(L))\n",
    "print('Tuple size',sys.getsizeof(T))\n"
   ]
  },
  {
   "cell_type": "code",
   "execution_count": 89,
   "id": "a43ec429-7462-432a-84bc-04443e3a6f18",
   "metadata": {},
   "outputs": [
    {
     "name": "stdout",
     "output_type": "stream",
     "text": [
      "[1, 2, 3, 4]\n",
      "[1, 2, 3, 4]\n"
     ]
    }
   ],
   "source": [
    "a = [1,2,3]\n",
    "b = a\n",
    "\n",
    "a.append(4)\n",
    "print(a)\n",
    "print(b)"
   ]
  },
  {
   "cell_type": "code",
   "execution_count": 87,
   "id": "aa68c1ee-f021-47c5-8fa6-8cdcde297a4f",
   "metadata": {},
   "outputs": [
    {
     "name": "stdout",
     "output_type": "stream",
     "text": [
      "(1, 2, 3, 4)\n",
      "(1, 2, 3)\n"
     ]
    }
   ],
   "source": [
    "a = (1,2,3)\n",
    "b = a\n",
    "\n",
    "a = a + (4,)\n",
    "print(a)\n",
    "print(b)"
   ]
  },
  {
   "cell_type": "markdown",
   "id": "04d931d6-3bdd-47c0-9ccd-157c3e516391",
   "metadata": {},
   "source": [
    "<h3 style=\"color:#F5DD61;font-family:'Lucida Console'\">Special Syntax</h3>"
   ]
  },
  {
   "cell_type": "code",
   "execution_count": 93,
   "id": "92463eb5-1fb1-40f8-8df3-a976d2996aad",
   "metadata": {},
   "outputs": [
    {
     "name": "stdout",
     "output_type": "stream",
     "text": [
      "1 2 3\n"
     ]
    }
   ],
   "source": [
    "# tuple unpacking\n",
    "a,b,c = (1,2,3)\n",
    "print(a,b,c)"
   ]
  },
  {
   "cell_type": "code",
   "execution_count": 95,
   "id": "e07ec1bc-254f-43f0-9fc5-8b201211e4c5",
   "metadata": {},
   "outputs": [
    {
     "name": "stdout",
     "output_type": "stream",
     "text": [
      "2 1\n"
     ]
    }
   ],
   "source": [
    "a = 1\n",
    "b = 2\n",
    "a,b = b,a\n",
    "\n",
    "print(a,b)"
   ]
  },
  {
   "cell_type": "code",
   "execution_count": 98,
   "id": "fdd5b9d2-25d6-431e-930b-2282be7950c1",
   "metadata": {},
   "outputs": [
    {
     "name": "stdout",
     "output_type": "stream",
     "text": [
      "1 2\n",
      "[3, 4]\n"
     ]
    }
   ],
   "source": [
    "a,b,*others = (1,2,3,4)\n",
    "print(a,b)\n",
    "print(others)"
   ]
  },
  {
   "cell_type": "markdown",
   "id": "73056196-e7f1-4b5a-a98b-b265ee34bcc4",
   "metadata": {},
   "source": [
    "<h3 style=\"color:#F5DD61;font-family:'Lucida Console'\">Zipping in tuple</h3>"
   ]
  },
  {
   "cell_type": "code",
   "execution_count": 102,
   "id": "678f108f-d833-47ea-b6d6-d0e7d4ebefb1",
   "metadata": {},
   "outputs": [
    {
     "data": {
      "text/plain": [
       "((1, 5), (2, 6), (3, 7), (4, 8))"
      ]
     },
     "execution_count": 102,
     "metadata": {},
     "output_type": "execute_result"
    }
   ],
   "source": [
    "# zipping tuples\n",
    "a = (1,2,3,4)\n",
    "b = (5,6,7,8)\n",
    "\n",
    "tuple(zip(a,b))"
   ]
  },
  {
   "cell_type": "markdown",
   "id": "ae244a53-9087-4e22-93c7-3639e004d213",
   "metadata": {},
   "source": [
    "### END"
   ]
  }
 ],
 "metadata": {
  "kernelspec": {
   "display_name": "Python 3 (ipykernel)",
   "language": "python",
   "name": "python3"
  },
  "language_info": {
   "codemirror_mode": {
    "name": "ipython",
    "version": 3
   },
   "file_extension": ".py",
   "mimetype": "text/x-python",
   "name": "python",
   "nbconvert_exporter": "python",
   "pygments_lexer": "ipython3",
   "version": "3.12.4"
  }
 },
 "nbformat": 4,
 "nbformat_minor": 5
}
