{
 "cells": [
  {
   "cell_type": "markdown",
   "id": "2e381a18-9765-4f2a-90ba-a7a3185dd51c",
   "metadata": {},
   "source": [
    "<h1 style='color:#3FA2F6'>Python <span style=\" color:yellow\">Exception Handling</span></h1>"
   ]
  },
  {
   "cell_type": "markdown",
   "id": "9d87c919-e5c9-4f88-b531-f49dc18e66fa",
   "metadata": {},
   "source": [
    "<h3 style=\"color:#F5DD61;font-family:'Lucida Console'\">Two stages of error</h3>"
   ]
  },
  {
   "cell_type": "markdown",
   "id": "ce35b3d5-e429-415e-8949-ab1fbcdb7276",
   "metadata": {},
   "source": [
    "\n",
    "- During compilation -> Syntax Error\n",
    "- During execution -> Exceptions"
   ]
  },
  {
   "cell_type": "markdown",
   "id": "e29e690b-6741-4264-a3dd-02f5b0f977eb",
   "metadata": {},
   "source": [
    "<h3 style=\"color:#F5DD61;font-family:'Lucida Console'\">Syntax error</h3>"
   ]
  },
  {
   "cell_type": "markdown",
   "id": "44fe0bb4-06f1-4f07-89b2-c2b21b1724e9",
   "metadata": {},
   "source": [
    "- Something in the program is not written according to the program grammar.\n",
    "- Error is raised by the interpreter/compiler\n",
    "- You can solve it by rectifying the program\n",
    "##### Examples of syntax error\n",
    "\n",
    "- Leaving symbols like colon,brackets\n",
    "- Misspelling a keyword\n",
    "- Incorrect indentation\n",
    "- empty if/else/loops/class/functions"
   ]
  },
  {
   "cell_type": "code",
   "execution_count": null,
   "id": "5bb190d3-d767-4dcd-ad1e-747e4f0dd881",
   "metadata": {},
   "outputs": [],
   "source": [
    "print \"hello world\"\n",
    "# it will give error since there is no bracket "
   ]
  },
  {
   "cell_type": "code",
   "execution_count": null,
   "id": "783562b4-835b-441f-9d05-2db5d1e8186e",
   "metadata": {},
   "outputs": [],
   "source": [
    "a=5\n",
    "if a==3\n",
    "    print(\"hii\")\n",
    "# it will give error since there is no colon after if"
   ]
  },
  {
   "cell_type": "markdown",
   "id": "a3fc292b-83b1-461f-a0ce-80b898ca459d",
   "metadata": {},
   "source": [
    "<h3 style=\"color:#F5DD61;font-family:'Lucida Console'\">Types of Syntax error</h3>"
   ]
  },
  {
   "cell_type": "markdown",
   "id": "bf4a3416-d9d9-44b9-9b97-dfb608b1d593",
   "metadata": {},
   "source": [
    "#### Index Error \n",
    "- when we try to access a item from index which does not exist"
   ]
  },
  {
   "cell_type": "code",
   "execution_count": 27,
   "id": "437b46a2-8f09-442d-b7b2-44e236286383",
   "metadata": {},
   "outputs": [
    {
     "ename": "IndexError",
     "evalue": "list index out of range",
     "output_type": "error",
     "traceback": [
      "\u001b[1;31m---------------------------------------------------------------------------\u001b[0m",
      "\u001b[1;31mIndexError\u001b[0m                                Traceback (most recent call last)",
      "Cell \u001b[1;32mIn[27], line 2\u001b[0m\n\u001b[0;32m      1\u001b[0m L\u001b[38;5;241m=\u001b[39m[\u001b[38;5;241m1\u001b[39m,\u001b[38;5;241m2\u001b[39m,\u001b[38;5;241m3\u001b[39m]\n\u001b[1;32m----> 2\u001b[0m \u001b[43mL\u001b[49m\u001b[43m[\u001b[49m\u001b[38;5;241;43m100\u001b[39;49m\u001b[43m]\u001b[49m\n",
      "\u001b[1;31mIndexError\u001b[0m: list index out of range"
     ]
    }
   ],
   "source": [
    "L=[1,2,3]\n",
    "L[100]"
   ]
  },
  {
   "cell_type": "markdown",
   "id": "e930d1dc-3e2f-465b-8f9e-ea05bd1d3437",
   "metadata": {},
   "source": [
    "#### ModuleNotFoundError\n",
    "- When we import a module which does not exist"
   ]
  },
  {
   "cell_type": "code",
   "execution_count": 37,
   "id": "f0f0284c-afae-42d0-b79d-4e479402ee3f",
   "metadata": {},
   "outputs": [
    {
     "ename": "ModuleNotFoundError",
     "evalue": "No module named 'mathi'",
     "output_type": "error",
     "traceback": [
      "\u001b[1;31m---------------------------------------------------------------------------\u001b[0m",
      "\u001b[1;31mModuleNotFoundError\u001b[0m                       Traceback (most recent call last)",
      "Cell \u001b[1;32mIn[37], line 1\u001b[0m\n\u001b[1;32m----> 1\u001b[0m \u001b[38;5;28;01mimport\u001b[39;00m \u001b[38;5;21;01mmathi\u001b[39;00m\n\u001b[0;32m      2\u001b[0m \u001b[38;5;28mprint\u001b[39m(math\u001b[38;5;241m.\u001b[39msqrt(\u001b[38;5;241m5\u001b[39m))\n",
      "\u001b[1;31mModuleNotFoundError\u001b[0m: No module named 'mathi'"
     ]
    }
   ],
   "source": [
    "import mathi\n",
    "print(math.sqrt(5))"
   ]
  },
  {
   "cell_type": "markdown",
   "id": "3c01e637-27be-438c-bc1e-2add23e0dd9f",
   "metadata": {},
   "source": [
    "#### KeyError\n",
    "- When a key is not found in dictionary"
   ]
  },
  {
   "cell_type": "code",
   "execution_count": 42,
   "id": "45692a51-3033-4983-a6fa-1b845aec5539",
   "metadata": {},
   "outputs": [
    {
     "ename": "KeyError",
     "evalue": "'c'",
     "output_type": "error",
     "traceback": [
      "\u001b[1;31m---------------------------------------------------------------------------\u001b[0m",
      "\u001b[1;31mKeyError\u001b[0m                                  Traceback (most recent call last)",
      "Cell \u001b[1;32mIn[42], line 2\u001b[0m\n\u001b[0;32m      1\u001b[0m d\u001b[38;5;241m=\u001b[39m{\u001b[38;5;124m'\u001b[39m\u001b[38;5;124ma\u001b[39m\u001b[38;5;124m'\u001b[39m:\u001b[38;5;124m\"\u001b[39m\u001b[38;5;124mApple\u001b[39m\u001b[38;5;124m\"\u001b[39m,\u001b[38;5;124m'\u001b[39m\u001b[38;5;124mb\u001b[39m\u001b[38;5;124m'\u001b[39m:\u001b[38;5;124m\"\u001b[39m\u001b[38;5;124mbanana\u001b[39m\u001b[38;5;124m\"\u001b[39m}\n\u001b[1;32m----> 2\u001b[0m \u001b[43md\u001b[49m\u001b[43m[\u001b[49m\u001b[38;5;124;43m'\u001b[39;49m\u001b[38;5;124;43mc\u001b[39;49m\u001b[38;5;124;43m'\u001b[39;49m\u001b[43m]\u001b[49m\n",
      "\u001b[1;31mKeyError\u001b[0m: 'c'"
     ]
    }
   ],
   "source": [
    "d={'a':\"Apple\",'b':\"banana\"}\n",
    "d['c']"
   ]
  },
  {
   "cell_type": "markdown",
   "id": "bee36445-a312-4eef-919e-77200f8f5ee7",
   "metadata": {},
   "source": [
    "#### TypeError \n",
    "- When a operation or function is applied on a object of inappropiate type"
   ]
  },
  {
   "cell_type": "code",
   "execution_count": 45,
   "id": "93727953-d6a1-48a0-b84f-18e68ae0d0a7",
   "metadata": {},
   "outputs": [
    {
     "ename": "TypeError",
     "evalue": "can only concatenate str (not \"int\") to str",
     "output_type": "error",
     "traceback": [
      "\u001b[1;31m---------------------------------------------------------------------------\u001b[0m",
      "\u001b[1;31mTypeError\u001b[0m                                 Traceback (most recent call last)",
      "Cell \u001b[1;32mIn[45], line 1\u001b[0m\n\u001b[1;32m----> 1\u001b[0m \u001b[38;5;124;43m\"\u001b[39;49m\u001b[38;5;124;43mhii\u001b[39;49m\u001b[38;5;124;43m\"\u001b[39;49m\u001b[38;5;241;43m+\u001b[39;49m\u001b[38;5;241;43m5\u001b[39;49m\n",
      "\u001b[1;31mTypeError\u001b[0m: can only concatenate str (not \"int\") to str"
     ]
    }
   ],
   "source": [
    "\"hii\"+5"
   ]
  },
  {
   "cell_type": "markdown",
   "id": "1bd3259b-ba3a-4732-be31-d5cfdd841c4a",
   "metadata": {},
   "source": [
    "#### ValueError \n",
    "- When a function argument of an appropiate type"
   ]
  },
  {
   "cell_type": "code",
   "execution_count": 58,
   "id": "bdd7e0ee-dcdf-4bc4-aaf9-a8eef3b8bc1a",
   "metadata": {},
   "outputs": [
    {
     "ename": "ValueError",
     "evalue": "too many values to unpack (expected 2)",
     "output_type": "error",
     "traceback": [
      "\u001b[1;31m---------------------------------------------------------------------------\u001b[0m",
      "\u001b[1;31mValueError\u001b[0m                                Traceback (most recent call last)",
      "Cell \u001b[1;32mIn[58], line 1\u001b[0m\n\u001b[1;32m----> 1\u001b[0m a,b\u001b[38;5;241m=\u001b[39m[\u001b[38;5;241m1\u001b[39m,\u001b[38;5;241m2\u001b[39m,\u001b[38;5;241m3\u001b[39m]\n",
      "\u001b[1;31mValueError\u001b[0m: too many values to unpack (expected 2)"
     ]
    }
   ],
   "source": [
    "a,b=[1,2,3]"
   ]
  },
  {
   "cell_type": "markdown",
   "id": "e3af5e0c-99d8-40b0-886e-31ba2431e199",
   "metadata": {},
   "source": [
    "#### NameError \n",
    "- when a object not found"
   ]
  },
  {
   "cell_type": "code",
   "execution_count": 65,
   "id": "93b3a944-89ac-4d2f-8239-837b9e022b51",
   "metadata": {},
   "outputs": [
    {
     "ename": "NameError",
     "evalue": "name 'k' is not defined",
     "output_type": "error",
     "traceback": [
      "\u001b[1;31m---------------------------------------------------------------------------\u001b[0m",
      "\u001b[1;31mNameError\u001b[0m                                 Traceback (most recent call last)",
      "Cell \u001b[1;32mIn[65], line 1\u001b[0m\n\u001b[1;32m----> 1\u001b[0m \u001b[43mk\u001b[49m\n",
      "\u001b[1;31mNameError\u001b[0m: name 'k' is not defined"
     ]
    }
   ],
   "source": [
    "k"
   ]
  },
  {
   "cell_type": "markdown",
   "id": "d8023f87-8d23-45b1-8c23-0e26345cd92e",
   "metadata": {},
   "source": [
    "#### AttributeError\n",
    "- If a method or object does not have such attribute"
   ]
  },
  {
   "cell_type": "code",
   "execution_count": 70,
   "id": "2db0d02f-bac1-4ad9-88c3-e55777ba6a35",
   "metadata": {},
   "outputs": [
    {
     "ename": "AttributeError",
     "evalue": "'list' object has no attribute 'add'",
     "output_type": "error",
     "traceback": [
      "\u001b[1;31m---------------------------------------------------------------------------\u001b[0m",
      "\u001b[1;31mAttributeError\u001b[0m                            Traceback (most recent call last)",
      "Cell \u001b[1;32mIn[70], line 2\u001b[0m\n\u001b[0;32m      1\u001b[0m L\u001b[38;5;241m=\u001b[39m[\u001b[38;5;241m1\u001b[39m,\u001b[38;5;241m2\u001b[39m,\u001b[38;5;241m3\u001b[39m]\n\u001b[1;32m----> 2\u001b[0m \u001b[43mL\u001b[49m\u001b[38;5;241;43m.\u001b[39;49m\u001b[43madd\u001b[49m(\u001b[38;5;241m5\u001b[39m)\n",
      "\u001b[1;31mAttributeError\u001b[0m: 'list' object has no attribute 'add'"
     ]
    }
   ],
   "source": [
    "L=[1,2,3]\n",
    "L.add(5)"
   ]
  },
  {
   "cell_type": "markdown",
   "id": "2c6bae07-67ba-4b94-8e46-858e23a1cf5d",
   "metadata": {},
   "source": [
    "<h3 style=\"color:#F5DD61;font-family:'Lucida Console'\">Exception</h3>"
   ]
  },
  {
   "cell_type": "markdown",
   "id": "5ebfaafc-15c7-47d7-9567-d8bb8001a225",
   "metadata": {},
   "source": [
    "If things go wrong during the execution of the program(runtime). It generally happens when something unforeseen has happened.\n",
    "\n",
    "- Exceptions are raised by python runtime\n",
    "- You have to takle is on the fly\n",
    "\n",
    "##### **Examples**\n",
    "\n",
    "- Memory overflow\n",
    "- Divide by 0 -> logical error\n",
    "- Database error\n"
   ]
  },
  {
   "cell_type": "markdown",
   "id": "d9979a08-61bb-4622-8308-d18dcbd32551",
   "metadata": {},
   "source": [
    "#### Stack Trace :\n",
    "The content we see on getting error. It tells on which line we are getting error , what kind of error it is and some basic details about the type of error."
   ]
  },
  {
   "cell_type": "markdown",
   "id": "8a418935-4213-4e67-b941-41f8d6c25cf0",
   "metadata": {},
   "source": [
    "#### Why it is important to handle exception ?\n",
    "It helps in making a good user experience on handling exception.On doing exception handling , it helps to hide crucial info provided by normal interpreter in stack trace."
   ]
  },
  {
   "cell_type": "markdown",
   "id": "5bafaa86-7a42-4ae1-a352-4a3c7f67ee47",
   "metadata": {},
   "source": [
    "<h3 style=\"color:#F5DD61;font-family:'Lucida Console'\">How to handle exception</h3>"
   ]
  },
  {
   "cell_type": "markdown",
   "id": "164ac4b1-bc81-4c40-9f8c-c129e25b61b6",
   "metadata": {},
   "source": [
    "#### Try and Except Block :\n",
    "- Try : contain code that can give error in some speicific scenario\n",
    "- Except : contains code which handle that scenrio if raised from try"
   ]
  },
  {
   "cell_type": "code",
   "execution_count": 80,
   "id": "a06d64cb-3154-44f8-b010-7a798f818305",
   "metadata": {},
   "outputs": [],
   "source": [
    "with open('sample.txt','w') as f :\n",
    "    f.write(\"Hello world\")"
   ]
  },
  {
   "cell_type": "code",
   "execution_count": 94,
   "id": "05f5b020-8033-4d68-9c7a-60fa081efd98",
   "metadata": {},
   "outputs": [
    {
     "name": "stdout",
     "output_type": "stream",
     "text": [
      "file not found\n"
     ]
    }
   ],
   "source": [
    "try:\n",
    "    with open('sampl.txt','r') as f:\n",
    "        print(f.read())\n",
    "except:\n",
    "    print(\"file not found\")"
   ]
  },
  {
   "cell_type": "markdown",
   "id": "cbce2744-fe2f-426c-8907-55cd8b167007",
   "metadata": {},
   "source": [
    "#### Catching multiple exception"
   ]
  },
  {
   "cell_type": "code",
   "execution_count": 103,
   "id": "dd546181-9587-4601-999b-1f44af974577",
   "metadata": {},
   "outputs": [
    {
     "name": "stdout",
     "output_type": "stream",
     "text": [
      "Hello world\n",
      "5\n",
      "cannot divided by zero\n"
     ]
    }
   ],
   "source": [
    "try:\n",
    "    m=5\n",
    "    f=open('sample.txt','r')\n",
    "    print(f.read())\n",
    "    print(m)\n",
    "    print(5/0)\n",
    "    L=[1,2,3]\n",
    "    L[100]\n",
    "except FileNotFoundError:\n",
    "    print(\"file not found\")\n",
    "except NameError:\n",
    "    print(\"please declare the variable first before use\")\n",
    "except ZeroDivisionError:\n",
    "    print(\"cannot divided by zero\")\n",
    "except Exception as e:  # this block should be at last\n",
    "    print(e)\n",
    "    "
   ]
  },
  {
   "cell_type": "markdown",
   "id": "d9cf99fe-27ad-4266-be33-d16dfe410d94",
   "metadata": {},
   "source": [
    "#### Else : contain content which execute when try get succesfully executed"
   ]
  },
  {
   "cell_type": "code",
   "execution_count": 108,
   "id": "f3985355-ceb2-4351-9d7f-b65bef725043",
   "metadata": {},
   "outputs": [
    {
     "name": "stdout",
     "output_type": "stream",
     "text": [
      "Hello world\n"
     ]
    }
   ],
   "source": [
    "try:\n",
    "  f = open('sample.txt','r')\n",
    "except FileNotFoundError:\n",
    "  print('file nai mili')\n",
    "except Exception:\n",
    "  print('kuch to lafda hai')\n",
    "else:\n",
    "  print(f.read())"
   ]
  },
  {
   "cell_type": "markdown",
   "id": "ee871a9b-037d-4112-989a-72efdcbe27da",
   "metadata": {},
   "source": [
    "#### Finally : It is the block which runs anyhow \n",
    "- Finally can be used to close connection like db connection or bluetooth connection"
   ]
  },
  {
   "cell_type": "code",
   "execution_count": 111,
   "id": "e3a70e9e-da74-43ed-8b88-96954e416a5c",
   "metadata": {},
   "outputs": [
    {
     "name": "stdout",
     "output_type": "stream",
     "text": [
      "file nai mili\n",
      "ye to print hoga hi\n"
     ]
    }
   ],
   "source": [
    "try:\n",
    "  f = open('sample1.txt','r')\n",
    "except FileNotFoundError:\n",
    "  print('file nai mili')\n",
    "except Exception:\n",
    "  print('kuch to lafda hai')\n",
    "else:\n",
    "  print(f.read())\n",
    "finally:\n",
    "  print('ye to print hoga hi')"
   ]
  },
  {
   "cell_type": "markdown",
   "id": "35f89f41-59ea-4f38-b08d-1fb4d972f87e",
   "metadata": {},
   "source": [
    "<h3 style=\"color:#F5DD61;font-family:'Lucida Console'\">Raise Exception</h3>"
   ]
  },
  {
   "cell_type": "markdown",
   "id": "505be99b-db2f-4f3a-aac6-3a21e61a7168",
   "metadata": {},
   "source": [
    "- In Python programming, exceptions are raised when errors occur at runtime.\n",
    "- We can also manually raise exceptions using the raise keyword.\n",
    "- It helps to raise exception with a msg\n",
    "- We can optionally pass values to the exception to clarify why that exception was raised"
   ]
  },
  {
   "cell_type": "code",
   "execution_count": 121,
   "id": "2bcc57f5-7ec4-42b9-b3a2-edb51da91253",
   "metadata": {},
   "outputs": [
    {
     "ename": "ZeroDivisionError",
     "evalue": "this is a exception raised using 'raise' keyword",
     "output_type": "error",
     "traceback": [
      "\u001b[1;31m---------------------------------------------------------------------------\u001b[0m",
      "\u001b[1;31mZeroDivisionError\u001b[0m                         Traceback (most recent call last)",
      "Cell \u001b[1;32mIn[121], line 1\u001b[0m\n\u001b[1;32m----> 1\u001b[0m \u001b[38;5;28;01mraise\u001b[39;00m \u001b[38;5;167;01mZeroDivisionError\u001b[39;00m(\u001b[38;5;124m\"\u001b[39m\u001b[38;5;124mthis is a exception raised using \u001b[39m\u001b[38;5;124m'\u001b[39m\u001b[38;5;124mraise\u001b[39m\u001b[38;5;124m'\u001b[39m\u001b[38;5;124m keyword\u001b[39m\u001b[38;5;124m\"\u001b[39m)\n",
      "\u001b[1;31mZeroDivisionError\u001b[0m: this is a exception raised using 'raise' keyword"
     ]
    }
   ],
   "source": [
    "raise ZeroDivisionError(\"this is a exception raised using 'raise' keyword\")"
   ]
  },
  {
   "cell_type": "code",
   "execution_count": 131,
   "id": "e728ccf3-06dd-4270-9672-4bb8c602d9fd",
   "metadata": {},
   "outputs": [
    {
     "name": "stdout",
     "output_type": "stream",
     "text": [
      "your amount is in negative\n"
     ]
    }
   ],
   "source": [
    "class Bank:\n",
    "    def __init__(self,bal):\n",
    "        self.balance=bal\n",
    "    def withdrawn(self,amt):\n",
    "        if amt<0:\n",
    "            raise Exception(\"your amount is in negative\")\n",
    "        if self.balance<amt:\n",
    "            raise Exception(\"amount is less than balance\")\n",
    "        self.balance-=amt\n",
    "\n",
    "obj=Bank(19000)\n",
    "try:\n",
    "    obj.withdrawn(-35)\n",
    "except Exception as e:\n",
    "    print(e)\n",
    "else:\n",
    "    print(obj.balance)"
   ]
  },
  {
   "cell_type": "markdown",
   "id": "442b7c80-89e9-43d7-ba05-116a1a57aeb7",
   "metadata": {},
   "source": [
    "### Creating Custom Exception"
   ]
  },
  {
   "cell_type": "markdown",
   "id": "2d2d9d30-74c2-454a-8cd3-b46d467aa886",
   "metadata": {},
   "source": [
    "Why we are creating own custom exception class ?\n",
    "- To get full control and able to do multiple task if get such user defined exception"
   ]
  },
  {
   "cell_type": "code",
   "execution_count": 144,
   "id": "4284718e-d582-4c0c-b8cb-2331f818ec02",
   "metadata": {},
   "outputs": [
    {
     "name": "stdout",
     "output_type": "stream",
     "text": [
      "paise nai hai tere paas\n"
     ]
    }
   ],
   "source": [
    "class MyException(Exception):\n",
    "  def __init__(self,message):\n",
    "    print(message)\n",
    "\n",
    "class Bank:\n",
    "\n",
    "  def __init__(self,balance):\n",
    "    self.balance = balance\n",
    "\n",
    "  def withdraw(self,amount):\n",
    "    if amount < 0:\n",
    "      raise MyException('amount cannot be -ve')\n",
    "    if self.balance < amount:\n",
    "      raise MyException('paise nai hai tere paas')\n",
    "    self.balance = self.balance - amount\n",
    "\n",
    "obj = Bank(10000)\n",
    "try:\n",
    "  obj.withdraw(50000)\n",
    "except MyException as e:\n",
    "  # print(e)\n",
    "    pass\n",
    "else:\n",
    "  print(obj.balance)"
   ]
  },
  {
   "cell_type": "code",
   "execution_count": 147,
   "id": "cfaff306-243c-4706-a3eb-a91c0d4ccdd0",
   "metadata": {},
   "outputs": [
    {
     "name": "stdout",
     "output_type": "stream",
     "text": [
      "bhai teri to lag gayi\n",
      "logout\n",
      "database connection closed\n"
     ]
    }
   ],
   "source": [
    "class SecurityError(Exception):\n",
    "\n",
    "  def __init__(self,message):\n",
    "    print(message)\n",
    "\n",
    "  def logout(self):\n",
    "    print('logout')\n",
    "\n",
    "class Google:\n",
    "\n",
    "  def __init__(self,name,email,password,device):\n",
    "    self.name = name\n",
    "    self.email = email\n",
    "    self.password = password\n",
    "    self.device = device\n",
    "\n",
    "  def login(self,email,password,device):\n",
    "    if device != self.device:\n",
    "      raise SecurityError('bhai teri to lag gayi')\n",
    "    if email == self.email and password == self.password:\n",
    "      print('welcome')\n",
    "    else:\n",
    "      print('login error')\n",
    "\n",
    "\n",
    "\n",
    "obj = Google('nitish','nitish@gmail.com','1234','android')\n",
    "\n",
    "try:\n",
    "  obj.login('nitish@gmail.com','1234','windows')\n",
    "except SecurityError as e:\n",
    "  e.logout()\n",
    "else:\n",
    "  print(obj.name)\n",
    "finally:\n",
    "  print('database connection closed')\n",
    "\n"
   ]
  },
  {
   "cell_type": "markdown",
   "id": "e8fc7a48-fe4d-410a-b748-ca9bcd6a7748",
   "metadata": {},
   "source": [
    "### END"
   ]
  }
 ],
 "metadata": {
  "kernelspec": {
   "display_name": "Python 3 (ipykernel)",
   "language": "python",
   "name": "python3"
  },
  "language_info": {
   "codemirror_mode": {
    "name": "ipython",
    "version": 3
   },
   "file_extension": ".py",
   "mimetype": "text/x-python",
   "name": "python",
   "nbconvert_exporter": "python",
   "pygments_lexer": "ipython3",
   "version": "3.12.4"
  }
 },
 "nbformat": 4,
 "nbformat_minor": 5
}
