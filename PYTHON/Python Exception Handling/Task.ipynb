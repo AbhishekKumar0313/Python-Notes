{
 "cells": [
  {
   "cell_type": "markdown",
   "id": "43d36152-5b36-46ca-a837-ee5c78226636",
   "metadata": {},
   "source": [
    "### Task - Exception Handling"
   ]
  },
  {
   "cell_type": "markdown",
   "id": "c639d4d5-ff91-4f65-948e-96dfe2175933",
   "metadata": {},
   "source": [
    "### `Q-1`: You are given a function definition. There might be several issues on execution of this function. You are asked to do exception handling for diffrent errors that this function goes in to `without altering this function`. And print error text.\n",
    "\n"
   ]
  },
  {
   "cell_type": "code",
   "execution_count": 23,
   "id": "6bbf8fbb-4461-44e8-95b8-d8b1d9dc9c32",
   "metadata": {},
   "outputs": [
    {
     "name": "stdout",
     "output_type": "stream",
     "text": [
      "452.0\n",
      "thank you\n"
     ]
    }
   ],
   "source": [
    "def function(l: list, s, **args):\n",
    "    last_element = l[-1]\n",
    "\n",
    "    l[int(s)]=10\n",
    "    any_element = l[int(s)+10]\n",
    "    l[s]=10\n",
    "\n",
    "    res = sum(l)\n",
    "\n",
    "    p = args['p']\n",
    "    # print(p)\n",
    "    return res/last_element * p + any_element\n",
    "try:\n",
    "    # print(function([1,2,1], 12))\n",
    "    # print(function([1,2,1]*9, '1-2'))\n",
    "    # print(function([1,'2',1]*9, 12))\n",
    "    # print(function([1,'2',1]*9, 12))\n",
    "    # print(function([1,2,0]*9, 12  ))\n",
    "    # print(function([1,2,1]*9, 12, p=None))\n",
    "    res=function([1,2,1]*9, 12, p=10)\n",
    "except ValueError as e:\n",
    "    print(e,type(e))\n",
    "except IndexError as e:\n",
    "    print(e,type(e))\n",
    "except TypeError as e:\n",
    "    print(e,type(e))\n",
    "except KeyError as e:\n",
    "    print(e,type(e))\n",
    "except ZeroDivisionError as e:\n",
    "    print(e,type(e))\n",
    "else:\n",
    "    print(res)\n",
    "finally:\n",
    "    print(\"thank you\")\n",
    "    "
   ]
  },
  {
   "cell_type": "markdown",
   "id": "dc2cc4c1-d132-4922-aabe-0146bae26b62",
   "metadata": {},
   "source": [
    "### `Q-2:` You are given a code snippet. There might be several issues on execution of this code. You are asked to do exception handling for diffrent errors, condition is what ever happens we need to execute last line printing correct result of `sum of elements`.\n",
    "\n",
    "List have elemnts as any no of  `key-pair dict with key as list index and value as any integer`, `integers` and `numeric-strings`. There is always only one element in the dict.\n",
    "\n",
    "\n",
    "```\n",
    "l = [{0:2},2,3,4,'5', {5:10}]\n",
    "# For calculating sum of above list\n",
    "s=0\n",
    "for i in range(len(l)):\n",
    "    #You can Edit code from here\n",
    "    s += l[i].get(i)\n",
    "    s += l[i]\n",
    "    s += int(l[i])\n",
    "\n",
    "\n",
    "print(s)\n",
    "```"
   ]
  },
  {
   "cell_type": "code",
   "execution_count": 26,
   "id": "039abd71-a376-4627-b924-190da8714fef",
   "metadata": {},
   "outputs": [
    {
     "name": "stdout",
     "output_type": "stream",
     "text": [
      "26\n"
     ]
    }
   ],
   "source": [
    "l = [{0:2},2,3,4,'5', {5:10}]\n",
    "# For calculating sum of above list\n",
    "s=0\n",
    "for i in range(len(l)):\n",
    "    #You can Edit code from here\n",
    "    try:\n",
    "        s+=l[i]\n",
    "    except TypeError:\n",
    "        try:\n",
    "            s += l[i].get(i)\n",
    "        except AttributeError:\n",
    "            s+=int(l[i])\n",
    "\n",
    "\n",
    "print(s)\n"
   ]
  },
  {
   "cell_type": "markdown",
   "id": "091c2f72-2feb-47da-a3cd-934a45c6bafe",
   "metadata": {},
   "source": [
    "### `Q-3:`: File Handling with Exception handling\n",
    "\n",
    "Write a program that opens a text file and write data to it as \"Hello, Good Morning!!!\". Handle exceptions that can be generated during the I/O operations. Do not show the success message on the main exception handling block (write inside the else block)."
   ]
  },
  {
   "cell_type": "code",
   "execution_count": 32,
   "id": "60121278-80bf-4d8c-a67e-e863dddc065e",
   "metadata": {},
   "outputs": [
    {
     "name": "stdout",
     "output_type": "stream",
     "text": [
      "succesfully printed\n"
     ]
    }
   ],
   "source": [
    "try:\n",
    "    with open('file.txt','w') as f:\n",
    "        f.write(\"Hello, Good Morning!!!\")\n",
    "except IOError as e:\n",
    "    print(e)\n",
    "else:\n",
    "    print(\"succesfully printed\")"
   ]
  },
  {
   "cell_type": "markdown",
   "id": "ed0addf3-63d4-4091-bf9e-bf95589c17d0",
   "metadata": {},
   "source": [
    "### `Q-4`: Number game program.\n",
    "\n",
    "Write a number game program. Ask the user to enter a number. If the number is greater than number to be guessed, raise a **ValueTooLarge** exception. If the value is smaller the number to be guessed the, raise a **ValueTooSmall** exception and prompt the user to enter again. Quit the program only when the user enters the correct number. Also raise **GuessError** if user guess a number less than 1."
   ]
  },
  {
   "cell_type": "code",
   "execution_count": 53,
   "id": "e966db63-89fd-4f91-8d00-9bbf541a3e6a",
   "metadata": {},
   "outputs": [
    {
     "name": "stdin",
     "output_type": "stream",
     "text": [
      "guess a number between 1 and 100 50\n"
     ]
    },
    {
     "name": "stdout",
     "output_type": "stream",
     "text": [
      "guess greater number\n"
     ]
    },
    {
     "name": "stdin",
     "output_type": "stream",
     "text": [
      "guess a number between 1 and 100 70\n"
     ]
    },
    {
     "name": "stdout",
     "output_type": "stream",
     "text": [
      "guess greater number\n"
     ]
    },
    {
     "name": "stdin",
     "output_type": "stream",
     "text": [
      "guess a number between 1 and 100 80\n"
     ]
    },
    {
     "name": "stdout",
     "output_type": "stream",
     "text": [
      "guess lower number\n"
     ]
    },
    {
     "name": "stdin",
     "output_type": "stream",
     "text": [
      "guess a number between 1 and 100 75\n"
     ]
    },
    {
     "name": "stdout",
     "output_type": "stream",
     "text": [
      "guess greater number\n"
     ]
    },
    {
     "name": "stdin",
     "output_type": "stream",
     "text": [
      "guess a number between 1 and 100 78\n"
     ]
    },
    {
     "name": "stdout",
     "output_type": "stream",
     "text": [
      "you guess correct in 5 times\n"
     ]
    }
   ],
   "source": [
    "import random\n",
    "\n",
    "class GuessError(Exception):\n",
    "    def __init__(self,msg):\n",
    "        print(msg)\n",
    "\n",
    "\n",
    "class ValueTooLarge(Exception):\n",
    "    def __init__(self,msg):\n",
    "        print(msg)\n",
    "\n",
    "\n",
    "class ValueTooSmall(Exception):\n",
    "    def __init__(self,msg):\n",
    "        print(msg)\n",
    "    \n",
    "def game():\n",
    "    counter=0\n",
    "    num=random.randint(1,100)\n",
    "    while True:\n",
    "        counter+=1\n",
    "        guess=int(input(\"guess a number between 1 and 100\"))\n",
    "        try:\n",
    "            if guess==num:\n",
    "                return counter\n",
    "            if guess<1:\n",
    "                raise GuessError(\"please guess number greater than or equal to 1\")\n",
    "            if guess>num:\n",
    "                raise ValueTooLarge(\"guess lower number\")\n",
    "            if guess<num:\n",
    "                raise ValueTooSmall(\"guess greater number\")\n",
    "        except (GuessError, ValueTooLarge, ValueTooSmall):\n",
    "            continue\n",
    "\n",
    "counter=game()\n",
    "print(f\"you guess correct in {counter} times\")\n"
   ]
  },
  {
   "cell_type": "markdown",
   "id": "d4ec2d56-e2e7-462b-848a-cf78b6743d66",
   "metadata": {},
   "source": [
    "### `Q-5:` Cast vote\n",
    "\n",
    "Write a program that validate name and age as entered by the user to determine whether the person can cast vote or not. To handle the age, create **InvalidAge** exception and for name, create **InvalidName** exception. The name will be invalid when the string will be empty or name has only one word.\n",
    "\n",
    "Example 1:\n",
    "\n",
    "Input:\n",
    "\n",
    "```bash\n",
    "Enter the name:               goransh singh\n",
    "Enter the age: 25\n",
    "```\n",
    "\n",
    "Output:\n",
    "\n",
    "```bash\n",
    "Goransh Singh  Congratulation !!! You can vote.\n",
    "```"
   ]
  },
  {
   "cell_type": "code",
   "execution_count": 72,
   "id": "b20b6a6e-5dd2-48db-8ec4-58ab4024d24e",
   "metadata": {},
   "outputs": [],
   "source": [
    "class InvalidName(Exception):\n",
    "    def display(self):\n",
    "        print(\"Name cannot be empty or of one word\")\n",
    "\n",
    "class InvalidAge(Exception):\n",
    "    def display(self):\n",
    "        print(\"you cannot vote\")\n",
    "    \n",
    "def Vote():\n",
    "    try:\n",
    "        name=input(\"enter name\")\n",
    "        if name ==\"\" or len(name.split())<2:\n",
    "            raise InvalidName\n",
    "        age=int(input(\"enter age\"))\n",
    "        if age <18:\n",
    "            raise InvalidAge\n",
    "    except InvalidName as e:\n",
    "        e.display()\n",
    "    except InvalidAge as e:\n",
    "        e.display()\n",
    "    else:\n",
    "        print(\"you can vote\")\n",
    "    finally:\n",
    "        print(\"thank you\")\n"
   ]
  },
  {
   "cell_type": "code",
   "execution_count": 74,
   "id": "a1454768-2cbe-4c35-89d3-1abd381f7a35",
   "metadata": {},
   "outputs": [
    {
     "name": "stdin",
     "output_type": "stream",
     "text": [
      "enter name A v\n",
      "enter age 12\n"
     ]
    },
    {
     "name": "stdout",
     "output_type": "stream",
     "text": [
      "you cannot vote\n",
      "thank you\n"
     ]
    }
   ],
   "source": [
    "Vote()"
   ]
  },
  {
   "cell_type": "markdown",
   "id": "5bed28f3-a3dc-4d8d-90b6-1bf31da4afb5",
   "metadata": {},
   "source": [
    "### `Q-6`: Write a python function which infinitely prints natural numbers in a single line. Raise the **StopIteration** exception after displaying first 20 numnbers to exit from the program."
   ]
  },
  {
   "cell_type": "code",
   "execution_count": 93,
   "id": "08c6d1fc-2b53-43ea-b125-4adcb5ba8f5d",
   "metadata": {},
   "outputs": [],
   "source": [
    "def fn(num):\n",
    "    counter=0\n",
    "    while True:\n",
    "        counter+=1\n",
    "        try:\n",
    "            if counter>20:\n",
    "                raise StopIteration\n",
    "        except StopIteration:\n",
    "            break\n",
    "        else:\n",
    "            print(num,end=' ')\n",
    "            num+=1\n",
    "        "
   ]
  },
  {
   "cell_type": "code",
   "execution_count": 95,
   "id": "7e0cc55d-7bd6-4ba6-9a48-59f3c996825e",
   "metadata": {},
   "outputs": [
    {
     "name": "stdout",
     "output_type": "stream",
     "text": [
      "100 101 102 103 104 105 106 107 108 109 110 111 112 113 114 115 116 117 118 119 "
     ]
    }
   ],
   "source": [
    "fn(100)"
   ]
  },
  {
   "cell_type": "code",
   "execution_count": null,
   "id": "fcef8597-63e5-4bd6-a79e-e8bae5104403",
   "metadata": {},
   "outputs": [],
   "source": []
  }
 ],
 "metadata": {
  "kernelspec": {
   "display_name": "Python 3 (ipykernel)",
   "language": "python",
   "name": "python3"
  },
  "language_info": {
   "codemirror_mode": {
    "name": "ipython",
    "version": 3
   },
   "file_extension": ".py",
   "mimetype": "text/x-python",
   "name": "python",
   "nbconvert_exporter": "python",
   "pygments_lexer": "ipython3",
   "version": "3.12.4"
  }
 },
 "nbformat": 4,
 "nbformat_minor": 5
}
