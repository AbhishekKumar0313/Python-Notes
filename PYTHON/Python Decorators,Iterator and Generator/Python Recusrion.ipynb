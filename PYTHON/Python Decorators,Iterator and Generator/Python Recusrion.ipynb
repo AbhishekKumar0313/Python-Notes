{
 "cells": [
  {
   "cell_type": "markdown",
   "id": "658533b9-7789-463d-8127-860908617b73",
   "metadata": {},
   "source": [
    "<h1 style='color:#3FA2F6'>Python <span style=\" color:yellow\">Recursion</span></h1>"
   ]
  },
  {
   "cell_type": "markdown",
   "id": "d4e38759-a5d0-4450-91b3-4c225889ebdf",
   "metadata": {},
   "source": [
    "## Recursion \n",
    "- function call itself"
   ]
  },
  {
   "cell_type": "markdown",
   "id": "1ba97669-97b9-45d5-82fe-104cd752b5b3",
   "metadata": {},
   "source": [
    "### Iterative vs Recursive call"
   ]
  },
  {
   "cell_type": "code",
   "execution_count": 10,
   "id": "83dd77ac-fccc-41b6-a93e-bd2306eee638",
   "metadata": {},
   "outputs": [
    {
     "data": {
      "text/plain": [
       "6"
      ]
     },
     "execution_count": 10,
     "metadata": {},
     "output_type": "execute_result"
    }
   ],
   "source": [
    "def multiply (a,b):\n",
    "    res=0\n",
    "    for i in range(b):\n",
    "        res+=a\n",
    "    return res\n",
    "multiply(2,3)\n",
    "        "
   ]
  },
  {
   "cell_type": "code",
   "execution_count": 16,
   "id": "f5ff2491-29fc-47cc-84e3-ef1c151c8678",
   "metadata": {},
   "outputs": [
    {
     "data": {
      "text/plain": [
       "120"
      ]
     },
     "execution_count": 16,
     "metadata": {},
     "output_type": "execute_result"
    }
   ],
   "source": [
    "# Factorial of a number\n",
    "def factorial(n):\n",
    "    if n==0:\n",
    "        return 1\n",
    "    return n*factorial(n-1)\n",
    "factorial(5)"
   ]
  },
  {
   "cell_type": "code",
   "execution_count": 24,
   "id": "7f1d943b-839b-4d81-bb1c-aed302ebd3de",
   "metadata": {},
   "outputs": [],
   "source": [
    "# palindrome of a string\n",
    "def palindrome(string):\n",
    "    if len(string)==1:\n",
    "        print( \"palindrome\")\n",
    "    elif string[0]!=string[-1]:\n",
    "        print(\"not palindrome\")\n",
    "    else:\n",
    "        palindrome(string[1:-1])"
   ]
  },
  {
   "cell_type": "code",
   "execution_count": 28,
   "id": "fc5dfd2f-6081-40f6-adf1-528b6e54a921",
   "metadata": {},
   "outputs": [
    {
     "name": "stdout",
     "output_type": "stream",
     "text": [
      "not palindrome\n"
     ]
    }
   ],
   "source": [
    "palindrome(\"nama\")"
   ]
  },
  {
   "cell_type": "markdown",
   "id": "a756473b-5b90-4512-9457-78513bb18c95",
   "metadata": {},
   "source": [
    "The rabbit problem : if 2 new rabbits are put in a pen, how many rabbits will be in the pen after 1 year?\n",
    "- always produce one male and one female offspring\n",
    "- can produce once every month\n",
    "- can reproduce once they are one month old"
   ]
  },
  {
   "cell_type": "code",
   "execution_count": 31,
   "id": "51d08bf9-d5ec-4b36-a241-cc394c9257ea",
   "metadata": {},
   "outputs": [],
   "source": [
    "def fibo(n):\n",
    "    if n<=1:\n",
    "        return 1\n",
    "    return fibo(n-1)+fibo(n-2)"
   ]
  },
  {
   "cell_type": "code",
   "execution_count": 33,
   "id": "6ac2b2df-accd-4838-8180-6f0d7043441a",
   "metadata": {},
   "outputs": [
    {
     "data": {
      "text/plain": [
       "233"
      ]
     },
     "execution_count": 33,
     "metadata": {},
     "output_type": "execute_result"
    }
   ],
   "source": [
    "fibo(12)"
   ]
  },
  {
   "cell_type": "markdown",
   "id": "df222ebf-2ec1-4384-8fd6-ee3923deaa2a",
   "metadata": {},
   "source": [
    "### END"
   ]
  }
 ],
 "metadata": {
  "kernelspec": {
   "display_name": "Python 3 (ipykernel)",
   "language": "python",
   "name": "python3"
  },
  "language_info": {
   "codemirror_mode": {
    "name": "ipython",
    "version": 3
   },
   "file_extension": ".py",
   "mimetype": "text/x-python",
   "name": "python",
   "nbconvert_exporter": "python",
   "pygments_lexer": "ipython3",
   "version": "3.12.4"
  }
 },
 "nbformat": 4,
 "nbformat_minor": 5
}
