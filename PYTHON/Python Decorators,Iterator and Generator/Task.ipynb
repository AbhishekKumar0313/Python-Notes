{
 "cells": [
  {
   "cell_type": "markdown",
   "id": "02a15cc8-bf70-4c56-8671-1490f29284aa",
   "metadata": {},
   "source": [
    "## Task - Decorator and Namespace"
   ]
  },
  {
   "cell_type": "markdown",
   "id": "756e2bc1-cdbd-4ff8-912f-abecd2de7f02",
   "metadata": {},
   "source": [
    "### `Q1:` Write `Person` Class as given below and then display it's namespace.\n",
    "\n"
   ]
  },
  {
   "cell_type": "markdown",
   "id": "ce446fe7-7262-4013-8f86-e79fc2684adf",
   "metadata": {},
   "source": [
    "```\n",
    "Class Name - Person\n",
    "\n",
    "Attributes:\n",
    "name - public\n",
    "state - public\n",
    "city - private\n",
    "age - private\n",
    "\n",
    "Methods:\n",
    "address - public\n",
    "It give address of the person as \"<name>, <city>, <state>\"\n",
    "```"
   ]
  },
  {
   "cell_type": "code",
   "execution_count": 15,
   "id": "af6a5976-6397-4f6d-ac29-10e16d98ad6e",
   "metadata": {},
   "outputs": [],
   "source": [
    "class Person:\n",
    "    def __init__(self,name,state):\n",
    "        self.name=name\n",
    "        self.state=state\n",
    "        self.__city=None\n",
    "        self.__age=None\n",
    "    def set_city(self,city):\n",
    "        self.__city=city\n",
    "    def set_age(self,age):\n",
    "        self.__age=age\n",
    "    def get_city(self):\n",
    "        return self.__city\n",
    "    def get_age(self):\n",
    "        return self.__age\n",
    "    def address(self):\n",
    "        return f\"{self.name},{self.__city},{self.state}\"\n",
    "    "
   ]
  },
  {
   "cell_type": "code",
   "execution_count": 17,
   "id": "4873d605-8342-4b30-b382-c6beb288c166",
   "metadata": {},
   "outputs": [
    {
     "name": "stdout",
     "output_type": "stream",
     "text": [
      "__module__ __init__ set_city set_age get_city get_age address __dict__ __weakref__ __doc__ "
     ]
    }
   ],
   "source": [
    "for i in Person.__dict__:\n",
    "    print(i,end=' ')"
   ]
  },
  {
   "cell_type": "markdown",
   "id": "84c044bc-27f1-437b-9807-e399ca5b2721",
   "metadata": {},
   "source": [
    "### `Q2:` Write a program to show namespace of object/instance of above(Person) class."
   ]
  },
  {
   "cell_type": "code",
   "execution_count": 24,
   "id": "b8a477a3-764b-42ce-ba89-5307d5a67068",
   "metadata": {},
   "outputs": [
    {
     "name": "stdout",
     "output_type": "stream",
     "text": [
      "Abhishek,Gaya,Bihar\n",
      "name\n",
      "state\n",
      "_Person__city\n",
      "_Person__age\n"
     ]
    }
   ],
   "source": [
    "p=Person(\"Abhishek\",\"Bihar\")\n",
    "p.set_age(26)\n",
    "p.set_city(\"Gaya\")\n",
    "print(p.address())\n",
    "for i in p.__dict__:\n",
    "    print(i)"
   ]
  },
  {
   "cell_type": "markdown",
   "id": "b7398edf-7530-4496-b3b9-485b366c361e",
   "metadata": {},
   "source": [
    "### `Q3:` Write a recursive program to to calculate `gcd` and print no. of function calls taken to find the solution.\n",
    "```\n",
    "gcd(5,10) -> result in 5 as gcd and function call 3\n",
    "```"
   ]
  },
  {
   "cell_type": "code",
   "execution_count": 33,
   "id": "ad5337d2-1af1-4c9f-af68-0f8b7b7a490e",
   "metadata": {},
   "outputs": [
    {
     "name": "stdout",
     "output_type": "stream",
     "text": [
      "2 7\n"
     ]
    }
   ],
   "source": [
    "counter=0\n",
    "def gcd(a,b):\n",
    "    global counter\n",
    "    counter+=1\n",
    "    if b==0:\n",
    "        return a\n",
    "    return gcd(b,a%b)\n",
    "print(gcd(34,58),counter)"
   ]
  },
  {
   "cell_type": "code",
   "execution_count": null,
   "id": "25ce746b-1a99-4913-989d-fdd378c7bcb1",
   "metadata": {},
   "outputs": [],
   "source": []
  }
 ],
 "metadata": {
  "kernelspec": {
   "display_name": "Python 3 (ipykernel)",
   "language": "python",
   "name": "python3"
  },
  "language_info": {
   "codemirror_mode": {
    "name": "ipython",
    "version": 3
   },
   "file_extension": ".py",
   "mimetype": "text/x-python",
   "name": "python",
   "nbconvert_exporter": "python",
   "pygments_lexer": "ipython3",
   "version": "3.12.4"
  }
 },
 "nbformat": 4,
 "nbformat_minor": 5
}
