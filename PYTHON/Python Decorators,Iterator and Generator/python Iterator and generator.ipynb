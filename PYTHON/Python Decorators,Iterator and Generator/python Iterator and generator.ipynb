{
 "cells": [
  {
   "cell_type": "markdown",
   "id": "d9c7f75f-05fb-4650-8556-6dac26890f83",
   "metadata": {},
   "source": [
    "<h1 style='color:#3FA2F6'>Python <span style=\" color:yellow\">Iterator and Generator</span></h1>"
   ]
  },
  {
   "cell_type": "markdown",
   "id": "b4928e21-7427-4540-9c1e-d15fa73d6740",
   "metadata": {},
   "source": [
    "<h3 style=\"color:#F5DD61;font-family:'Lucida Console'\">What is an Iteration</h3>"
   ]
  },
  {
   "cell_type": "markdown",
   "id": "ca77bbdc-3b38-4c7b-82cd-627c34041dfa",
   "metadata": {},
   "source": [
    "Iteration is a general term for taking each item of something, one after another. Any time you use a loop, explicit or implicit, to go over a group of items, that is iteration."
   ]
  },
  {
   "cell_type": "code",
   "execution_count": 10,
   "id": "27781332-f872-4c5f-8aea-d193ec811578",
   "metadata": {},
   "outputs": [
    {
     "name": "stdout",
     "output_type": "stream",
     "text": [
      "1\n",
      "2\n",
      "3\n"
     ]
    }
   ],
   "source": [
    "L=[1,2,3]\n",
    "for i in L:\n",
    "    print(i)\n",
    "# iteration is happening"
   ]
  },
  {
   "cell_type": "markdown",
   "id": "3cc2ca17-2010-469c-ae11-9f6ae6ea184f",
   "metadata": {},
   "source": [
    "<h3 style=\"color:#F5DD61;font-family:'Lucida Console'\">What is an Iterator</h3>"
   ]
  },
  {
   "cell_type": "markdown",
   "id": "a8e3309f-43be-4869-aa2a-ad1351451957",
   "metadata": {},
   "source": [
    "An Iterator is an object that allows the programmer to traverse through a sequence of data without having to store the entire data in the memory"
   ]
  },
  {
   "cell_type": "code",
   "execution_count": 17,
   "id": "32c089a4-c53f-49fc-82bd-21b568fc4928",
   "metadata": {},
   "outputs": [
    {
     "name": "stdout",
     "output_type": "stream",
     "text": [
      "1330.875\n",
      "0.75\n"
     ]
    }
   ],
   "source": [
    "# Example\n",
    "L = [x for x in range(1,10000)]    \n",
    "import sys\n",
    "print(sys.getsizeof(L)/64)\n",
    "x = range(1,10000000000)\n",
    "print(sys.getsizeof(x)/64)\n",
    "\n",
    "# here x is an iterator which is iterating on range which is an iterable"
   ]
  },
  {
   "cell_type": "markdown",
   "id": "a6334560-19c2-407b-83cd-4b3530133c9d",
   "metadata": {},
   "source": [
    "<h3 style=\"color:#F5DD61;font-family:'Lucida Console'\">What is an Iterable</h3>"
   ]
  },
  {
   "cell_type": "markdown",
   "id": "fa803e24-7e08-476c-80ce-f6e0dca9b92a",
   "metadata": {},
   "source": [
    "Iterable is an object, which one can iterate over\n",
    "It generates an Iterator when passed to iter() method."
   ]
  },
  {
   "cell_type": "code",
   "execution_count": 26,
   "id": "9ffdcbcd-e0b5-4ba7-9a72-faabc10f080b",
   "metadata": {},
   "outputs": [
    {
     "name": "stdout",
     "output_type": "stream",
     "text": [
      "<class 'list'>\n"
     ]
    },
    {
     "data": {
      "text/plain": [
       "list_iterator"
      ]
     },
     "execution_count": 26,
     "metadata": {},
     "output_type": "execute_result"
    }
   ],
   "source": [
    "# Example\n",
    "L = [1,2,3]\n",
    "print(type(L))\n",
    "# L is an iterable\n",
    "type(iter(L))\n",
    "# iter(L) --> iterator"
   ]
  },
  {
   "cell_type": "markdown",
   "id": "97f3ae8d-69e7-4347-8d14-5baaecba58e1",
   "metadata": {},
   "source": [
    "## Point to remember\n",
    "\n",
    "- Every **Iterator** is also and **Iterable**\n",
    "- Not all **Iterables** are **Iterators**\n",
    "## Trick\n",
    "- Every Iterable has an **iter function**\n",
    "- Every Iterator has both **iter function** as well as a **next function**"
   ]
  },
  {
   "cell_type": "code",
   "execution_count": 36,
   "id": "6cd5a631-c08b-4756-b4fe-5040a5b1addb",
   "metadata": {
    "scrolled": true
   },
   "outputs": [],
   "source": [
    "L=[1,2,3]\n",
    "# so here L is iterable but not iterator because it store whole data in one time"
   ]
  },
  {
   "cell_type": "code",
   "execution_count": 38,
   "id": "287d57e5-1b92-424a-9d0a-de278dcb6e92",
   "metadata": {
    "collapsed": true,
    "jupyter": {
     "outputs_hidden": true
    },
    "scrolled": true
   },
   "outputs": [
    {
     "data": {
      "text/plain": [
       "['__add__',\n",
       " '__class__',\n",
       " '__class_getitem__',\n",
       " '__contains__',\n",
       " '__delattr__',\n",
       " '__dir__',\n",
       " '__doc__',\n",
       " '__eq__',\n",
       " '__format__',\n",
       " '__ge__',\n",
       " '__getattribute__',\n",
       " '__getitem__',\n",
       " '__getnewargs__',\n",
       " '__getstate__',\n",
       " '__gt__',\n",
       " '__hash__',\n",
       " '__init__',\n",
       " '__init_subclass__',\n",
       " '__iter__',\n",
       " '__le__',\n",
       " '__len__',\n",
       " '__lt__',\n",
       " '__mul__',\n",
       " '__ne__',\n",
       " '__new__',\n",
       " '__reduce__',\n",
       " '__reduce_ex__',\n",
       " '__repr__',\n",
       " '__rmul__',\n",
       " '__setattr__',\n",
       " '__sizeof__',\n",
       " '__str__',\n",
       " '__subclasshook__',\n",
       " 'count',\n",
       " 'index']"
      ]
     },
     "execution_count": 38,
     "metadata": {},
     "output_type": "execute_result"
    }
   ],
   "source": [
    "T=(1,2,3)\n",
    "dir(T)"
   ]
  },
  {
   "cell_type": "code",
   "execution_count": 40,
   "id": "722ae124-7a7c-41ed-ab64-2465339ad17f",
   "metadata": {},
   "outputs": [],
   "source": [
    "# if a object is iterable then we can loop on it"
   ]
  },
  {
   "cell_type": "code",
   "execution_count": null,
   "id": "bb87c905-65a6-42e5-b10c-3fde892fbd7b",
   "metadata": {},
   "outputs": [],
   "source": [
    "L=[12,34,5,6]\n",
    "# L is an iterable but it is not iterator\n",
    "iter_L=iter(L)\n",
    "# iter_L is an iterator\n",
    "print(type(iter_L))\n",
    "print(dir(iter_L))"
   ]
  },
  {
   "cell_type": "markdown",
   "id": "04399132-c9e7-4181-897b-8a2e96a2ddc6",
   "metadata": {},
   "source": [
    "### How to check if object is iterator ?\n",
    "- if dir(obj) give __iter__ method as well as __next__ method then it is iterator"
   ]
  },
  {
   "cell_type": "markdown",
   "id": "e894701f-ca4f-4059-942b-4037bc252f18",
   "metadata": {},
   "source": [
    "<h3 style=\"color:#F5DD61;font-family:'Lucida Console'\">Understanding how for loop works</h3>"
   ]
  },
  {
   "cell_type": "code",
   "execution_count": 51,
   "id": "d36d6d8d-4d46-40c5-9b12-839c27e9753c",
   "metadata": {},
   "outputs": [
    {
     "name": "stdout",
     "output_type": "stream",
     "text": [
      "1\n",
      "2\n",
      "3\n"
     ]
    }
   ],
   "source": [
    "num=[1,2,3]\n",
    "for i in num:\n",
    "    print(i)"
   ]
  },
  {
   "cell_type": "code",
   "execution_count": 53,
   "id": "ac877c04-fb32-4b9c-9c51-109511386c8e",
   "metadata": {},
   "outputs": [],
   "source": [
    "# step 1 : it fetch the iterator ---> iter_num=iter(n)\n",
    "# step 2 : next (iter_num) -->  next(iter_num) --> next(iter_num)"
   ]
  },
  {
   "cell_type": "markdown",
   "id": "14962ad3-b8be-44aa-8a02-6d53e5510a41",
   "metadata": {},
   "source": [
    "In Python, a `for` loop on a list (or any iterable) essentially does two main things behind the scenes:\n",
    "\n",
    "1. **It gets an iterator** for the iterable using the `iter()` function.\n",
    "2. **It repeatedly calls `next()` on the iterator** to get each element, one by one, until the iterator is exhausted (raises `StopIteration`).\n",
    "\n",
    "Let’s walk through the example code you provided in detail:\n",
    "\n",
    "```python\n",
    "num = [1, 2, 3]\n",
    "for i in num:\n",
    "    print(i)\n",
    "```\n",
    "\n",
    "### Step-by-Step Explanation\n",
    "\n",
    "1. **Creating the Iterator**:\n",
    "   - When the `for` loop starts, Python calls `iter(num)` to get an iterator object for the list `num`.\n",
    "   - Let’s call this iterator `iter_num`.\n",
    "\n",
    "   ```python\n",
    "   iter_num = iter(num)\n",
    "   ```\n",
    "\n",
    "   At this point, `iter_num` is an iterator object that \"remembers\" where it is in the sequence of items in `num`.\n",
    "\n",
    "2. **First Call to `next(iter_num)`**:\n",
    "   - The `for` loop calls `next(iter_num)` to get the next item in the sequence.\n",
    "   - The iterator returns `1`, which is the first item in `num`.\n",
    "   - The loop variable `i` is assigned the value `1`, and `print(i)` outputs `1`.\n",
    "\n",
    "3. **Second Call to `next(iter_num)`**:\n",
    "   - The `for` loop automatically calls `next(iter_num)` again to get the next item.\n",
    "   - This time, the iterator returns `2`, which is the second item in `num`.\n",
    "   - `i` is assigned the value `2`, and `print(i)` outputs `2`.\n",
    "\n",
    "4. **Third Call to `next(iter_num)`**:\n",
    "   - The `for` loop calls `next(iter_num)` again to get the third item.\n",
    "   - The iterator returns `3`, which is the third item in `num`.\n",
    "   - `i` is assigned the value `3`, and `print(i)` outputs `3`.\n",
    "\n",
    "5. **End of the Iterator**:\n",
    "   - When `for` calls `next(iter_num)` again, there are no more items left in `num`.\n",
    "   - The iterator raises a `StopIteration` exception, which signals the end of the sequence.\n",
    "   - The `for` loop automatically handles this exception and stops iterating, ending the loop.\n",
    "\n",
    "### Key Concepts\n",
    "\n",
    "- **Iterator**: An object that enables traversing through a sequence one element at a time.\n",
    "- **`iter()`**: The function that returns an iterator from an iterable.\n",
    "- **`next()`**: The function that retrieves the next item from an iterator, raising `StopIteration` when there are no more items.\n",
    "\n",
    "### Summary of Behind-the-Scenes Operations\n",
    "\n",
    "The `for` loop:\n",
    "1. Calls `iter()` on `num` to get an iterator.\n",
    "2. Uses `next()` on the iterator to get each item, assigns it to `i`, and runs the loop body (`print(i)`).\n",
    "3. Ends when `next()` raises `StopIteration`. \n",
    "\n",
    "So, `for i in num:` is just a convenient and readable way to use `iter()` and `next()` under the hood without having to explicitly manage the iterator."
   ]
  },
  {
   "cell_type": "code",
   "execution_count": 56,
   "id": "8ff81f5e-00fd-44e8-85d8-e0b9619d7fb5",
   "metadata": {},
   "outputs": [
    {
     "data": {
      "text/plain": [
       "3"
      ]
     },
     "execution_count": 56,
     "metadata": {},
     "output_type": "execute_result"
    }
   ],
   "source": [
    "num = [1,2,3]\n",
    "\n",
    "# fetch the iterator\n",
    "iter_num = iter(num)\n",
    "\n",
    "# step2 --> next\n",
    "next(iter_num)\n",
    "next(iter_num)\n",
    "next(iter_num)"
   ]
  },
  {
   "cell_type": "markdown",
   "id": "d795c316-763d-4c38-9fdf-15b0b6d89035",
   "metadata": {},
   "source": [
    "<h3 style=\"color:#F5DD61;font-family:'Lucida Console'\">Making our own for loop</h3>"
   ]
  },
  {
   "cell_type": "code",
   "execution_count": 60,
   "id": "0341a475-3498-4466-add4-78c0d48c2df9",
   "metadata": {},
   "outputs": [],
   "source": [
    "def mera_khudka_for_loop(iterable):\n",
    "    \n",
    "    iterator = iter(iterable)\n",
    "    \n",
    "    while True:\n",
    "        \n",
    "        try:\n",
    "            print(next(iterator))\n",
    "        except StopIteration:\n",
    "            break   "
   ]
  },
  {
   "cell_type": "code",
   "execution_count": 64,
   "id": "3d96ea00-d341-4f6c-a2bf-f834ba9f7ecd",
   "metadata": {
    "scrolled": true
   },
   "outputs": [
    {
     "name": "stdout",
     "output_type": "stream",
     "text": [
      "1\n",
      "2\n",
      "3\n",
      "4\n",
      "5\n",
      "6\n",
      "7\n",
      "8\n",
      "9\n",
      "10\n"
     ]
    }
   ],
   "source": [
    "a = [1,2,3]\n",
    "b = range(1,11)\n",
    "c = (1,2,3)\n",
    "d = {1,2,3}\n",
    "e = {0:1,1:1}\n",
    "\n",
    "mera_khudka_for_loop(b)"
   ]
  },
  {
   "cell_type": "markdown",
   "id": "eb1a4fd4-e22d-4742-8dbf-8f5352a90bd3",
   "metadata": {},
   "source": [
    "<h3 style=\"color:#F5DD61;font-family:'Lucida Console'\">A confusing point</h3>"
   ]
  },
  {
   "cell_type": "code",
   "execution_count": 76,
   "id": "427aef9b-3f72-458a-808a-7e3b50e2acea",
   "metadata": {},
   "outputs": [
    {
     "name": "stdout",
     "output_type": "stream",
     "text": [
      "1808077197792 Address of iterator\n",
      "1808077197792 Address of iterator 2\n"
     ]
    }
   ],
   "source": [
    "num=[1,2,3]\n",
    "iter_obj=iter(num)\n",
    "print(id(iter_obj),\"Address of iterator\")\n",
    "iter_obj2=iter(iter_obj)\n",
    "print(id(iter_obj2),\"Address of iterator 2\")"
   ]
  },
  {
   "cell_type": "markdown",
   "id": "6bcc08de-9935-4a87-af0f-accc23d5800a",
   "metadata": {},
   "source": [
    "- iter_obj2 = iter(iter_obj) attempts to create another iterator from iter_obj.\n",
    "- However, in Python, calling iter() on an iterator itself simply returns the same iterator object (it doesn’t create a new one).\n",
    "- This means iter_obj2 is essentially the same object as iter_obj, not a new iterator.\n",
    "- So, id(iter_obj2) will be the same as id(iter_obj), as iter_obj2 and iter_obj both reference the same iterator."
   ]
  },
  {
   "cell_type": "code",
   "execution_count": 68,
   "id": "42132f98-feb7-4dda-965e-5184bcae30cb",
   "metadata": {},
   "outputs": [],
   "source": [
    "class mera_range:\n",
    "    \n",
    "    def __init__(self,start,end):\n",
    "        self.start = start\n",
    "        self.end = end\n",
    "        \n",
    "    def __iter__(self):\n",
    "        return mera_range_iterator(self)"
   ]
  },
  {
   "cell_type": "code",
   "execution_count": 70,
   "id": "6261183d-31dd-4de6-a8f3-1f23c94265f2",
   "metadata": {},
   "outputs": [],
   "source": [
    "class mera_range_iterator:\n",
    "    \n",
    "    def __init__(self,iterable_obj):\n",
    "        self.iterable = iterable_obj\n",
    "    \n",
    "    def __iter__(self):\n",
    "        return self\n",
    "    \n",
    "    def __next__(self):\n",
    "        \n",
    "        if self.iterable.start >= self.iterable.end:\n",
    "            raise StopIteration\n",
    "            \n",
    "        current = self.iterable.start\n",
    "        self.iterable.start+=1\n",
    "        return current"
   ]
  },
  {
   "cell_type": "code",
   "execution_count": 72,
   "id": "d3e41887-fcc9-418f-b9a9-5773198d45ae",
   "metadata": {},
   "outputs": [],
   "source": [
    "x = mera_range(1,11)"
   ]
  },
  {
   "cell_type": "code",
   "execution_count": 74,
   "id": "dcdaf645-941c-4c01-95a1-07cc9862e9f2",
   "metadata": {},
   "outputs": [
    {
     "data": {
      "text/plain": [
       "__main__.mera_range"
      ]
     },
     "execution_count": 74,
     "metadata": {},
     "output_type": "execute_result"
    }
   ],
   "source": [
    "type(x)"
   ]
  },
  {
   "cell_type": "code",
   "execution_count": 80,
   "id": "1999d032-6e09-4e8f-8ce7-d127ed6fb2ab",
   "metadata": {},
   "outputs": [
    {
     "data": {
      "text/plain": [
       "<__main__.mera_range_iterator at 0x1a4f9cc8bf0>"
      ]
     },
     "execution_count": 80,
     "metadata": {},
     "output_type": "execute_result"
    }
   ],
   "source": [
    "iter(x)"
   ]
  },
  {
   "cell_type": "code",
   "execution_count": 82,
   "id": "3f177154-3d83-45a7-8172-2be381741a98",
   "metadata": {},
   "outputs": [
    {
     "name": "stdout",
     "output_type": "stream",
     "text": [
      "1\n",
      "2\n",
      "3\n",
      "4\n",
      "5\n",
      "6\n",
      "7\n",
      "8\n",
      "9\n",
      "10\n"
     ]
    }
   ],
   "source": [
    "for i in x:\n",
    "    print(i)"
   ]
  },
  {
   "cell_type": "markdown",
   "id": "3b32f539-aee0-48b1-8e43-16bad9264d27",
   "metadata": {},
   "source": [
    "### Step-by-Step Flow\n",
    "\n",
    "Let’s go through the flow assuming the following code:\n",
    "\n",
    "```python\n",
    "my_range = mera_range(1, 5)\n",
    "for num in my_range:\n",
    "    print(num)\n",
    "```\n",
    "\n",
    "#### Execution Steps\n",
    "\n",
    "1. **Creating the `mera_range` Object**:\n",
    "   - `my_range = mera_range(1, 5)` calls `mera_range.__init__()`, setting `self.start = 1` and `self.end = 5`.\n",
    "\n",
    "2. **Starting the `for` Loop**:\n",
    "   - When `for num in my_range` is executed, `iter(my_range)` is implicitly called.\n",
    "   - `mera_range.__iter__()` is executed, which returns an instance of `mera_range_iterator` initialized with `my_range`.\n",
    "\n",
    "3. **Initializing the Iterator (`mera_range_iterator`)**:\n",
    "   - Inside `mera_range.__iter__()`, `mera_range_iterator.__init__()` is called with `my_range` as the `iterable_obj`.\n",
    "   - `self.iterable` in `mera_range_iterator` now holds a reference to `my_range`, so it can access `my_range.start` and `my_range.end`.\n",
    "\n",
    "4. **First Iteration**:\n",
    "   - `next()` is implicitly called on the iterator.\n",
    "   - Inside `mera_range_iterator.__next__()`:\n",
    "     - **Check**: `self.iterable.start` (1) is less than `self.iterable.end` (5), so it does not raise `StopIteration`.\n",
    "     - **Assign `current`**: `current` is set to `self.iterable.start`, which is 1.\n",
    "     - **Increment**: `self.iterable.start` is incremented to 2.\n",
    "     - **Return**: The method returns `current`, which is 1, and `print(num)` outputs `1`.\n",
    "\n",
    "5. **Second Iteration**:\n",
    "   - `next()` is called again.\n",
    "   - **Check**: `self.iterable.start` (2) is less than `self.iterable.end` (5).\n",
    "   - **Assign `current`**: `current` is set to 2.\n",
    "   - **Increment**: `self.iterable.start` is incremented to 3.\n",
    "   - **Return**: The method returns `current`, which is 2, and `print(num)` outputs `2`.\n",
    "\n",
    "6. **Third and Fourth Iterations**:\n",
    "   - This process repeats similarly, with `self.iterable.start` being set to 3 and 4 in subsequent iterations, outputting `3` and `4`.\n",
    "\n",
    "7. **Fifth Iteration (End Condition)**:\n",
    "   - `next()` is called, and now `self.iterable.start` is 5.\n",
    "   - **Check**: `self.iterable.start` (5) is equal to `self.iterable.end` (5).\n",
    "   - The method raises `StopIteration`, ending the loop.\n",
    "\n",
    "### Output\n",
    "\n",
    "The output of `for num in my_range: print(num)` will be:\n",
    "\n",
    "```\n",
    "1\n",
    "2\n",
    "3\n",
    "4\n",
    "```\n",
    "\n",
    "### Summary\n",
    "\n",
    "1. **`mera_range`** creates a custom range-like object with a start and end.\n",
    "2. **`mera_range_iterator`** defines the iterator logic, keeping track of the current value and checking the end condition.\n",
    "3. The iterator yields each value in the range `[start, end)`, incrementing `start` each time, and raises `StopIteration` when the end is reached. \n",
    "\n",
    "This custom implementation mimics the behavior of Python's built-in `range` object."
   ]
  },
  {
   "cell_type": "markdown",
   "id": "d9dce7a8-2542-4212-8c42-dd56c5a5fae6",
   "metadata": {},
   "source": [
    "<h3 style=\"color:#F5DD61;font-family:'Lucida Console'\">Generator</h3>"
   ]
  },
  {
   "cell_type": "markdown",
   "id": "1065cc19-20c2-4b83-b7a4-81424213e60e",
   "metadata": {},
   "source": [
    "- Python generators are a simple way of creating iterators.\n",
    "- It reduces the problem of storing whole data at once in memory"
   ]
  },
  {
   "cell_type": "code",
   "execution_count": 101,
   "id": "117025a6-ece1-496a-be3d-babaf7dd3e27",
   "metadata": {},
   "outputs": [],
   "source": [
    "def gen_demo():\n",
    "    \n",
    "    yield \"first statement\"\n",
    "    yield \"second statement\"\n",
    "    yield \"third statement\""
   ]
  },
  {
   "cell_type": "code",
   "execution_count": 105,
   "id": "a9862111-6ba4-4b8f-aca8-b2d5465fd850",
   "metadata": {},
   "outputs": [
    {
     "name": "stdout",
     "output_type": "stream",
     "text": [
      "first statement\n",
      "second statement\n",
      "third statement\n"
     ]
    }
   ],
   "source": [
    "gen=gen_demo() # return a generator and never call the method again\n",
    "for i in gen:\n",
    "    print(i)"
   ]
  },
  {
   "cell_type": "markdown",
   "id": "1de2120c-890c-4225-a6d3-61b9c3b545a8",
   "metadata": {},
   "source": [
    "\n",
    "Here’s what happens:\n",
    "\n",
    "1. **Creating the Generator Object** (`gen = gen_demo()`):\n",
    "   - When you call `gen_demo()`, it doesn’t run the entire function immediately. Instead, it initializes a generator object, `gen`, that holds the state of the function and pauses execution at the start.\n",
    "\n",
    "2. **Iterating Through the Generator** (`for i in gen`):\n",
    "   - The `for` loop does not call `gen_demo()` repeatedly. Instead, it calls the `next()` function on the generator object `gen` in each iteration.\n",
    "   - Each call to `next(gen)` advances `gen_demo` to the next `yield` statement.\n",
    "   - The generator resumes from where it last yielded a value and pauses again at the next `yield`, returning the yielded value to the loop.\n",
    "\n",
    "So, in short:\n",
    "- `gen_demo()` is only called once to create the generator.\n",
    "- The `for` loop repeatedly calls `next()` on the generator object `gen`, advancing it through the `yield` statements until it’s exhausted."
   ]
  },
  {
   "cell_type": "markdown",
   "id": "52f09804-3474-479b-8799-1aa4fb130b5d",
   "metadata": {},
   "source": [
    "When you create an iterator, it needs a way to access or manage the data it’s iterating over. In many cases, this means storing all the data in memory, which can be less memory-efficient than a generator."
   ]
  },
  {
   "cell_type": "code",
   "execution_count": 108,
   "id": "ccbc8243-63b8-44e2-a0d4-3fc0f2d6b317",
   "metadata": {},
   "outputs": [],
   "source": [
    "def square(num):\n",
    "    for i in range(1,num+1):\n",
    "        yield i**2"
   ]
  },
  {
   "cell_type": "code",
   "execution_count": 110,
   "id": "15f5d5b9-2377-4dd7-b55e-fa208daccee3",
   "metadata": {},
   "outputs": [
    {
     "name": "stdout",
     "output_type": "stream",
     "text": [
      "1\n",
      "4\n",
      "9\n",
      "16\n",
      "25\n",
      "36\n",
      "49\n",
      "64\n",
      "81\n",
      "100\n"
     ]
    }
   ],
   "source": [
    "gen = square(10)\n",
    "\n",
    "print(next(gen))\n",
    "print(next(gen))\n",
    "print(next(gen))\n",
    "\n",
    "for i in gen:\n",
    "    print(i)"
   ]
  },
  {
   "cell_type": "markdown",
   "id": "2798578f-f9ab-476f-ac5b-02651d60c49a",
   "metadata": {},
   "source": [
    "### Range Function using Generator"
   ]
  },
  {
   "cell_type": "code",
   "execution_count": 114,
   "id": "1f424623-65bb-4d26-933f-c7f24282cba0",
   "metadata": {},
   "outputs": [],
   "source": [
    "def mera_range(start,end):\n",
    "    for i in range(start,end):\n",
    "        yield i"
   ]
  },
  {
   "cell_type": "code",
   "execution_count": 116,
   "id": "de03cfa3-1e35-4a7e-852f-39bca656e653",
   "metadata": {},
   "outputs": [
    {
     "name": "stdout",
     "output_type": "stream",
     "text": [
      "15\n",
      "16\n",
      "17\n",
      "18\n",
      "19\n"
     ]
    }
   ],
   "source": [
    "for i in mera_range(15,20):\n",
    "    print(i)"
   ]
  },
  {
   "cell_type": "markdown",
   "id": "39e36e36-c8a8-4fd7-a2da-900c2007eaa9",
   "metadata": {},
   "source": [
    "### Generator Expression"
   ]
  },
  {
   "cell_type": "code",
   "execution_count": 119,
   "id": "b948f941-c1f3-4bc0-8192-5ff37bbc0f18",
   "metadata": {},
   "outputs": [],
   "source": [
    "# list comprehension\n",
    "L = [i**2 for i in range(1,101)]"
   ]
  },
  {
   "cell_type": "code",
   "execution_count": null,
   "id": "286c8abc-877c-41a1-b062-34643c19c460",
   "metadata": {
    "scrolled": true
   },
   "outputs": [],
   "source": [
    "gen = (i**2 for i in range(1,101))\n",
    "\n",
    "for i in gen:\n",
    "    print(i)"
   ]
  },
  {
   "cell_type": "markdown",
   "id": "726145a9-134b-4cc7-a394-4fa525c73bce",
   "metadata": {},
   "source": [
    "- This line creates a generator expression, which is similar to a generator function but written in a more compact form.\n",
    "- (i**2 for i in range(1, 101)) is an expression that generates the squares of numbers from 1 to 100.\n",
    "- gen is a generator object created by the expression, and it will yield each squared value one by one when requested."
   ]
  },
  {
   "cell_type": "code",
   "execution_count": null,
   "id": "87d980e0-b65c-4747-a94a-e2ff9ad428b1",
   "metadata": {
    "scrolled": true
   },
   "outputs": [],
   "source": [
    "!pip install opencv-python"
   ]
  },
  {
   "cell_type": "code",
   "execution_count": 153,
   "id": "6f735dd4-da42-4704-aae5-e8be566d0eba",
   "metadata": {},
   "outputs": [],
   "source": [
    "import os\n",
    "import cv2\n",
    "\n",
    "def image_data_reader(folder_path):\n",
    "\n",
    "    for file in os.listdir(folder_path):\n",
    "        f_array = cv2.imread(os.path.join(folder_path,file))\n",
    "        yield f_array\n",
    "    "
   ]
  },
  {
   "cell_type": "code",
   "execution_count": 159,
   "id": "48ecec3b-afff-4aed-b9fc-ff77c422d506",
   "metadata": {
    "scrolled": true
   },
   "outputs": [
    {
     "data": {
      "text/plain": [
       "array([[[0, 0, 0],\n",
       "        [0, 0, 0],\n",
       "        [0, 0, 0],\n",
       "        ...,\n",
       "        [0, 0, 0],\n",
       "        [0, 0, 0],\n",
       "        [0, 0, 0]],\n",
       "\n",
       "       [[0, 0, 0],\n",
       "        [0, 0, 0],\n",
       "        [0, 0, 0],\n",
       "        ...,\n",
       "        [0, 0, 0],\n",
       "        [0, 0, 0],\n",
       "        [0, 0, 0]],\n",
       "\n",
       "       [[0, 0, 0],\n",
       "        [0, 0, 0],\n",
       "        [0, 0, 0],\n",
       "        ...,\n",
       "        [0, 0, 0],\n",
       "        [0, 0, 0],\n",
       "        [0, 0, 0]],\n",
       "\n",
       "       ...,\n",
       "\n",
       "       [[0, 0, 0],\n",
       "        [0, 0, 0],\n",
       "        [0, 0, 0],\n",
       "        ...,\n",
       "        [0, 0, 0],\n",
       "        [0, 0, 0],\n",
       "        [0, 0, 0]],\n",
       "\n",
       "       [[0, 0, 0],\n",
       "        [0, 0, 0],\n",
       "        [0, 0, 0],\n",
       "        ...,\n",
       "        [0, 0, 0],\n",
       "        [0, 0, 0],\n",
       "        [0, 0, 0]],\n",
       "\n",
       "       [[0, 0, 0],\n",
       "        [0, 0, 0],\n",
       "        [0, 0, 0],\n",
       "        ...,\n",
       "        [0, 0, 0],\n",
       "        [0, 0, 0],\n",
       "        [0, 0, 0]]], dtype=uint8)"
      ]
     },
     "execution_count": 159,
     "metadata": {},
     "output_type": "execute_result"
    }
   ],
   "source": [
    "gen = image_data_reader('image/')\n",
    "next(gen)"
   ]
  },
  {
   "cell_type": "markdown",
   "id": "e046d31a-329a-47be-9d78-6eb5320c4be2",
   "metadata": {},
   "source": [
    "## END"
   ]
  }
 ],
 "metadata": {
  "kernelspec": {
   "display_name": "Python 3 (ipykernel)",
   "language": "python",
   "name": "python3"
  },
  "language_info": {
   "codemirror_mode": {
    "name": "ipython",
    "version": 3
   },
   "file_extension": ".py",
   "mimetype": "text/x-python",
   "name": "python",
   "nbconvert_exporter": "python",
   "pygments_lexer": "ipython3",
   "version": "3.12.4"
  }
 },
 "nbformat": 4,
 "nbformat_minor": 5
}
