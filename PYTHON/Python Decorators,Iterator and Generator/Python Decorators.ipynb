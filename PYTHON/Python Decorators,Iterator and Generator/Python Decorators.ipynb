{
 "cells": [
  {
   "cell_type": "markdown",
   "id": "13fc5fe4-4e37-4973-a5d1-f78217d8862a",
   "metadata": {},
   "source": [
    "<h1 style='color:#3FA2F6'>Python <span style=\" color:yellow\">Decorators and Namespaces</span></h1>"
   ]
  },
  {
   "cell_type": "markdown",
   "id": "dde042de-316b-44c0-875c-17e863a8f6a3",
   "metadata": {},
   "source": [
    "<h3 style=\"color:#F5DD61;font-family:'Lucida Console'\">Namespaces</h3>"
   ]
  },
  {
   "cell_type": "markdown",
   "id": "5ef19dd0-663f-4871-87d7-2cedd4411854",
   "metadata": {},
   "source": [
    "A namespace is a space that holds names(identifiers).Programmatically speaking, namespaces are dictionary of identifiers(keys) and their objects(values)\n",
    "\n",
    "There are 4 types of namespaces:\n",
    "- Builtin Namespace\n",
    "- Global Namespace\n",
    "- Enclosing Namespace\n",
    "- Local Namespace"
   ]
  },
  {
   "cell_type": "markdown",
   "id": "0817d6e2-5bac-46fc-bdb1-16c414a5876b",
   "metadata": {},
   "source": [
    "<h3 style=\"color:#F5DD61;font-family:'Lucida Console'\">Scope and LEGB Rule</h3>"
   ]
  },
  {
   "cell_type": "markdown",
   "id": "c8722767-0cb3-4bf2-a139-e76505d14e91",
   "metadata": {},
   "source": [
    "\n",
    "A scope is a textual region of a Python program where a namespace is directly accessible.\n",
    "\n",
    "The interpreter searches for a name from the inside out, looking in the local, enclosing, global, and finally the built-in scope. If the interpreter doesn’t find the name in any of these locations, then Python raises a NameError exception."
   ]
  },
  {
   "cell_type": "code",
   "execution_count": 9,
   "id": "73f3b697-6341-439e-b3d3-78a8ec293b5c",
   "metadata": {},
   "outputs": [
    {
     "name": "stdout",
     "output_type": "stream",
     "text": [
      "3\n",
      "2\n"
     ]
    }
   ],
   "source": [
    "# local and global\n",
    "# global var\n",
    "a = 2 # it is global\n",
    "\n",
    "def temp():\n",
    "  # local var\n",
    "  b = 3 \n",
    "  print(b)\n",
    "\n",
    "temp()\n",
    "print(a)"
   ]
  },
  {
   "cell_type": "markdown",
   "id": "833771dd-9aa8-414b-a0f6-e5e932294034",
   "metadata": {},
   "source": [
    "if local and global are with same name then it will go with local"
   ]
  },
  {
   "cell_type": "code",
   "execution_count": 16,
   "id": "99a695cc-2259-4199-a413-207e590799b6",
   "metadata": {},
   "outputs": [
    {
     "name": "stdout",
     "output_type": "stream",
     "text": [
      "3\n",
      "2\n"
     ]
    }
   ],
   "source": [
    "# local and global -> same name \n",
    "a = 2\n",
    "\n",
    "def temp():\n",
    "  # local var\n",
    "  a = 3\n",
    "  print(a)\n",
    "\n",
    "temp()\n",
    "print(a)"
   ]
  },
  {
   "cell_type": "code",
   "execution_count": 18,
   "id": "10ce5826-e74b-4aae-a9a1-624f32c8e1c3",
   "metadata": {},
   "outputs": [
    {
     "name": "stdout",
     "output_type": "stream",
     "text": [
      "2\n",
      "2\n"
     ]
    }
   ],
   "source": [
    "# local and global -> local does not have but global has\n",
    "a = 2\n",
    "\n",
    "def temp():\n",
    "  # local var\n",
    "  print(a)\n",
    "\n",
    "temp()\n",
    "print(a)\n"
   ]
  },
  {
   "cell_type": "code",
   "execution_count": null,
   "id": "146b028a-a3a0-42fd-a10b-6fcb4f27cc7f",
   "metadata": {},
   "outputs": [],
   "source": [
    "# local and global -> editing global\n",
    "a = 2\n",
    "\n",
    "def temp():\n",
    "  # local var\n",
    "  a += 1\n",
    "  print(a)\n",
    "\n",
    "temp()\n",
    "print(a)\n",
    "# we can not modify a global variable in local namespace"
   ]
  },
  {
   "cell_type": "markdown",
   "id": "10c8087b-e82c-47ef-933b-e46463ea29a8",
   "metadata": {},
   "source": [
    "### Global keyword :\n",
    "- use to modify global variable in local if required"
   ]
  },
  {
   "cell_type": "code",
   "execution_count": 26,
   "id": "41631ecc-6c7e-42c4-9155-2dd13944c195",
   "metadata": {},
   "outputs": [
    {
     "name": "stdout",
     "output_type": "stream",
     "text": [
      "3\n",
      "3\n"
     ]
    }
   ],
   "source": [
    "a = 2\n",
    "\n",
    "def temp():\n",
    "  # local var\n",
    "  global a\n",
    "  a += 1\n",
    "  print(a)\n",
    "\n",
    "temp()\n",
    "print(a)"
   ]
  },
  {
   "cell_type": "code",
   "execution_count": 28,
   "id": "7b2999d1-1353-4198-bddb-782877cea593",
   "metadata": {},
   "outputs": [
    {
     "name": "stdout",
     "output_type": "stream",
     "text": [
      "1\n",
      "1\n"
     ]
    }
   ],
   "source": [
    "# local and global -> global created inside local\n",
    "def temp():\n",
    "  # local var\n",
    "  global a\n",
    "  a = 1\n",
    "  print(a)\n",
    "\n",
    "temp()\n",
    "print(a)"
   ]
  },
  {
   "cell_type": "code",
   "execution_count": null,
   "id": "9fd46d22-d4ab-4ee4-bdb4-4ea3910ffe1d",
   "metadata": {},
   "outputs": [],
   "source": [
    "# local and global -> function parameter is local\n",
    "def temp(z):\n",
    "  # local var\n",
    "  print(z)\n",
    "\n",
    "a = 5\n",
    "temp(5)\n",
    "print(a)\n",
    "print(z) # z is not in global so it will give error"
   ]
  },
  {
   "cell_type": "code",
   "execution_count": 30,
   "id": "a890a3b4-727d-49b6-bdde-f0ab429ad484",
   "metadata": {
    "scrolled": true
   },
   "outputs": [
    {
     "name": "stdout",
     "output_type": "stream",
     "text": [
      "['ArithmeticError', 'AssertionError', 'AttributeError', 'BaseException', 'BaseExceptionGroup', 'BlockingIOError', 'BrokenPipeError', 'BufferError', 'BytesWarning', 'ChildProcessError', 'ConnectionAbortedError', 'ConnectionError', 'ConnectionRefusedError', 'ConnectionResetError', 'DeprecationWarning', 'EOFError', 'Ellipsis', 'EncodingWarning', 'EnvironmentError', 'Exception', 'ExceptionGroup', 'False', 'FileExistsError', 'FileNotFoundError', 'FloatingPointError', 'FutureWarning', 'GeneratorExit', 'IOError', 'ImportError', 'ImportWarning', 'IndentationError', 'IndexError', 'InterruptedError', 'IsADirectoryError', 'KeyError', 'KeyboardInterrupt', 'LookupError', 'MemoryError', 'ModuleNotFoundError', 'NameError', 'None', 'NotADirectoryError', 'NotImplemented', 'NotImplementedError', 'OSError', 'OverflowError', 'PendingDeprecationWarning', 'PermissionError', 'ProcessLookupError', 'RecursionError', 'ReferenceError', 'ResourceWarning', 'RuntimeError', 'RuntimeWarning', 'StopAsyncIteration', 'StopIteration', 'SyntaxError', 'SyntaxWarning', 'SystemError', 'SystemExit', 'TabError', 'TimeoutError', 'True', 'TypeError', 'UnboundLocalError', 'UnicodeDecodeError', 'UnicodeEncodeError', 'UnicodeError', 'UnicodeTranslateError', 'UnicodeWarning', 'UserWarning', 'ValueError', 'Warning', 'WindowsError', 'ZeroDivisionError', '__IPYTHON__', '__build_class__', '__debug__', '__doc__', '__import__', '__loader__', '__name__', '__package__', '__spec__', 'abs', 'aiter', 'all', 'anext', 'any', 'ascii', 'bin', 'bool', 'breakpoint', 'bytearray', 'bytes', 'callable', 'chr', 'classmethod', 'compile', 'complex', 'copyright', 'credits', 'delattr', 'dict', 'dir', 'display', 'divmod', 'enumerate', 'eval', 'exec', 'execfile', 'filter', 'float', 'format', 'frozenset', 'get_ipython', 'getattr', 'globals', 'hasattr', 'hash', 'help', 'hex', 'id', 'input', 'int', 'isinstance', 'issubclass', 'iter', 'len', 'license', 'list', 'locals', 'map', 'max', 'memoryview', 'min', 'next', 'object', 'oct', 'open', 'ord', 'pow', 'print', 'property', 'range', 'repr', 'reversed', 'round', 'runfile', 'set', 'setattr', 'slice', 'sorted', 'staticmethod', 'str', 'sum', 'super', 'tuple', 'type', 'vars', 'zip']\n"
     ]
    }
   ],
   "source": [
    "# built-in scope\n",
    "import builtins\n",
    "print(dir(builtins))"
   ]
  },
  {
   "cell_type": "markdown",
   "id": "c4da3bcb-7428-44d0-9474-da2b99e62553",
   "metadata": {},
   "source": [
    "#### We cannot rename or reuse built-ins"
   ]
  },
  {
   "cell_type": "code",
   "execution_count": null,
   "id": "0c581af7-5eb1-4c99-9f05-d849222fbbde",
   "metadata": {},
   "outputs": [],
   "source": [
    "L = [1,2,3]\n",
    "print(max(L))\n",
    "def max():\n",
    "  print('hello')\n",
    "\n",
    "print(max(L))\n",
    "# it will give error because it is calling its own max function"
   ]
  },
  {
   "cell_type": "code",
   "execution_count": 41,
   "id": "a66b0e8e-cabb-4fa1-be02-8cbc11c1c2fb",
   "metadata": {},
   "outputs": [
    {
     "name": "stdout",
     "output_type": "stream",
     "text": [
      "10\n",
      "outer function\n",
      "main program\n"
     ]
    }
   ],
   "source": [
    "# Enclosing scope\n",
    "def outer():\n",
    "  a=10\n",
    "  def inner():\n",
    "    print(a)\n",
    "  inner()\n",
    "  print('outer function')\n",
    "\n",
    "\n",
    "outer()\n",
    "print('main program')"
   ]
  },
  {
   "cell_type": "markdown",
   "id": "873d2d3b-c254-4ef5-ad3c-76e5ccbc25b3",
   "metadata": {},
   "source": [
    "### Non Local Keyword :\n",
    "- it tells that it is not local to where it existing"
   ]
  },
  {
   "cell_type": "code",
   "execution_count": 49,
   "id": "077eb9e5-463f-48e6-a6d4-2cd0ce54dbd7",
   "metadata": {},
   "outputs": [
    {
     "name": "stdout",
     "output_type": "stream",
     "text": [
      "inner 2\n",
      "outer 2\n",
      "main program\n"
     ]
    }
   ],
   "source": [
    "# nonlocal keyword\n",
    "def outer():\n",
    "  a = 1\n",
    "  def inner():\n",
    "    nonlocal a\n",
    "    a += 1\n",
    "    print('inner',a)\n",
    "  inner()\n",
    "  print('outer',a)\n",
    "\n",
    "\n",
    "outer()\n",
    "print('main program')"
   ]
  },
  {
   "cell_type": "markdown",
   "id": "c2bd5952-c85e-4f5c-a328-b43064387d12",
   "metadata": {},
   "source": [
    "<h3 style=\"color:#F5DD61;font-family:'Lucida Console'\">Decorators</h3>"
   ]
  },
  {
   "cell_type": "markdown",
   "id": "f397ea84-c0df-43f9-899f-12089121ef29",
   "metadata": {},
   "source": [
    "A decorator in python is a function that receives another function as input and adds some functionality(decoration) to and it and returns it.\n",
    "\n",
    "This can happen only because python functions are 1st class citizens.\n",
    "\n",
    "There are 2 types of decorators available in python\n",
    "- `Built in decorators` like `@staticmethod`, `@classmethod`, `@abstractmethod` and `@property` etc\n",
    "- `User defined decorators` that we programmers can create according to our needs"
   ]
  },
  {
   "cell_type": "code",
   "execution_count": 58,
   "id": "326999cf-fb75-4612-adcc-3a71f5caa029",
   "metadata": {},
   "outputs": [
    {
     "data": {
      "text/plain": [
       "100"
      ]
     },
     "execution_count": 58,
     "metadata": {},
     "output_type": "execute_result"
    }
   ],
   "source": [
    "# python are 1st class citizen so we can take a fn as argument and can return it\n",
    "def modify(func,num):\n",
    "    return func(num)\n",
    "def square(num):\n",
    "    return num**2\n",
    "modify(square,10)"
   ]
  },
  {
   "cell_type": "code",
   "execution_count": 66,
   "id": "bd81f4d1-8ae0-4376-a2de-24e2d0990050",
   "metadata": {},
   "outputs": [
    {
     "name": "stdout",
     "output_type": "stream",
     "text": [
      "---------------\n",
      "hello\n",
      "+++++++++++++++\n"
     ]
    }
   ],
   "source": [
    "# example of decorator\n",
    "def my_decorator(func):\n",
    "    def wrapper():\n",
    "        print(\"---------------\")\n",
    "        func()\n",
    "        print(\"+++++++++++++++\")\n",
    "    return wrapper\n",
    "\n",
    "def func1():\n",
    "    print(\"hello\")\n",
    "\n",
    "a=my_decorator(func1)\n",
    "a()"
   ]
  },
  {
   "cell_type": "code",
   "execution_count": 91,
   "id": "69b473f0-fc1b-4c95-92ac-c6ed0ce7a37a",
   "metadata": {},
   "outputs": [
    {
     "name": "stdout",
     "output_type": "stream",
     "text": [
      "Hello to world of  Python\n"
     ]
    }
   ],
   "source": [
    "def decorate(func):\n",
    "    def wrapper(lang):\n",
    "        print(\"Hello to world of \",end=' ')\n",
    "        func(lang)\n",
    "    return wrapper\n",
    "@decorate\n",
    "def func(lang):\n",
    "    print(lang)\n",
    "\n",
    "func(\"Python\")"
   ]
  },
  {
   "cell_type": "markdown",
   "id": "cb816830-d9ba-4279-b8e2-b1b3229f4be3",
   "metadata": {},
   "source": [
    "Points to be take care\n",
    "- wrapper function use \"func\" argument instead parent function\n",
    "- wrapper function finally return a wrapped new function\n",
    "- closure - wrapper function able to use outer function variable and its scope instead outer function no more exist"
   ]
  },
  {
   "cell_type": "code",
   "execution_count": 80,
   "id": "a4e69ca2-92e9-4812-86df-2f0a742b3331",
   "metadata": {},
   "outputs": [
    {
     "name": "stdout",
     "output_type": "stream",
     "text": [
      "5\n"
     ]
    }
   ],
   "source": [
    "def outer():\n",
    "    a=5\n",
    "    def inner():\n",
    "        print(a)\n",
    "    return inner\n",
    "b=outer()\n",
    "b()"
   ]
  },
  {
   "cell_type": "code",
   "execution_count": 83,
   "id": "fb0ef382-1c8c-42ed-95b7-6dfc0934bcdb",
   "metadata": {},
   "outputs": [
    {
     "name": "stdout",
     "output_type": "stream",
     "text": [
      "***********************\n",
      "hello\n",
      "***********************\n"
     ]
    }
   ],
   "source": [
    "# Better syntax# simple example\n",
    "\n",
    "def my_decorator(func):\n",
    "  def wrapper():\n",
    "    print('***********************')\n",
    "    func()\n",
    "    print('***********************')\n",
    "  return wrapper\n",
    "\n",
    "@my_decorator\n",
    "def hello():\n",
    "  print('hello')\n",
    "\n",
    "hello()"
   ]
  },
  {
   "cell_type": "code",
   "execution_count": 85,
   "id": "73113232-cb37-4c06-87e5-89adc11de716",
   "metadata": {},
   "outputs": [
    {
     "name": "stdout",
     "output_type": "stream",
     "text": [
      "hello wolrd\n",
      "time taken by hello 2.0008041858673096 secs\n",
      "4\n",
      "time taken by square 1.0017287731170654 secs\n",
      "8\n",
      "time taken by power 0.0 secs\n"
     ]
    }
   ],
   "source": [
    "# meaningful decorator\n",
    "import time\n",
    "\n",
    "def timer(func):\n",
    "  def wrapper(*args):\n",
    "    start = time.time()\n",
    "    func(*args)\n",
    "    print('time taken by',func.__name__,time.time()-start,'secs')\n",
    "  return wrapper\n",
    "\n",
    "@timer\n",
    "def hello():\n",
    "  print('hello wolrd')\n",
    "  time.sleep(2)\n",
    "\n",
    "@timer\n",
    "def square(num):\n",
    "  time.sleep(1)\n",
    "  print(num**2)\n",
    "\n",
    "@timer\n",
    "def power(a,b):\n",
    "  print(a**b)\n",
    "\n",
    "hello()\n",
    "square(2)\n",
    "power(2,3)\n",
    "\n"
   ]
  },
  {
   "cell_type": "markdown",
   "id": "f2fdaa62-cb1f-47d2-bd5a-60a24dfd608e",
   "metadata": {},
   "source": [
    "### Big problem : checking data type of argument"
   ]
  },
  {
   "cell_type": "code",
   "execution_count": 99,
   "id": "fe00de6a-ecee-45a8-bb20-27a81523a887",
   "metadata": {},
   "outputs": [
    {
     "name": "stdout",
     "output_type": "stream",
     "text": [
      "4\n"
     ]
    }
   ],
   "source": [
    "def sanity_check(data_type):\n",
    "  def outer_wrapper(func):\n",
    "    def inner_wrapper(*args):\n",
    "      if type(*args) == data_type:\n",
    "        func(*args)\n",
    "      else:\n",
    "        raise TypeError('Ye datatype nai chalega')\n",
    "    return inner_wrapper\n",
    "  return outer_wrapper\n",
    "\n",
    "@sanity_check(int)\\\n",
    "\n",
    "def square(num):\n",
    "  print(num**2)\n",
    "\n",
    "@sanity_check(str)\n",
    "def greet(name):\n",
    "  print('hello',name)\n",
    "\n",
    "square(2)"
   ]
  },
  {
   "cell_type": "markdown",
   "id": "675ed439-297e-4a78-a214-678c61345448",
   "metadata": {},
   "source": [
    "\n",
    "### Step-by-Step Flow of the Code\n",
    "\n",
    "1. **Defining the `sanity_check` Decorator Factory**:\n",
    "   - `sanity_check(data_type)` is a decorator factory function. \n",
    "   - It takes `data_type` as an argument (like `int` or `str`), which defines the data type you want to check for in the decorated function’s arguments.\n",
    "\n",
    "2. **Calling `sanity_check(int)` for the `square` Function**:\n",
    "   - `@sanity_check(int)` is applied to the `square` function, so `sanity_check(int)` is called with `data_type` set to `int`.\n",
    "   - This returns the `outer_wrapper` function, with `data_type` now set to `int`.\n",
    "\n",
    "3. **Applying `outer_wrapper` to `square`**:\n",
    "   - `outer_wrapper` takes the `square` function as its `func` argument.\n",
    "   - Inside `outer_wrapper`, it defines `inner_wrapper`, which wraps `func` (the `square` function) with additional functionality.\n",
    "   - `outer_wrapper` returns `inner_wrapper`, so `square` is now replaced by `inner_wrapper`. From this point onward, any call to `square` will actually call `inner_wrapper`.\n",
    "\n",
    "4. **Executing `square(2)`**:\n",
    "   - When `square(2)` is called, it actually invokes `inner_wrapper(2)` due to the decorator.\n",
    "   - Now, `inner_wrapper`:\n",
    "     - Receives `2` as part of `*args`.\n",
    "     - Checks if all arguments in `*args` match the `data_type` (`int` in this case) using `all(isinstance(arg, data_type) for arg in args)`.\n",
    "     - Since `2` is an integer, the check passes.\n",
    "     - `inner_wrapper` then calls `func(*args)`, which is the original `square` function with `num=2`.\n",
    "   - `square(2)` executes and prints `4` (i.e., `2**2`).\n",
    "\n",
    "5. **Calling `greet` with `@sanity_check(str)`**:\n",
    "   - Similarly, `@sanity_check(str)` decorates `greet`, so `sanity_check(str)` is called with `data_type` set to `str`.\n",
    "   - `outer_wrapper` wraps `greet` with `inner_wrapper`, which now checks if all arguments are of type `str` before calling the original `greet` function.\n",
    "\n",
    "6. **Error Handling**:\n",
    "   - If a different data type is passed (e.g., calling `square(\"2\")`), `inner_wrapper` detects a mismatch in types and raises a `TypeError` with the message `\"Ye datatype nai chalega\"`.\n",
    "\n",
    "### Summary\n",
    "The flow includes:\n",
    "1. **Decorator factory (`sanity_check`) setup**.\n",
    "2. **Decorator application** via `outer_wrapper` and `inner_wrapper`.\n",
    "3. **Type-checking logic** in `inner_wrapper`.\n",
    "4. **Execution of the original function** only if the type check passes.\n",
    "5. **Error handling** if the type check fails.\n",
    "\n",
    "This flow ensures the decorated functions only run if the arguments match the specified type, providing type validation as a reusable decorator."
   ]
  },
  {
   "cell_type": "markdown",
   "id": "774c8248-b062-4374-8233-275060ec61c6",
   "metadata": {},
   "source": [
    "## END"
   ]
  }
 ],
 "metadata": {
  "kernelspec": {
   "display_name": "Python 3 (ipykernel)",
   "language": "python",
   "name": "python3"
  },
  "language_info": {
   "codemirror_mode": {
    "name": "ipython",
    "version": 3
   },
   "file_extension": ".py",
   "mimetype": "text/x-python",
   "name": "python",
   "nbconvert_exporter": "python",
   "pygments_lexer": "ipython3",
   "version": "3.12.4"
  }
 },
 "nbformat": 4,
 "nbformat_minor": 5
}
