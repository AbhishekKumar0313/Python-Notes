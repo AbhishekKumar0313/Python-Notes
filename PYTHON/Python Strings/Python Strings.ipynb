{
 "cells": [
  {
   "cell_type": "markdown",
   "id": "1e2c44e4-0ac1-440e-b195-094e76a19423",
   "metadata": {},
   "source": [
    "<h1 style='color:#3FA2F6'>Python <span style=\" color:yellow\">Strings</span></h1>"
   ]
  },
  {
   "cell_type": "markdown",
   "id": "e7177fdb-4c3c-4b87-8ef5-687d209cb6a9",
   "metadata": {},
   "source": [
    "Strings are sequence of Characters\n",
    "\n",
    "In Python specifically, strings are a sequence of Unicode Characters\n",
    "\n",
    "- Creating Strings\n",
    "- Accessing Strings\n",
    "- Adding Chars to Strings\n",
    "- Editing Strings\n",
    "- Deleting Strings\n",
    "- Operations on Strings\n",
    "- String Functions"
   ]
  },
  {
   "cell_type": "markdown",
   "id": "755a7b4f-0743-4986-b236-23fb64782581",
   "metadata": {},
   "source": [
    "<h3 style=\"color:#F5DD61;font-family:'Lucida Console'\">Creating Strings</h3>"
   ]
  },
  {
   "cell_type": "code",
   "execution_count": 15,
   "id": "5998a74a-9ae8-49da-9b44-e26bbea191f8",
   "metadata": {},
   "outputs": [
    {
     "name": "stdout",
     "output_type": "stream",
     "text": [
      "this is a single quote string\n",
      "this is a double quote string\n",
      "this is\n",
      "gonna in mulitline\n",
      "this is a triple quote string\n",
      "this is a string formed using str function\n",
      "this is 'mixed quote' string\n"
     ]
    }
   ],
   "source": [
    "s1='this is a single quote string'\n",
    "s2=\"this is a double quote string\"\n",
    "s3='''this is\n",
    "gonna in mulitline'''\n",
    "s4=\"\"\"this is a triple quote string\"\"\"\n",
    "s5=str(\"this is a string formed using str function\")\n",
    "s6=\"this is 'mixed quote' string\"\n",
    "print(s1,s2,s3,s4,s5,s6,sep='\\n')"
   ]
  },
  {
   "cell_type": "markdown",
   "id": "420dbff8-7e83-43cd-bc08-a701928e4f98",
   "metadata": {},
   "source": [
    "<h3 style=\"color:#F5DD61;font-family:'Lucida Console'\">Accessing substring from a string</h3>"
   ]
  },
  {
   "cell_type": "markdown",
   "id": "8206d7e1-3991-4adc-a407-0ddde8cdcde3",
   "metadata": {},
   "source": [
    "- Indexing\n",
    "  - Negative Indexing\n",
    "  - Positive Indexing\n",
    "- Slicing\n",
    "  - Negative Slicing\n",
    "  - Positive Slicing"
   ]
  },
  {
   "cell_type": "code",
   "execution_count": 34,
   "id": "4d045246-d62b-4b81-9af8-eba4c1533d2c",
   "metadata": {},
   "outputs": [],
   "source": [
    "string=\"Hello World\""
   ]
  },
  {
   "cell_type": "code",
   "execution_count": 36,
   "id": "c3c41c48-8a75-49b6-892c-2249e77ae655",
   "metadata": {},
   "outputs": [
    {
     "name": "stdout",
     "output_type": "stream",
     "text": [
      "H l\n",
      "d r H\n"
     ]
    }
   ],
   "source": [
    "# Positive Indexing\n",
    "print(string[0],string[3])\n",
    "\n",
    "# Negative Indexing\n",
    "print(string[-1],string[-3],string[-11])"
   ]
  },
  {
   "cell_type": "code",
   "execution_count": 50,
   "id": "7bb168aa-dfc7-4c7d-8d21-25fda68a0962",
   "metadata": {},
   "outputs": [
    {
     "name": "stdout",
     "output_type": "stream",
     "text": [
      "without step ----\n",
      "Hello World\n",
      "llo World\n",
      "Hell\n",
      "llo\n",
      "with step ----\n",
      "HloWrd\n",
      "l r\n",
      "Hell\n",
      "llo\n"
     ]
    }
   ],
   "source": [
    "# Positive Slicing\n",
    "print(\"without step ----\",string[::],string[2:],string[:4],string[2:5],sep='\\n')\n",
    "# using step parameter\n",
    "print(\"with step ----\",string[::2],string[2::3],string[:4:1],string[2:5],sep='\\n')\n"
   ]
  },
  {
   "cell_type": "code",
   "execution_count": 58,
   "id": "88480cfb-7a78-4953-add4-9983db747d35",
   "metadata": {},
   "outputs": [
    {
     "name": "stdout",
     "output_type": "stream",
     "text": [
      "without step ----\n",
      "dlroW olleH\n",
      "orl\n",
      "l\n",
      "Wor\n",
      "with step ----\n",
      "dlroW olleH\n",
      "lWlH\n",
      "dlroW \n",
      "\n"
     ]
    }
   ],
   "source": [
    "# Negative Slicing\n",
    "print(\"without step ----\",string[::-1],string[-4:-1],string[-2:-1],string[-5:-2],sep='\\n')\n",
    "# using step parameter\n",
    "print(\"with step ----\",string[::-1],string[-2::-3],string[:4:-1],string[2:5:-1],sep='\\n')\n"
   ]
  },
  {
   "cell_type": "code",
   "execution_count": 82,
   "id": "bbbc3c00-9f30-4bff-958d-331551538754",
   "metadata": {},
   "outputs": [
    {
     "name": "stdout",
     "output_type": "stream",
     "text": [
      "-i-\n",
      "hoj\n",
      "=jo\n"
     ]
    }
   ],
   "source": [
    "string=\"hii-i-am=john\"\n",
    "print(string[5:2:-1])\n",
    "print(string[-2:-5:-1])\n",
    "print(string[-5:-2:1])"
   ]
  },
  {
   "cell_type": "markdown",
   "id": "e75af7f2-a7c7-4a38-aa6d-0bda93d785ad",
   "metadata": {},
   "source": [
    "<h3 style=\"color:#F5DD61;font-family:'Lucida Console'\">Editing and Deleting in a string</h3>"
   ]
  },
  {
   "cell_type": "markdown",
   "id": "aca582b3-218e-4f84-9594-d5c4e93d3512",
   "metadata": {},
   "source": [
    "#### Strings are immutable - we cannot do changes in a string like editing or deletion but we can delete whole string."
   ]
  },
  {
   "cell_type": "code",
   "execution_count": 102,
   "id": "7a4369ac-fe8e-48e2-bfeb-226224abee96",
   "metadata": {},
   "outputs": [],
   "source": [
    "s=\"Hello world\"\n",
    "# s[0]=\"W\" not possible\n",
    "# del s[3] not possible\n",
    "del s"
   ]
  },
  {
   "cell_type": "markdown",
   "id": "38c05c7f-e3a1-4040-a1eb-4eaed80e97e0",
   "metadata": {},
   "source": [
    "<h3 style=\"color:#F5DD61;font-family:'Lucida Console'\">Operations on Strings</h3>"
   ]
  },
  {
   "cell_type": "markdown",
   "id": "d3a2e92e-9174-4da2-842e-65c7cfb6934b",
   "metadata": {},
   "source": [
    "- Arithmetic Operations\n",
    "- Relational Operations\n",
    "- Logical Operations\n",
    "- Loops on Strings\n",
    "- Membership Operations"
   ]
  },
  {
   "cell_type": "code",
   "execution_count": 132,
   "id": "a22568da-0012-4630-97e6-307a76091c6e",
   "metadata": {},
   "outputs": [
    {
     "name": "stdout",
     "output_type": "stream",
     "text": [
      "This is gonna concatenate using + sign\n",
      "5 times5 times5 times5 times5 times\n",
      "False True True\n",
      "Delhi  space\n"
     ]
    }
   ],
   "source": [
    "# Arithmetic\n",
    "print(\"This is gonna \"+\"concatenate \"+\"using + sign\")\n",
    "print(\"5 times\"*5)\n",
    "# Relational\n",
    "print(\"Delhi\">\"delhi\",\"Delhi\"<\"delhi\",\"Delhi\"!=\"delhi\",sep=\" \")\n",
    "# Logical\n",
    "print(\"Delhi\"or \"Mumbai\",\"\" and \"Mumbai\",\" \" and \"space\")"
   ]
  },
  {
   "cell_type": "code",
   "execution_count": 134,
   "id": "682c123f-fd74-4b0b-a301-99d06569eb5f",
   "metadata": {},
   "outputs": [
    {
     "name": "stdout",
     "output_type": "stream",
     "text": [
      "l o o p e d   s t r i n g "
     ]
    }
   ],
   "source": [
    "# Loops in string\n",
    "for i in \"looped string\":\n",
    "    print(i,end=\" \")"
   ]
  },
  {
   "cell_type": "code",
   "execution_count": 136,
   "id": "5150ee89-36ec-48e8-a19c-b13a3d77c4c8",
   "metadata": {},
   "outputs": [
    {
     "data": {
      "text/plain": [
       "False"
      ]
     },
     "execution_count": 136,
     "metadata": {},
     "output_type": "execute_result"
    }
   ],
   "source": [
    "# Membership \n",
    "'M' in \"mumbai\""
   ]
  },
  {
   "cell_type": "markdown",
   "id": "c053d0e5-42b0-41a3-bfea-4ee18b637ce2",
   "metadata": {},
   "source": [
    "<h3 style=\"color:#F5DD61;font-family:'Lucida Console'\">Common Functions</h3>"
   ]
  },
  {
   "cell_type": "code",
   "execution_count": 150,
   "id": "6916538a-0a02-45b4-b09b-ce6f65269d14",
   "metadata": {},
   "outputs": [],
   "source": [
    "string=\"Hello-World\""
   ]
  },
  {
   "cell_type": "code",
   "execution_count": 158,
   "id": "0a283255-1708-4c03-abaf-00f38fee34b4",
   "metadata": {},
   "outputs": [
    {
     "name": "stdout",
     "output_type": "stream",
     "text": [
      "11\n",
      "r\n",
      "-\n",
      "['-', 'H', 'W', 'd', 'e', 'l', 'l', 'l', 'o', 'o', 'r']\n",
      "['r', 'o', 'o', 'l', 'l', 'l', 'e', 'd', 'W', 'H', '-']\n"
     ]
    }
   ],
   "source": [
    "# len, max, min, sorted \n",
    "print(len(string),max(string),min(string),sorted(string),sorted(string,reverse=True),sep=\"\\n\")"
   ]
  },
  {
   "cell_type": "code",
   "execution_count": 172,
   "id": "a8d06851-c9ec-4d42-92e8-4a1989d94eb7",
   "metadata": {},
   "outputs": [
    {
     "name": "stdout",
     "output_type": "stream",
     "text": [
      "Hello-world\n",
      "Hello-World\n",
      "HELLO-WORLD\n",
      "hello-world\n",
      "HELLo-WOrLD\n"
     ]
    }
   ],
   "source": [
    "# capitalize, Title, Upper, Lower, Swapcase\n",
    "string=\"hellO-woRld\"\n",
    "print(string.capitalize(),string.title(),string.upper(),string.lower(),string.swapcase(),sep='\\n')"
   ]
  },
  {
   "cell_type": "code",
   "execution_count": 188,
   "id": "49e1f146-2e8b-4b58-84f9-8adfc98668c9",
   "metadata": {},
   "outputs": [
    {
     "name": "stdout",
     "output_type": "stream",
     "text": [
      "5 12 0 3\n"
     ]
    }
   ],
   "source": [
    "# count, find, index\n",
    "string=\"string is a set of characters in a string\"\n",
    "print(string.count('s'),string.find('set'),string.find('string'),string.index('in'))\n",
    "\n",
    "# difference between index and find is that if an element is not present in string \n",
    "# then index will throw error whereas find will give -1"
   ]
  },
  {
   "cell_type": "code",
   "execution_count": 196,
   "id": "deb87ad1-5aef-4ee8-af59-79d7158669d7",
   "metadata": {},
   "outputs": [
    {
     "name": "stdout",
     "output_type": "stream",
     "text": [
      "True True\n"
     ]
    }
   ],
   "source": [
    "# endswith and startswith\n",
    "string=\"Hello world\"\n",
    "print(string.endswith('rld'),string.startswith('He'))"
   ]
  },
  {
   "cell_type": "code",
   "execution_count": 198,
   "id": "2e642ad4-6e56-4a3f-baa3-19b4ee3ae970",
   "metadata": {},
   "outputs": [
    {
     "name": "stdout",
     "output_type": "stream",
     "text": [
      "Hi my name is Abhishek and I am a male\n",
      "Hi my name is Abhishek and I am a male\n"
     ]
    }
   ],
   "source": [
    "# format\n",
    "name = 'Abhishek'\n",
    "gender = 'male'\n",
    "\n",
    "print('Hi my name is {1} and I am a {0}'.format(gender,name))\n",
    "print(f\"Hi my name is {name} and I am a {gender}\")\n"
   ]
  },
  {
   "cell_type": "code",
   "execution_count": 200,
   "id": "6807c3d3-cc68-4088-a925-0f72c8dafc8e",
   "metadata": {},
   "outputs": [],
   "source": [
    "# isalpha, isalnum, isdigit, isidentifier"
   ]
  },
  {
   "cell_type": "code",
   "execution_count": 206,
   "id": "6376c9d2-2954-42e0-bc7f-121b71abce0b",
   "metadata": {},
   "outputs": [
    {
     "name": "stdout",
     "output_type": "stream",
     "text": [
      "True False False\n",
      "True True False\n",
      "False True False\n",
      "True False False\n"
     ]
    }
   ],
   "source": [
    "string=\"helloworld\"\n",
    "digit=\"1234\"\n",
    "mixed=\"124@akfj\"\n",
    "print(string.isalpha(),digit.isalpha(),mixed.isalpha())\n",
    "print(string.isalnum(),digit.isalnum(),mixed.isalnum())\n",
    "print(string.isdigit(),digit.isdigit(),mixed.isdigit())\n",
    "print(string.isidentifier(),digit.isidentifier(),mixed.isidentifier())"
   ]
  },
  {
   "cell_type": "code",
   "execution_count": 222,
   "id": "10b3e62d-0c8f-42bb-ad1c-5e7bd86175d6",
   "metadata": {},
   "outputs": [
    {
     "name": "stdout",
     "output_type": "stream",
     "text": [
      "['hellow', 'split', 'it', 'is']\n"
     ]
    },
    {
     "data": {
      "text/plain": [
       "'this is gonna join'"
      ]
     },
     "execution_count": 222,
     "metadata": {},
     "output_type": "execute_result"
    }
   ],
   "source": [
    "# split and join\n",
    "string=\"hellow split it is\"\n",
    "print(string.split())\n",
    "\" \".join([\"this\",\"is\",\"gonna\",\"join\"])"
   ]
  },
  {
   "cell_type": "code",
   "execution_count": 224,
   "id": "2146d6b0-b1de-4511-aa30-94756b3731e5",
   "metadata": {},
   "outputs": [
    {
     "data": {
      "text/plain": [
       "\"this will change 'change with change'\""
      ]
     },
     "execution_count": 224,
     "metadata": {},
     "output_type": "execute_result"
    }
   ],
   "source": [
    "# replace\n",
    "\"this will replace 'replace with change'\".replace('replace','change')"
   ]
  },
  {
   "cell_type": "code",
   "execution_count": 228,
   "id": "f0424549-284d-4eac-8ce7-1addb5553d1f",
   "metadata": {},
   "outputs": [
    {
     "name": "stdout",
     "output_type": "stream",
     "text": [
      "left stripped then right stripped    \n",
      "     left stripped then right stripped\n",
      "left stripped then right stripped\n"
     ]
    }
   ],
   "source": [
    "# strip\n",
    "string=\"     left stripped then right stripped    \"\n",
    "print(string.lstrip(),string.rstrip(),string.strip(),sep=\"\\n\")"
   ]
  },
  {
   "cell_type": "markdown",
   "id": "e9b6e65f-189b-4aed-aab5-bd623446285e",
   "metadata": {},
   "source": [
    "<h3 style=\"color:red;font-family:'Lucida Console'\">Program -</h3>"
   ]
  },
  {
   "cell_type": "markdown",
   "id": "3e147d7b-2927-4bfa-b8c8-dbcfa9c9fd23",
   "metadata": {},
   "source": [
    "#### Find the length of a given string without using the len() function"
   ]
  },
  {
   "cell_type": "code",
   "execution_count": 239,
   "id": "28867f3c-84ae-4604-be52-76db67d57e2c",
   "metadata": {},
   "outputs": [
    {
     "name": "stdin",
     "output_type": "stream",
     "text": [
      "enter a string this is a string\n"
     ]
    },
    {
     "name": "stdout",
     "output_type": "stream",
     "text": [
      "length of this is a string is 16\n"
     ]
    }
   ],
   "source": [
    "string=input(\"enter a string\")\n",
    "count=0\n",
    "for i in string:\n",
    "    count+=1\n",
    "print(f\"length of {string} is {count}\")"
   ]
  },
  {
   "cell_type": "markdown",
   "id": "f4067b3c-cb82-4a14-bc80-9e35c03c6aaa",
   "metadata": {},
   "source": [
    "#### Extract username from a given email."
   ]
  },
  {
   "cell_type": "code",
   "execution_count": 242,
   "id": "97c994a5-5af6-4c65-9cae-f24a02e13bb8",
   "metadata": {},
   "outputs": [
    {
     "name": "stdin",
     "output_type": "stream",
     "text": [
      "enter your email abhi.keshri0313@gmail.com\n"
     ]
    },
    {
     "name": "stdout",
     "output_type": "stream",
     "text": [
      "abhi.keshri0313\n"
     ]
    }
   ],
   "source": [
    "email=input(\"enter your email\")\n",
    "username=email.split('@')[0]\n",
    "print(username)"
   ]
  },
  {
   "cell_type": "markdown",
   "id": "3134c76f-882b-4b67-82d2-2fee79189a2d",
   "metadata": {},
   "source": [
    "#### Count the frequency of a particular character in a provided string."
   ]
  },
  {
   "cell_type": "code",
   "execution_count": 247,
   "id": "74788fc5-0e65-4a7c-8da7-3bece8599982",
   "metadata": {},
   "outputs": [
    {
     "name": "stdin",
     "output_type": "stream",
     "text": [
      "enter a string this is a string\n",
      "enter your character t\n"
     ]
    },
    {
     "name": "stdout",
     "output_type": "stream",
     "text": [
      "number of t in this is a string is 2\n"
     ]
    }
   ],
   "source": [
    "string=input(\"enter a string\")\n",
    "char=input(\"enter your character\")\n",
    "count=0\n",
    "for i in string:\n",
    "    if i==char:\n",
    "        count+=1\n",
    "print(f\"number of {char} in {string} is {count}\")"
   ]
  },
  {
   "cell_type": "markdown",
   "id": "bf6ef02f-cc9d-4a1f-aa21-4f2a360a5cdb",
   "metadata": {},
   "source": [
    "#### Write a program which can remove a particular character from a string."
   ]
  },
  {
   "cell_type": "code",
   "execution_count": 252,
   "id": "8d401214-3393-4897-9259-dddbb202bfa4",
   "metadata": {},
   "outputs": [
    {
     "name": "stdin",
     "output_type": "stream",
     "text": [
      "enter a string this is a string\n",
      "enter your character t\n"
     ]
    },
    {
     "name": "stdout",
     "output_type": "stream",
     "text": [
      "his is a sring\n"
     ]
    }
   ],
   "source": [
    "string=input(\"enter a string\")\n",
    "char=input(\"enter your character\")\n",
    "res=\"\"\n",
    "for i in string:\n",
    "    if i!=char:\n",
    "        res+=i\n",
    "print(res)"
   ]
  },
  {
   "cell_type": "markdown",
   "id": "fbbeb63d-19ee-48bc-8bb0-f52577977e1e",
   "metadata": {},
   "source": [
    "#### Write a program that can check whether a given string is palindrome or not.\n"
   ]
  },
  {
   "cell_type": "code",
   "execution_count": 261,
   "id": "539cac7a-da68-497c-9cbe-4b848276566d",
   "metadata": {},
   "outputs": [
    {
     "name": "stdin",
     "output_type": "stream",
     "text": [
      "enter a string naman\n"
     ]
    },
    {
     "name": "stdout",
     "output_type": "stream",
     "text": [
      " it is a palindrome\n"
     ]
    }
   ],
   "source": [
    "string=input(\"enter a string\")\n",
    "l=0;r=len(string)-1\n",
    "check=True\n",
    "while l<=r:\n",
    "    if string[l]!=string[r]:\n",
    "        print(\"not a palindrome\")\n",
    "        check=False\n",
    "        break\n",
    "    l+=1\n",
    "    r-=1\n",
    "if check:\n",
    "    print(\" it is a palindrome\")\n",
    "    "
   ]
  },
  {
   "cell_type": "markdown",
   "id": "b028c876-078a-4a0b-8532-ac7781ec214f",
   "metadata": {},
   "source": [
    "####  Write a program to count the number of words in a string without split()\n"
   ]
  },
  {
   "cell_type": "code",
   "execution_count": 264,
   "id": "954ba711-b884-4f2f-8ab5-398410b0ed12",
   "metadata": {},
   "outputs": [
    {
     "name": "stdin",
     "output_type": "stream",
     "text": [
      "enter a string this is a string\n"
     ]
    },
    {
     "name": "stdout",
     "output_type": "stream",
     "text": [
      "number of words in this is a string is 4\n"
     ]
    }
   ],
   "source": [
    "string=input(\"enter a string\")\n",
    "count=0\n",
    "for i in string:\n",
    "    if i==\" \":\n",
    "        count+=1\n",
    "print(f\"number of words in {string} is {count+1}\")"
   ]
  },
  {
   "cell_type": "markdown",
   "id": "d84c9d27-ddbe-4e3e-8027-d22892867524",
   "metadata": {},
   "source": [
    "#### Write a python program to convert a string to title case without using the title()\n"
   ]
  },
  {
   "cell_type": "code",
   "execution_count": 273,
   "id": "d8c142b5-b10e-4031-ad03-a5a6aa49330d",
   "metadata": {},
   "outputs": [
    {
     "name": "stdin",
     "output_type": "stream",
     "text": [
      "enter a string this is a string\n"
     ]
    },
    {
     "name": "stdout",
     "output_type": "stream",
     "text": [
      "This Is A String\n"
     ]
    }
   ],
   "source": [
    "string=input(\"enter a string\")\n",
    "res=\"\"\n",
    "for i in range(len(string)):\n",
    "    if i==0 or string[i-1]==\" \":\n",
    "        res+=string[i].upper()\n",
    "    else:\n",
    "        res+=string[i]\n",
    "print(res)"
   ]
  },
  {
   "cell_type": "markdown",
   "id": "d95b6303-a1ba-49e4-9979-222c64bfe98e",
   "metadata": {},
   "source": [
    "#### Write a program that can convert an integer to string.\n"
   ]
  },
  {
   "cell_type": "code",
   "execution_count": 283,
   "id": "098bd64f-9bfe-463f-bbfe-759413098a88",
   "metadata": {},
   "outputs": [
    {
     "name": "stdin",
     "output_type": "stream",
     "text": [
      "enter a number 1234\n"
     ]
    },
    {
     "name": "stdout",
     "output_type": "stream",
     "text": [
      "1234 <class 'str'>\n"
     ]
    }
   ],
   "source": [
    "num=int(input(\"enter a number\"))\n",
    "digits=\"0123456789\"\n",
    "res=\"\"\n",
    "while num:\n",
    "    res=digits[num%10]+res\n",
    "    num//=10\n",
    "print(res,type(res))"
   ]
  }
 ],
 "metadata": {
  "kernelspec": {
   "display_name": "Python 3 (ipykernel)",
   "language": "python",
   "name": "python3"
  },
  "language_info": {
   "codemirror_mode": {
    "name": "ipython",
    "version": 3
   },
   "file_extension": ".py",
   "mimetype": "text/x-python",
   "name": "python",
   "nbconvert_exporter": "python",
   "pygments_lexer": "ipython3",
   "version": "3.12.4"
  }
 },
 "nbformat": 4,
 "nbformat_minor": 5
}
