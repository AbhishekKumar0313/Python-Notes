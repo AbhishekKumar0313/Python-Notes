{
 "cells": [
  {
   "cell_type": "markdown",
   "id": "8b6e7bdd-8d5b-4308-8613-a34143659cad",
   "metadata": {},
   "source": [
    "<h2 style='color:#00FF9C'>Portfolio Website Details</h2>"
   ]
  },
  {
   "cell_type": "markdown",
   "id": "6d9cb633-1c7b-413a-966b-a8b832cbd672",
   "metadata": {},
   "source": [
    "<h3 style='color:#FF6500'>Things to remeber : -</h3>"
   ]
  },
  {
   "cell_type": "markdown",
   "id": "be3dc70b-15a8-4494-9ec0-5df630033d6d",
   "metadata": {},
   "source": [
    "- Have a video resume\n",
    "- Have full resume embedded in a fresh page\n",
    "- organize every project properly in the grid\n",
    "- Create blogs in medium.com\n",
    "- courses and cetifications\n",
    "  "
   ]
  },
  {
   "cell_type": "markdown",
   "id": "d1d43a29-b3c6-44f2-9ce2-643a88e3ee22",
   "metadata": {},
   "source": [
    "<h3 style='color:#FF6500'>Ways to create website </h3>"
   ]
  },
  {
   "cell_type": "markdown",
   "id": "18522f79-11fd-464c-8de0-cce0c7733cd0",
   "metadata": {},
   "source": [
    "- Google sites - drag and drop like WIX\n",
    "- Using Html,CSS - download html template - htmlUP"
   ]
  },
  {
   "cell_type": "markdown",
   "id": "7c9856c9-8af4-4625-b328-dc9a1ee4541f",
   "metadata": {},
   "source": [
    "<h3 style='color:#FF6500'>Ways to host website using github </h3>"
   ]
  },
  {
   "cell_type": "markdown",
   "id": "b643e582-f69f-4afc-b4b3-4a7f64841fc7",
   "metadata": {},
   "source": [
    "- create new repository\n",
    "- upload all code in repo in same structure as it is\n",
    "- commit\n",
    "- in setting -> github pages -> select main then save\n",
    "- get a URL "
   ]
  }
 ],
 "metadata": {
  "kernelspec": {
   "display_name": "Python 3 (ipykernel)",
   "language": "python",
   "name": "python3"
  },
  "language_info": {
   "codemirror_mode": {
    "name": "ipython",
    "version": 3
   },
   "file_extension": ".py",
   "mimetype": "text/x-python",
   "name": "python",
   "nbconvert_exporter": "python",
   "pygments_lexer": "ipython3",
   "version": "3.12.4"
  }
 },
 "nbformat": 4,
 "nbformat_minor": 5
}
