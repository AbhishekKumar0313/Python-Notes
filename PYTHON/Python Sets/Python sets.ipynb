{
 "cells": [
  {
   "cell_type": "markdown",
   "id": "28873383-a7a0-4e1b-89e9-ec62f54d01a4",
   "metadata": {},
   "source": [
    "<h1 style='color:#3FA2F6'>Python <span style=\" color:yellow\">Sets</span></h1>"
   ]
  },
  {
   "cell_type": "markdown",
   "id": "14a62450-e4d9-4711-82b2-34443dfb8552",
   "metadata": {},
   "source": [
    "A set is an unordered collection of items. Every set element is unique (no duplicates) and must be immutable (cannot be changed).\n",
    "\n",
    "However, a set itself is mutable. We can add or remove items from it.\n",
    "\n",
    "Sets can also be used to perform mathematical set operations like union, intersection, symmetric difference, etc.\n",
    "\n",
    "Characterstics:\n",
    "- Unordered\n",
    "- Mutable\n",
    "- No Duplicates\n",
    "- Can't contain mutable data types"
   ]
  },
  {
   "cell_type": "markdown",
   "id": "d798705c-aa44-4c76-af6c-c5c7e3ffbcb0",
   "metadata": {},
   "source": [
    "<h3 style=\"color:#F5DD61;font-family:'Lucida Console'\">Creating sets</h3>"
   ]
  },
  {
   "cell_type": "code",
   "execution_count": 10,
   "id": "e0365235-2ad1-482f-8b22-4c0e308ec9e9",
   "metadata": {},
   "outputs": [
    {
     "name": "stdout",
     "output_type": "stream",
     "text": [
      "set()\n",
      "<class 'set'>\n",
      "{1, 2, 3}\n",
      "{1, 'hello', (1, 2, 3), 4.5}\n",
      "{1, 2, 3}\n",
      "{1, 2, 3}\n"
     ]
    }
   ],
   "source": [
    "# empty\n",
    "s = set()\n",
    "print(s)\n",
    "print(type(s))\n",
    "# 1D and 2D\n",
    "s1 = {1,2,3}\n",
    "print(s1)\n",
    "# cannot create a 2d set because the set is itself mutable but it cannot store mutable datan type\n",
    "#s2 = {1,2,3,{4,5}}\n",
    "#print(s2)\n",
    "# homo and hetero\n",
    "s3 = {1,'hello',4.5,(1,2,3)}\n",
    "print(s3)\n",
    "# using type conversion\n",
    "\n",
    "s4 = set([1,2,3])\n",
    "print(s4)\n",
    "# Duplicates not allowed\n",
    "s5 = {1,1,2,2,3,3}\n",
    "print(s5)\n",
    "# set can't have mutable items\n",
    "# s6 = {1,2,[3,4]}\n",
    "# print(s6)"
   ]
  },
  {
   "cell_type": "code",
   "execution_count": 12,
   "id": "f187a1f1-5e58-4bf6-b395-ada9df0de27d",
   "metadata": {},
   "outputs": [
    {
     "name": "stdout",
     "output_type": "stream",
     "text": [
      "True\n"
     ]
    }
   ],
   "source": [
    "# sets are unordered -\n",
    "s1 = {1,2,3}\n",
    "s2 = {3,2,1}\n",
    "\n",
    "print(s1 == s2)"
   ]
  },
  {
   "cell_type": "markdown",
   "id": "17bc7188-0b4c-4a0c-9b00-9ec875e173bb",
   "metadata": {},
   "source": [
    "<h3 style=\"color:#F5DD61;font-family:'Lucida Console'\">Accessing items</h3>"
   ]
  },
  {
   "cell_type": "code",
   "execution_count": 23,
   "id": "ef700cde-65cb-4566-b2c7-e6b6876e7f97",
   "metadata": {},
   "outputs": [],
   "source": [
    "# Since it is unordered indexing and slicing will not work\n",
    "s={1,2,3,5.34}\n",
    "# s[1:3]"
   ]
  },
  {
   "cell_type": "markdown",
   "id": "e0f0b959-ae7c-4208-ac64-9b54394ddf54",
   "metadata": {},
   "source": [
    "<h3 style=\"color:#F5DD61;font-family:'Lucida Console'\">Editing items</h3>"
   ]
  },
  {
   "cell_type": "code",
   "execution_count": 29,
   "id": "399f8666-b6dc-49cc-8dee-e5479229dd90",
   "metadata": {},
   "outputs": [],
   "source": [
    "# since it is unordered so editing is also not possible\n",
    "s={234,45,52,11}\n",
    "# s[0]=23\n"
   ]
  },
  {
   "cell_type": "markdown",
   "id": "a1c98c97-633e-4114-9223-619ca0aef569",
   "metadata": {},
   "source": [
    "\n",
    "<h3 style=\"color:#F5DD61;font-family:'Lucida Console'\">Adding items</h3>"
   ]
  },
  {
   "cell_type": "code",
   "execution_count": 48,
   "id": "344353ba-2c52-4cf3-a6fe-1c7088c4c0da",
   "metadata": {},
   "outputs": [
    {
     "name": "stdout",
     "output_type": "stream",
     "text": [
      "{False, 1.34, 34, 2, 354, True, 23}\n",
      "{False, 1.34, 34, 2, 354, True, (3+5j), 23}\n"
     ]
    }
   ],
   "source": [
    "# using add method - we can add new elemnent\n",
    "s={34,354,2,1.34,23,True}\n",
    "s.add(False)\n",
    "print(s)\n",
    "\n",
    "# using update we can add multiple items by using a list\n",
    "s.update([23,3+5j,False])\n",
    "print(s)"
   ]
  },
  {
   "cell_type": "markdown",
   "id": "11773dbc-d942-4224-874e-670db761cee6",
   "metadata": {},
   "source": [
    "\n",
    "<h3 style=\"color:#F5DD61;font-family:'Lucida Console'\">Deleting items</h3>"
   ]
  },
  {
   "cell_type": "code",
   "execution_count": 79,
   "id": "8f01f442-d93f-4e2d-8b02-577e0b933eb7",
   "metadata": {},
   "outputs": [
    {
     "name": "stdout",
     "output_type": "stream",
     "text": [
      "{88, 34, 767, 23}\n",
      "{67, 899, 341, 346}\n",
      "{14, 134, 55}\n",
      "set()\n"
     ]
    }
   ],
   "source": [
    "# using del keyword , we can only delete whole set\n",
    "s={34,45,67,234,6}\n",
    "# del s[1] - not possible as it is unordered\n",
    "del s\n",
    "\n",
    "# discard - delete specific element if exist else print current set\n",
    "s={34,767,23,88}\n",
    "s.discard(24)\n",
    "print(s)\n",
    "\n",
    "# remove - it also remove element from set but give error if not present in set\n",
    "s={34,67,899,346,341}\n",
    "s.remove(34)\n",
    "print(s)\n",
    "\n",
    "# pop - remove any element from set\n",
    "s={12,134,14,55}\n",
    "s.pop()\n",
    "print(s)\n",
    "\n",
    "# clear - empty the set\n",
    "s.clear()\n",
    "print(s)"
   ]
  },
  {
   "cell_type": "markdown",
   "id": "0ababe71-06b8-4a4a-b286-1db820a0b8d7",
   "metadata": {},
   "source": [
    "<h3 style=\"color:#F5DD61;font-family:'Lucida Console'\">Set operations</h3>"
   ]
  },
  {
   "cell_type": "code",
   "execution_count": 82,
   "id": "0f572629-43c3-4eee-829f-4f4ce1c8e686",
   "metadata": {},
   "outputs": [
    {
     "name": "stdout",
     "output_type": "stream",
     "text": [
      "{1, 2, 3, 4, 5, 6, 7, 8}\n",
      "{4, 5}\n",
      "{1, 2, 3}\n",
      "{8, 6, 7}\n",
      "{1, 2, 3, 6, 7, 8}\n",
      "False\n",
      "1\n",
      "2\n",
      "3\n",
      "4\n",
      "5\n"
     ]
    }
   ],
   "source": [
    "s1 = {1,2,3,4,5}\n",
    "s2 = {4,5,6,7,8}\n",
    "\n",
    "# union\n",
    "print(s1 | s2)\n",
    "# Intersection(&)\n",
    "print(s1 & s2)\n",
    "# Difference(-)\n",
    "print(s1 - s2)\n",
    "print(s2 - s1)\n",
    "# Symmetric Difference(^)\n",
    "print(s1 ^ s2)\n",
    "# Membership Test\n",
    "print(1 not in s1)\n",
    "# Iteration\n",
    "for i in s1:\n",
    "  print(i)"
   ]
  },
  {
   "cell_type": "markdown",
   "id": "a1ac4f58-b954-4a6b-93ad-e4c2eed3e370",
   "metadata": {},
   "source": [
    "<h3 style=\"color:#F5DD61;font-family:'Lucida Console'\">Set functions</h3>"
   ]
  },
  {
   "cell_type": "code",
   "execution_count": 88,
   "id": "690f0ff3-1440-4b37-aa7e-624064bdebe8",
   "metadata": {},
   "outputs": [
    {
     "name": "stdout",
     "output_type": "stream",
     "text": [
      "6 22 1 7 [7, 5, 4, 3, 2, 1]\n"
     ]
    }
   ],
   "source": [
    "# len/sum/min/max/sorted\n",
    "s = {3,1,4,5,2,7}\n",
    "print(len(s),sum(s),min(s),max(s),sorted(s,reverse=True))"
   ]
  },
  {
   "cell_type": "code",
   "execution_count": 110,
   "id": "b78d19af-65a7-4d53-985b-ec0d8510689c",
   "metadata": {},
   "outputs": [
    {
     "name": "stdout",
     "output_type": "stream",
     "text": [
      "{1, 2, 3, 4, 5, 6, 7, 8}\n",
      "{1, 2, 3, 4, 5, 6, 7, 8}\n",
      "{4, 5, 6, 7, 8}\n",
      "{4, 5}\n",
      "None\n",
      "{4, 5}\n",
      "{4, 5, 6, 7, 8}\n"
     ]
    }
   ],
   "source": [
    "s1 = {1,2,3,4,5}\n",
    "s2 = {4,5,6,7,8}\n",
    "\n",
    "# union/update - s1|s2\n",
    "print(s1.union(s2))\n",
    "# update permanently change the set\n",
    "s1.update(s2)\n",
    "print(s1)\n",
    "print(s2)\n",
    "# intersection/intersection_update\n",
    "s1 = {1,2,3,4,5}\n",
    "s2 = {4,5,6,7,8}\n",
    "\n",
    "print(s1.intersection(s2))\n",
    "\n",
    "print(s1.intersection_update(s2))\n",
    "print(s1)\n",
    "print(s2)"
   ]
  },
  {
   "cell_type": "code",
   "execution_count": 112,
   "id": "1efdf9e6-2149-4e08-8323-ff0870591977",
   "metadata": {},
   "outputs": [
    {
     "name": "stdout",
     "output_type": "stream",
     "text": [
      "{1, 2, 3}\n",
      "None\n",
      "{1, 2, 3}\n",
      "{4, 5, 6, 7, 8}\n",
      "{1, 2, 3, 6, 7, 8}\n",
      "None\n",
      "{1, 2, 3, 6, 7, 8}\n",
      "{4, 5, 6, 7, 8}\n"
     ]
    }
   ],
   "source": [
    "# difference/difference_update\n",
    "s1 = {1,2,3,4,5}\n",
    "s2 = {4,5,6,7,8}\n",
    "\n",
    "print(s1.difference(s2))\n",
    "\n",
    "print(s1.difference_update(s2))\n",
    "print(s1)\n",
    "print(s2)\n",
    "# symmetric_difference/symmetric_difference_update\n",
    "s1 = {1,2,3,4,5}\n",
    "s2 = {4,5,6,7,8}\n",
    "\n",
    "print(s1.symmetric_difference(s2))\n",
    "\n",
    "print(s1.symmetric_difference_update(s2))\n",
    "print(s1)\n",
    "print(s2)"
   ]
  },
  {
   "cell_type": "code",
   "execution_count": 104,
   "id": "4dfff767-ee59-4053-9df6-bd3c8166b045",
   "metadata": {},
   "outputs": [
    {
     "name": "stdout",
     "output_type": "stream",
     "text": [
      "True\n",
      "True\n",
      "{1, 2, 3} 2270688948768\n",
      "{1, 2, 3} 2270688948320\n"
     ]
    }
   ],
   "source": [
    "# isdisjoint/issubset/issuperset\n",
    "s1 = {1,2,3,4}\n",
    "s2 = {7,8,5,6}\n",
    "\n",
    "print(s1.isdisjoint(s2))\n",
    "\n",
    "# superset check method\n",
    "s1 = {1,2,3,4,5}\n",
    "s2 = {3,4,5}\n",
    "\n",
    "print(s1.issuperset(s2))\n",
    "# copy\n",
    "s1 = {1,2,3}\n",
    "s2 = s1.copy()\n",
    "\n",
    "print(s1,id(s1))\n",
    "print(s2,id(s2))"
   ]
  },
  {
   "cell_type": "markdown",
   "id": "dc3511bb-8955-4ae4-a58d-cc9609d66b2c",
   "metadata": {},
   "source": [
    "<h3 style=\"color:#F5DD61;font-family:'Lucida Console'\">Frozen set</h3>"
   ]
  },
  {
   "cell_type": "markdown",
   "id": "92fe3947-1dff-4594-8098-383812c60f80",
   "metadata": {},
   "source": [
    "Frozen set is just an immutable version of a Python set object\n",
    "- what works and what does not\n",
    "- works -> all read functions\n",
    "- does't work -> write operations"
   ]
  },
  {
   "cell_type": "code",
   "execution_count": 117,
   "id": "67648343-8deb-4784-83e7-b5d85b186a58",
   "metadata": {},
   "outputs": [
    {
     "data": {
      "text/plain": [
       "frozenset({1, 2, 3, 4, 5})"
      ]
     },
     "execution_count": 117,
     "metadata": {},
     "output_type": "execute_result"
    }
   ],
   "source": [
    "# create frozenset\n",
    "fs1 = frozenset([1,2,3])\n",
    "fs2 = frozenset([3,4,5])\n",
    "\n",
    "fs1 | fs2"
   ]
  },
  {
   "cell_type": "code",
   "execution_count": 124,
   "id": "9982984c-9f94-4283-929c-7fa02e22f6d7",
   "metadata": {
    "jp-MarkdownHeadingCollapsed": true
   },
   "outputs": [
    {
     "data": {
      "text/plain": [
       "frozenset({1, 2, frozenset({3, 4})})"
      ]
     },
     "execution_count": 124,
     "metadata": {},
     "output_type": "execute_result"
    }
   ],
   "source": [
    "# When to use\n",
    "# 2D sets\n",
    "fs = frozenset([1,2,frozenset([3,4])])\n",
    "fs"
   ]
  },
  {
   "cell_type": "code",
   "execution_count": null,
   "id": "b3a37162-103f-40a1-b866-ba231d089a3d",
   "metadata": {},
   "outputs": [],
   "source": []
  },
  {
   "cell_type": "markdown",
   "id": "72e30ee1-ac99-418d-b945-412d14b52f4a",
   "metadata": {},
   "source": [
    "<h3 style=\"color:#F5DD61;font-family:'Lucida Console'\">Set comprehension</h3>"
   ]
  },
  {
   "cell_type": "code",
   "execution_count": 130,
   "id": "015d790f-d3bd-4c77-986b-639a2b00aa11",
   "metadata": {},
   "outputs": [
    {
     "data": {
      "text/plain": [
       "{36, 49, 64, 81, 100}"
      ]
     },
     "execution_count": 130,
     "metadata": {},
     "output_type": "execute_result"
    }
   ],
   "source": [
    "# examples\n",
    "\n",
    "{i**2 for i in range(1,11) if i>5}"
   ]
  },
  {
   "cell_type": "markdown",
   "id": "292102bf-8bf8-459d-88f8-c9bb2c5531a7",
   "metadata": {},
   "source": [
    "## END"
   ]
  }
 ],
 "metadata": {
  "kernelspec": {
   "display_name": "Python 3 (ipykernel)",
   "language": "python",
   "name": "python3"
  },
  "language_info": {
   "codemirror_mode": {
    "name": "ipython",
    "version": 3
   },
   "file_extension": ".py",
   "mimetype": "text/x-python",
   "name": "python",
   "nbconvert_exporter": "python",
   "pygments_lexer": "ipython3",
   "version": "3.12.4"
  }
 },
 "nbformat": 4,
 "nbformat_minor": 5
}
