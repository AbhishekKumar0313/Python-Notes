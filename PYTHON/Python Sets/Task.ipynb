{
 "cells": [
  {
   "cell_type": "markdown",
   "id": "c0dcd8c3-c87d-4ae2-bb6f-053f44a7077d",
   "metadata": {},
   "source": [
    "## Task - Sets"
   ]
  },
  {
   "cell_type": "markdown",
   "id": "0da4c891-032b-4852-8e35-47b83acb49e5",
   "metadata": {},
   "source": [
    "### `Q1:` Write a program to find set of common elements in three lists using sets.\n",
    "```\n",
    "Input : ar1 = [1, 5, 10, 20, 40, 80]\n",
    "        ar2 = [6, 7, 20, 80, 100]\n",
    "        ar3 = [3, 4, 15, 20, 30, 70, 80, 120]\n",
    "\n",
    "Output : [80, 20]\n",
    "```"
   ]
  },
  {
   "cell_type": "code",
   "execution_count": 7,
   "id": "bedea798-e109-4173-ab91-d1da4c83fcfd",
   "metadata": {},
   "outputs": [
    {
     "name": "stdout",
     "output_type": "stream",
     "text": [
      "{80, 20}\n"
     ]
    }
   ],
   "source": [
    "ar1 = [1, 5, 10, 20, 40, 80]\n",
    "ar2 = [6, 7, 20, 80, 100]\n",
    "ar3 = [3, 4, 15, 20, 30, 70, 80, 120]\n",
    "print(set(ar1)&(set(ar2)&set(ar3)))"
   ]
  },
  {
   "cell_type": "markdown",
   "id": "4fda61b9-2b85-435f-b615-204d4d339745",
   "metadata": {},
   "source": [
    "### `Q2:` Write a program to count unique number of vowels using sets in a given string. Lowercase and upercase vowels will be taken as different.\n",
    "\n",
    "`Input:`\n",
    "```\n",
    "Str1 = \"hands-on data science mentorship progrAm with live classes at affordable fee only on CampusX\"\n",
    "```\n",
    "`Output:`\n",
    "```\n",
    "No of unique vowels-6\n",
    "```"
   ]
  },
  {
   "cell_type": "code",
   "execution_count": 19,
   "id": "5e32054d-5c6e-4181-acb5-9f1a7fcb31ce",
   "metadata": {},
   "outputs": [
    {
     "name": "stdout",
     "output_type": "stream",
     "text": [
      "6\n"
     ]
    }
   ],
   "source": [
    "Str1 = \"hands-on data science mentorship progrAm with live classes at affordable fee only on CampusX\"\n",
    "s={'a','e','i','o','u','A','E','I','O','U'}\n",
    "print(len(set(Str1)&s))"
   ]
  },
  {
   "cell_type": "markdown",
   "id": "4a047a7a-dc66-4012-983b-c2f9fe829a2e",
   "metadata": {},
   "source": [
    "### `Q3:` Write a program to Check if a given string is binary string of or not.\n",
    "\n",
    "A string is said to be binary if it's consists of only two unique characters.\n",
    "\n",
    "Take string input from user.\n",
    "\n",
    "```\n",
    "Input: str = \"01010101010\"\n",
    "Output: Yes\n",
    "\n",
    "Input: str = \"1222211\"\n",
    "Output: Yes\n",
    "\n",
    "Input: str = \"Campusx\"\n",
    "Output: No\n",
    "```"
   ]
  },
  {
   "cell_type": "code",
   "execution_count": 28,
   "id": "6456b2dd-ffae-4dfe-907d-0a284f86963b",
   "metadata": {},
   "outputs": [
    {
     "name": "stdin",
     "output_type": "stream",
     "text": [
      "enter a string 673892\n"
     ]
    },
    {
     "name": "stdout",
     "output_type": "stream",
     "text": [
      "not binary\n"
     ]
    }
   ],
   "source": [
    "string=input(\"enter a string\")\n",
    "s=set(string)\n",
    "if len(s)==2 and \"0\" in s and \"1\"in s:\n",
    "    print(\"binary\")\n",
    "else:\n",
    "    print(\"not binary\")"
   ]
  },
  {
   "cell_type": "markdown",
   "id": "7dd220e4-03a1-4db1-bd4b-678c56406d4e",
   "metadata": {},
   "source": [
    "### `Q4`: find union of n arrays.\n",
    "\n",
    "**Example 1:**\n",
    "\n",
    "Input:\n",
    "```bash\n",
    "[[1, 2, 2, 4, 3, 6],\n",
    " [5, 1, 3, 4],\n",
    " [9, 5, 7, 1],\n",
    " [2, 4, 1, 3]]\n",
    "```\n",
    "\n",
    "Output:\n",
    "\n",
    "```bash\n",
    "[1, 2, 3, 4, 5, 6, 7, 9]\n",
    "```"
   ]
  },
  {
   "cell_type": "code",
   "execution_count": 31,
   "id": "66dc992f-16ae-4c2a-9431-ae2c09cd6df1",
   "metadata": {},
   "outputs": [
    {
     "name": "stdout",
     "output_type": "stream",
     "text": [
      "{1, 2, 3, 4, 5, 6, 7, 9}\n"
     ]
    }
   ],
   "source": [
    "arr=[[1, 2, 2, 4, 3, 6],\n",
    " [5, 1, 3, 4],\n",
    " [9, 5, 7, 1],\n",
    " [2, 4, 1, 3]]\n",
    "\n",
    "res=set()\n",
    "for i in arr:\n",
    "    res.update(i)\n",
    "print(res)"
   ]
  },
  {
   "cell_type": "markdown",
   "id": "5619aea3-a608-4f75-b591-2bee07a3434a",
   "metadata": {},
   "source": [
    "### `Q5`: Intersection of two lists. Intersection of two list means we need to take all those elements which are common to both of the initial lists and store them into another list. Only use using **list-comprehension**.\n",
    "\n",
    "**Example 1:**\n",
    "\n",
    "Input:\n",
    "```bash\n",
    "lst1 = {15, 9, 10, 56, 23, 78, 5, 4, 9}\n",
    "lst2 = {9, 4, 5, 36, 47, 26, 10, 45, 87}\n",
    "```\n",
    "\n",
    "Output:\n",
    "```bash\n",
    "[9, 10, 4, 5]\n",
    "```\n",
    "\n",
    "**Example 2:**\n",
    "\n",
    "Input:\n",
    "```bash\n",
    "lst1 = {4, 9, 1, 17, 11, 26, 28, 54, 69}\n",
    "lst2 = {9, 9, 74, 21, 45, 11, 63, 28,\n",
    " 26}\n",
    "```\n",
    "\n",
    "Output:\n",
    "```bash\n",
    "[9, 11, 26, 28]\n",
    "```"
   ]
  },
  {
   "cell_type": "code",
   "execution_count": 38,
   "id": "e58549aa-8626-4738-9ea8-f548c19e940d",
   "metadata": {},
   "outputs": [
    {
     "name": "stdout",
     "output_type": "stream",
     "text": [
      "{9, 10, 4, 5} {4, 5, 9, 10, 78, 15, 23, 56} {4, 5, 36, 9, 10, 45, 47, 87, 26}\n",
      "[9, 10, 4, 5]\n"
     ]
    }
   ],
   "source": [
    "lst1 = {15, 9, 10, 56, 23, 78, 5, 4, 9}\n",
    "lst2 = {9, 4, 5, 36, 47, 26, 10, 45, 87}\n",
    "print(lst1.intersection(lst2),lst1,lst2)\n",
    "print([i for i in lst1.intersection(lst2)])"
   ]
  },
  {
   "cell_type": "code",
   "execution_count": null,
   "id": "74c4291f-411a-4224-b08e-88d072e469df",
   "metadata": {},
   "outputs": [],
   "source": []
  }
 ],
 "metadata": {
  "kernelspec": {
   "display_name": "Python 3 (ipykernel)",
   "language": "python",
   "name": "python3"
  },
  "language_info": {
   "codemirror_mode": {
    "name": "ipython",
    "version": 3
   },
   "file_extension": ".py",
   "mimetype": "text/x-python",
   "name": "python",
   "nbconvert_exporter": "python",
   "pygments_lexer": "ipython3",
   "version": "3.12.4"
  }
 },
 "nbformat": 4,
 "nbformat_minor": 5
}
