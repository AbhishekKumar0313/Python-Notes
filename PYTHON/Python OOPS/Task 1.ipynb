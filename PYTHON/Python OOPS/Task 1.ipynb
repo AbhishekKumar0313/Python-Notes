{
 "cells": [
  {
   "cell_type": "markdown",
   "id": "034819ac-e4a7-4fe2-868c-a7d248e044b2",
   "metadata": {},
   "source": [
    "### Task - OOPS Part 1"
   ]
  },
  {
   "cell_type": "markdown",
   "id": "ecc41b67-b7a9-440a-8b22-ae00709545ec",
   "metadata": {},
   "source": [
    "## `Q-1:` Rectangle Class\n",
    "1. Write a Rectangle class in Python language, allowing you to build a rectangle with length and width attributes.\n",
    "\n",
    "2. Create a Perimeter() method to calculate the perimeter of the rectangle and a Area() method to calculate the area of ​​the rectangle.\n",
    "\n",
    "3. Create a method display() that display the length, width, perimeter and area of an object created using an instantiation on rectangle class."
   ]
  },
  {
   "cell_type": "code",
   "execution_count": 26,
   "id": "d4b26778-7e5d-4903-9b7a-a160af9af051",
   "metadata": {},
   "outputs": [],
   "source": [
    "class Rectangle:\n",
    "    def __init__(self,l,w):\n",
    "        self.length=l\n",
    "        self.width=w\n",
    "    def perimeter(self):\n",
    "        return 2*(self.length+self.width)\n",
    "    def area(self):\n",
    "        return self.length*self.width\n",
    "    def display(self):\n",
    "        print(f\"length : {self.length},width:{self.width},perimeter:{self.perimeter()},area:{self.area()}\")"
   ]
  },
  {
   "cell_type": "code",
   "execution_count": 32,
   "id": "47928162-adf3-4b03-9560-a17e7cfe8353",
   "metadata": {},
   "outputs": [
    {
     "name": "stdout",
     "output_type": "stream",
     "text": [
      "length : 3,width:4,perimeter:14,area:12\n"
     ]
    }
   ],
   "source": [
    "obj=Rectangle(3,4)\n",
    "obj.display()"
   ]
  },
  {
   "cell_type": "markdown",
   "id": "3f1825cd-933d-48a9-a953-36c1581d1ced",
   "metadata": {},
   "source": [
    "## `Q-2: Bank Class`\n",
    "\n",
    "1. Create a Python class called `BankAccount` which represents a bank account, having as attributes: `accountNumber` (numeric type), `name` (name of the account owner as string type), `balance`.\n",
    "2. Create a constructor with parameters: `accountNumber, name, balance`.\n",
    "3. Create a `Deposit()` method which manages the deposit actions.\n",
    "4. Create a `Withdrawal()` method  which manages withdrawals actions.\n",
    "5. Create an `bankFees()` method to apply the bank fees with a percentage of 5% of the balance account.\n",
    "6. Create a `display()` method to display account details.\n",
    "Give the complete code for the  BankAccount class."
   ]
  },
  {
   "cell_type": "code",
   "execution_count": 54,
   "id": "3c8ed209-412a-40d6-a3a3-60c97ab87022",
   "metadata": {},
   "outputs": [],
   "source": [
    "class Bank:\n",
    "    def __init__(self,account,name,bal):\n",
    "        self.accountnumber=account\n",
    "        self.name=name\n",
    "        self.balance=bal\n",
    "    def deposit(self,amt):\n",
    "        self.balance+=amt\n",
    "    def withdrawn(self,amt):\n",
    "        if amt>self.balance:\n",
    "            print(\"kam h balance tera\")\n",
    "        else:\n",
    "            self.balance-=amt\n",
    "            self.balance-=self.bankfees()\n",
    "    def bankfees(self):\n",
    "        return 0.05*self.balance\n",
    "    def display(self):\n",
    "        print(f\"Account number : {self.accountnumber},Account name : {self.name}, Account balance :{self.balance}\",sep='\\n')\n",
    "        "
   ]
  },
  {
   "cell_type": "code",
   "execution_count": 56,
   "id": "758fc288-a9a5-4a74-9a00-a1281986a636",
   "metadata": {},
   "outputs": [
    {
     "name": "stdout",
     "output_type": "stream",
     "text": [
      "Account number : 2178514584,Account name : Mandy, Account balance :2995.0\n"
     ]
    }
   ],
   "source": [
    "act=Bank(2178514584,\"Mandy\",2800)\n",
    "act.withdrawn(700)\n",
    "act.deposit(1000)\n",
    "act.display()"
   ]
  },
  {
   "cell_type": "markdown",
   "id": "1966d679-20f5-47cb-abd6-da31a331bd96",
   "metadata": {},
   "source": [
    "## `Q-3:Computation class`\n",
    "\n",
    "1. Create a `Computation` class with a default constructor (without parameters) allowing to perform various calculations on integers numbers.\n",
    "2. Create a method called `Factorial()` which allows to calculate the factorial of an integer n. Integer n as parameter for this method\n",
    "\n",
    "3. Create a method called `naturalSum()` allowing to calculate the sum of the first n integers 1 + 2 + 3 + .. + n. Integer n as parameter for this method.\n",
    "\n",
    "4. Create a method called `testPrime()` in  the Calculation class to test the primality of a given integer n, n is Prime or Not? Integer n as parameter for this method.\n",
    "\n",
    "5. Create  a method called `testPrims()` allowing to test if two numbers are prime between them. Two integers are prime to one another if they have only `1` as their common divisor. Eg. 4 and 9 are prime to each other.\n",
    "\n",
    "5. Create a `tableMult()` method which creates and displays the multiplication table of a given integer. Then create an `allTablesMult()` method to display all the integer multiplication tables 1, 2, 3, ..., 9.\n",
    "\n",
    "6. Create a static `listDiv()` method that gets all the divisors of a given integer on new list called  Ldiv. Create another `listDivPrim()` method that gets all the prime divisors of a given integer."
   ]
  },
  {
   "cell_type": "code",
   "execution_count": 136,
   "id": "1d5a3287-6ae4-42ea-a205-4da1c17eb135",
   "metadata": {},
   "outputs": [],
   "source": [
    "class Computation:\n",
    "    def __init__(self):\n",
    "        pass\n",
    "    def factorial(self,n):\n",
    "        res=1\n",
    "        for i in range(1,n):\n",
    "            res*=i\n",
    "        print(f\"factorial of {n} is {res}\")\n",
    "    def naturalsum(self,n):\n",
    "        print(f\"sum of {n} natural number is {(n*(n+1))//2}\")\n",
    "    def testprime(self,n):\n",
    "        for i in range(2,int(n**0.5+1)):\n",
    "            if n%i==0:\n",
    "                return False\n",
    "        return True\n",
    "    def testprims(self,a,b):\n",
    "        if self.testprime(a)==self.testprime(b):\n",
    "            print(\"prime to each other\")\n",
    "        else:\n",
    "            print(\"not prime to each other\")\n",
    "    def tablemult(self,n):\n",
    "        for i in range(1,11):\n",
    "            print(f\"{n}x{1}={n*i}\")\n",
    "    def alltablesmult(self,L):\n",
    "        for i in L:\n",
    "            self.tablemult(i)\n",
    "    @staticmethod\n",
    "    def listdiv(n):\n",
    "        div=[]\n",
    "        for i in range(1,n+1):\n",
    "            if n%i==0:\n",
    "                div.append(i)\n",
    "        return div\n",
    "    def listdivprim(self,n):\n",
    "        res=[]\n",
    "        for i in range(2,n+1):\n",
    "            if self.testprime(i) and n%i==0:\n",
    "                res.append(i)\n",
    "        return res\n",
    "        "
   ]
  },
  {
   "cell_type": "code",
   "execution_count": 138,
   "id": "5a520435-a26c-49b0-98f1-576b61df74b1",
   "metadata": {
    "scrolled": true
   },
   "outputs": [
    {
     "name": "stdout",
     "output_type": "stream",
     "text": [
      "prime to each other\n",
      "List of divisors of 18: [1, 2, 3, 6, 9, 18]\n",
      "List of prime divisors of 18: [2, 3]\n",
      "1x1=1\n",
      "1x1=2\n",
      "1x1=3\n",
      "1x1=4\n",
      "1x1=5\n",
      "1x1=6\n",
      "1x1=7\n",
      "1x1=8\n",
      "1x1=9\n",
      "1x1=10\n",
      "2x1=2\n",
      "2x1=4\n",
      "2x1=6\n",
      "2x1=8\n",
      "2x1=10\n",
      "2x1=12\n",
      "2x1=14\n",
      "2x1=16\n",
      "2x1=18\n",
      "2x1=20\n",
      "3x1=3\n",
      "3x1=6\n",
      "3x1=9\n",
      "3x1=12\n",
      "3x1=15\n",
      "3x1=18\n",
      "3x1=21\n",
      "3x1=24\n",
      "3x1=27\n",
      "3x1=30\n"
     ]
    }
   ],
   "source": [
    "# Instantiation example\n",
    "Comput= Computation ()\n",
    "Comput.testprims(13, 7)\n",
    "print (\"List of divisors of 18:\", Computation.listdiv(18))\n",
    "print (\"List of prime divisors of 18:\", Comput.listdivprim(18))\n",
    "Comput.alltablesmult([1,2,3])"
   ]
  },
  {
   "cell_type": "markdown",
   "id": "3b499e4a-faba-4297-ac0c-ba5f05052767",
   "metadata": {},
   "source": [
    "## `Q-4`: Build flashcard using class in Python.\n",
    "\n",
    "Build a flashcard using class in python. A flashcard is a card having information on both sides, which can be used as an aid in memoization. Flashcards usually have a question on one side and an answer on the other.\n",
    "\n",
    "**Example 1:**\n",
    "\n",
    "Approach:\n",
    "\n",
    "- Create a class named FlashCard.\n",
    "- Initialize dictionary fruits using __init__() method. Here you have to define fruit name as key and it's color as value. E.g., {\"Banana\": \"yellow\", \"Strawberries\": \"pink\"}\n",
    "- Now randomly choose a pair from fruits by using _random_ module and store the key in variable _fruit_ and _value_ in variable color.\n",
    "- Now prompt the user to answer the color of the randomly chosen fruit.\n",
    "- If correct print correct else print wrong.\n",
    "\n",
    "Output:\n",
    "```bash\n",
    "welcome to fruit quiz\n",
    "What is the color of Strawberries\n",
    "pink\n",
    "Correct answer\n",
    "Enter 0, if you want to play again: 0\n",
    "What is the color of watermelon\n",
    "green\n",
    "Correct answer\n",
    "Enter 0, if you want to play again: 1\n",
    "\n",
    "\n",
    "```"
   ]
  },
  {
   "cell_type": "code",
   "execution_count": 5,
   "id": "ebe8a50e-22b5-4ec6-ad3e-7b08f45c4dc3",
   "metadata": {},
   "outputs": [],
   "source": [
    "import random\n",
    "class Flashcard:\n",
    "    def __init__(self):\n",
    "        self.fruits={\"banana\":\"yellow\",\"orange\":\"orange\",\"apple\":\"red\",\"strawberry\":\"pink\"}\n",
    "        self.main()\n",
    "    def main(self):\n",
    "        print(\"Welcome to fruit quiz\")\n",
    "        while True:\n",
    "            guess=random.choice(list(self.fruits.items()))\n",
    "            col=input(f\"what is the color of {guess[0]}\")\n",
    "            if col==guess[1].lower():\n",
    "                print(\"correct answer\")\n",
    "            else:\n",
    "                print(\"wrong answer\")\n",
    "            c=int(input(\"enter 0 to play again the game\"))\n",
    "            if c!=0:\n",
    "                print(\"bye bye\")\n",
    "                break"
   ]
  },
  {
   "cell_type": "code",
   "execution_count": 7,
   "id": "8bb286db-099a-45fa-9916-c11f77a53e32",
   "metadata": {},
   "outputs": [
    {
     "name": "stdout",
     "output_type": "stream",
     "text": [
      "Welcome to fruit quiz\n"
     ]
    },
    {
     "name": "stdin",
     "output_type": "stream",
     "text": [
      "what is the color of banana yellow\n"
     ]
    },
    {
     "name": "stdout",
     "output_type": "stream",
     "text": [
      "correct answer\n"
     ]
    },
    {
     "name": "stdin",
     "output_type": "stream",
     "text": [
      "enter 0 to play again the game 1\n"
     ]
    },
    {
     "name": "stdout",
     "output_type": "stream",
     "text": [
      "bye bye\n"
     ]
    }
   ],
   "source": [
    "fl=Flashcard()"
   ]
  },
  {
   "cell_type": "markdown",
   "id": "3f2641e7-b8b6-4984-98ce-6beeaaed00e8",
   "metadata": {},
   "source": [
    "## `Q-5:` Problem 5 based on OOP Python.\n",
    "\n",
    "TechWorld, a technology training center, wants to allocate courses for instructors. An instructor is identified by name, technology skills, experience and average feedback. An instructor is allocated a course, if he/she satisfies the below two conditions:\n",
    "- eligibility criteria:\n",
    "    - if experience is more than 3 years, average feedback should be 4.5 or more\n",
    "    - if experience is 3 years or less, average feedback should be 4 or more\n",
    "- he/she should posses the technology skill for the course\n",
    "\n",
    "Identify the class name and attributes to represent instructors. Write a Python program to implement the class chosen with its attributes and methods.\n",
    "\n",
    "**Note:**\n",
    "- Consider all instance variables to be private and methods to be public.\n",
    "- An instructor may have multiple technology skills, so consider instance variable, technology_skill to be a list.\n",
    "- *check_eligibility()*: Return true if eligibility criteria is satisfied by the instructor. Else, return false\n",
    "- *allocate_course(technology)*: Return true if the course which requires the given technology can be allocated to the instructor. Else, return false.\n",
    "\n",
    "Represent a few objects of the class, initialize instance variables using setter methods, invoke\n",
    "appropriate methods and test your program."
   ]
  },
  {
   "cell_type": "code",
   "execution_count": 10,
   "id": "85903890-6f7d-412d-9378-dd40d3fdfe5d",
   "metadata": {},
   "outputs": [],
   "source": [
    "class Instructor:\n",
    "    def __init__(self,name,skill,exp,feedback):\n",
    "        self.name=name\n",
    "        self.skill=skill\n",
    "        self.exp=exp\n",
    "        self.feedback=feedback\n",
    "    def check(self):\n",
    "        if (self.exp>3 and self.feedback>=4.5) or (self.exp<=3 and self.feedback>=4):\n",
    "            return True\n",
    "        return False\n",
    "    def allocate(self,tech):\n",
    "        if self.check():\n",
    "            if tech in self.skill:\n",
    "                print(\"Allocated\")\n",
    "            else:\n",
    "                print(\"not have proper skill\")\n",
    "        else:\n",
    "            print(\"not eligible\")\n",
    "            \n",
    "    \n",
    "        "
   ]
  },
  {
   "cell_type": "code",
   "execution_count": 16,
   "id": "7665f4f0-6969-4243-a4fd-8a6d33093580",
   "metadata": {},
   "outputs": [
    {
     "name": "stdout",
     "output_type": "stream",
     "text": [
      "not eligible\n"
     ]
    }
   ],
   "source": [
    "ins = Instructor('Nitish',['Data Science','Web Development'],1,2.9)\n",
    "ins.allocate('Android Dev')"
   ]
  }
 ],
 "metadata": {
  "kernelspec": {
   "display_name": "Python 3 (ipykernel)",
   "language": "python",
   "name": "python3"
  },
  "language_info": {
   "codemirror_mode": {
    "name": "ipython",
    "version": 3
   },
   "file_extension": ".py",
   "mimetype": "text/x-python",
   "name": "python",
   "nbconvert_exporter": "python",
   "pygments_lexer": "ipython3",
   "version": "3.12.4"
  }
 },
 "nbformat": 4,
 "nbformat_minor": 5
}
