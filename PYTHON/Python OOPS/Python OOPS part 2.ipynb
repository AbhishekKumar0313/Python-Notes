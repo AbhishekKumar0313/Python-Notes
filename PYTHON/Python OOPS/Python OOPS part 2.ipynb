{
 "cells": [
  {
   "cell_type": "markdown",
   "id": "6042d36d-c5df-40b9-8c1a-46e60aa91504",
   "metadata": {},
   "source": [
    "<h1 style='color:#3FA2F6'>Python OOPS <span style=\" color:yellow\">Encapsulation & Static keyword </span></h1>"
   ]
  },
  {
   "cell_type": "markdown",
   "id": "ab6c4a32-46dd-4bd4-a9ba-9525891dcc61",
   "metadata": {},
   "source": [
    "<h3 style=\"color:#F5DD61;font-family:'Lucida Console'\">Write OOP classes to handle the following scenarios:</h3>"
   ]
  },
  {
   "cell_type": "markdown",
   "id": "4a9068d4-f6c6-46b9-82a1-604b34203c46",
   "metadata": {},
   "source": [
    "\n",
    "\n",
    "- A user can create and view 2D coordinates\n",
    "- A user can find out the distance between 2 coordinates\n",
    "- A user can find find the distance of a coordinate from origin\n",
    "- A user can check if a point lies on a given line\n",
    "- A user can find the distance between a given 2D point and a given line\n",
    "\n"
   ]
  },
  {
   "cell_type": "code",
   "execution_count": 32,
   "id": "1de930ca-956d-4fa6-8f8e-91f364885df1",
   "metadata": {},
   "outputs": [],
   "source": [
    "class Point:\n",
    "    def __init__(self,x,y):\n",
    "        self.x=x\n",
    "        self.y=y\n",
    "    def __str__(self):\n",
    "        return f\"({self.x},{self.y})\"\n",
    "    def distance(self,other):\n",
    "        return (((self.x-other.x)**2)+((self.y-other.y)**2))**0.5\n",
    "    def distance_from_origin(self):\n",
    "        return ((self.x**2)+(self.y**2))**0.5\n",
    "\n",
    "\n",
    "\n",
    "class Line:\n",
    "    def __init__(self,A,B,C):\n",
    "        self.A=A\n",
    "        self.B=B\n",
    "        self.C=C\n",
    "    def __str__(self):\n",
    "        return f\"{self.A}X+ {self.B}Y+ {self.C}\"\n",
    "    def check(line,point):\n",
    "        if line.A*point.x+line.B*point.y+line.C==0:\n",
    "            print(\"point is on line\")\n",
    "        else:\n",
    "            print(\"point does not lie on line\")\n",
    "    def distance(line,point):\n",
    "        return abs(line.A*point.x + line.B*point.y + line.C)/(line.A**2 + line.B**2)**0.5\n",
    "  "
   ]
  },
  {
   "cell_type": "code",
   "execution_count": 38,
   "id": "cc08e0f0-af36-4a65-b658-486f3d95791d",
   "metadata": {},
   "outputs": [
    {
     "name": "stdout",
     "output_type": "stream",
     "text": [
      "1X+ 1Y+ -2\n",
      "(1,10)\n",
      "6.363961030678928\n",
      "point does not lie on line\n"
     ]
    }
   ],
   "source": [
    "l1 = Line(1,1,-2)\n",
    "p1 = Point(1,10)\n",
    "print(l1)\n",
    "print(p1)\n",
    "\n",
    "print(l1.distance(p1))\n",
    "l1.check(p1)"
   ]
  },
  {
   "cell_type": "markdown",
   "id": "8193856d-0aa1-492a-bea7-d3f6710be68e",
   "metadata": {},
   "source": [
    "<h3 style=\"color:#F5DD61;font-family:'Lucida Console'\">How object access attributes</h3>"
   ]
  },
  {
   "cell_type": "code",
   "execution_count": 49,
   "id": "fe327c83-60ea-4170-b318-717204230c82",
   "metadata": {},
   "outputs": [],
   "source": [
    "class Person:\n",
    "\n",
    "  def __init__(self,name_input,country_input):\n",
    "    self.name = name_input\n",
    "    self.country = country_input\n",
    "\n",
    "  def greet(self):\n",
    "    if self.country == 'india':\n",
    "      print('Namaste',self.name)\n",
    "    else:\n",
    "      print('Hello',self.name)"
   ]
  },
  {
   "cell_type": "markdown",
   "id": "f89691f0-a392-4f86-91b1-794c0a7b5296",
   "metadata": {},
   "source": [
    "#### Once we create an object , the object has right to access its variables and methods"
   ]
  },
  {
   "cell_type": "code",
   "execution_count": 54,
   "id": "a086504b-dbe9-421e-9471-0e4b0d57a8d8",
   "metadata": {},
   "outputs": [],
   "source": [
    "p=Person(\"Abhi\",\"india\")"
   ]
  },
  {
   "cell_type": "code",
   "execution_count": 60,
   "id": "ff19549d-019d-4792-baf9-563f0802ab5b",
   "metadata": {},
   "outputs": [
    {
     "data": {
      "text/plain": [
       "'Abhi'"
      ]
     },
     "execution_count": 60,
     "metadata": {},
     "output_type": "execute_result"
    }
   ],
   "source": [
    "# how to access attributes\n",
    "p.name"
   ]
  },
  {
   "cell_type": "code",
   "execution_count": 62,
   "id": "a938f7ac-63e4-433d-a88f-dbbbc427c489",
   "metadata": {},
   "outputs": [
    {
     "name": "stdout",
     "output_type": "stream",
     "text": [
      "Namaste Abhi\n"
     ]
    }
   ],
   "source": [
    "# how to access methods\n",
    "p.greet()"
   ]
  },
  {
   "cell_type": "code",
   "execution_count": null,
   "id": "6b05a8c4-f1aa-45c7-999e-a4f709ebca96",
   "metadata": {},
   "outputs": [],
   "source": [
    "# what if i try to access non-existent attributes\n",
    "# it will give error  - AttributeError: 'Person' object has no attribute 'gender'\n",
    "p.gender"
   ]
  },
  {
   "cell_type": "markdown",
   "id": "4b77332d-1078-4759-99f9-57bb7eeda26b",
   "metadata": {},
   "source": [
    "<h3 style=\"color:#F5DD61;font-family:'Lucida Console'\">Attribute creation from outside the class</h3>"
   ]
  },
  {
   "cell_type": "code",
   "execution_count": 70,
   "id": "e4006ac4-5c83-467e-99cf-1616909de598",
   "metadata": {},
   "outputs": [],
   "source": [
    "p.gender='male'"
   ]
  },
  {
   "cell_type": "code",
   "execution_count": 72,
   "id": "baa81618-3b24-48c0-b6ff-3e662090a372",
   "metadata": {},
   "outputs": [
    {
     "data": {
      "text/plain": [
       "'male'"
      ]
     },
     "execution_count": 72,
     "metadata": {},
     "output_type": "execute_result"
    }
   ],
   "source": [
    "p.gender"
   ]
  },
  {
   "cell_type": "code",
   "execution_count": 74,
   "id": "4f2a3faf-824b-4075-8740-fd1707c93eaa",
   "metadata": {},
   "outputs": [
    {
     "name": "stdout",
     "output_type": "stream",
     "text": [
      "['__class__', '__delattr__', '__dict__', '__dir__', '__doc__', '__eq__', '__format__', '__ge__', '__getattribute__', '__getstate__', '__gt__', '__hash__', '__init__', '__init_subclass__', '__le__', '__lt__', '__module__', '__ne__', '__new__', '__reduce__', '__reduce_ex__', '__repr__', '__setattr__', '__sizeof__', '__str__', '__subclasshook__', '__weakref__', 'country', 'gender', 'greet', 'name']\n"
     ]
    }
   ],
   "source": [
    "print(dir(p))"
   ]
  },
  {
   "cell_type": "code",
   "execution_count": 76,
   "id": "a43c9992-a86a-4a55-9bb3-e79c09701920",
   "metadata": {},
   "outputs": [
    {
     "name": "stdout",
     "output_type": "stream",
     "text": [
      "I am defined inside the class.\n",
      "I am defined outside the class.\n",
      "I am defined inside the class.\n",
      "False\n"
     ]
    }
   ],
   "source": [
    "class MyClass:\n",
    "    def __init__(self):\n",
    "        self.existing_attr = \"I am defined inside the class.\"\n",
    "\n",
    "# Create an instance of MyClass\n",
    "obj1 = MyClass()\n",
    "\n",
    "# Add an attribute outside the class definition\n",
    "obj1.new_attr = \"I am defined outside the class.\"\n",
    "\n",
    "# Create another instance\n",
    "obj2 = MyClass()\n",
    "\n",
    "# Check attributes\n",
    "print(obj1.existing_attr)  # Output: I am defined inside the class.\n",
    "print(obj1.new_attr)       # Output: I am defined outside the class.\n",
    "print(obj2.existing_attr)  # Output: I am defined inside the class.\n",
    "print(hasattr(obj2, 'new_attr'))  # Output: False\n"
   ]
  },
  {
   "cell_type": "markdown",
   "id": "42415d09-831d-420c-a9a7-b1c59f1ac1fe",
   "metadata": {},
   "source": [
    "<h3 style=\"color:#F5DD61;font-family:'Lucida Console'\">Reference Variables</h3>"
   ]
  },
  {
   "cell_type": "markdown",
   "id": "add31c0e-b553-4e11-8ee3-6c4e29963976",
   "metadata": {},
   "source": [
    "- Reference variables hold the objects\n",
    "- We can create objects without reference variable as well\n",
    "- An object can have multiple reference variables\n",
    "- Assigning a new reference variable to an existing object does not create a new object"
   ]
  },
  {
   "cell_type": "code",
   "execution_count": 81,
   "id": "6695d912-22a3-4c67-af95-4c1bbf407df8",
   "metadata": {},
   "outputs": [],
   "source": [
    "# object without a reference\n",
    "class Person:\n",
    "\n",
    "  def __init__(self):\n",
    "    self.name = 'nitish'\n",
    "    self.gender = 'male'\n",
    "\n",
    "p = Person()\n",
    "q = p\n",
    "# p is not an object but a variable that store ref. or address of person object"
   ]
  },
  {
   "cell_type": "code",
   "execution_count": 83,
   "id": "52c3c440-8665-4694-9a98-258b031a0299",
   "metadata": {},
   "outputs": [
    {
     "name": "stdout",
     "output_type": "stream",
     "text": [
      "2476046715312\n",
      "2476046715312\n"
     ]
    }
   ],
   "source": [
    "# Multiple ref\n",
    "print(id(p))\n",
    "print(id(q))"
   ]
  },
  {
   "cell_type": "code",
   "execution_count": 85,
   "id": "8408da6d-de49-4874-b511-76b28b178af3",
   "metadata": {},
   "outputs": [
    {
     "name": "stdout",
     "output_type": "stream",
     "text": [
      "nitish\n",
      "nitish\n",
      "ankit\n",
      "ankit\n"
     ]
    }
   ],
   "source": [
    "# change attribute value with the help of 2nd object\n",
    "print(p.name)\n",
    "print(q.name)\n",
    "q.name = 'ankit'\n",
    "print(q.name)\n",
    "print(p.name)"
   ]
  },
  {
   "cell_type": "markdown",
   "id": "8f230636-b962-41aa-a98a-1d12b9265343",
   "metadata": {},
   "source": [
    "<h3 style=\"color:#F5DD61;font-family:'Lucida Console'\">Pass by reference</h3>"
   ]
  },
  {
   "cell_type": "code",
   "execution_count": 89,
   "id": "2a0a7462-a584-4656-8417-4212fd4734fa",
   "metadata": {},
   "outputs": [
    {
     "name": "stdout",
     "output_type": "stream",
     "text": [
      "Hi my name is nitish and I am a male\n",
      "ankit\n",
      "male\n"
     ]
    }
   ],
   "source": [
    "class Person:\n",
    "\n",
    "  def __init__(self,name,gender):\n",
    "    self.name = name\n",
    "    self.gender = gender\n",
    "\n",
    "# outside the class -> function\n",
    "def greet(person):\n",
    "  print('Hi my name is',person.name,'and I am a',person.gender)\n",
    "  p1 = Person('ankit','male')\n",
    "  return p1\n",
    "\n",
    "p = Person('nitish','male')\n",
    "x = greet(p)\n",
    "print(x.name)\n",
    "print(x.gender)"
   ]
  },
  {
   "cell_type": "code",
   "execution_count": 91,
   "id": "09105a90-a1b6-4166-9c04-955ac69167d9",
   "metadata": {},
   "outputs": [
    {
     "name": "stdout",
     "output_type": "stream",
     "text": [
      "2474333760800\n",
      "2474333760800\n",
      "ankit\n",
      "ankit\n"
     ]
    }
   ],
   "source": [
    "class Person:\n",
    "\n",
    "  def __init__(self,name,gender):\n",
    "    self.name = name\n",
    "    self.gender = gender\n",
    "\n",
    "# outside the class -> function\n",
    "def greet(person):\n",
    "  print(id(person))\n",
    "  person.name = 'ankit'\n",
    "  print(person.name)\n",
    "\n",
    "p = Person('nitish','male')\n",
    "print(id(p))\n",
    "greet(p)\n",
    "print(p.name)"
   ]
  },
  {
   "cell_type": "markdown",
   "id": "31abd0f4-dc1d-45a4-988f-ba997d60ddbf",
   "metadata": {},
   "source": [
    "<h3 style=\"color:#F5DD61;font-family:'Lucida Console'\">Object Mutability</h3>"
   ]
  },
  {
   "cell_type": "markdown",
   "id": "accd5471-69d2-46e7-87e8-4304ed03d90c",
   "metadata": {},
   "source": [
    "#### Object of user defined class in python is mutable"
   ]
  },
  {
   "cell_type": "code",
   "execution_count": 96,
   "id": "c1819a4c-0bf0-47e5-ad7d-1e32f30b8ef6",
   "metadata": {},
   "outputs": [
    {
     "name": "stdout",
     "output_type": "stream",
     "text": [
      "2474341541952\n",
      "2474341541952\n"
     ]
    }
   ],
   "source": [
    "class Person:\n",
    "\n",
    "  def __init__(self,name,gender):\n",
    "    self.name = name\n",
    "    self.gender = gender\n",
    "\n",
    "# outside the class -> function\n",
    "def greet(person):\n",
    "  person.name = 'ankit'\n",
    "  return person\n",
    "\n",
    "p = Person('nitish','male')\n",
    "print(id(p))\n",
    "p1 = greet(p)\n",
    "print(id(p1))"
   ]
  },
  {
   "cell_type": "markdown",
   "id": "3eb21425-24dd-49dd-9979-b66ed64104f9",
   "metadata": {},
   "source": [
    "<h3 style=\"color:#F5DD61;font-family:'Lucida Console'\">Encapsulation</h3>"
   ]
  },
  {
   "cell_type": "markdown",
   "id": "d3ec9d0c-2d35-4d44-921e-f48b926fc2de",
   "metadata": {},
   "source": [
    "- Instance variable - variable whose value is different for every object\n",
    "- To make any variable or methods private use __metho_name\n",
    "- __balance , __checkbalance()\n",
    "- In python, we can change value of a private variable from outside"
   ]
  },
  {
   "cell_type": "markdown",
   "id": "3e4afcf1-7559-461a-8a66-c50ef6b97d48",
   "metadata": {},
   "source": [
    "- so we can change values of a variable in python from outside\n",
    "- so in that case we can change it to private\n",
    "- suppose we have a variable \"balance\" and we make it __balance\n",
    "- but after making it priavte when we write obj.__balance and try to change the value then we are actually creating a new variable outside the class because once we create a var as private its name internally change to __classname__varname\n",
    "- so now we can still change the value of that private var using __classname__varname\n",
    "- so there is no proper way to protect it because python is made for adults"
   ]
  },
  {
   "cell_type": "code",
   "execution_count": 105,
   "id": "5a0fc547-cdcb-4b0e-b3bc-81f5a801e6ad",
   "metadata": {},
   "outputs": [],
   "source": [
    "# instance var -> python tutor\n",
    "class Person:\n",
    "\n",
    "  def __init__(self,name_input,country_input):\n",
    "    self.name = name_input\n",
    "    self.country = country_input\n",
    "\n",
    "p1 = Person('nitish','india')\n",
    "p2 = Person('steve','australia')"
   ]
  },
  {
   "cell_type": "code",
   "execution_count": 109,
   "id": "f219785b-9105-4e99-9087-d36c8b1773e1",
   "metadata": {},
   "outputs": [
    {
     "name": "stdout",
     "output_type": "stream",
     "text": [
      "nitish steve\n"
     ]
    }
   ],
   "source": [
    "print(p1.name,p2.name)"
   ]
  },
  {
   "cell_type": "code",
   "execution_count": 135,
   "id": "fbdcf75a-d694-4b18-9ad0-e22b1a233aff",
   "metadata": {},
   "outputs": [],
   "source": [
    "class Atm:\n",
    "\n",
    "  # constructor(special function)->superpower ->\n",
    "  def __init__(self):\n",
    "    print(id(self))\n",
    "    self.pin = ''\n",
    "    self.__balance = 0\n",
    "    self.__menu()\n",
    "\n",
    "  def get_balance(self):\n",
    "    return self.__balance\n",
    "\n",
    "  def set_balance(self,new_value):\n",
    "    if type(new_value) == int:\n",
    "      self.__balance = new_value\n",
    "    else:\n",
    "      print('beta bahot maarenge')\n",
    "\n",
    "  def __menu(self):\n",
    "    user_input = input(\"\"\"\n",
    "    Hi how can I help you?\n",
    "    1. Press 1 to create pin\n",
    "    2. Press 2 to change pin\n",
    "    3. Press 3 to check balance\n",
    "    4. Press 4 to withdraw\n",
    "    5. Anything else to exit\n",
    "    \"\"\")\n",
    "\n",
    "    if user_input == '1':\n",
    "      self.create_pin()\n",
    "    elif user_input == '2':\n",
    "      self.change_pin()\n",
    "    elif user_input == '3':\n",
    "      self.check_balance()\n",
    "    elif user_input == '4':\n",
    "      self.withdraw()\n",
    "    else:\n",
    "      exit()\n",
    "\n",
    "  def create_pin(self):\n",
    "    user_pin = input('enter your pin')\n",
    "    self.pin = user_pin\n",
    "\n",
    "    user_balance = int(input('enter balance'))\n",
    "    self.__balance = user_balance\n",
    "\n",
    "    print('pin created successfully')\n",
    "    self.__menu()\n",
    "\n",
    "  def change_pin(self):\n",
    "    old_pin = input('enter old pin')\n",
    "\n",
    "    if old_pin == self.pin:\n",
    "      # let him change the pin\n",
    "      new_pin = input('enter new pin')\n",
    "      self.pin = new_pin\n",
    "      print('pin change successful')\n",
    "      self.__menu()\n",
    "    else:\n",
    "      print('nai karne de sakta re baba')\n",
    "\n",
    "  def check_balance(self):\n",
    "    user_pin = input('enter your pin')\n",
    "    if user_pin == self.pin:\n",
    "      print('your balance is ',self.__balance)\n",
    "      self.__menu()\n",
    "    else:\n",
    "      print('chal nikal yahan se')\n",
    "\n",
    "  def withdraw(self):\n",
    "    user_pin = input('enter the pin')\n",
    "    if user_pin == self.pin:\n",
    "      # allow to withdraw\n",
    "      amount = int(input('enter the amount'))\n",
    "      if amount <= self.__balance:\n",
    "        self.__balance = self.__balance - amount\n",
    "        print('withdrawl successful.balance is',self.__balance)\n",
    "        self.__menu()\n",
    "      else:\n",
    "        print('abe garib')\n",
    "    else:\n",
    "      print('sale chor')"
   ]
  },
  {
   "cell_type": "code",
   "execution_count": 137,
   "id": "250ddb12-5c09-4041-b134-e74325cfad63",
   "metadata": {},
   "outputs": [
    {
     "name": "stdout",
     "output_type": "stream",
     "text": [
      "2474341485600\n"
     ]
    },
    {
     "name": "stdin",
     "output_type": "stream",
     "text": [
      "\n",
      "    Hi how can I help you?\n",
      "    1. Press 1 to create pin\n",
      "    2. Press 2 to change pin\n",
      "    3. Press 3 to check balance\n",
      "    4. Press 4 to withdraw\n",
      "    5. Anything else to exit\n",
      "     1\n",
      "enter your pin 1234\n",
      "enter balance 3000\n"
     ]
    },
    {
     "name": "stdout",
     "output_type": "stream",
     "text": [
      "pin created successfully\n"
     ]
    },
    {
     "name": "stdin",
     "output_type": "stream",
     "text": [
      "\n",
      "    Hi how can I help you?\n",
      "    1. Press 1 to create pin\n",
      "    2. Press 2 to change pin\n",
      "    3. Press 3 to check balance\n",
      "    4. Press 4 to withdraw\n",
      "    5. Anything else to exit\n",
      "     3\n",
      "enter your pin 1234\n"
     ]
    },
    {
     "name": "stdout",
     "output_type": "stream",
     "text": [
      "your balance is  3000\n"
     ]
    },
    {
     "name": "stdin",
     "output_type": "stream",
     "text": [
      "\n",
      "    Hi how can I help you?\n",
      "    1. Press 1 to create pin\n",
      "    2. Press 2 to change pin\n",
      "    3. Press 3 to check balance\n",
      "    4. Press 4 to withdraw\n",
      "    5. Anything else to exit\n",
      "     4\n",
      "enter the pin 1234\n",
      "enter the amount 1000\n"
     ]
    },
    {
     "name": "stdout",
     "output_type": "stream",
     "text": [
      "withdrawl successful.balance is 2000\n"
     ]
    },
    {
     "name": "stdin",
     "output_type": "stream",
     "text": [
      "\n",
      "    Hi how can I help you?\n",
      "    1. Press 1 to create pin\n",
      "    2. Press 2 to change pin\n",
      "    3. Press 3 to check balance\n",
      "    4. Press 4 to withdraw\n",
      "    5. Anything else to exit\n",
      "     3\n",
      "enter your pin 1234\n"
     ]
    },
    {
     "name": "stdout",
     "output_type": "stream",
     "text": [
      "your balance is  2000\n"
     ]
    },
    {
     "name": "stdin",
     "output_type": "stream",
     "text": [
      "\n",
      "    Hi how can I help you?\n",
      "    1. Press 1 to create pin\n",
      "    2. Press 2 to change pin\n",
      "    3. Press 3 to check balance\n",
      "    4. Press 4 to withdraw\n",
      "    5. Anything else to exit\n",
      "     5\n"
     ]
    }
   ],
   "source": [
    "obj=Atm()"
   ]
  },
  {
   "cell_type": "markdown",
   "id": "edf70ae3-2bf8-473e-bf38-6bb4b2d9dcbe",
   "metadata": {},
   "source": [
    "<h3 style=\"color:#F5DD61;font-family:'Lucida Console'\">Collection of objects</h3>"
   ]
  },
  {
   "cell_type": "code",
   "execution_count": 3,
   "id": "aad62d29-9a43-4569-b5ad-4a20f0b18a20",
   "metadata": {},
   "outputs": [
    {
     "name": "stdout",
     "output_type": "stream",
     "text": [
      "nitish male\n",
      "ankit male\n",
      "ankita female\n"
     ]
    }
   ],
   "source": [
    "# list of objects\n",
    "class Person:\n",
    "\n",
    "  def __init__(self,name,gender):\n",
    "    self.name = name\n",
    "    self.gender = gender\n",
    "\n",
    "p1 = Person('nitish','male')\n",
    "p2 = Person('ankit','male')\n",
    "p3 = Person('ankita','female')\n",
    "\n",
    "L = [p1,p2,p3]\n",
    "\n",
    "for i in L:\n",
    "  print(i.name,i.gender)"
   ]
  },
  {
   "cell_type": "code",
   "execution_count": 9,
   "id": "0f96389a-f1aa-47ac-bbdc-05f3976d88e0",
   "metadata": {},
   "outputs": [
    {
     "name": "stdout",
     "output_type": "stream",
     "text": [
      "p1 male\n",
      "p2 male\n",
      "p3 female\n"
     ]
    }
   ],
   "source": [
    "# dict of objects\n",
    "# list of objects\n",
    "class Person:\n",
    "\n",
    "  def __init__(self,name,gender):\n",
    "    self.name = name\n",
    "    self.gender = gender\n",
    "\n",
    "p1 = Person('nitish','male')\n",
    "p2 = Person('ankit','male')\n",
    "p3 = Person('ankita','female')\n",
    "\n",
    "d = {'p1':p1,'p2':p2,'p3':p3}\n",
    "\n",
    "for i in d:\n",
    "  print(i,d[i].gender)"
   ]
  },
  {
   "cell_type": "markdown",
   "id": "55caf1a6-5215-40fb-a38c-2a391bb5ab4b",
   "metadata": {},
   "source": [
    "<h3 style=\"color:#F5DD61;font-family:'Lucida Console'\">Static Variables Vs Instance Variables</h3>"
   ]
  },
  {
   "cell_type": "markdown",
   "id": "9c82a11d-7687-4489-92e7-940e50ebe47c",
   "metadata": {},
   "source": [
    "- Static variables are class variables that will be same for every object\n",
    "- instance variable is object specific"
   ]
  },
  {
   "cell_type": "code",
   "execution_count": 4,
   "id": "51c4d8da-2424-4b8d-82fa-79ace78d88be",
   "metadata": {},
   "outputs": [],
   "source": [
    "class Atm:\n",
    "\n",
    "  __counter = 1\n",
    "\n",
    "  # constructor(special function)->superpower ->\n",
    "  def __init__(self):\n",
    "    print(id(self))\n",
    "    self.pin = ''\n",
    "    self.__balance = 0\n",
    "    self.cid = Atm.__counter\n",
    "    Atm.__counter = Atm.__counter + 1\n",
    "    # self.__menu()\n",
    "\n",
    "  # utility functions\n",
    "  @staticmethod\n",
    "  def get_counter():\n",
    "    return Atm.__counter\n",
    "\n",
    "\n",
    "  def get_balance(self):\n",
    "    return self.__balance\n",
    "\n",
    "  def set_balance(self,new_value):\n",
    "    if type(new_value) == int:\n",
    "      self.__balance = new_value\n",
    "    else:\n",
    "      print('beta bahot maarenge')\n",
    "\n",
    "  def __menu(self):\n",
    "    user_input = input(\"\"\"\n",
    "    Hi how can I help you?\n",
    "    1. Press 1 to create pin\n",
    "    2. Press 2 to change pin\n",
    "    3. Press 3 to check balance\n",
    "    4. Press 4 to withdraw\n",
    "    5. Anything else to exit\n",
    "    \"\"\")\n",
    "\n",
    "    if user_input == '1':\n",
    "      self.create_pin()\n",
    "    elif user_input == '2':\n",
    "      self.change_pin()\n",
    "    elif user_input == '3':\n",
    "      self.check_balance()\n",
    "    elif user_input == '4':\n",
    "      self.withdraw()\n",
    "    else:\n",
    "      exit()\n",
    "\n",
    "  def create_pin(self):\n",
    "    user_pin = input('enter your pin')\n",
    "    self.pin = user_pin\n",
    "\n",
    "    user_balance = int(input('enter balance'))\n",
    "    self.__balance = user_balance\n",
    "  \n",
    "\n",
    "    print('pin created successfully')\n",
    "    self.__menu()\n",
    "\n",
    "  def change_pin(self):\n",
    "    old_pin = input('enter old pin')\n",
    "\n",
    "    if old_pin == self.pin:\n",
    "      # let him change the pin\n",
    "      new_pin = input('enter new pin')\n",
    "      self.pin = new_pin\n",
    "      print('pin change successful')\n",
    "      self.__menu()\n",
    "    else:\n",
    "      print('nai karne de sakta re baba')\n",
    "\n",
    "  def check_balance(self):\n",
    "    user_pin = input('enter your pin')\n",
    "    if user_pin == self.pin:\n",
    "      print('your balance is ',self.__balance)\n",
    "      self.__menu()\n",
    "    else:\n",
    "      print('chal nikal yahan se')\n",
    "\n",
    "  def withdraw(self):\n",
    "    user_pin = input('enter the pin')\n",
    "    if user_pin == self.pin:\n",
    "      # allow to withdraw\n",
    "      amount = int(input('enter the amount'))\n",
    "      if amount <= self.__balance:\n",
    "        self.__balance = self.__balance - amount\n",
    "        print('withdrawl successful.balance is',self.__balance)\n",
    "        self.__menu()\n",
    "      else:\n",
    "        print('abe garib')\n",
    "    else:\n",
    "      print('sale chor')"
   ]
  },
  {
   "cell_type": "code",
   "execution_count": 6,
   "id": "30653d74-e77f-4ccb-9b1c-b5decb7dfc09",
   "metadata": {},
   "outputs": [
    {
     "name": "stdout",
     "output_type": "stream",
     "text": [
      "2323698470496\n"
     ]
    }
   ],
   "source": [
    "c1 = Atm()"
   ]
  },
  {
   "cell_type": "code",
   "execution_count": 8,
   "id": "735653fd-3285-4fb1-9ebe-f9411dee90c2",
   "metadata": {},
   "outputs": [
    {
     "data": {
      "text/plain": [
       "2"
      ]
     },
     "execution_count": 8,
     "metadata": {},
     "output_type": "execute_result"
    }
   ],
   "source": [
    "Atm.get_counter()"
   ]
  },
  {
   "cell_type": "code",
   "execution_count": 10,
   "id": "17d90315-d7c2-451f-8ec8-79c687ec0a13",
   "metadata": {},
   "outputs": [
    {
     "name": "stdout",
     "output_type": "stream",
     "text": [
      "2325424292736\n"
     ]
    }
   ],
   "source": [
    "c3 = Atm()"
   ]
  },
  {
   "cell_type": "code",
   "execution_count": 12,
   "id": "3e5c00fc-ab42-42dd-92b2-01b8edf96b0c",
   "metadata": {},
   "outputs": [
    {
     "data": {
      "text/plain": [
       "2"
      ]
     },
     "execution_count": 12,
     "metadata": {},
     "output_type": "execute_result"
    }
   ],
   "source": [
    "c3.cid"
   ]
  },
  {
   "cell_type": "code",
   "execution_count": 18,
   "id": "bfb14acd-0374-4bee-beec-51d727dd3779",
   "metadata": {},
   "outputs": [
    {
     "data": {
      "text/plain": [
       "3"
      ]
     },
     "execution_count": 18,
     "metadata": {},
     "output_type": "execute_result"
    }
   ],
   "source": [
    "Atm.get_counter()"
   ]
  },
  {
   "cell_type": "markdown",
   "id": "f284436e-2aea-4b7f-8935-0d87e627354e",
   "metadata": {},
   "source": [
    "<h3 style=\"color:#F5DD61;font-family:'Lucida Console'\">Static Methods</h3>"
   ]
  },
  {
   "cell_type": "markdown",
   "id": "dae3336d-b9d8-4e6f-834c-9ef33f1cda19",
   "metadata": {},
   "source": [
    "##### Points to remember about static\n",
    "\n",
    "- Static attributes are created at class level.\n",
    "- Static attributes are accessed using ClassName.\n",
    "- Static attributes are object independent. We can access them without creating instance (object) of the class in which they are defined.\n",
    "- The value stored in static attribute is shared between all instances(objects) of the class in which the static attribute is defined."
   ]
  },
  {
   "cell_type": "code",
   "execution_count": 29,
   "id": "86d11f8e-657e-439a-ba97-e85628fc875e",
   "metadata": {},
   "outputs": [
    {
     "name": "stdout",
     "output_type": "stream",
     "text": [
      "Simba drinks water from the well in the circus\n",
      "Water source of lions: well in the circus\n"
     ]
    }
   ],
   "source": [
    "class Lion:\n",
    "  __water_source=\"well in the circus\"\n",
    "\n",
    "  def __init__(self,name, gender):\n",
    "      self.__name=name\n",
    "      self.__gender=gender\n",
    "\n",
    "  def drinks_water(self):\n",
    "      print(self.__name,\n",
    "      \"drinks water from the\",Lion.__water_source)\n",
    "\n",
    "  @staticmethod\n",
    "  def get_water_source():\n",
    "      return Lion.__water_source\n",
    "\n",
    "simba=Lion(\"Simba\",\"Male\")\n",
    "simba.drinks_water()\n",
    "print( \"Water source of lions:\",Lion.get_water_source())"
   ]
  },
  {
   "cell_type": "markdown",
   "id": "0f827db3-92fb-499e-9535-3834fa376889",
   "metadata": {},
   "source": [
    "### END"
   ]
  }
 ],
 "metadata": {
  "kernelspec": {
   "display_name": "Python 3 (ipykernel)",
   "language": "python",
   "name": "python3"
  },
  "language_info": {
   "codemirror_mode": {
    "name": "ipython",
    "version": 3
   },
   "file_extension": ".py",
   "mimetype": "text/x-python",
   "name": "python",
   "nbconvert_exporter": "python",
   "pygments_lexer": "ipython3",
   "version": "3.12.4"
  }
 },
 "nbformat": 4,
 "nbformat_minor": 5
}
