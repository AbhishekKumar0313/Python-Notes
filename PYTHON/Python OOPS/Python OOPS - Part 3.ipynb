{
 "cells": [
  {
   "cell_type": "markdown",
   "id": "92d6af4c-64e8-4c88-9924-d9c933e7abfc",
   "metadata": {},
   "source": [
    "<h1 style='color:#3FA2F6'>Python OOPS <span style=\" color:yellow\">Inheritance,Polymorphism and Abstraction</span></h1>"
   ]
  },
  {
   "cell_type": "markdown",
   "id": "0011bbf8-9e5d-4852-ab7e-d44c281f162d",
   "metadata": {},
   "source": [
    "<h3 style=\"color:#F5DD61;font-family:'Lucida Console'\">Class Relationship</h3>"
   ]
  },
  {
   "cell_type": "markdown",
   "id": "1b691904-5695-4299-bd42-47ed2d465bc6",
   "metadata": {},
   "source": [
    "\n",
    "- Aggregation - HAS a relationship\n",
    "- Inheritance\n",
    "- example - customer has a address"
   ]
  },
  {
   "cell_type": "code",
   "execution_count": 19,
   "id": "d3b0ec1e-369a-45fb-bbcd-199956874391",
   "metadata": {},
   "outputs": [
    {
     "name": "stdout",
     "output_type": "stream",
     "text": [
      "gurgaon 122011 haryana\n",
      "mumbai 111111 maharastra\n"
     ]
    }
   ],
   "source": [
    "# example\n",
    "class Customer:\n",
    "\n",
    "  def __init__(self,name,gender,address):\n",
    "    self.name = name\n",
    "    self.gender = gender\n",
    "    self.address = address\n",
    "\n",
    "  def print_address(self):\n",
    "    print(self.address.get_city(),self.address.pin,self.address.state)\n",
    "\n",
    "  def edit_profile(self,new_name,new_city,new_pin,new_state):\n",
    "    self.name = new_name\n",
    "    self.address.edit_address(new_city,new_pin,new_state)\n",
    "\n",
    "class Address:\n",
    "\n",
    "  def __init__(self,city,pin,state):\n",
    "      self.__city = city\n",
    "      self.pin = pin\n",
    "      self.state = state\n",
    "\n",
    "  def get_city(self):\n",
    "    return self.__city\n",
    "\n",
    "  def edit_address(self,new_city,new_pin,new_state):\n",
    "    self.__city = new_city\n",
    "    self.pin = new_pin\n",
    "    self.state = new_state\n",
    "\n",
    "add1 = Address('gurgaon',122011,'haryana')\n",
    "cust = Customer('nitish','male',add1)\n",
    "\n",
    "cust.print_address()\n",
    "\n",
    "cust.edit_profile('ankit','mumbai',111111,'maharastra')\n",
    "cust.print_address()\n",
    "# method example\n",
    "# what about private attribute"
   ]
  },
  {
   "cell_type": "markdown",
   "id": "3d15e544-5942-4347-ae0b-da059eda1e5d",
   "metadata": {},
   "source": [
    "#### In aggregation if any attribute become private it cannot be access by another class\n",
    "#### In that case we create getter method for another class"
   ]
  },
  {
   "cell_type": "code",
   "execution_count": null,
   "id": "7e2775da-792e-44d0-a673-9578acc1ca62",
   "metadata": {},
   "outputs": [],
   "source": [
    "+------------------+               +-----------------+\n",
    "|    Customer      |<>------------>|    Address      |\n",
    "+------------------+               +-----------------+\n",
    "| - name: str      |               | - __city: str   |\n",
    "| - gender: str    |               | - pin: int      |\n",
    "| - address: Address|              | - state: str    |\n",
    "+------------------+               +-----------------+\n",
    "| + print_address(): void          | + get_city(): str |\n",
    "| + edit_profile(...): void        | + edit_address(...): void |\n",
    "+------------------+               +-----------------+\n"
   ]
  },
  {
   "cell_type": "markdown",
   "id": "e7449026-86fc-4a4e-803a-fed318f00458",
   "metadata": {},
   "source": [
    "<h3 style=\"color:#F5DD61;font-family:'Lucida Console'\">Inheritance</h3>"
   ]
  },
  {
   "cell_type": "markdown",
   "id": "881a11d1-9f40-4391-bc66-ae9fd6295e91",
   "metadata": {},
   "source": [
    "- Inheritance is an OOP's concept, in which there is a parent class and can have multiple child class, where child inheret the methods and attribute of parent class. It reduce the use of code resuability."
   ]
  },
  {
   "cell_type": "code",
   "execution_count": 48,
   "id": "03ec1f51-db93-4a31-9260-106d51b79cb4",
   "metadata": {},
   "outputs": [
    {
     "name": "stdout",
     "output_type": "stream",
     "text": [
      "nitish\n",
      "login\n",
      "enroll into the course\n"
     ]
    }
   ],
   "source": [
    "# Example\n",
    "\n",
    "# parent\n",
    "class User:\n",
    "\n",
    "  def __init__(self):\n",
    "    self.name = 'nitish'\n",
    "    self.gender = 'male'\n",
    "\n",
    "  def login(self):\n",
    "    print('login')\n",
    "\n",
    "# child\n",
    "class Student(User):\n",
    "\n",
    "  def __init__(self):\n",
    "    super().__init__()\n",
    "    self.rollno = 100\n",
    "\n",
    "  def enroll(self):\n",
    "    print('enroll into the course')\n",
    "\n",
    "u = User()\n",
    "s = Student()\n",
    "\n",
    "print(s.name)\n",
    "s.login()\n",
    "s.enroll()"
   ]
  },
  {
   "cell_type": "code",
   "execution_count": null,
   "id": "9f0e4337-9d83-4fd4-8fff-78419a88cd23",
   "metadata": {},
   "outputs": [],
   "source": [
    "+-----------------+               +------------------+\n",
    "|      User       |<-------------|    Student       |\n",
    "+-----------------+               +------------------+\n",
    "| - name: str     |               | - rollno: int    |\n",
    "| - gender: str   |               +------------------+\n",
    "+-----------------+               | + enroll(): void |\n",
    "| + login(): void |               +------------------+\n",
    "+-----------------+\n"
   ]
  },
  {
   "cell_type": "markdown",
   "id": "aeedb871-e6c0-4fc0-b429-3faf1023730f",
   "metadata": {},
   "source": [
    "##### What gets inherited?\n",
    "\n",
    "- Constructor\n",
    "- Non Private Attributes\n",
    "- Non Private Methods"
   ]
  },
  {
   "cell_type": "code",
   "execution_count": 51,
   "id": "46310654-51ca-4af1-91db-9ec2357ba47c",
   "metadata": {},
   "outputs": [
    {
     "name": "stdout",
     "output_type": "stream",
     "text": [
      "Inside phone constructor\n",
      "Buying a phone\n"
     ]
    }
   ],
   "source": [
    "# constructor example\n",
    "\n",
    "class Phone:\n",
    "    def __init__(self, price, brand, camera):\n",
    "        print (\"Inside phone constructor\")\n",
    "        self.price = price\n",
    "        self.brand = brand\n",
    "        self.camera = camera\n",
    "\n",
    "    def buy(self):\n",
    "        print (\"Buying a phone\")\n",
    "\n",
    "class SmartPhone(Phone):\n",
    "    pass\n",
    "\n",
    "s=SmartPhone(20000, \"Apple\", 13)\n",
    "s.buy()"
   ]
  },
  {
   "cell_type": "code",
   "execution_count": null,
   "id": "9f22f5ea-cf58-469e-a6f7-2c81f289b56e",
   "metadata": {},
   "outputs": [],
   "source": [
    "# constructor example 2\n",
    "\n",
    "class Phone:\n",
    "    def __init__(self, price, brand, camera):\n",
    "        print (\"Inside phone constructor\")\n",
    "        self.__price = price\n",
    "        self.brand = brand\n",
    "        self.camera = camera\n",
    "\n",
    "class SmartPhone(Phone):\n",
    "    def __init__(self, os, ram):\n",
    "        self.os = os\n",
    "        self.ram = ram\n",
    "        print (\"Inside SmartPhone constructor\")\n",
    "\n",
    "s=SmartPhone(\"Android\", 2)\n",
    "s.brand\n",
    "# will throw error since we are not callinf Phone class constructor so brand never get intialized"
   ]
  },
  {
   "cell_type": "code",
   "execution_count": null,
   "id": "5ebb1cdf-6f10-4df1-82b0-49ca42fbe1d7",
   "metadata": {},
   "outputs": [],
   "source": [
    "# child can't access private members of the class\n",
    "\n",
    "class Phone:\n",
    "    def __init__(self, price, brand, camera):\n",
    "        print (\"Inside phone constructor\")\n",
    "        self.__price = price\n",
    "        self.brand = brand\n",
    "        self.camera = camera\n",
    "\n",
    "    #getter\n",
    "    def show(self):\n",
    "        print (self.__price)\n",
    "\n",
    "class SmartPhone(Phone):\n",
    "    def check(self):\n",
    "        print(self.__price)\n",
    "\n",
    "s=SmartPhone(20000, \"Apple\", 13)\n",
    "s.show()\n",
    "s.check() # throw error because it cannot access private variable of parent class"
   ]
  },
  {
   "cell_type": "code",
   "execution_count": 57,
   "id": "c5b60284-bfea-4f9c-aef9-b1de1ad336c2",
   "metadata": {},
   "outputs": [
    {
     "name": "stdout",
     "output_type": "stream",
     "text": [
      "100\n",
      "This is in child class\n"
     ]
    }
   ],
   "source": [
    "class Parent:\n",
    "\n",
    "    def __init__(self,num):\n",
    "        self.__num=num\n",
    "\n",
    "    def get_num(self):\n",
    "        return self.__num\n",
    "\n",
    "class Child(Parent):\n",
    "\n",
    "    def show(self):\n",
    "        print(\"This is in child class\")\n",
    "\n",
    "son=Child(100)\n",
    "print(son.get_num())\n",
    "son.show()"
   ]
  },
  {
   "cell_type": "code",
   "execution_count": null,
   "id": "a1e6bb3a-0c3a-4161-90f3-8e3516fc941a",
   "metadata": {},
   "outputs": [],
   "source": [
    "class Parent:\n",
    "\n",
    "    def __init__(self,num):\n",
    "        self.__num=num\n",
    "\n",
    "    def get_num(self):\n",
    "        return self.__num\n",
    "\n",
    "class Child(Parent):\n",
    "\n",
    "    def __init__(self,val,num):\n",
    "        self.__val=val\n",
    "\n",
    "    def get_val(self):\n",
    "        return self.__val\n",
    "\n",
    "son=Child(100,10)\n",
    "print(\"Parent: Num:\",son.get_num()) # will throw error\n",
    "print(\"Child: Val:\",son.get_val()) "
   ]
  },
  {
   "cell_type": "code",
   "execution_count": 59,
   "id": "38f93b8d-d84b-4f3d-a008-1012fc34dfe7",
   "metadata": {},
   "outputs": [
    {
     "name": "stdout",
     "output_type": "stream",
     "text": [
      "class A : 100\n"
     ]
    }
   ],
   "source": [
    "class A:\n",
    "    def __init__(self):\n",
    "        self.var1=100\n",
    "\n",
    "    def display1(self,var1):\n",
    "        print(\"class A :\", self.var1)\n",
    "class B(A):\n",
    "\n",
    "    def display2(self,var1):\n",
    "        print(\"class B :\", self.var1)\n",
    "\n",
    "obj=B()\n",
    "obj.display1(200)"
   ]
  },
  {
   "cell_type": "code",
   "execution_count": 61,
   "id": "2c0009a7-44d5-43f2-b900-8f400ab99258",
   "metadata": {},
   "outputs": [
    {
     "name": "stdout",
     "output_type": "stream",
     "text": [
      "Inside phone constructor\n",
      "Buying a smartphone\n"
     ]
    }
   ],
   "source": [
    "# Method Overriding\n",
    "class Phone:\n",
    "    def __init__(self, price, brand, camera):\n",
    "        print (\"Inside phone constructor\")\n",
    "        self.__price = price\n",
    "        self.brand = brand\n",
    "        self.camera = camera\n",
    "\n",
    "    def buy(self):\n",
    "        print (\"Buying a phone\")\n",
    "\n",
    "class SmartPhone(Phone):\n",
    "    def buy(self):\n",
    "        print (\"Buying a smartphone\")\n",
    "\n",
    "s=SmartPhone(20000, \"Apple\", 13)\n",
    "\n",
    "s.buy()"
   ]
  },
  {
   "cell_type": "markdown",
   "id": "e58e5658-a2d0-4207-9e2d-e3619f7fc0e1",
   "metadata": {},
   "source": [
    "<h3 style=\"color:#F5DD61;font-family:'Lucida Console'\">Super Keyword</h3>"
   ]
  },
  {
   "cell_type": "markdown",
   "id": "a2abddd2-e88f-4e76-8940-7e33ac4a80a2",
   "metadata": {},
   "source": [
    "- Super keyword is a way to access parent method"
   ]
  },
  {
   "cell_type": "code",
   "execution_count": 65,
   "id": "ecf8ed59-7d03-427e-9c0c-af60413f50c0",
   "metadata": {},
   "outputs": [
    {
     "name": "stdout",
     "output_type": "stream",
     "text": [
      "Inside phone constructor\n",
      "Buying a smartphone\n",
      "Buying a phone\n"
     ]
    }
   ],
   "source": [
    "class Phone:\n",
    "    def __init__(self, price, brand, camera):\n",
    "        print (\"Inside phone constructor\")\n",
    "        self.__price = price\n",
    "        self.brand = brand\n",
    "        self.camera = camera\n",
    "\n",
    "    def buy(self):\n",
    "        print (\"Buying a phone\")\n",
    "\n",
    "class SmartPhone(Phone):\n",
    "    def buy(self):\n",
    "        print (\"Buying a smartphone\")\n",
    "        # syntax to call parent ka buy method\n",
    "        super().buy()\n",
    "\n",
    "s=SmartPhone(20000, \"Apple\", 13)\n",
    "\n",
    "s.buy()"
   ]
  },
  {
   "cell_type": "markdown",
   "id": "2a9aa627-35de-4e22-92a4-9d33e4733fc9",
   "metadata": {},
   "source": [
    "#### We cannot use Super outside the class\n",
    "#### we cannot access parent data using super"
   ]
  },
  {
   "cell_type": "code",
   "execution_count": null,
   "id": "3058fb2d-cbc9-4872-9f87-fcd8902b8071",
   "metadata": {},
   "outputs": [],
   "source": [
    "# can super access parent ka data?\n",
    "# using super outside the class\n",
    "class Phone:\n",
    "    def __init__(self, price, brand, camera):\n",
    "        print (\"Inside phone constructor\")\n",
    "        self.__price = price\n",
    "        self.brand = brand\n",
    "        self.camera = camera\n",
    "\n",
    "    def buy(self):\n",
    "        print (\"Buying a phone\")\n",
    "\n",
    "class SmartPhone(Phone):\n",
    "    def buy(self):\n",
    "        print (\"Buying a smartphone\")\n",
    "        # syntax to call parent ka buy method\n",
    "        print(super().brand)\n",
    "\n",
    "s=SmartPhone(20000, \"Apple\", 13)\n",
    "\n",
    "s.buy()\n",
    "super().buy()"
   ]
  },
  {
   "cell_type": "code",
   "execution_count": 76,
   "id": "bee6fc96-ee8f-4cd0-9062-20e8fe2a04be",
   "metadata": {},
   "outputs": [
    {
     "name": "stdout",
     "output_type": "stream",
     "text": [
      "Inside smartphone constructor\n",
      "Inside phone constructor\n",
      "Inside smartphone constructor\n",
      "Android\n",
      "Samsung\n"
     ]
    }
   ],
   "source": [
    "# super -> constuctor\n",
    "class Phone:\n",
    "    def __init__(self, price, brand, camera):\n",
    "        print (\"Inside phone constructor\")\n",
    "        self.__price = price\n",
    "        self.brand = brand\n",
    "        self.camera = camera\n",
    "\n",
    "class SmartPhone(Phone):\n",
    "    def __init__(self, price, brand, camera, os, ram):\n",
    "        print('Inside smartphone constructor')\n",
    "        super().__init__(price, brand, camera)\n",
    "        self.os = os\n",
    "        self.ram = ram\n",
    "        print (\"Inside smartphone constructor\")\n",
    "\n",
    "s=SmartPhone(20000, \"Samsung\", 12, \"Android\", 2)\n",
    "\n",
    "print(s.os)\n",
    "print(s.brand)"
   ]
  },
  {
   "cell_type": "markdown",
   "id": "4e17806f-388f-4b80-96bf-db6cd508f409",
   "metadata": {},
   "source": [
    "#### Inheritance in summary\n",
    "\n",
    "- A class can inherit from another class.\n",
    "\n",
    "- Inheritance improves code reuse\n",
    "\n",
    "- Constructor, attributes, methods get inherited to the child class\n",
    "\n",
    "- The parent has no access to the child class\n",
    "\n",
    "- Private properties of parent are not accessible directly in child class\n",
    "\n",
    "- Child class can override the attributes or methods. This is called method overriding\n",
    "\n",
    "- super() is an inbuilt function which is used to invoke the parent class methods and constructor"
   ]
  },
  {
   "cell_type": "code",
   "execution_count": 87,
   "id": "20389266-fe3d-4642-a7b7-4a6fabccbe98",
   "metadata": {},
   "outputs": [
    {
     "name": "stdout",
     "output_type": "stream",
     "text": [
      "100\n",
      "200\n"
     ]
    }
   ],
   "source": [
    "class Parent:\n",
    "\n",
    "    def __init__(self,num):\n",
    "      self.__num=num\n",
    "\n",
    "    def get_num(self):\n",
    "      return self.__num\n",
    "\n",
    "class Child(Parent):\n",
    "\n",
    "    def __init__(self,num,val):\n",
    "      super().__init__(num)\n",
    "      self.__val=val\n",
    "\n",
    "    def get_val(self):\n",
    "      return self.__val\n",
    "\n",
    "son=Child(100,200)\n",
    "print(son.get_num())\n",
    "print(son.get_val())"
   ]
  },
  {
   "cell_type": "code",
   "execution_count": 89,
   "id": "f5cd0ee8-ea8a-4cd0-853a-7909aec80f01",
   "metadata": {},
   "outputs": [
    {
     "name": "stdout",
     "output_type": "stream",
     "text": [
      "100\n",
      "200\n"
     ]
    }
   ],
   "source": [
    "class Parent:\n",
    "    def __init__(self):\n",
    "        self.num=100\n",
    "\n",
    "class Child(Parent):\n",
    "\n",
    "    def __init__(self):\n",
    "        super().__init__()\n",
    "        self.var=200\n",
    "\n",
    "    def show(self):\n",
    "        print(self.num)\n",
    "        print(self.var)\n",
    "\n",
    "son=Child()\n",
    "son.show()"
   ]
  },
  {
   "cell_type": "code",
   "execution_count": 91,
   "id": "ca166070-e7ea-4907-8f68-257dd47ea0de",
   "metadata": {},
   "outputs": [
    {
     "name": "stdout",
     "output_type": "stream",
     "text": [
      "Child: 10\n"
     ]
    }
   ],
   "source": [
    "class Parent:\n",
    "    def __init__(self):\n",
    "        self.__num=100\n",
    "\n",
    "    def show(self):\n",
    "        print(\"Parent:\",self.__num)\n",
    "\n",
    "class Child(Parent):\n",
    "    def __init__(self):\n",
    "        super().__init__()\n",
    "        self.__var=10\n",
    "\n",
    "    def show(self):\n",
    "        print(\"Child:\",self.__var)\n",
    "\n",
    "obj=Child()\n",
    "obj.show()"
   ]
  },
  {
   "cell_type": "code",
   "execution_count": 93,
   "id": "2382c16a-4563-47c2-a9d6-69fc3ca18e62",
   "metadata": {},
   "outputs": [
    {
     "name": "stdout",
     "output_type": "stream",
     "text": [
      "Child: 10\n"
     ]
    }
   ],
   "source": [
    "class Parent:\n",
    "    def __init__(self):\n",
    "        self.__num=100\n",
    "\n",
    "    def show(self):\n",
    "        print(\"Parent:\",self.__num)\n",
    "\n",
    "class Child(Parent):\n",
    "    def __init__(self):\n",
    "        super().__init__()\n",
    "        self.__var=10\n",
    "\n",
    "    def show(self):\n",
    "        print(\"Child:\",self.__var)\n",
    "\n",
    "obj=Child()\n",
    "obj.show()"
   ]
  },
  {
   "cell_type": "markdown",
   "id": "5ac46d5e-fade-44cd-8fba-dbdc7af4118b",
   "metadata": {},
   "source": [
    "<h3 style=\"color:#F5DD61;font-family:'Lucida Console'\">Types of Inheritance</h3>"
   ]
  },
  {
   "cell_type": "markdown",
   "id": "cf5ee7a8-a84c-4fb0-b32b-fbdc82883cc0",
   "metadata": {},
   "source": [
    "- Single Inheritance\n",
    "- Multilevel Inheritance\n",
    "- Hierarchical Inheritance\n",
    "- Multiple Inheritance(Diamond Problem)\n",
    "- Hybrid Inheritance"
   ]
  },
  {
   "cell_type": "markdown",
   "id": "be095ea1-b0a3-4209-9dd1-fd13161a79ab",
   "metadata": {},
   "source": [
    "### Single Inheritance"
   ]
  },
  {
   "cell_type": "code",
   "execution_count": 96,
   "id": "ae8d8573-0ed5-43f4-94ec-9fd1972957a5",
   "metadata": {},
   "outputs": [
    {
     "name": "stdout",
     "output_type": "stream",
     "text": [
      "Inside phone constructor\n",
      "Buying a phone\n"
     ]
    }
   ],
   "source": [
    "# single inheritance\n",
    "class Phone:\n",
    "    def __init__(self, price, brand, camera):\n",
    "        print (\"Inside phone constructor\")\n",
    "        self.__price = price\n",
    "        self.brand = brand\n",
    "        self.camera = camera\n",
    "\n",
    "    def buy(self):\n",
    "        print (\"Buying a phone\")\n",
    "\n",
    "class SmartPhone(Phone):\n",
    "    pass\n",
    "\n",
    "SmartPhone(1000,\"Apple\",\"13px\").buy()"
   ]
  },
  {
   "cell_type": "markdown",
   "id": "ebd477c3-fd7f-4be6-8e1c-009ab7cf652c",
   "metadata": {},
   "source": [
    "### Multilevel Inheritance"
   ]
  },
  {
   "cell_type": "code",
   "execution_count": 98,
   "id": "08dde579-0029-4321-bd26-d52f672363da",
   "metadata": {},
   "outputs": [
    {
     "name": "stdout",
     "output_type": "stream",
     "text": [
      "Inside phone constructor\n",
      "Buying a phone\n",
      "Product customer review\n"
     ]
    }
   ],
   "source": [
    "# multilevel\n",
    "class Product:\n",
    "    def review(self):\n",
    "        print (\"Product customer review\")\n",
    "\n",
    "class Phone(Product):\n",
    "    def __init__(self, price, brand, camera):\n",
    "        print (\"Inside phone constructor\")\n",
    "        self.__price = price\n",
    "        self.brand = brand\n",
    "        self.camera = camera\n",
    "\n",
    "    def buy(self):\n",
    "        print (\"Buying a phone\")\n",
    "\n",
    "class SmartPhone(Phone):\n",
    "    pass\n",
    "\n",
    "s=SmartPhone(20000, \"Apple\", 12)\n",
    "\n",
    "s.buy()\n",
    "s.review()"
   ]
  },
  {
   "cell_type": "code",
   "execution_count": 100,
   "id": "4b1fc884-5e7c-42ca-982b-f6727df37abf",
   "metadata": {},
   "outputs": [
    {
     "name": "stdout",
     "output_type": "stream",
     "text": [
      "Inside phone constructor\n",
      "Buying a phone\n",
      "Inside phone constructor\n",
      "Buying a phone\n"
     ]
    }
   ],
   "source": [
    "# Hierarchical\n",
    "class Phone:\n",
    "    def __init__(self, price, brand, camera):\n",
    "        print (\"Inside phone constructor\")\n",
    "        self.__price = price\n",
    "        self.brand = brand\n",
    "        self.camera = camera\n",
    "\n",
    "    def buy(self):\n",
    "        print (\"Buying a phone\")\n",
    "\n",
    "class SmartPhone(Phone):\n",
    "    pass\n",
    "\n",
    "class FeaturePhone(Phone):\n",
    "    pass\n",
    "\n",
    "SmartPhone(1000,\"Apple\",\"13px\").buy()\n",
    "FeaturePhone(10,\"Lava\",\"1px\").buy()"
   ]
  },
  {
   "cell_type": "code",
   "execution_count": 106,
   "id": "e5d7bf7e-e6ff-4615-a9a5-a0f06d94406c",
   "metadata": {},
   "outputs": [
    {
     "name": "stdout",
     "output_type": "stream",
     "text": [
      "Inside phone constructor\n",
      "Buying a phone\n",
      "Customer review\n"
     ]
    }
   ],
   "source": [
    "# Multiple\n",
    "class Phone:\n",
    "    def __init__(self, price, brand, camera):\n",
    "        print (\"Inside phone constructor\")\n",
    "        self.__price = price\n",
    "        self.brand = brand\n",
    "        self.camera = camera\n",
    "\n",
    "    def buy(self):\n",
    "        print (\"Buying a phone\")\n",
    "\n",
    "class Product:\n",
    "    def review(self):\n",
    "        print (\"Customer review\")\n",
    "\n",
    "class SmartPhone(Phone, Product):\n",
    "    pass\n",
    "\n",
    "s=SmartPhone(20000, \"Apple\", 12)\n",
    "\n",
    "s.buy()\n",
    "s.review()\n"
   ]
  },
  {
   "cell_type": "code",
   "execution_count": 108,
   "id": "9e7b6ac4-722b-4dcf-b91c-c566a355b0d7",
   "metadata": {},
   "outputs": [
    {
     "name": "stdout",
     "output_type": "stream",
     "text": [
      "Inside phone constructor\n",
      "Buying a phone\n"
     ]
    }
   ],
   "source": [
    "# the diamond problem\n",
    "# https://stackoverflow.com/questions/56361048/what-is-the-diamond-problem-in-python-and-why-its-not-appear-in-python2\n",
    "class Phone:\n",
    "    def __init__(self, price, brand, camera):\n",
    "        print (\"Inside phone constructor\")\n",
    "        self.__price = price\n",
    "        self.brand = brand\n",
    "        self.camera = camera\n",
    "\n",
    "    def buy(self):\n",
    "        print (\"Buying a phone\")\n",
    "\n",
    "class Product:\n",
    "    def buy(self):\n",
    "        print (\"Product buy method\")\n",
    "\n",
    "# Method resolution order\n",
    "class SmartPhone(Phone,Product):\n",
    "    pass\n",
    "\n",
    "s=SmartPhone(20000, \"Apple\", 12)\n",
    "\n",
    "s.buy()"
   ]
  },
  {
   "cell_type": "code",
   "execution_count": 110,
   "id": "bd6de385-26f0-451a-9555-14432052b99d",
   "metadata": {},
   "outputs": [
    {
     "name": "stdout",
     "output_type": "stream",
     "text": [
      "70\n"
     ]
    }
   ],
   "source": [
    "class A:\n",
    "\n",
    "    def m1(self):\n",
    "        return 20\n",
    "\n",
    "class B(A):\n",
    "\n",
    "    def m1(self):\n",
    "        return 30\n",
    "\n",
    "    def m2(self):\n",
    "        return 40\n",
    "\n",
    "class C(B):\n",
    "\n",
    "    def m2(self):\n",
    "        return 20\n",
    "obj1=A()\n",
    "obj2=B()\n",
    "obj3=C()\n",
    "print(obj1.m1() + obj3.m1()+ obj3.m2())\n"
   ]
  },
  {
   "cell_type": "code",
   "execution_count": null,
   "id": "dc63d0ef-c3ce-4e31-b286-9e63d7cf5639",
   "metadata": {},
   "outputs": [],
   "source": [
    "class A:\n",
    "\n",
    "    def m1(self):\n",
    "        return 20\n",
    "\n",
    "class B(A):\n",
    "\n",
    "    def m1(self):\n",
    "        val=super().m1()+30\n",
    "        return val\n",
    "\n",
    "class C(B):\n",
    "\n",
    "    def m1(self):\n",
    "        val=self.m1()+20\n",
    "        return val\n",
    "obj=C()\n",
    "print(obj.m1())\n",
    "# infine recursion"
   ]
  },
  {
   "cell_type": "markdown",
   "id": "f3b73e91-1e7d-43cd-be61-98cb95878e11",
   "metadata": {},
   "source": [
    "<h3 style=\"color:#F5DD61;font-family:'Lucida Console'\">Polymorphism</h3>"
   ]
  },
  {
   "cell_type": "markdown",
   "id": "63afc054-ab89-4b32-acea-179a0895bd6e",
   "metadata": {},
   "source": [
    "### Having multiple faces"
   ]
  },
  {
   "cell_type": "markdown",
   "id": "083997ab-8363-423d-a866-ef0a9c58d6dd",
   "metadata": {},
   "source": [
    "- Method Overriding :\n",
    "- Method Overloading : Two method have same name but different parameter\n",
    "- Operator Overloading : same operator works differently on types of input"
   ]
  },
  {
   "cell_type": "markdown",
   "id": "ebe89677-7134-400e-adcb-1bd98cc5e88b",
   "metadata": {},
   "source": [
    "### Method Overloading"
   ]
  },
  {
   "cell_type": "markdown",
   "id": "52a10cc5-5d86-4526-802d-15331734122e",
   "metadata": {},
   "source": [
    "In Python, method overloading (with multiple methods having the same name but different parameters) doesn't work the same way as in languages like Java or C++. Python doesn't support defining multiple methods with the same name and different parameter lists directly.\n",
    "\n",
    "If you define multiple methods with the same name in Python, the latest definition will overwrite the previous ones. Here's an example to show that:\n",
    "\n",
    "Example: Attempting Method Overloading in Pytho"
   ]
  },
  {
   "cell_type": "code",
   "execution_count": 118,
   "id": "0f0b2331-0f53-4967-a680-fae9008651eb",
   "metadata": {},
   "outputs": [
    {
     "name": "stdout",
     "output_type": "stream",
     "text": [
      "12.56\n",
      "12\n"
     ]
    }
   ],
   "source": [
    "class Shape:\n",
    "\n",
    "  def area(self,a,b=0):\n",
    "    if b == 0:\n",
    "      return 3.14*a*a\n",
    "    else:\n",
    "      return a*b\n",
    "\n",
    "s = Shape()\n",
    "\n",
    "print(s.area(2))\n",
    "print(s.area(3,4))"
   ]
  },
  {
   "cell_type": "markdown",
   "id": "cd44d80f-0427-4483-9d50-bcec49016dad",
   "metadata": {},
   "source": [
    "### Operator Overloading\n"
   ]
  },
  {
   "cell_type": "code",
   "execution_count": 126,
   "id": "a093d2f0-2b00-41b2-8ad7-c1132d3af5bc",
   "metadata": {},
   "outputs": [
    {
     "data": {
      "text/plain": [
       "'helloworld'"
      ]
     },
     "execution_count": 126,
     "metadata": {},
     "output_type": "execute_result"
    }
   ],
   "source": [
    "'hello' + 'world'"
   ]
  },
  {
   "cell_type": "code",
   "execution_count": 128,
   "id": "8d3d2442-aa39-4f7a-95ca-bd9f26198330",
   "metadata": {},
   "outputs": [
    {
     "data": {
      "text/plain": [
       "10"
      ]
     },
     "execution_count": 128,
     "metadata": {},
     "output_type": "execute_result"
    }
   ],
   "source": [
    "4+6"
   ]
  },
  {
   "cell_type": "code",
   "execution_count": 134,
   "id": "fb43853d-f9e2-48ee-b5cc-01a0fc3a7808",
   "metadata": {},
   "outputs": [
    {
     "data": {
      "text/plain": [
       "[1, 2, 3, 4, 5]"
      ]
     },
     "execution_count": 134,
     "metadata": {},
     "output_type": "execute_result"
    }
   ],
   "source": [
    "[1,2,3] + [4,5]"
   ]
  },
  {
   "cell_type": "markdown",
   "id": "348b7f61-cbc2-4bce-aa70-c48d2537d05d",
   "metadata": {},
   "source": [
    "<h3 style=\"color:#F5DD61;font-family:'Lucida Console'\">Abstraction</h3>"
   ]
  },
  {
   "cell_type": "markdown",
   "id": "3e6a9e2d-a17e-4669-85df-ee84221aa47f",
   "metadata": {},
   "source": [
    "- Abstraction is a key concept in object-oriented programming (OOP) that allows you to hide complex implementation details and show only the essential features of an object. The main goal of abstraction is to simplify the interaction with complex systems by providing a clear interface while hiding unnecessary internal details.\n",
    "\n",
    "In Python, abstraction can be achieved using:\n",
    "\n",
    "- Abstract Classes\n",
    "- Abstract Methods\n",
    "\n",
    "Python provides the abc (Abstract Base Class) module to define abstract classes and methods. An abstract class is a class that cannot be instantiated directly and must be subclassed by other classes. It can contain abstract methods, which are methods that must be implemented by any subclass.\n",
    "\n",
    "Abstract Class: A class that contains one or more abstract methods and cannot be instantiated.\n",
    "Abstract Method: A method that is declared but contains no implementation. It must be implemented by any subclass."
   ]
  },
  {
   "cell_type": "code",
   "execution_count": 140,
   "id": "207c4db7-b1a8-4efe-9e22-1bc8719d66e7",
   "metadata": {},
   "outputs": [],
   "source": [
    "from abc import ABC,abstractmethod\n",
    "class BankApp(ABC):\n",
    "\n",
    "  def database(self):\n",
    "    print('connected to database')\n",
    "\n",
    "  @abstractmethod\n",
    "  def security(self):\n",
    "    pass\n",
    "\n",
    "  @abstractmethod\n",
    "  def display(self):\n",
    "    pass\n"
   ]
  },
  {
   "cell_type": "code",
   "execution_count": 142,
   "id": "f2beb865-3adc-441f-8c21-1fd45bc70c76",
   "metadata": {},
   "outputs": [],
   "source": [
    "class MobileApp(BankApp):\n",
    "\n",
    "  def mobile_login(self):\n",
    "    print('login into mobile')\n",
    "\n",
    "  def security(self):\n",
    "    print('mobile security')\n",
    "\n",
    "  def display(self):\n",
    "    print('display')"
   ]
  },
  {
   "cell_type": "code",
   "execution_count": 144,
   "id": "245d96df-de72-46f4-90a0-b616140f8f67",
   "metadata": {},
   "outputs": [],
   "source": [
    "mob = MobileApp()"
   ]
  },
  {
   "cell_type": "code",
   "execution_count": 146,
   "id": "9411e453-ffb1-4dad-b7e2-665785142656",
   "metadata": {},
   "outputs": [
    {
     "name": "stdout",
     "output_type": "stream",
     "text": [
      "mobile security\n"
     ]
    }
   ],
   "source": [
    "mob.security()"
   ]
  },
  {
   "cell_type": "markdown",
   "id": "04961ccd-d842-4f81-8822-2c3e617d0fe1",
   "metadata": {},
   "source": [
    "## END"
   ]
  }
 ],
 "metadata": {
  "kernelspec": {
   "display_name": "Python 3 (ipykernel)",
   "language": "python",
   "name": "python3"
  },
  "language_info": {
   "codemirror_mode": {
    "name": "ipython",
    "version": 3
   },
   "file_extension": ".py",
   "mimetype": "text/x-python",
   "name": "python",
   "nbconvert_exporter": "python",
   "pygments_lexer": "ipython3",
   "version": "3.12.4"
  }
 },
 "nbformat": 4,
 "nbformat_minor": 5
}
