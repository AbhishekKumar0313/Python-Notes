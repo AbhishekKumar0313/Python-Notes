{
 "cells": [
  {
   "cell_type": "markdown",
   "id": "8fa02577-299c-4f20-a5a4-00fcb2b6c450",
   "metadata": {},
   "source": [
    "### Task - Inheritance Polymorphism, Abstraction"
   ]
  },
  {
   "cell_type": "markdown",
   "id": "4b4f48dd-6685-4179-88f7-a41f7e7f9362",
   "metadata": {},
   "source": [
    "### `Problem-1:` Class inheritence\n",
    "\n",
    "Create a **Bus** child class that inherits from the Vehicle class. The default fare charge of any vehicle is seating capacity * 100. If Vehicle is Bus instance, we need to add an extra 10% on full fare as a maintenance charge. So total fare for bus instance will become the final amount = total fare + 10% of the total fare.\n",
    "\n",
    "Note: The bus seating capacity is 50. so the final fare amount should be 5500. You need to override the fare() method of a Vehicle class in Bus class."
   ]
  },
  {
   "cell_type": "code",
   "execution_count": 8,
   "id": "99dafce0-6dfe-4579-b59b-46684f0cc42a",
   "metadata": {},
   "outputs": [
    {
     "data": {
      "text/plain": [
       "5500.0"
      ]
     },
     "execution_count": 8,
     "metadata": {},
     "output_type": "execute_result"
    }
   ],
   "source": [
    "class Vehicle:\n",
    "    def __init__(self,type,cap):\n",
    "        self.type=type\n",
    "        self.cap=cap\n",
    "    def fare(self):\n",
    "        return self.cap*100\n",
    "class Bus(Vehicle):\n",
    "    def fare(self):\n",
    "        tf=super().fare()+0.1*super().fare()\n",
    "        return tf\n",
    "        \n",
    "b=Bus(\"Bus\",50)\n",
    "b.fare()"
   ]
  },
  {
   "cell_type": "markdown",
   "id": "46e80555-c52b-47d4-9161-b6aa2ff3accd",
   "metadata": {},
   "source": [
    "### `Problem-2:` Class Inheritence\n",
    "\n",
    "Create a Bus class that inherits from the Vehicle class. Give the capacity argument of *Bus.seating_capacity()* a default value of 50.\n",
    "\n",
    "Use the following code for your parent Vehicle class."
   ]
  },
  {
   "cell_type": "code",
   "execution_count": 11,
   "id": "daa7ac90-b1c2-4cff-a990-a846d2b4f0e5",
   "metadata": {},
   "outputs": [
    {
     "data": {
      "text/plain": [
       "5500.0"
      ]
     },
     "execution_count": 11,
     "metadata": {},
     "output_type": "execute_result"
    }
   ],
   "source": [
    "class Vehicle:\n",
    "    def __init__(self,type,cap=50):\n",
    "        self.type=type\n",
    "        self.cap=cap\n",
    "    def fare(self):\n",
    "        return self.cap*100\n",
    "class Bus(Vehicle):\n",
    "    def fare(self):\n",
    "        tf=super().fare()+0.1*super().fare()\n",
    "        return tf\n",
    "        \n",
    "b=Bus(\"Bus\",50)\n",
    "b.fare()"
   ]
  },
  {
   "cell_type": "markdown",
   "id": "db0496ed-3095-42b9-af78-81548517ae2d",
   "metadata": {},
   "source": [
    "### `Problem-3:` Write a program that has a class Point. Define another class Location which has two objects (Location & Destination) of class Point. Also define a function in Location that prints the reflection of Destination on the x axis."
   ]
  },
  {
   "cell_type": "code",
   "execution_count": 14,
   "id": "82277035-0b52-4961-91fc-036bd2dd1e42",
   "metadata": {},
   "outputs": [],
   "source": [
    "class Point:\n",
    "    def __init__(self,x,y):\n",
    "        self.x=x\n",
    "        self.y=y\n",
    "    def show_point(self):\n",
    "        return f\"{self.x},{self.y}\"\n",
    "\n",
    "class Location:\n",
    "    def __init__(self,x1,y1,x2,y2):\n",
    "        self.source=Point(x1,y1)\n",
    "        self.destination=Point(x2,y2)\n",
    "    def show(self):\n",
    "        print(\"source : \",self.source.show_point())\n",
    "        print(\"destination : \",self.destination.show_point())\n",
    "    def reflection(self):\n",
    "        self.destination.y=-self.destination.y\n",
    "        print(\"reflection : \",self.destination.show_point())"
   ]
  },
  {
   "cell_type": "code",
   "execution_count": 16,
   "id": "9ca0115c-86de-40d0-a4f4-9ef2f2bcfccf",
   "metadata": {},
   "outputs": [
    {
     "name": "stdout",
     "output_type": "stream",
     "text": [
      "source :  0,0\n",
      "destination :  1,1\n"
     ]
    }
   ],
   "source": [
    "L=Location(0,0,1,1)\n",
    "L.show()"
   ]
  },
  {
   "cell_type": "code",
   "execution_count": 18,
   "id": "649dfe07-dd75-4f07-b554-b36a1d5fa4c7",
   "metadata": {},
   "outputs": [
    {
     "name": "stdout",
     "output_type": "stream",
     "text": [
      "reflection :  1,-1\n"
     ]
    }
   ],
   "source": [
    "L.reflection()"
   ]
  },
  {
   "cell_type": "markdown",
   "id": "32d90658-9bf4-4595-a24d-fa7fde81d027",
   "metadata": {},
   "source": [
    "### `Problem-4:` Write a program that has an abstract class Polygon. Derive two classes Rectangle and Triamgle from Polygon and write methods to get the details of their dimensions and hence calculate the area."
   ]
  },
  {
   "cell_type": "code",
   "execution_count": 29,
   "id": "ce8ff49a-ff20-48b4-95d1-9136d3802e95",
   "metadata": {},
   "outputs": [],
   "source": [
    "from abc import ABC,abstractmethod\n",
    "class Polygon(ABC):\n",
    "    @abstractmethod\n",
    "    def get_dimension(self):\n",
    "        pass\n",
    "    @abstractmethod\n",
    "    def area(self):\n",
    "        pass\n",
    "class Rectangle(Polygon):\n",
    "    def get_dimension(self,l,b):\n",
    "        self.l=l\n",
    "        self.b=b\n",
    "    def area(self):\n",
    "        return self.l*self.b\n",
    "class Triangle(Polygon):\n",
    "    def get_dimension(self,b,h):\n",
    "        self.b=b\n",
    "        self.h=h\n",
    "    def area(self):\n",
    "        return 0.5*self.b*self.h\n",
    "    "
   ]
  },
  {
   "cell_type": "code",
   "execution_count": 30,
   "id": "67017304-d2ff-483e-a6bd-226a6001cda3",
   "metadata": {},
   "outputs": [
    {
     "name": "stdout",
     "output_type": "stream",
     "text": [
      "20\n"
     ]
    },
    {
     "data": {
      "text/plain": [
       "10.0"
      ]
     },
     "execution_count": 30,
     "metadata": {},
     "output_type": "execute_result"
    }
   ],
   "source": [
    "rect = Rectangle()\n",
    "rect.get_dimension(4,5)\n",
    "print(rect.area())\n",
    "\n",
    "tri = Triangle()\n",
    "tri.get_dimension(4,5)\n",
    "tri.area()"
   ]
  },
  {
   "cell_type": "markdown",
   "id": "ceb75f20-185d-49a9-8655-16291e19e235",
   "metadata": {},
   "source": [
    "### `Problem-5:` Write a program with class Bill. The users have the option to pay the bill either by cheque or by cash. Use the inheritance to model this situation."
   ]
  },
  {
   "cell_type": "code",
   "execution_count": 35,
   "id": "d6cb7f4c-6658-47a3-9d97-986a8a1b7dce",
   "metadata": {},
   "outputs": [],
   "source": [
    "# Write code here\n",
    "class Bill:\n",
    "\n",
    "  def __init__(self,items,price):\n",
    "    self.total = 0\n",
    "    self.items = items\n",
    "    self.price = price\n",
    "\n",
    "    for i in self.price:\n",
    "      self.total = self.total + i\n",
    "\n",
    "  def display(self):\n",
    "    print('Item \\t\\t\\t Price')\n",
    "    for i in range(len(self.items)):\n",
    "      print(self.items[i],'\\t',self.price[i])\n",
    "    print(\"*\"*10)\n",
    "\n",
    "    print(\"Total\",self.total)\n",
    "\n",
    "class CashPayment(Bill):\n",
    "\n",
    "  def __init__(self,items,price,deno,value):\n",
    "    super().__init__(items,price)\n",
    "\n",
    "    self.deno = deno\n",
    "    self.value = value\n",
    "\n",
    "  def show_cash_payment(self):\n",
    "    super().display()\n",
    "    for i in range(len(self.deno)):\n",
    "      print(self.deno[i],\"*\",self.value[i],\"=\",self.deno[i]*self.value[i])\n",
    "\n",
    "class ChequePayment(Bill):\n",
    "\n",
    "  def __init__(self,items,price,cno,name):\n",
    "    super().__init__(items,price)\n",
    "\n",
    "    self.cno = cno\n",
    "    self.name = name\n",
    "\n",
    "  def show_cheque_payment(self):\n",
    "    super().display()\n",
    "    print('Cheque no',self.cno)\n",
    "    print('Bank name',self.name)\n"
   ]
  },
  {
   "cell_type": "code",
   "execution_count": 37,
   "id": "c3496ef2-5055-41fc-819f-29fdd6121090",
   "metadata": {},
   "outputs": [
    {
     "name": "stdout",
     "output_type": "stream",
     "text": [
      "Item \t\t\t Price\n",
      "External Hard Disk \t 5000\n",
      "RAM \t 2000\n",
      "Printer \t 6000\n",
      "Pen Drive \t 800\n",
      "**********\n",
      "Total 13800\n",
      "10 * 1 = 10\n",
      "20 * 1 = 20\n",
      "50 * 1 = 50\n",
      "100 * 20 = 2000\n",
      "500 * 4 = 2000\n",
      "2000 * 5 = 10000\n"
     ]
    }
   ],
   "source": [
    "items = [\"External Hard Disk\", \"RAM\", \"Printer\", \"Pen Drive\"]\n",
    "price = [5000, 2000, 6000, 800]\n",
    "\n",
    "deno = [10, 20, 50, 100, 500, 2000]\n",
    "value = [1, 1, 1, 20, 4, 5]\n",
    "cash = CashPayment(items, price, deno, value)\n",
    "cash.show_cash_payment()"
   ]
  },
  {
   "cell_type": "markdown",
   "id": "76f40751-32da-4e75-9463-b27003e58f3f",
   "metadata": {},
   "source": [
    "### `Q-6:` FlexibleDict\n",
    "As of now we are accessing values from dictionary with exact keys. Now we want to amend accessing values functionality. if a dict have key `1` (int) the even if we try to access values by giving `'1'` (1 as str) as key, we should get the same result and vice versa.\n",
    "\n",
    "Write a class `FlexibleDict` upon builtin `dict` class with above required functionality.\n",
    "\n",
    "Hint- `dict[key] => dict.__getitem__(key)`"
   ]
  },
  {
   "cell_type": "code",
   "execution_count": 44,
   "id": "2c5d0db2-62cf-41d7-975b-bca9b70ad083",
   "metadata": {},
   "outputs": [],
   "source": [
    "class FlexibleDict(dict):\n",
    "    def __getitem__(self,key):\n",
    "        try:\n",
    "            return super().__getitem__(key)\n",
    "        except KeyError:\n",
    "            if isinstance(key,int):\n",
    "                return super().__getitem__(str(key))\n",
    "            elif isinstance(key,str):\n",
    "                return super().__getitem__(int(key))\n",
    "            raise KeyError(f\"Key {key} not found\")\n",
    "    def __setitem__(self,key,value):\n",
    "        super().__setitem__(key,value)\n",
    "            \n",
    "            "
   ]
  },
  {
   "cell_type": "code",
   "execution_count": 45,
   "id": "b746c6db-b20f-459a-9d8d-004f7c4c01b5",
   "metadata": {},
   "outputs": [
    {
     "name": "stdout",
     "output_type": "stream",
     "text": [
      "one\n",
      "one\n",
      "two\n",
      "two\n"
     ]
    }
   ],
   "source": [
    "flex_dict = FlexibleDict({1: 'one', '2': 'two'})\n",
    "\n",
    "print(flex_dict[1])   # Output: 'one'\n",
    "print(flex_dict['1']) # Output: 'one'\n",
    "\n",
    "print(flex_dict[2])   # Output: 'two'\n",
    "print(flex_dict['2']) # Output: 'two'\n"
   ]
  },
  {
   "cell_type": "code",
   "execution_count": null,
   "id": "6932bcd8-573e-4cd9-8c5a-62087772931c",
   "metadata": {},
   "outputs": [],
   "source": []
  }
 ],
 "metadata": {
  "kernelspec": {
   "display_name": "Python 3 (ipykernel)",
   "language": "python",
   "name": "python3"
  },
  "language_info": {
   "codemirror_mode": {
    "name": "ipython",
    "version": 3
   },
   "file_extension": ".py",
   "mimetype": "text/x-python",
   "name": "python",
   "nbconvert_exporter": "python",
   "pygments_lexer": "ipython3",
   "version": "3.12.4"
  }
 },
 "nbformat": 4,
 "nbformat_minor": 5
}
