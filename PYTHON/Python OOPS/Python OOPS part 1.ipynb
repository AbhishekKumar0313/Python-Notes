{
 "cells": [
  {
   "cell_type": "markdown",
   "id": "6b2cc0e7-55b3-460a-bcfe-fc4652287ada",
   "metadata": {},
   "source": [
    "<h1 style='color:#3FA2F6'>Python OOPS <span style=\" color:yellow\">Classes and Objects</span></h1>"
   ]
  },
  {
   "cell_type": "markdown",
   "id": "97c6b59d-8208-436e-8feb-1f66d80cd5fb",
   "metadata": {},
   "source": [
    "##### Everything in python is an object\n",
    "##### Python OOPS gives programmer to wrote their own data types"
   ]
  },
  {
   "cell_type": "markdown",
   "id": "1eb0bb52-0652-46e5-bc3f-43ef4b655db2",
   "metadata": {},
   "source": [
    "- class - it is a blueprint of an object. when we create a variable of a class it is  called object of that class\n",
    "- object - it is an instance of class."
   ]
  },
  {
   "cell_type": "code",
   "execution_count": 11,
   "id": "9e506b08-484a-4b88-9f82-4c44f23fd0d4",
   "metadata": {},
   "outputs": [],
   "source": [
    "# syntax to create an object\n",
    "# objectname = classname()"
   ]
  },
  {
   "cell_type": "code",
   "execution_count": 13,
   "id": "3fa6beae-9a55-40ad-9a1f-1028fd7475af",
   "metadata": {},
   "outputs": [
    {
     "data": {
      "text/plain": [
       "[1, 2, 3, 4]"
      ]
     },
     "execution_count": 13,
     "metadata": {},
     "output_type": "execute_result"
    }
   ],
   "source": [
    "# object literal\n",
    "L = [1,2,3]\n",
    "# can create object in this way also\n",
    "L.append(4) # calling method of List class by its object L\n",
    "L\n"
   ]
  },
  {
   "cell_type": "markdown",
   "id": "5e0ed35f-efbf-4e80-ba09-9494f4a8a5e1",
   "metadata": {},
   "source": [
    "- class : can be built in or user defined\n",
    "  - Data or property\n",
    "  - Functions "
   ]
  },
  {
   "cell_type": "code",
   "execution_count": 27,
   "id": "aadfb868-1b2f-4057-b6a8-6bd05e919da4",
   "metadata": {},
   "outputs": [],
   "source": [
    "class Atm:\n",
    "\n",
    "  # constructor(special function)->superpower ->\n",
    "  def __init__(self):\n",
    "    print(id(self))\n",
    "    self.pin = ''\n",
    "    self.balance = 0\n",
    "    self.menu()\n",
    "\n",
    "  def menu(self):\n",
    "    user_input = input(\"\"\"\n",
    "    Hi how can I help you?\n",
    "    1. Press 1 to create pin\n",
    "    2. Press 2 to change pin\n",
    "    3. Press 3 to check balance\n",
    "    4. Press 4 to withdraw\n",
    "    5. Anything else to exit\n",
    "    \"\"\")\n",
    "\n",
    "    if user_input == '1':\n",
    "      self.create_pin()\n",
    "    elif user_input == '2':\n",
    "      self.change_pin()\n",
    "    elif user_input == '3':\n",
    "      self.check_balance()\n",
    "    elif user_input == '4':\n",
    "      self.withdraw()\n",
    "    else:\n",
    "      exit()\n",
    "\n",
    "  def create_pin(self):\n",
    "    user_pin = input('enter your pin')\n",
    "    self.pin = user_pin\n",
    "\n",
    "    user_balance = int(input('enter balance'))\n",
    "    self.balance = user_balance\n",
    "\n",
    "    print('pin created successfully')\n",
    "    self.menu()\n",
    "\n",
    "  def change_pin(self):\n",
    "    old_pin = input('enter old pin')\n",
    "\n",
    "    if old_pin == self.pin:\n",
    "      # let him change the pin\n",
    "      new_pin = input('enter new pin')\n",
    "      self.pin = new_pin\n",
    "      print('pin change successful')\n",
    "      self.menu()\n",
    "    else:\n",
    "      print('nai karne de sakta re baba')\n",
    "      self.menu()\n",
    "\n",
    "  def check_balance(self):\n",
    "    user_pin = input('enter your pin')\n",
    "    if user_pin == self.pin:\n",
    "      print('your balance is ',self.balance)\n",
    "    else:\n",
    "      print('chal nikal yahan se')\n",
    "\n",
    "  def withdraw(self):\n",
    "    user_pin = input('enter the pin')\n",
    "    if user_pin == self.pin:\n",
    "      # allow to withdraw\n",
    "      amount = int(input('enter the amount'))\n",
    "      if amount <= self.balance:\n",
    "        self.balance = self.balance - amount\n",
    "        print('withdrawl successful.balance is',self.balance)\n",
    "      else:\n",
    "        print('abe garib')\n",
    "    else:\n",
    "      print('sale chor')\n",
    "    self.menu()"
   ]
  },
  {
   "cell_type": "code",
   "execution_count": 18,
   "id": "4c111286-3e8b-436c-a236-ac516aad2dcb",
   "metadata": {},
   "outputs": [
    {
     "name": "stdout",
     "output_type": "stream",
     "text": [
      "2704975290272\n"
     ]
    },
    {
     "name": "stdin",
     "output_type": "stream",
     "text": [
      "\n",
      "    Hi how can I help you?\n",
      "    1. Press 1 to create pin\n",
      "    2. Press 2 to change pin\n",
      "    3. Press 3 to check balance\n",
      "    4. Press 4 to withdraw\n",
      "    5. Anything else to exit\n",
      "     1\n",
      "enter your pin 1234\n",
      "enter balance 4500\n"
     ]
    },
    {
     "name": "stdout",
     "output_type": "stream",
     "text": [
      "pin created successfully\n"
     ]
    },
    {
     "name": "stdin",
     "output_type": "stream",
     "text": [
      "\n",
      "    Hi how can I help you?\n",
      "    1. Press 1 to create pin\n",
      "    2. Press 2 to change pin\n",
      "    3. Press 3 to check balance\n",
      "    4. Press 4 to withdraw\n",
      "    5. Anything else to exit\n",
      "     3\n",
      "enter your pin 1234\n"
     ]
    },
    {
     "name": "stdout",
     "output_type": "stream",
     "text": [
      "your balance is  4500\n"
     ]
    }
   ],
   "source": [
    "object=Atm()"
   ]
  },
  {
   "cell_type": "code",
   "execution_count": 20,
   "id": "329f4aa5-c345-4fcc-8dba-50da122ceec5",
   "metadata": {},
   "outputs": [
    {
     "name": "stdout",
     "output_type": "stream",
     "text": [
      "2704975290272\n"
     ]
    }
   ],
   "source": [
    "print(id(object))"
   ]
  },
  {
   "cell_type": "markdown",
   "id": "35f55879-fa67-421f-8634-454379f038c2",
   "metadata": {},
   "source": [
    "<h3 style=\"color:#F5DD61;font-family:'Lucida Console'\">Method vs Functions</h3>"
   ]
  },
  {
   "cell_type": "markdown",
   "id": "ff6f1284-6d5b-4677-ba81-b50e87b57e16",
   "metadata": {},
   "source": [
    "- Method - functions created inside a class\n",
    "\n",
    "- functions - created outside class and independent"
   ]
  },
  {
   "cell_type": "markdown",
   "id": "9e616937-8e2d-47dd-8333-95fcc3d1cdf7",
   "metadata": {},
   "source": [
    "### Class Diagram - Atm class"
   ]
  },
  {
   "cell_type": "code",
   "execution_count": null,
   "id": "35de48b5-9694-4ba7-9f56-63958ff621f5",
   "metadata": {},
   "outputs": [],
   "source": [
    "- +----------------------+\n",
    "- |       Atm            |\n",
    "- +----------------------+\n",
    "- | - pin: str           |\n",
    "- | - balance: int       |\n",
    "- +----------------------+\n",
    "- | + __ init __( )      |\n",
    "- | + menu()             |\n",
    "- | + create_pin( )      |\n",
    "- | + change_pin( )      |\n",
    "- | + check_balance( )   |\n",
    "- | + withdraw( )        |\n",
    "- +----------------------+\n",
    "\n",
    "+  : public \n",
    "- : private"
   ]
  },
  {
   "cell_type": "code",
   "execution_count": 43,
   "id": "ae059537-a08f-4374-9697-8fb63ee1bbee",
   "metadata": {},
   "outputs": [],
   "source": [
    "L = [1,2,3]\n",
    "len(L) # function ->bcos it is outside the list class\n",
    "L.append(4)# method -> bcos it is inside the list class"
   ]
  },
  {
   "cell_type": "markdown",
   "id": "3e9e3fde-67b6-4605-a788-af6a584c656e",
   "metadata": {},
   "source": [
    "<h3 style=\"color:#F5DD61;font-family:'Lucida Console'\">Magic Methods/Dunder Methods</h3>"
   ]
  },
  {
   "cell_type": "markdown",
   "id": "6165fed1-b860-4815-841c-61fee1d8d5c5",
   "metadata": {},
   "source": [
    "#### These are special methods which have some uniqueness . and they will be always in the form of __ nameofmethod __"
   ]
  },
  {
   "cell_type": "markdown",
   "id": "97915d13-46f3-46fe-8678-abc6c9bc227c",
   "metadata": {},
   "source": [
    "- 1. Constructor - function that created inside a class using __ init __ and runs explicitly , whenver any object is being created .\n",
    "- 2. __ str __ - it will print whatever in this method, and we can call it whenever we us print(classname)\n",
    "- 3. __ add __ - whenver we use + between two object it get triggered and do whatever in the add method\n",
    "- 4. __ sub __ - whenver we use - between two object it get triggered and do whatever in the add method\n",
    "- 5. __ mul __ - whenver we use * between two object it get triggered and do whatever in the add method\n",
    "\n",
    "- 6. __ truediv __ - whenver we use / between two object it get triggered and do whatever in the add method"
   ]
  },
  {
   "cell_type": "raw",
   "id": "cc3369e4-d10c-424f-ab3c-4127bfb27a70",
   "metadata": {},
   "source": [
    "1.  __init__"
   ]
  },
  {
   "cell_type": "markdown",
   "id": "27ca51aa-9fe1-4fed-868a-6c27d4131eb3",
   "metadata": {},
   "source": [
    "- Created by itself on creating object of class\n",
    "- can be use to trigger or execute something in code that does not need user touch\n",
    "- we cannot change the name of constructor\n"
   ]
  },
  {
   "cell_type": "markdown",
   "id": "01c4a015-976d-4407-b8a5-94992932feac",
   "metadata": {},
   "source": [
    "- self : self is object itself.\n",
    "- because all variables and function of class can only be accessed by class's object only.\n",
    "- self helps to call one function by another function in a class rather using object explicitly"
   ]
  },
  {
   "cell_type": "code",
   "execution_count": 58,
   "id": "b6f731e6-b13a-4106-9cf6-2862b3931b16",
   "metadata": {},
   "outputs": [
    {
     "name": "stdout",
     "output_type": "stream",
     "text": [
      "2704974771648\n",
      "hello\n",
      "2704974771648\n"
     ]
    }
   ],
   "source": [
    "class Temp:\n",
    "\n",
    "  def __init__(self):\n",
    "      print(id(self))\n",
    "      print('hello')\n",
    "\n",
    "obj = Temp()\n",
    "print(id(obj))"
   ]
  },
  {
   "cell_type": "code",
   "execution_count": 69,
   "id": "a412d84f-d254-47d1-a70a-01bcebc4a9f2",
   "metadata": {},
   "outputs": [],
   "source": [
    "class Fraction:\n",
    "\n",
    "  # parameterized constructor\n",
    "  def __init__(self,x,y):\n",
    "    self.num = x\n",
    "    self.den = y\n",
    "\n",
    "  def __str__(self):\n",
    "    return '{}/{}'.format(self.num,self.den)\n",
    "\n",
    "  def __add__(self,other):\n",
    "    new_num = self.num*other.den + other.num*self.den\n",
    "    new_den = self.den*other.den\n",
    "\n",
    "    return '{}/{}'.format(new_num,new_den)\n",
    "\n",
    "  def __sub__(self,other):\n",
    "    new_num = self.num*other.den - other.num*self.den\n",
    "    new_den = self.den*other.den\n",
    "\n",
    "    return '{}/{}'.format(new_num,new_den)\n",
    "\n",
    "  def __mul__(self,other):\n",
    "    new_num = self.num*other.num\n",
    "    new_den = self.den*other.den\n",
    "\n",
    "    return '{}/{}'.format(new_num,new_den)\n",
    "\n",
    "  def __truediv__(self,other):\n",
    "    new_num = self.num*other.den\n",
    "    new_den = self.den*other.num\n",
    "\n",
    "    return '{}/{}'.format(new_num,new_den)\n",
    "\n",
    "  def convert_to_decimal(self):\n",
    "    return self.num/self.den\n"
   ]
  },
  {
   "cell_type": "code",
   "execution_count": 71,
   "id": "76a77ba9-d9ab-49f9-93f8-4a692d42a4f4",
   "metadata": {},
   "outputs": [],
   "source": [
    "fr1 = Fraction(3,4)\n",
    "fr2 = Fraction(1,2)"
   ]
  },
  {
   "cell_type": "markdown",
   "id": "30f811c6-96c1-445d-b70c-2083a6bafd08",
   "metadata": {},
   "source": [
    "2. __ str __"
   ]
  },
  {
   "cell_type": "markdown",
   "id": "ffdc53aa-55c4-4e10-9d37-647b136eee31",
   "metadata": {},
   "source": [
    "-  whenever we use to print classname like - print(classname) then it will run str magic method that return whatever in str method"
   ]
  },
  {
   "cell_type": "code",
   "execution_count": 75,
   "id": "d8baf228-a1cb-497a-a349-d1655ce7ef42",
   "metadata": {},
   "outputs": [
    {
     "name": "stdout",
     "output_type": "stream",
     "text": [
      "3/4 1/2\n"
     ]
    }
   ],
   "source": [
    "print(fr1,fr2)"
   ]
  },
  {
   "cell_type": "markdown",
   "id": "e3eda112-cf42-460d-a419-ded7023d05c7",
   "metadata": {},
   "source": [
    "3. __ add __\n",
    "4. __ sub __\n",
    "5. __ mul __\n",
    "6. __ truediv __"
   ]
  },
  {
   "cell_type": "markdown",
   "id": "4889bbe1-4041-4d44-9e4e-f45bdb4d12e1",
   "metadata": {},
   "source": [
    "- whenever we do + operation between two class it will get triggered and work accordingly "
   ]
  },
  {
   "cell_type": "code",
   "execution_count": 80,
   "id": "2f7325a1-fb9c-4104-9e8e-86b9bd188c75",
   "metadata": {},
   "outputs": [
    {
     "name": "stdout",
     "output_type": "stream",
     "text": [
      "10/8\n",
      "2/8\n",
      "3/8\n",
      "6/4\n"
     ]
    }
   ],
   "source": [
    "print(fr1 + fr2)\n",
    "print(fr1 - fr2)\n",
    "print(fr1 * fr2)\n",
    "print(fr1 / fr2)"
   ]
  },
  {
   "cell_type": "markdown",
   "id": "a0f95f60-b52b-49e5-94ff-ec5196bd3f7d",
   "metadata": {},
   "source": [
    "#### END"
   ]
  }
 ],
 "metadata": {
  "kernelspec": {
   "display_name": "Python 3 (ipykernel)",
   "language": "python",
   "name": "python3"
  },
  "language_info": {
   "codemirror_mode": {
    "name": "ipython",
    "version": 3
   },
   "file_extension": ".py",
   "mimetype": "text/x-python",
   "name": "python",
   "nbconvert_exporter": "python",
   "pygments_lexer": "ipython3",
   "version": "3.12.4"
  }
 },
 "nbformat": 4,
 "nbformat_minor": 5
}
